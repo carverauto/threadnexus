{
 "cells": [
  {
   "cell_type": "markdown",
   "id": "f725852e-71ef-4615-8cac-011a516fbe72",
   "metadata": {},
   "source": [
    "# Agent Executor From Scratch\n",
    "\n",
    "In this notebook we will create an agent with a search tool. However, at the start we will force the agent to call the search tool (and then let it do whatever it wants after). This is useful when you want to force agents to call particular tools, but still want flexibility of what happens after that.\n",
    "\n",
    "This examples builds off the base agent executor. It is highly recommended you learn about that executor before going through this notebook. You can find documentation for that example [here](./base.ipynb).\n",
    "\n",
    "Any modifications of that example are called below with **MODIFICATION**, so if you are looking for the differences you can just search for that."
   ]
  },
  {
   "cell_type": "markdown",
   "id": "6821de30-6eeb-4f70-b0a7-e05d3187b14b",
   "metadata": {},
   "source": [
    "## Setup\n",
    "\n",
    "First we need to install the packages required"
   ]
  },
  {
   "cell_type": "code",
   "execution_count": 6,
   "id": "694cfc4c-22a7-495d-930d-56b21d850ff9",
   "metadata": {
    "ExecuteTime": {
     "end_time": "2024-04-02T23:11:23.751111Z",
     "start_time": "2024-04-02T23:11:21.459334Z"
    }
   },
   "outputs": [],
   "source": [
    "!pip install --quiet -U langchain langchain_openai tavily-python langchainhub"
   ]
  },
  {
   "cell_type": "markdown",
   "id": "dc039752-6d34-4ad4-aa31-9a10f4d4d597",
   "metadata": {},
   "source": [
    "Next, we need to set API keys for OpenAI (the LLM we will use) and Tavily (the search tool we will use)"
   ]
  },
  {
   "cell_type": "code",
   "execution_count": 30,
   "id": "30c06a84-291a-4f58-9d31-53d3b56a3def",
   "metadata": {
    "ExecuteTime": {
     "end_time": "2024-04-02T23:14:37.957607Z",
     "start_time": "2024-04-02T23:14:37.951210Z"
    }
   },
   "outputs": [],
   "source": [
    "import os\n",
    "import warnings\n",
    "import textwrap\n",
    "\n",
    "#os.environ[\"OPENAI_API_KEY\"] = getpass.getpass(\"OpenAI API Key:\")\n",
    "#os.environ[\"TAVILY_API_KEY\"] = getpass.getpass(\"Tavily API Key:\")\n",
    "\n",
    "warnings.filterwarnings(\"ignore\")\n"
   ]
  },
  {
   "cell_type": "markdown",
   "id": "5e7f4767-54fb-4b6e-bd9a-3d433df924fb",
   "metadata": {},
   "source": [
    "Optionally, we can set API key for [LangSmith tracing](https://smith.langchain.com/), which will give us best-in-class observability."
   ]
  },
  {
   "cell_type": "code",
   "execution_count": 8,
   "id": "a8fb285a-7e6e-46fc-a273-43ab1a676189",
   "metadata": {
    "ExecuteTime": {
     "end_time": "2024-04-02T23:11:23.758026Z",
     "start_time": "2024-04-02T23:11:23.756008Z"
    }
   },
   "outputs": [],
   "source": [
    "os.environ[\"LANGCHAIN_TRACING_V2\"] = \"true\"\n",
    "#os.environ[\"LANGCHAIN_API_KEY\"] = getpass.getpass(\"LangSmith API Key:\")"
   ]
  },
  {
   "cell_type": "code",
   "execution_count": 9,
   "id": "cb3a2cabb41cf70b",
   "metadata": {
    "collapsed": false,
    "ExecuteTime": {
     "end_time": "2024-04-02T23:11:24.586787Z",
     "start_time": "2024-04-02T23:11:23.759573Z"
    }
   },
   "outputs": [],
   "source": [
    "from langchain_community.graphs import Neo4jGraph\n",
    "from langchain_community.vectorstores import Neo4jVector\n",
    "\n",
    "NEO4J_URI = \"bolt://localhost:7687\"\n",
    "NEO4J_USERNAME = 'neo4j'\n",
    "NEO4J_PASSWORD = os.getenv(\"NEO4J_PASSWORD\")\n",
    "NEO4J_DATABASE = 'neo4j'\n",
    "OPENAI_API_KEY = os.getenv(\"OPENAI_API_KEY\")\n",
    "\n",
    "VECTOR_INDEX_NAME = 'message-embeddings'\n",
    "VECTOR_NODE_LABEL = 'Message'\n",
    "VECTOR_SOURCE_PROPERTY = 'text'\n",
    "VECTOR_EMBEDDING_PROPERTY = 'textEmbedding'\n",
    "\n",
    "# Create the graph\n",
    "graph = Neo4jGraph(\n",
    "    url=NEO4J_URI, username=NEO4J_USERNAME, password=NEO4J_PASSWORD, database=NEO4J_DATABASE\n",
    ")\n"
   ]
  },
  {
   "cell_type": "code",
   "execution_count": 10,
   "id": "8ee9fa11f82f95a6",
   "metadata": {
    "collapsed": false,
    "ExecuteTime": {
     "end_time": "2024-04-02T23:11:24.841082Z",
     "start_time": "2024-04-02T23:11:24.589031Z"
    }
   },
   "outputs": [
    {
     "name": "stdout",
     "output_type": "stream",
     "text": [
      "Node properties are the following: User {name:\n",
      "STRING},Message {platform: STRING, timestamp: STRING,\n",
      "embedding: LIST, content: STRING},Channel {name: STRING}\n",
      "Relationship properties are the following: INTERACTED_WITH\n",
      "{weight: INTEGER},CONNECTION {type: STRING, weight: INTEGER}\n",
      "The relationships are the following: (:User)-[:SENT]-\n",
      ">(:Message),(:User)-[:INTERACTED_WITH]->(:User),(:User)-\n",
      "[:CONNECTION]->(:User),(:Message)-[:MENTIONED]-\n",
      ">(:User),(:Message)-[:POSTED_IN]->(:Channel)\n"
     ]
    }
   ],
   "source": [
    "graph.refresh_schema()\n",
    "print(textwrap.fill(graph.schema, 60))"
   ]
  },
  {
   "cell_type": "markdown",
   "source": [
    "# Setup the Vector Index "
   ],
   "metadata": {
    "collapsed": false
   },
   "id": "c191374ee9f03e04"
  },
  {
   "cell_type": "code",
   "execution_count": 11,
   "id": "33fafb6d352dc911",
   "metadata": {
    "collapsed": false,
    "ExecuteTime": {
     "end_time": "2024-04-02T23:11:25.954095Z",
     "start_time": "2024-04-02T23:11:24.842179Z"
    }
   },
   "outputs": [],
   "source": [
    "from langchain_openai import OpenAIEmbeddings\n",
    "\n",
    "vector_index = Neo4jVector.from_existing_graph(\n",
    "    OpenAIEmbeddings(\n",
    "        model=\"text-embedding-3-small\",\n",
    "        dimensions=1536,\n",
    "    ),\n",
    "    url=NEO4J_URI,\n",
    "    username=NEO4J_USERNAME,\n",
    "    password=NEO4J_PASSWORD,\n",
    "    index_name=\"message-embeddings\",\n",
    "    node_label=\"Message\",\n",
    "    text_node_properties=['content', 'platform', 'timestamp'],\n",
    "    embedding_node_property='embedding',\n",
    ")"
   ]
  },
  {
   "cell_type": "code",
   "outputs": [],
   "source": [
    "import re\n",
    "\n",
    "def similarity_search(query: str, max_results: int = 1000):\n",
    "    results = vector_index.search(query, max_results=max_results, search_type=\"similarity\")\n",
    "    print(f\"Found {len(results)} results\")\n",
    "    # Print the raw results for debugging\n",
    "    print(results)\n",
    "    # Clean the page_content from each Document in the results\n",
    "    content_list = [re.sub(r'^\\ncontent: |\\x02|\\x03\\d{2}(,\\d{2})?|\\u2068|\\u2069', '', result.page_content.split('\\nplatform:')[0].strip()) for result in results]\n",
    "    # Print the cleaned content list for verification\n",
    "    print(content_list)\n",
    "    return content_list\n",
    "\n",
    "    "
   ],
   "metadata": {
    "collapsed": false,
    "ExecuteTime": {
     "end_time": "2024-04-02T23:30:19.395389Z",
     "start_time": "2024-04-02T23:30:19.391079Z"
    }
   },
   "id": "e5f179a381136aeb",
   "execution_count": 44
  },
  {
   "cell_type": "code",
   "outputs": [
    {
     "name": "stdout",
     "output_type": "stream",
     "text": [
      "Found 4 results\n",
      "[Document(page_content='\\ncontent: sig: would the democrats benefit more if trump was elected president or not elected president\\nplatform: IRC\\ntimestamp: 2024-04-02T23:28:15.994075+00:00'), Document(page_content='\\ncontent: farmr: word\\nplatform: IRC\\ntimestamp: 2024-04-02T03:26:41.052860+00:00'), Document(page_content='\\ncontent: \\x02[\\x02\\x02\\x0300,04 ► \\x03\\x02\\x02 YouTube]\\x02 \\u2068Police Fatally Shoot Abducted Teen As She Was Following instructions to Move Toward a Deputy\\u2069 | 11m 8s | Channel: \\u2068PoliceActivity\\u2069 | 92,660 views | \\x03037,980+\\x03 | Uploaded 3 hours ago\\nplatform: IRC\\ntimestamp: 2024-04-02T03:26:38.482915+00:00'), Document(page_content='\\ncontent: he can play it on his prison tablet\\nplatform: IRC\\ntimestamp: 2024-04-02T03:26:34.894658+00:00')]\n",
      "['content: sig: would the democrats benefit more if trump was elected president or not elected president', 'content: farmr: word', 'content: [ ► \\x03 YouTube] Police Fatally Shoot Abducted Teen As She Was Following instructions to Move Toward a Deputy | 11m 8s | Channel: PoliceActivity | 92,660 views | 7,980+\\x03 | Uploaded 3 hours ago', 'content: he can play it on his prison tablet']\n",
      "['content: sig: would the democrats benefit more if trump was elected president or not elected president', 'content: farmr: word', 'content: [ ► \\x03 YouTube] Police Fatally Shoot Abducted Teen As She Was Following instructions to Move Toward a Deputy | 11m 8s | Channel: PoliceActivity | 92,660 views | 7,980+\\x03 | Uploaded 3 hours ago', 'content: he can play it on his prison tablet']\n"
     ]
    }
   ],
   "source": [
    "query = \"nude bots?\"\n",
    "response = similarity_search(query, max_results=10)\n",
    "print(response)"
   ],
   "metadata": {
    "collapsed": false,
    "ExecuteTime": {
     "end_time": "2024-04-02T23:30:21.995488Z",
     "start_time": "2024-04-02T23:30:21.717181Z"
    }
   },
   "id": "1de1b4bf0fd3dab9",
   "execution_count": 45
  },
  {
   "cell_type": "markdown",
   "source": [
    "# Define the Cypher Generation Prompt\n",
    "# Here we define the prompt that will be used to generate Cypher queries\n",
    "# We use example queries to show how to use the schema to the LLM"
   ],
   "metadata": {
    "collapsed": false
   },
   "id": "7770ddbd8a180fd2"
  },
  {
   "cell_type": "code",
   "execution_count": 46,
   "id": "ea2b4ec2eff00e80",
   "metadata": {
    "collapsed": false,
    "ExecuteTime": {
     "end_time": "2024-04-02T23:30:41.119050Z",
     "start_time": "2024-04-02T23:30:41.114924Z"
    }
   },
   "outputs": [],
   "source": [
    "CYPHER_GENERATION_TEMPLATE = \"\"\"Task:Generate Cypher statement to \n",
    "query a graph database.\n",
    "Instructions:\n",
    "Use only the provided relationship types and properties in the \n",
    "schema. Do not use any other relationship types or properties that \n",
    "are not provided.\n",
    "Schema:\n",
    "{schema}\n",
    "Note: Do not include any explanations or apologies in your responses.\n",
    "Do not respond to any questions that might ask anything else than \n",
    "for you to construct a Cypher statement.\n",
    "Do not include any text except the generated Cypher statement.\n",
    "Examples: Here are a few examples of generated Cypher \n",
    "statements for particular questions:\n",
    "\n",
    "### Reading messages in chronological order\n",
    "```\n",
    "MATCH (m:Message)-[:POSTED_IN]->(chan:Channel {{name: '#!chases'}})\n",
    "RETURN m.content AS message, datetime(m.timestamp) AS time\n",
    "ORDER BY time DESC\n",
    "```\n",
    "\n",
    "### Indirect Connection Through Shared Channels\n",
    "```\n",
    "MATCH (a:User {{name: 'Alice'}})-[:SENT|POSTED_IN]->(m:Message)-[:POSTED_IN]->(chan:Channel)<-[:POSTED_IN]-(m2:Message)<-[:SENT|POSTED_IN]-(b:User {{name: 'Bob'}})\n",
    "RETURN DISTINCT chan.name AS SharedChannel\n",
    "```\n",
    "\n",
    "### Indirect Connection Through Mutual Connections\n",
    "```\n",
    "MATCH (a:User {{name: 'Alice'}})-[:INTERACTED_WITH]->(mutual:User)<-[:INTERACTED_WITH]-(b:User {{name: 'Bob'}})\n",
    "RETURN DISTINCT mutual.name AS MutualFriend\n",
    "```\n",
    "\n",
    "### Is Alice friends with Bob?\n",
    "MATCH (a:User {{name: 'Alice'}})-[:INTERACTED_WITH]-(b:User {{name: 'Bob'}})\n",
    "RETURN a, b\n",
    "\n",
    "### Showing a complete graph\n",
    "\n",
    "```\n",
    "MATCH (chan:Channel)-[:POSTED_IN]-(msg:Message)-[:SENT]-(user:User)\n",
    "OPTIONAL MATCH (msg)-[:MENTIONED]->(mentioned:User)\n",
    "RETURN chan, user, msg, mentioned\n",
    "```\n",
    "\n",
    "### Show a more complete graph\n",
    "\n",
    "```\n",
    "MATCH (chan:Channel)-[:POSTED_IN]-(msg:Message)-[:SENT]-(user:User)\n",
    "OPTIONAL MATCH (msg)-[:MENTIONED]->(mentioned:User)\n",
    "\n",
    "// Order messages in the channel by timestamp (descending)\n",
    "WITH chan, user, msg, mentioned\n",
    "ORDER BY msg.timestamp DESC\n",
    "\n",
    "// Limit results, preserving the relationships\n",
    "WITH  chan,\n",
    "      collect({{user: user, msg: msg, mentioned: mentioned}})[..25] as recentChannelActivity\n",
    "UNWIND recentChannelActivity as result\n",
    "RETURN chan, result.user, result.msg, result.mentioned\n",
    "```\n",
    "The question is:\n",
    "{question}\"\"\""
   ]
  },
  {
   "cell_type": "code",
   "execution_count": 47,
   "id": "148b36c0b956c30c",
   "metadata": {
    "collapsed": false,
    "ExecuteTime": {
     "end_time": "2024-04-02T23:30:43.862615Z",
     "start_time": "2024-04-02T23:30:41.834255Z"
    }
   },
   "outputs": [],
   "source": [
    "from langchain.prompts.prompt import PromptTemplate\n",
    "from langchain.prompts.chat import ChatPromptTemplate\n",
    "from langchain import hub\n",
    "\n",
    "CYPHER_GENERATION_PROMPT = PromptTemplate(\n",
    "    input_variables=[\"schema\", \"question\"], \n",
    "    template=CYPHER_GENERATION_TEMPLATE,\n",
    ")\n",
    "\n",
    "prompt = hub.pull(\"hwchase17/openai-functions-agent\")\n",
    "#prompt = ChatPromptTemplate.from_template(\"{chat_history}\")\n",
    "\n",
    "## Upload our prompt to LangSmith\n",
    "#hub.push(\"mfreeman451/threadr-cypher-prompt\", CHAT_GENERATION_PROMPT)\n"
   ]
  },
  {
   "cell_type": "code",
   "execution_count": 48,
   "id": "dc8289bb924fc5a9",
   "metadata": {
    "collapsed": false,
    "ExecuteTime": {
     "end_time": "2024-04-02T23:30:43.893460Z",
     "start_time": "2024-04-02T23:30:43.864934Z"
    }
   },
   "outputs": [],
   "source": [
    "from langchain.chains import GraphCypherQAChain\n",
    "from langchain_openai import ChatOpenAI\n",
    "\n",
    "cypherChain = GraphCypherQAChain.from_llm(\n",
    "    ChatOpenAI(model=\"gpt-4-turbo-preview\",temperature=0,openai_api_key=OPENAI_API_KEY),\n",
    "    graph=graph,\n",
    "    verbose=True,\n",
    "    cypher_prompt=CYPHER_GENERATION_PROMPT,\n",
    ")"
   ]
  },
  {
   "cell_type": "markdown",
   "id": "38eca15077e9653f",
   "metadata": {
    "collapsed": false
   },
   "source": [
    "# Create the Tools"
   ]
  },
  {
   "cell_type": "code",
   "execution_count": 49,
   "id": "b2b336d60fa1ab37",
   "metadata": {
    "collapsed": false,
    "ExecuteTime": {
     "end_time": "2024-04-02T23:30:45.035489Z",
     "start_time": "2024-04-02T23:30:45.030930Z"
    }
   },
   "outputs": [],
   "source": [
    "from typing import Dict, Optional, Type, Union\n",
    "from langchain_core.callbacks import (\n",
    "    AsyncCallbackManagerForToolRun,\n",
    "    CallbackManagerForToolRun,\n",
    ")\n",
    "from langchain_core.pydantic_v1 import BaseModel, Field\n",
    "from langchain_core.tools import BaseTool"
   ]
  },
  {
   "cell_type": "code",
   "execution_count": 50,
   "id": "d7a6add961907095",
   "metadata": {
    "collapsed": false,
    "ExecuteTime": {
     "end_time": "2024-04-02T23:30:45.677534Z",
     "start_time": "2024-04-02T23:30:45.671035Z"
    }
   },
   "outputs": [],
   "source": [
    "class TemporalSimilaritySearchInput(BaseModel):\n",
    "    \"\"\"Input for the Temporal Similarity Search tool.\"\"\"\n",
    "    # Define the inputs for your tool. Our query comes from chat users.\n",
    "    query: str = Field(description=\"Did Alice mention anything about yesterday's meeting?\")"
   ]
  },
  {
   "cell_type": "code",
   "execution_count": 51,
   "id": "6773221e6751af70",
   "metadata": {
    "collapsed": false,
    "ExecuteTime": {
     "end_time": "2024-04-02T23:30:46.220949Z",
     "start_time": "2024-04-02T23:30:46.213534Z"
    }
   },
   "outputs": [],
   "source": [
    "class SimilaritySearchInput(BaseModel):\n",
    "    \"\"\"Input for the Similarity Search tool.\"\"\"\n",
    "    # Define the inputs for your tool. Our query comes from chat users.\n",
    "    query: str = Field(description=\"Did Alice mention anything about the meeting?\")\n",
    "    max_results: int = Field(description=\"The maximum number of results to return.\", default=1000)\n",
    "    "
   ]
  },
  {
   "cell_type": "code",
   "outputs": [],
   "source": [
    "class SimilaritySearchTool(BaseTool):\n",
    "    \"\"\"A tool that serves to retrieve data from a labeled property graph.\"\"\"\n",
    "    \n",
    "    name: str = \"similarity_search_tool\"\n",
    "    description: str = \"A tool that serves to retrieve data from a labeled property graph.\"\n",
    "    max_results: int = 1000\n",
    "    args_schema: Type[BaseModel] = SimilaritySearchInput\n",
    "    \n",
    "    def _run(\n",
    "        self,\n",
    "        query: str,\n",
    "        max_results: int = 1000,\n",
    "        run_manager: Optional[CallbackManagerForToolRun] = None,\n",
    "    ) -> Union[Dict, str]:\n",
    "        \"\"\"Synchronously run the tool.\"\"\"\n",
    "        try:\n",
    "            return similarity_search(query, max_results=max_results)\n",
    "        except Exception as e:\n",
    "            return repr(e)\n",
    "\n",
    "    async def _arun(\n",
    "        self,\n",
    "        query: str,\n",
    "        max_results: int = 1000,\n",
    "        run_manager: Optional[AsyncCallbackManagerForToolRun] = None,\n",
    "    ) -> Union[Dict, str]:\n",
    "        \"\"\"Asynchronously run the tool.\"\"\"\n",
    "        try:\n",
    "            return await similarity_search(query, max_results=max_results)\n",
    "        except Exception as e:\n",
    "            return repr(e)\n",
    "    "
   ],
   "metadata": {
    "collapsed": false,
    "ExecuteTime": {
     "end_time": "2024-04-02T23:30:47.119847Z",
     "start_time": "2024-04-02T23:30:47.109488Z"
    }
   },
   "id": "5c2d2f65222d65f1",
   "execution_count": 52
  },
  {
   "cell_type": "code",
   "execution_count": 53,
   "id": "61faa7e401f1d014",
   "metadata": {
    "collapsed": false,
    "ExecuteTime": {
     "end_time": "2024-04-02T23:30:48.331932Z",
     "start_time": "2024-04-02T23:30:48.315924Z"
    }
   },
   "outputs": [],
   "source": [
    "class CypherQAInput(BaseModel):\n",
    "    \"\"\"Input for the CypherQA tool.\"\"\"\n",
    "    # Define the inputs for your tool. Our query comes from chat users.\n",
    "    query: str = Field(description=\"Who are alice's friends?\")\n",
    "    \n",
    "\n",
    "class CypherQATool(BaseTool):\n",
    "    \"\"\"A Cypher Question-Answering Tool.\"\"\"\n",
    "\n",
    "    name: str = \"cypherqa_tool\"\n",
    "    description: str = \"A tool that serves to retrieve data from a labeled property graph.\"\n",
    "    # If your tool requires initialization parameters, define them here.\n",
    "    # For a placeholder, we might not need any, but you can add as necessary.\n",
    "    args_schema: Type[BaseModel] = CypherQAInput\n",
    "\n",
    "    def _run(\n",
    "        self,\n",
    "        query: str,\n",
    "        run_manager: Optional[CallbackManagerForToolRun] = None,\n",
    "    ) -> Union[Dict, str]:\n",
    "        \"\"\"Synchronously run the tool.\"\"\"\n",
    "        try:\n",
    "            return cypherChain.run(query)\n",
    "        except Exception as e:\n",
    "            return repr(e)\n",
    "\n",
    "    async def _arun(\n",
    "        self,\n",
    "        query: str,\n",
    "        run_manager: Optional[AsyncCallbackManagerForToolRun] = None,\n",
    "    ) -> Union[Dict, str]:\n",
    "        \"\"\"Asynchronously run the tool.\"\"\"\n",
    "        try:\n",
    "            return await cypherChain.run(query)\n",
    "        except Exception as e:\n",
    "            return repr(e)\n"
   ]
  },
  {
   "cell_type": "markdown",
   "id": "5dace4a9-7c9e-4da2-bf7b-e58d0d05581e",
   "metadata": {},
   "source": [
    "## Create the LangChain agent\n",
    "\n",
    "First, we will create the LangChain agent. For more information on LangChain agents, see [this documentation](https://python.langchain.com/docs/modules/agents/)"
   ]
  },
  {
   "cell_type": "code",
   "execution_count": 54,
   "id": "4499eb16-bca8-4a60-9a3a-2f34ae3f7078",
   "metadata": {
    "ExecuteTime": {
     "end_time": "2024-04-02T23:30:52.127416Z",
     "start_time": "2024-04-02T23:30:49.966376Z"
    }
   },
   "outputs": [],
   "source": [
    "from langchain.agents import create_openai_functions_agent\n",
    "from langchain_openai.chat_models import ChatOpenAI\n",
    "from langchain_community.tools.tavily_search import TavilySearchResults\n",
    "\n",
    "#tools = [TavilySearchResults(max_results=1)]\n",
    "tools = [CypherQATool(), SimilaritySearchTool(), TavilySearchResults(max_results=1)]\n",
    "\n",
    "# Get the prompt to use - you can modify this!\n",
    "prompt = hub.pull(\"hwchase17/openai-functions-agent\")\n",
    "\n",
    "# Choose the LLM that will drive the agent\n",
    "llm = ChatOpenAI(model=\"gpt-4-turbo-preview\", streaming=True)\n",
    "# llm = ChatOpenAI(model=\"gpt-3.5-turbo-0125\", streaming=False)\n",
    "\n",
    "# Construct the OpenAI Functions agent\n",
    "agent_runnable = create_openai_functions_agent(llm, tools, prompt)"
   ]
  },
  {
   "cell_type": "markdown",
   "id": "972e58b3-fe3c-449d-b3c4-8fa2217afd07",
   "metadata": {},
   "source": [
    "## Define the graph state\n",
    "\n",
    "We now define the graph state. The state for the traditional LangChain agent has a few attributes:\n",
    "\n",
    "1. `input`: This is the input string representing the main ask from the user, passed in as input.\n",
    "2. `chat_history`: This is any previous conversation messages, also passed in as input.\n",
    "3. `intermediate_steps`: This is list of actions and corresponding observations that the agent takes over time. This is updated each iteration of the agent.\n",
    "4. `agent_outcome`: This is the response from the agent, either an AgentAction or AgentFinish. The AgentExecutor should finish when this is an AgentFinish, otherwise it should call the requested tools.\n"
   ]
  },
  {
   "cell_type": "code",
   "execution_count": 55,
   "id": "c941fb10-dbe5-4d6a-ab7d-133d01c33cc4",
   "metadata": {
    "ExecuteTime": {
     "end_time": "2024-04-02T23:30:52.132704Z",
     "start_time": "2024-04-02T23:30:52.129009Z"
    }
   },
   "outputs": [],
   "source": [
    "from typing import TypedDict, Annotated, List, Union\n",
    "from langchain_core.agents import AgentAction, AgentFinish\n",
    "from langchain_core.messages import BaseMessage\n",
    "import operator\n",
    "\n",
    "\n",
    "class AgentState(TypedDict):\n",
    "    # The input string\n",
    "    input: str\n",
    "    # The list of previous messages in the conversation\n",
    "    chat_history: list[BaseMessage]\n",
    "    # The outcome of a given call to the agent\n",
    "    # Needs `None` as a valid type, since this is what this will start as\n",
    "    agent_outcome: Union[AgentAction, AgentFinish, None]\n",
    "    # List of actions and corresponding observations\n",
    "    # Here we annotate this with `operator.add` to indicate that operations to\n",
    "    # this state should be ADDED to the existing values (not overwrite it)\n",
    "    intermediate_steps: Annotated[list[tuple[AgentAction, str]], operator.add]"
   ]
  },
  {
   "cell_type": "markdown",
   "id": "cd27b281-cc9a-49c9-be78-8b98a7d905c4",
   "metadata": {},
   "source": [
    "## Define the nodes\n",
    "\n",
    "We now need to define a few different nodes in our graph.\n",
    "In `langgraph`, a node can be either a function or a [runnable](https://python.langchain.com/docs/expression_language/).\n",
    "There are two main nodes we need for this:\n",
    "\n",
    "1. The agent: responsible for deciding what (if any) actions to take.\n",
    "2. A function to invoke tools: if the agent decides to take an action, this node will then execute that action.\n",
    "\n",
    "We will also need to define some edges.\n",
    "Some of these edges may be conditional.\n",
    "The reason they are conditional is that based on the output of a node, one of several paths may be taken.\n",
    "The path that is taken is not known until that node is run (the LLM decides).\n",
    "\n",
    "1. Conditional Edge: after the agent is called, we should either:\n",
    "   a. If the agent said to take an action, then the function to invoke tools should be called\n",
    "   b. If the agent said that it was finished, then it should finish\n",
    "2. Normal Edge: after the tools are invoked, it should always go back to the agent to decide what to do next\n",
    "\n",
    "Let's define the nodes, as well as a function to decide how what conditional edge to take."
   ]
  },
  {
   "cell_type": "code",
   "execution_count": 56,
   "id": "d61a970d-edf4-4eef-9678-28bab7c72331",
   "metadata": {
    "ExecuteTime": {
     "end_time": "2024-04-02T23:30:53.447812Z",
     "start_time": "2024-04-02T23:30:53.441627Z"
    }
   },
   "outputs": [],
   "source": [
    "from langchain_core.agents import AgentFinish\n",
    "from langgraph.prebuilt.tool_executor import ToolExecutor\n",
    "\n",
    "# This a helper class we have that is useful for running tools\n",
    "# It takes in an agent action and calls that tool and returns the result\n",
    "tool_executor = ToolExecutor(tools)\n",
    "\n",
    "\n",
    "# Define the agent\n",
    "def run_agent(data):\n",
    "    agent_outcome = agent_runnable.invoke(data)\n",
    "    return {\"agent_outcome\": agent_outcome}\n",
    "\n",
    "\n",
    "# Define the function to execute tools\n",
    "def execute_tools(data):\n",
    "    # Get the most recent agent_outcome - this is the key added in the `agent` above\n",
    "    agent_action = data[\"agent_outcome\"]\n",
    "    output = tool_executor.invoke(agent_action)\n",
    "    return {\"intermediate_steps\": [(agent_action, str(output))]}\n",
    "\n",
    "\n",
    "# Define logic that will be used to determine which conditional edge to go down\n",
    "def should_continue(data):\n",
    "    print(f\"should_continue: {data}\")\n",
    "    \n",
    "    # If the agent outcome is an AgentFinish, then we return `exit` string\n",
    "    # This will be used when setting up the graph to define the flow\n",
    "    if isinstance(data[\"agent_outcome\"], AgentFinish):\n",
    "        return \"end\"\n",
    "    # Otherwise, an AgentAction is returned\n",
    "    # Here we return `continue` string\n",
    "    # This will be used when setting up the graph to define the flow\n",
    "    else:\n",
    "        return \"continue\""
   ]
  },
  {
   "cell_type": "markdown",
   "id": "02437e83-5485-4827-87e6-7ad1d02cf9be",
   "metadata": {},
   "source": [
    "**MODIFICATION**\n",
    "\n",
    "Here we create a node that returns an AgentAction that just calls the Custom Tool  with the input"
   ]
  },
  {
   "cell_type": "code",
   "execution_count": 57,
   "id": "2ed8463e-73e5-417d-9fab-be6bcee87835",
   "metadata": {
    "ExecuteTime": {
     "end_time": "2024-04-02T23:30:55.628510Z",
     "start_time": "2024-04-02T23:30:55.624448Z"
    }
   },
   "outputs": [
    {
     "data": {
      "text/plain": "'cypherqa_tool'"
     },
     "execution_count": 57,
     "metadata": {},
     "output_type": "execute_result"
    }
   ],
   "source": [
    "tools[0].name"
   ]
  },
  {
   "cell_type": "code",
   "execution_count": 58,
   "id": "df25d899-2338-4f31-a8bf-0582a2eec325",
   "metadata": {
    "ExecuteTime": {
     "end_time": "2024-04-02T23:30:56.531726Z",
     "start_time": "2024-04-02T23:30:56.528195Z"
    }
   },
   "outputs": [],
   "source": [
    "from langchain_core.agents import AgentActionMessageLog\n",
    "\n",
    "\n",
    "def first_agent(agent_inputs):\n",
    "    action = AgentActionMessageLog(\n",
    "        # We force call this tool\n",
    "        #tool=\"tavily_search_results_json\",\n",
    "        #tool=\"cypherqa_tool\",\n",
    "        tool=\"similarity_search_tool\",\n",
    "        # We just pass in the `input` key to this tool\n",
    "        tool_input=agent_inputs[\"input\"],\n",
    "        log=\"\",\n",
    "        message_log=[],\n",
    "    )\n",
    "    return {\"agent_outcome\": action}"
   ]
  },
  {
   "cell_type": "markdown",
   "id": "c0b211f4-0c5c-4792-b18d-cd70907c71e7",
   "metadata": {},
   "source": [
    "## Define the graph\n",
    "\n",
    "We can now put it all together and define the graph!\n",
    "\n",
    "**MODIFICATION**\n",
    "\n",
    "We now add a new `first_agent` node which we set as the entrypoint."
   ]
  },
  {
   "cell_type": "code",
   "execution_count": 59,
   "id": "c4054dde-4618-49b7-998a-daa0c1d6d6c0",
   "metadata": {
    "ExecuteTime": {
     "end_time": "2024-04-02T23:30:58.307973Z",
     "start_time": "2024-04-02T23:30:58.292822Z"
    }
   },
   "outputs": [],
   "source": [
    "from langgraph.graph import END, StateGraph\n",
    "\n",
    "# Define a new graph\n",
    "workflow = StateGraph(AgentState)\n",
    "\n",
    "# Define the two nodes we will cycle between\n",
    "workflow.add_node(\"agent\", run_agent)\n",
    "workflow.add_node(\"action\", execute_tools)\n",
    "workflow.add_node(\"first_agent\", first_agent)\n",
    "\n",
    "# Set the entrypoint as `agent`\n",
    "# This means that this node is the first one called\n",
    "workflow.set_entry_point(\"first_agent\")\n",
    "\n",
    "# We now add a conditional edge\n",
    "workflow.add_conditional_edges(\n",
    "    # First, we define the start node. We use `agent`.\n",
    "    # This means these are the edges taken after the `agent` node is called.\n",
    "    \"agent\",\n",
    "    # Next, we pass in the function that will determine which node is called next.\n",
    "    should_continue,\n",
    "    # Finally we pass in a mapping.\n",
    "    # The keys are strings, and the values are other nodes.\n",
    "    # END is a special node marking that the graph should finish.\n",
    "    # What will happen is we will call `should_continue`, and then the output of that\n",
    "    # will be matched against the keys in this mapping.\n",
    "    # Based on which one it matches, that node will then be called.\n",
    "    {\n",
    "        # If `tools`, then we call the tool node.\n",
    "        \"continue\": \"action\",\n",
    "        # Otherwise we finish.\n",
    "        \"end\": END,\n",
    "    },\n",
    ")\n",
    "\n",
    "# We now add a normal edge from `tools` to `agent`.\n",
    "# This means that after `tools` is called, `agent` node is called next.\n",
    "workflow.add_edge(\"action\", \"agent\")\n",
    "\n",
    "# After the first agent, we want to take an action\n",
    "workflow.add_edge(\"first_agent\", \"action\")\n",
    "\n",
    "# Finally, we compile it!\n",
    "# This compiles it into a LangChain Runnable,\n",
    "# meaning you can use it as you would any other runnable\n",
    "app = workflow.compile()"
   ]
  },
  {
   "cell_type": "code",
   "execution_count": 60,
   "id": "214ae46e-c297-465d-86db-2b0312ed3530",
   "metadata": {
    "ExecuteTime": {
     "end_time": "2024-04-02T23:31:09.198790Z",
     "start_time": "2024-04-02T23:30:59.753083Z"
    }
   },
   "outputs": [
    {
     "name": "stdout",
     "output_type": "stream",
     "text": [
      "{'agent_outcome': AgentActionMessageLog(tool='similarity_search_tool', tool_input=\"who are leku's friends?\", log='', message_log=[])}\n",
      "----\n",
      "Found 4 results\n",
      "[Document(page_content='\\ncontent: sig: would the democrats benefit more if trump was elected president or not elected president\\nplatform: IRC\\ntimestamp: 2024-04-02T23:28:15.994075+00:00'), Document(page_content='\\ncontent: Addressing the influence of money in politics is a complex challenge that requires reform and an active, engaged electorate.\\nplatform: IRC\\ntimestamp: 2024-04-02T23:30:32.250191+00:00'), Document(page_content='\\ncontent: \\x02[\\x02\\x02\\x0300,04 ► \\x03\\x02\\x02 YouTube]\\x02 \\u2068Police Fatally Shoot Abducted Teen As She Was Following instructions to Move Toward a Deputy\\u2069 | 11m 8s | Channel: \\u2068PoliceActivity\\u2069 | 92,660 views | \\x03037,980+\\x03 | Uploaded 3 hours ago\\nplatform: IRC\\ntimestamp: 2024-04-02T03:26:38.482915+00:00'), Document(page_content='\\ncontent: he can play it on his prison tablet\\nplatform: IRC\\ntimestamp: 2024-04-02T03:26:34.894658+00:00')]\n",
      "['content: sig: would the democrats benefit more if trump was elected president or not elected president', 'content: Addressing the influence of money in politics is a complex challenge that requires reform and an active, engaged electorate.', 'content: [ ► \\x03 YouTube] Police Fatally Shoot Abducted Teen As She Was Following instructions to Move Toward a Deputy | 11m 8s | Channel: PoliceActivity | 92,660 views | 7,980+\\x03 | Uploaded 3 hours ago', 'content: he can play it on his prison tablet']\n",
      "{'intermediate_steps': [(AgentActionMessageLog(tool='similarity_search_tool', tool_input=\"who are leku's friends?\", log='', message_log=[]), \"['content: sig: would the democrats benefit more if trump was elected president or not elected president', 'content: Addressing the influence of money in politics is a complex challenge that requires reform and an active, engaged electorate.', 'content: [ ► \\\\x03 YouTube] Police Fatally Shoot Abducted Teen As She Was Following instructions to Move Toward a Deputy | 11m 8s | Channel: PoliceActivity | 92,660 views | 7,980+\\\\x03 | Uploaded 3 hours ago', 'content: he can play it on his prison tablet']\")]}\n",
      "----\n",
      "{'agent_outcome': AgentActionMessageLog(tool='cypherqa_tool', tool_input={'query': \"who are leku's friends?\"}, log='\\nInvoking: `cypherqa_tool` with `{\\'query\\': \"who are leku\\'s friends?\"}`\\n\\n\\n', message_log=[AIMessage(content='', additional_kwargs={'function_call': {'arguments': '{\"query\":\"who are leku\\'s friends?\"}', 'name': 'cypherqa_tool'}}, response_metadata={'finish_reason': 'function_call'})])}\n",
      "----\n",
      "should_continue: {'input': \"who are leku's friends?\", 'chat_history': [], 'agent_outcome': AgentActionMessageLog(tool='cypherqa_tool', tool_input={'query': \"who are leku's friends?\"}, log='\\nInvoking: `cypherqa_tool` with `{\\'query\\': \"who are leku\\'s friends?\"}`\\n\\n\\n', message_log=[AIMessage(content='', additional_kwargs={'function_call': {'arguments': '{\"query\":\"who are leku\\'s friends?\"}', 'name': 'cypherqa_tool'}}, response_metadata={'finish_reason': 'function_call'})]), 'intermediate_steps': [(AgentActionMessageLog(tool='similarity_search_tool', tool_input=\"who are leku's friends?\", log='', message_log=[]), \"['content: sig: would the democrats benefit more if trump was elected president or not elected president', 'content: Addressing the influence of money in politics is a complex challenge that requires reform and an active, engaged electorate.', 'content: [ ► \\\\x03 YouTube] Police Fatally Shoot Abducted Teen As She Was Following instructions to Move Toward a Deputy | 11m 8s | Channel: PoliceActivity | 92,660 views | 7,980+\\\\x03 | Uploaded 3 hours ago', 'content: he can play it on his prison tablet']\")]}\n",
      "\n",
      "\n",
      "\u001B[1m> Entering new GraphCypherQAChain chain...\u001B[0m\n",
      "Generated Cypher:\n",
      "\u001B[32;1m\u001B[1;3m\n",
      "MATCH (u:User {name: 'leku'})-[:INTERACTED_WITH]->(friend:User)\n",
      "RETURN friend.name AS Friend\n",
      "\u001B[0m\n",
      "Full Context:\n",
      "\u001B[32;1m\u001B[1;3m[{'Friend': 'farmr'}, {'Friend': 'larsinio'}, {'Friend': 'viral'}, {'Friend': 'dio'}, {'Friend': 'dioxide'}, {'Friend': 'eefer'}, {'Friend': 'bysin'}, {'Friend': 'sig'}, {'Friend': 'Raccoon'}, {'Friend': 'oo'}]\u001B[0m\n",
      "\n",
      "\u001B[1m> Finished chain.\u001B[0m\n",
      "{'intermediate_steps': [(AgentActionMessageLog(tool='cypherqa_tool', tool_input={'query': \"who are leku's friends?\"}, log='\\nInvoking: `cypherqa_tool` with `{\\'query\\': \"who are leku\\'s friends?\"}`\\n\\n\\n', message_log=[AIMessage(content='', additional_kwargs={'function_call': {'arguments': '{\"query\":\"who are leku\\'s friends?\"}', 'name': 'cypherqa_tool'}}, response_metadata={'finish_reason': 'function_call'})]), \"Leku's friends are farmr, larsinio, viral, dio, dioxide, eefer, bysin, sig, Raccoon, and oo.\")]}\n",
      "----\n",
      "{'agent_outcome': AgentFinish(return_values={'output': \"Leku's friends are Farmr, Larsinio, Viral, Dio, Dioxide, Eefer, Bysin, Sig, Raccoon, and Oo.\"}, log=\"Leku's friends are Farmr, Larsinio, Viral, Dio, Dioxide, Eefer, Bysin, Sig, Raccoon, and Oo.\")}\n",
      "----\n",
      "should_continue: {'input': \"who are leku's friends?\", 'chat_history': [], 'agent_outcome': AgentFinish(return_values={'output': \"Leku's friends are Farmr, Larsinio, Viral, Dio, Dioxide, Eefer, Bysin, Sig, Raccoon, and Oo.\"}, log=\"Leku's friends are Farmr, Larsinio, Viral, Dio, Dioxide, Eefer, Bysin, Sig, Raccoon, and Oo.\"), 'intermediate_steps': [(AgentActionMessageLog(tool='similarity_search_tool', tool_input=\"who are leku's friends?\", log='', message_log=[]), \"['content: sig: would the democrats benefit more if trump was elected president or not elected president', 'content: Addressing the influence of money in politics is a complex challenge that requires reform and an active, engaged electorate.', 'content: [ ► \\\\x03 YouTube] Police Fatally Shoot Abducted Teen As She Was Following instructions to Move Toward a Deputy | 11m 8s | Channel: PoliceActivity | 92,660 views | 7,980+\\\\x03 | Uploaded 3 hours ago', 'content: he can play it on his prison tablet']\"), (AgentActionMessageLog(tool='cypherqa_tool', tool_input={'query': \"who are leku's friends?\"}, log='\\nInvoking: `cypherqa_tool` with `{\\'query\\': \"who are leku\\'s friends?\"}`\\n\\n\\n', message_log=[AIMessage(content='', additional_kwargs={'function_call': {'arguments': '{\"query\":\"who are leku\\'s friends?\"}', 'name': 'cypherqa_tool'}}, response_metadata={'finish_reason': 'function_call'})]), \"Leku's friends are farmr, larsinio, viral, dio, dioxide, eefer, bysin, sig, Raccoon, and oo.\")]}\n",
      "{'input': \"who are leku's friends?\", 'chat_history': [], 'agent_outcome': AgentFinish(return_values={'output': \"Leku's friends are Farmr, Larsinio, Viral, Dio, Dioxide, Eefer, Bysin, Sig, Raccoon, and Oo.\"}, log=\"Leku's friends are Farmr, Larsinio, Viral, Dio, Dioxide, Eefer, Bysin, Sig, Raccoon, and Oo.\"), 'intermediate_steps': [(AgentActionMessageLog(tool='similarity_search_tool', tool_input=\"who are leku's friends?\", log='', message_log=[]), \"['content: sig: would the democrats benefit more if trump was elected president or not elected president', 'content: Addressing the influence of money in politics is a complex challenge that requires reform and an active, engaged electorate.', 'content: [ ► \\\\x03 YouTube] Police Fatally Shoot Abducted Teen As She Was Following instructions to Move Toward a Deputy | 11m 8s | Channel: PoliceActivity | 92,660 views | 7,980+\\\\x03 | Uploaded 3 hours ago', 'content: he can play it on his prison tablet']\"), (AgentActionMessageLog(tool='cypherqa_tool', tool_input={'query': \"who are leku's friends?\"}, log='\\nInvoking: `cypherqa_tool` with `{\\'query\\': \"who are leku\\'s friends?\"}`\\n\\n\\n', message_log=[AIMessage(content='', additional_kwargs={'function_call': {'arguments': '{\"query\":\"who are leku\\'s friends?\"}', 'name': 'cypherqa_tool'}}, response_metadata={'finish_reason': 'function_call'})]), \"Leku's friends are farmr, larsinio, viral, dio, dioxide, eefer, bysin, sig, Raccoon, and oo.\")]}\n",
      "----\n"
     ]
    }
   ],
   "source": [
    "inputs = {\"input\": \"who are leku's friends?\", \"chat_history\": []}\n",
    "for s in app.stream(inputs):\n",
    "    print(list(s.values())[0])\n",
    "    #print(s)\n",
    "    print(\"----\")"
   ]
  },
  {
   "cell_type": "code",
   "execution_count": 61,
   "id": "2eb662bc-de7d-4a57-a3e8-2f00dcf4ff8b",
   "metadata": {
    "ExecuteTime": {
     "end_time": "2024-04-02T23:31:20.893756Z",
     "start_time": "2024-04-02T23:31:16.747264Z"
    }
   },
   "outputs": [
    {
     "name": "stdout",
     "output_type": "stream",
     "text": [
      "{'agent_outcome': AgentActionMessageLog(tool='similarity_search_tool', tool_input='what does leku talk about?', log='', message_log=[])}\n",
      "----\n",
      "Found 4 results\n",
      "[Document(page_content='\\ncontent: sig: would the democrats benefit more if trump was elected president or not elected president\\nplatform: IRC\\ntimestamp: 2024-04-02T23:28:15.994075+00:00'), Document(page_content='\\ncontent: Addressing the influence of money in politics is a complex challenge that requires reform and an active, engaged electorate.\\nplatform: IRC\\ntimestamp: 2024-04-02T23:30:32.250191+00:00'), Document(page_content='\\ncontent: \\x02[\\x02\\x02\\x0300,04 ► \\x03\\x02\\x02 YouTube]\\x02 \\u2068Police Fatally Shoot Abducted Teen As She Was Following instructions to Move Toward a Deputy\\u2069 | 11m 8s | Channel: \\u2068PoliceActivity\\u2069 | 92,660 views | \\x03037,980+\\x03 | Uploaded 3 hours ago\\nplatform: IRC\\ntimestamp: 2024-04-02T03:26:38.482915+00:00'), Document(page_content='\\ncontent: he can play it on his prison tablet\\nplatform: IRC\\ntimestamp: 2024-04-02T03:26:34.894658+00:00')]\n",
      "['content: sig: would the democrats benefit more if trump was elected president or not elected president', 'content: Addressing the influence of money in politics is a complex challenge that requires reform and an active, engaged electorate.', 'content: [ ► \\x03 YouTube] Police Fatally Shoot Abducted Teen As She Was Following instructions to Move Toward a Deputy | 11m 8s | Channel: PoliceActivity | 92,660 views | 7,980+\\x03 | Uploaded 3 hours ago', 'content: he can play it on his prison tablet']\n",
      "{'intermediate_steps': [(AgentActionMessageLog(tool='similarity_search_tool', tool_input='what does leku talk about?', log='', message_log=[]), \"['content: sig: would the democrats benefit more if trump was elected president or not elected president', 'content: Addressing the influence of money in politics is a complex challenge that requires reform and an active, engaged electorate.', 'content: [ ► \\\\x03 YouTube] Police Fatally Shoot Abducted Teen As She Was Following instructions to Move Toward a Deputy | 11m 8s | Channel: PoliceActivity | 92,660 views | 7,980+\\\\x03 | Uploaded 3 hours ago', 'content: he can play it on his prison tablet']\")]}\n",
      "----\n",
      "{'agent_outcome': AgentFinish(return_values={'output': \"Leku's discussions cover a diverse range of topics, including:\\n\\n- Political analysis: Discussing whether the Democrats would benefit more if Trump was elected president or not.\\n- Social issues: Addressing the influence of money in politics and the need for reform and active civic engagement.\\n- Law enforcement and public safety: Sharing a news piece about a tragic incident where police fatally shot an abducted teenager as she was following instructions to move toward a deputy.\\n- Technology and incarceration: Mentioning the use of tablets in prisons, possibly in the context of prisoners' access to technology.\"}, log=\"Leku's discussions cover a diverse range of topics, including:\\n\\n- Political analysis: Discussing whether the Democrats would benefit more if Trump was elected president or not.\\n- Social issues: Addressing the influence of money in politics and the need for reform and active civic engagement.\\n- Law enforcement and public safety: Sharing a news piece about a tragic incident where police fatally shot an abducted teenager as she was following instructions to move toward a deputy.\\n- Technology and incarceration: Mentioning the use of tablets in prisons, possibly in the context of prisoners' access to technology.\")}\n",
      "----\n",
      "should_continue: {'input': 'what does leku talk about?', 'chat_history': [], 'agent_outcome': AgentFinish(return_values={'output': \"Leku's discussions cover a diverse range of topics, including:\\n\\n- Political analysis: Discussing whether the Democrats would benefit more if Trump was elected president or not.\\n- Social issues: Addressing the influence of money in politics and the need for reform and active civic engagement.\\n- Law enforcement and public safety: Sharing a news piece about a tragic incident where police fatally shot an abducted teenager as she was following instructions to move toward a deputy.\\n- Technology and incarceration: Mentioning the use of tablets in prisons, possibly in the context of prisoners' access to technology.\"}, log=\"Leku's discussions cover a diverse range of topics, including:\\n\\n- Political analysis: Discussing whether the Democrats would benefit more if Trump was elected president or not.\\n- Social issues: Addressing the influence of money in politics and the need for reform and active civic engagement.\\n- Law enforcement and public safety: Sharing a news piece about a tragic incident where police fatally shot an abducted teenager as she was following instructions to move toward a deputy.\\n- Technology and incarceration: Mentioning the use of tablets in prisons, possibly in the context of prisoners' access to technology.\"), 'intermediate_steps': [(AgentActionMessageLog(tool='similarity_search_tool', tool_input='what does leku talk about?', log='', message_log=[]), \"['content: sig: would the democrats benefit more if trump was elected president or not elected president', 'content: Addressing the influence of money in politics is a complex challenge that requires reform and an active, engaged electorate.', 'content: [ ► \\\\x03 YouTube] Police Fatally Shoot Abducted Teen As She Was Following instructions to Move Toward a Deputy | 11m 8s | Channel: PoliceActivity | 92,660 views | 7,980+\\\\x03 | Uploaded 3 hours ago', 'content: he can play it on his prison tablet']\")]}\n",
      "{'input': 'what does leku talk about?', 'chat_history': [], 'agent_outcome': AgentFinish(return_values={'output': \"Leku's discussions cover a diverse range of topics, including:\\n\\n- Political analysis: Discussing whether the Democrats would benefit more if Trump was elected president or not.\\n- Social issues: Addressing the influence of money in politics and the need for reform and active civic engagement.\\n- Law enforcement and public safety: Sharing a news piece about a tragic incident where police fatally shot an abducted teenager as she was following instructions to move toward a deputy.\\n- Technology and incarceration: Mentioning the use of tablets in prisons, possibly in the context of prisoners' access to technology.\"}, log=\"Leku's discussions cover a diverse range of topics, including:\\n\\n- Political analysis: Discussing whether the Democrats would benefit more if Trump was elected president or not.\\n- Social issues: Addressing the influence of money in politics and the need for reform and active civic engagement.\\n- Law enforcement and public safety: Sharing a news piece about a tragic incident where police fatally shot an abducted teenager as she was following instructions to move toward a deputy.\\n- Technology and incarceration: Mentioning the use of tablets in prisons, possibly in the context of prisoners' access to technology.\"), 'intermediate_steps': [(AgentActionMessageLog(tool='similarity_search_tool', tool_input='what does leku talk about?', log='', message_log=[]), \"['content: sig: would the democrats benefit more if trump was elected president or not elected president', 'content: Addressing the influence of money in politics is a complex challenge that requires reform and an active, engaged electorate.', 'content: [ ► \\\\x03 YouTube] Police Fatally Shoot Abducted Teen As She Was Following instructions to Move Toward a Deputy | 11m 8s | Channel: PoliceActivity | 92,660 views | 7,980+\\\\x03 | Uploaded 3 hours ago', 'content: he can play it on his prison tablet']\")]}\n",
      "----\n"
     ]
    }
   ],
   "source": [
    "inputs = {\"input\": \"what does leku talk about?\", \"chat_history\": []}\n",
    "for s in app.stream(inputs):\n",
    "    print(list(s.values())[0])\n",
    "    #print(s)\n",
    "    print(\"----\")"
   ]
  },
  {
   "cell_type": "code",
   "outputs": [
    {
     "name": "stdout",
     "output_type": "stream",
     "text": [
      "{'agent_outcome': AgentActionMessageLog(tool='similarity_search_tool', tool_input=\"what is leku's favorite food?\", log='', message_log=[])}\n",
      "----\n",
      "Found 4 results\n",
      "[Document(page_content='\\ncontent: sig: would the democrats benefit more if trump was elected president or not elected president\\nplatform: IRC\\ntimestamp: 2024-04-02T23:28:15.994075+00:00'), Document(page_content='\\ncontent: raccoon, your joke plays on a classic \"your mom\" setup, mixed with a cheeky twist involving a euphemism for sexual invitation masked as a weather-related misunderstanding. It’s a blend of surprise, implied naughtiness, and the old-school ribbing about one\\'s parent to get a laugh. Classic banter material there.\\nplatform: IRC\\ntimestamp: 2024-04-02T23:31:41.946976+00:00'), Document(page_content='\\ncontent: Addressing the influence of money in politics is a complex challenge that requires reform and an active, engaged electorate.\\nplatform: IRC\\ntimestamp: 2024-04-02T23:30:32.250191+00:00'), Document(page_content='\\ncontent: he can play it on his prison tablet\\nplatform: IRC\\ntimestamp: 2024-04-02T03:26:34.894658+00:00')]\n",
      "['content: sig: would the democrats benefit more if trump was elected president or not elected president', 'content: raccoon, your joke plays on a classic \"your mom\" setup, mixed with a cheeky twist involving a euphemism for sexual invitation masked as a weather-related misunderstanding. It’s a blend of surprise, implied naughtiness, and the old-school ribbing about one\\'s parent to get a laugh. Classic banter material there.', 'content: Addressing the influence of money in politics is a complex challenge that requires reform and an active, engaged electorate.', 'content: he can play it on his prison tablet']\n",
      "{'intermediate_steps': [(AgentActionMessageLog(tool='similarity_search_tool', tool_input=\"what is leku's favorite food?\", log='', message_log=[]), '[\\'content: sig: would the democrats benefit more if trump was elected president or not elected president\\', \\'content: raccoon, your joke plays on a classic \"your mom\" setup, mixed with a cheeky twist involving a euphemism for sexual invitation masked as a weather-related misunderstanding. It’s a blend of surprise, implied naughtiness, and the old-school ribbing about one\\\\\\'s parent to get a laugh. Classic banter material there.\\', \\'content: Addressing the influence of money in politics is a complex challenge that requires reform and an active, engaged electorate.\\', \\'content: he can play it on his prison tablet\\']')]}\n",
      "----\n",
      "{'agent_outcome': AgentFinish(return_values={'output': \"I couldn't find information related to Leku's favorite food in the provided responses. If you have any other questions or need information on a different topic, feel free to ask!\"}, log=\"I couldn't find information related to Leku's favorite food in the provided responses. If you have any other questions or need information on a different topic, feel free to ask!\")}\n",
      "----\n",
      "should_continue: {'input': \"what is leku's favorite food?\", 'chat_history': [], 'agent_outcome': AgentFinish(return_values={'output': \"I couldn't find information related to Leku's favorite food in the provided responses. If you have any other questions or need information on a different topic, feel free to ask!\"}, log=\"I couldn't find information related to Leku's favorite food in the provided responses. If you have any other questions or need information on a different topic, feel free to ask!\"), 'intermediate_steps': [(AgentActionMessageLog(tool='similarity_search_tool', tool_input=\"what is leku's favorite food?\", log='', message_log=[]), '[\\'content: sig: would the democrats benefit more if trump was elected president or not elected president\\', \\'content: raccoon, your joke plays on a classic \"your mom\" setup, mixed with a cheeky twist involving a euphemism for sexual invitation masked as a weather-related misunderstanding. It’s a blend of surprise, implied naughtiness, and the old-school ribbing about one\\\\\\'s parent to get a laugh. Classic banter material there.\\', \\'content: Addressing the influence of money in politics is a complex challenge that requires reform and an active, engaged electorate.\\', \\'content: he can play it on his prison tablet\\']')]}\n",
      "{'input': \"what is leku's favorite food?\", 'chat_history': [], 'agent_outcome': AgentFinish(return_values={'output': \"I couldn't find information related to Leku's favorite food in the provided responses. If you have any other questions or need information on a different topic, feel free to ask!\"}, log=\"I couldn't find information related to Leku's favorite food in the provided responses. If you have any other questions or need information on a different topic, feel free to ask!\"), 'intermediate_steps': [(AgentActionMessageLog(tool='similarity_search_tool', tool_input=\"what is leku's favorite food?\", log='', message_log=[]), '[\\'content: sig: would the democrats benefit more if trump was elected president or not elected president\\', \\'content: raccoon, your joke plays on a classic \"your mom\" setup, mixed with a cheeky twist involving a euphemism for sexual invitation masked as a weather-related misunderstanding. It’s a blend of surprise, implied naughtiness, and the old-school ribbing about one\\\\\\'s parent to get a laugh. Classic banter material there.\\', \\'content: Addressing the influence of money in politics is a complex challenge that requires reform and an active, engaged electorate.\\', \\'content: he can play it on his prison tablet\\']')]}\n",
      "----\n"
     ]
    }
   ],
   "source": [
    "inputs = {\"input\": \"what is leku's favorite food?\", \"chat_history\": []}\n",
    "for s in app.stream(inputs):\n",
    "    print(list(s.values())[0])\n",
    "    #print(s)\n",
    "    print(\"----\")"
   ],
   "metadata": {
    "collapsed": false,
    "ExecuteTime": {
     "end_time": "2024-04-02T23:32:09.846307Z",
     "start_time": "2024-04-02T23:32:07.806690Z"
    }
   },
   "id": "30f6c5d64c37369b",
   "execution_count": 62
  },
  {
   "cell_type": "code",
   "execution_count": 29,
   "id": "667cd3bf891bc611",
   "metadata": {
    "collapsed": false,
    "ExecuteTime": {
     "end_time": "2024-04-02T23:11:45.413048Z",
     "start_time": "2024-04-02T23:11:45.410877Z"
    }
   },
   "outputs": [],
   "source": []
  }
 ],
 "metadata": {
  "kernelspec": {
   "display_name": "Python 3 (ipykernel)",
   "language": "python",
   "name": "python3"
  },
  "language_info": {
   "codemirror_mode": {
    "name": "ipython",
    "version": 3
   },
   "file_extension": ".py",
   "mimetype": "text/x-python",
   "name": "python",
   "nbconvert_exporter": "python",
   "pygments_lexer": "ipython3",
   "version": "3.11.8"
  }
 },
 "nbformat": 4,
 "nbformat_minor": 5
}
