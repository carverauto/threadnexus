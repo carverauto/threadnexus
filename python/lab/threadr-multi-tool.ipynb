{
 "cells": [
  {
   "cell_type": "markdown",
   "id": "f725852e-71ef-4615-8cac-011a516fbe72",
   "metadata": {},
   "source": [
    "# Agent Executor From Scratch\n",
    "\n",
    "In this notebook we will create an agent with a search tool. However, at the start we will force the agent to call the search tool (and then let it do whatever it wants after). This is useful when you want to force agents to call particular tools, but still want flexibility of what happens after that.\n",
    "\n",
    "This examples builds off the base agent executor. It is highly recommended you learn about that executor before going through this notebook. You can find documentation for that example [here](./base.ipynb).\n",
    "\n",
    "Any modifications of that example are called below with **MODIFICATION**, so if you are looking for the differences you can just search for that."
   ]
  },
  {
   "cell_type": "markdown",
   "id": "6821de30-6eeb-4f70-b0a7-e05d3187b14b",
   "metadata": {},
   "source": [
    "## Setup\n",
    "\n",
    "First we need to install the packages required"
   ]
  },
  {
   "cell_type": "code",
   "execution_count": 105,
   "id": "694cfc4c-22a7-495d-930d-56b21d850ff9",
   "metadata": {
    "ExecuteTime": {
     "end_time": "2024-04-10T22:44:12.417011Z",
     "start_time": "2024-04-10T22:44:09.200022Z"
    }
   },
   "outputs": [
    {
     "name": "stdout",
     "output_type": "stream",
     "text": [
      "Requirement already satisfied: langchain_core in /opt/conda/lib/python3.11/site-packages (0.1.40)\r\n",
      "Requirement already satisfied: langchain in /opt/conda/lib/python3.11/site-packages (0.1.14)\r\n",
      "Requirement already satisfied: langgraph in /opt/conda/lib/python3.11/site-packages (0.0.32)\r\n",
      "Requirement already satisfied: langchain_openai in /opt/conda/lib/python3.11/site-packages (0.1.1)\r\n",
      "Requirement already satisfied: langchain_community in /opt/conda/lib/python3.11/site-packages (0.0.31)\r\n",
      "Requirement already satisfied: langchainhub in /opt/conda/lib/python3.11/site-packages (0.1.15)\r\n",
      "Requirement already satisfied: PyYAML>=5.3 in /opt/conda/lib/python3.11/site-packages (from langchain_core) (6.0.1)\r\n",
      "Requirement already satisfied: jsonpatch<2.0,>=1.33 in /opt/conda/lib/python3.11/site-packages (from langchain_core) (1.33)\r\n",
      "Requirement already satisfied: langsmith<0.2.0,>=0.1.0 in /opt/conda/lib/python3.11/site-packages (from langchain_core) (0.1.40)\r\n",
      "Requirement already satisfied: packaging<24.0,>=23.2 in /opt/conda/lib/python3.11/site-packages (from langchain_core) (23.2)\r\n",
      "Requirement already satisfied: pydantic<3,>=1 in /opt/conda/lib/python3.11/site-packages (from langchain_core) (2.6.4)\r\n",
      "Requirement already satisfied: tenacity<9.0.0,>=8.1.0 in /opt/conda/lib/python3.11/site-packages (from langchain_core) (8.2.3)\r\n",
      "Requirement already satisfied: SQLAlchemy<3,>=1.4 in /opt/conda/lib/python3.11/site-packages (from langchain) (2.0.29)\r\n",
      "Requirement already satisfied: aiohttp<4.0.0,>=3.8.3 in /opt/conda/lib/python3.11/site-packages (from langchain) (3.9.3)\r\n",
      "Requirement already satisfied: dataclasses-json<0.7,>=0.5.7 in /opt/conda/lib/python3.11/site-packages (from langchain) (0.6.4)\r\n",
      "Requirement already satisfied: langchain-text-splitters<0.1,>=0.0.1 in /opt/conda/lib/python3.11/site-packages (from langchain) (0.0.1)\r\n",
      "Requirement already satisfied: numpy<2,>=1 in ./.local/lib/python3.11/site-packages (from langchain) (1.26.4)\r\n",
      "Requirement already satisfied: requests<3,>=2 in /opt/conda/lib/python3.11/site-packages (from langchain) (2.31.0)\r\n",
      "Requirement already satisfied: openai<2.0.0,>=1.10.0 in /opt/conda/lib/python3.11/site-packages (from langchain_openai) (1.16.2)\r\n",
      "Requirement already satisfied: tiktoken<1,>=0.5.2 in /opt/conda/lib/python3.11/site-packages (from langchain_openai) (0.6.0)\r\n",
      "Requirement already satisfied: types-requests<3.0.0.0,>=2.31.0.2 in /opt/conda/lib/python3.11/site-packages (from langchainhub) (2.31.0.20240406)\r\n",
      "Requirement already satisfied: aiosignal>=1.1.2 in /opt/conda/lib/python3.11/site-packages (from aiohttp<4.0.0,>=3.8.3->langchain) (1.3.1)\r\n",
      "Requirement already satisfied: attrs>=17.3.0 in /opt/conda/lib/python3.11/site-packages (from aiohttp<4.0.0,>=3.8.3->langchain) (23.2.0)\r\n",
      "Requirement already satisfied: frozenlist>=1.1.1 in /opt/conda/lib/python3.11/site-packages (from aiohttp<4.0.0,>=3.8.3->langchain) (1.4.1)\r\n",
      "Requirement already satisfied: multidict<7.0,>=4.5 in /opt/conda/lib/python3.11/site-packages (from aiohttp<4.0.0,>=3.8.3->langchain) (6.0.5)\r\n",
      "Requirement already satisfied: yarl<2.0,>=1.0 in /opt/conda/lib/python3.11/site-packages (from aiohttp<4.0.0,>=3.8.3->langchain) (1.9.4)\r\n",
      "Requirement already satisfied: marshmallow<4.0.0,>=3.18.0 in /opt/conda/lib/python3.11/site-packages (from dataclasses-json<0.7,>=0.5.7->langchain) (3.21.1)\r\n",
      "Requirement already satisfied: typing-inspect<1,>=0.4.0 in /opt/conda/lib/python3.11/site-packages (from dataclasses-json<0.7,>=0.5.7->langchain) (0.9.0)\r\n",
      "Requirement already satisfied: jsonpointer>=1.9 in /opt/conda/lib/python3.11/site-packages (from jsonpatch<2.0,>=1.33->langchain_core) (2.4)\r\n",
      "Requirement already satisfied: orjson<4.0.0,>=3.9.14 in /opt/conda/lib/python3.11/site-packages (from langsmith<0.2.0,>=0.1.0->langchain_core) (3.10.0)\r\n",
      "Requirement already satisfied: anyio<5,>=3.5.0 in /opt/conda/lib/python3.11/site-packages (from openai<2.0.0,>=1.10.0->langchain_openai) (4.3.0)\r\n",
      "Requirement already satisfied: distro<2,>=1.7.0 in /opt/conda/lib/python3.11/site-packages (from openai<2.0.0,>=1.10.0->langchain_openai) (1.9.0)\r\n",
      "Requirement already satisfied: httpx<1,>=0.23.0 in /opt/conda/lib/python3.11/site-packages (from openai<2.0.0,>=1.10.0->langchain_openai) (0.27.0)\r\n",
      "Requirement already satisfied: sniffio in /opt/conda/lib/python3.11/site-packages (from openai<2.0.0,>=1.10.0->langchain_openai) (1.3.1)\r\n",
      "Requirement already satisfied: tqdm>4 in ./.local/lib/python3.11/site-packages (from openai<2.0.0,>=1.10.0->langchain_openai) (4.66.2)\r\n",
      "Requirement already satisfied: typing-extensions<5,>=4.7 in /opt/conda/lib/python3.11/site-packages (from openai<2.0.0,>=1.10.0->langchain_openai) (4.10.0)\r\n",
      "Requirement already satisfied: annotated-types>=0.4.0 in /opt/conda/lib/python3.11/site-packages (from pydantic<3,>=1->langchain_core) (0.6.0)\r\n",
      "Requirement already satisfied: pydantic-core==2.16.3 in /opt/conda/lib/python3.11/site-packages (from pydantic<3,>=1->langchain_core) (2.16.3)\r\n",
      "Requirement already satisfied: charset-normalizer<4,>=2 in /opt/conda/lib/python3.11/site-packages (from requests<3,>=2->langchain) (3.3.2)\r\n",
      "Requirement already satisfied: idna<4,>=2.5 in /opt/conda/lib/python3.11/site-packages (from requests<3,>=2->langchain) (3.6)\r\n",
      "Requirement already satisfied: urllib3<3,>=1.21.1 in /opt/conda/lib/python3.11/site-packages (from requests<3,>=2->langchain) (2.2.1)\r\n",
      "Requirement already satisfied: certifi>=2017.4.17 in /opt/conda/lib/python3.11/site-packages (from requests<3,>=2->langchain) (2024.2.2)\r\n",
      "Requirement already satisfied: greenlet!=0.4.17 in /opt/conda/lib/python3.11/site-packages (from SQLAlchemy<3,>=1.4->langchain) (3.0.3)\r\n",
      "Requirement already satisfied: regex>=2022.1.18 in ./.local/lib/python3.11/site-packages (from tiktoken<1,>=0.5.2->langchain_openai) (2023.12.25)\r\n",
      "Requirement already satisfied: httpcore==1.* in /opt/conda/lib/python3.11/site-packages (from httpx<1,>=0.23.0->openai<2.0.0,>=1.10.0->langchain_openai) (1.0.5)\r\n",
      "Requirement already satisfied: h11<0.15,>=0.13 in /opt/conda/lib/python3.11/site-packages (from httpcore==1.*->httpx<1,>=0.23.0->openai<2.0.0,>=1.10.0->langchain_openai) (0.14.0)\r\n",
      "Requirement already satisfied: mypy-extensions>=0.3.0 in /opt/conda/lib/python3.11/site-packages (from typing-inspect<1,>=0.4.0->dataclasses-json<0.7,>=0.5.7->langchain) (1.0.0)\r\n"
     ]
    }
   ],
   "source": [
    "!pip3 install langchain_core langchain langgraph langchain_openai langchain_community langchainhub"
   ]
  },
  {
   "cell_type": "markdown",
   "id": "dc039752-6d34-4ad4-aa31-9a10f4d4d597",
   "metadata": {},
   "source": [
    "Next, we need to set API keys for OpenAI (the LLM we will use) and Tavily (the search tool we will use)"
   ]
  },
  {
   "cell_type": "code",
   "execution_count": 106,
   "id": "30c06a84-291a-4f58-9d31-53d3b56a3def",
   "metadata": {
    "ExecuteTime": {
     "end_time": "2024-04-10T22:44:18.308287Z",
     "start_time": "2024-04-10T22:44:18.303176Z"
    }
   },
   "outputs": [],
   "source": [
    "import os\n",
    "import warnings\n",
    "import textwrap\n",
    "\n",
    "#os.environ[\"OPENAI_API_KEY\"] = getpass.getpass(\"OpenAI API Key:\")\n",
    "#os.environ[\"TAVILY_API_KEY\"] = getpass.getpass(\"Tavily API Key:\")\n",
    "\n",
    "warnings.filterwarnings(\"ignore\")\n"
   ]
  },
  {
   "cell_type": "markdown",
   "id": "5e7f4767-54fb-4b6e-bd9a-3d433df924fb",
   "metadata": {},
   "source": [
    "Optionally, we can set API key for [LangSmith tracing](https://smith.langchain.com/), which will give us best-in-class observability."
   ]
  },
  {
   "cell_type": "code",
   "execution_count": 107,
   "id": "a8fb285a-7e6e-46fc-a273-43ab1a676189",
   "metadata": {
    "ExecuteTime": {
     "end_time": "2024-04-10T22:44:20.810229Z",
     "start_time": "2024-04-10T22:44:20.805721Z"
    }
   },
   "outputs": [],
   "source": [
    "os.environ[\"LANGCHAIN_TRACING_V2\"] = \"true\"\n",
    "#os.environ[\"LANGCHAIN_API_KEY\"] = getpass.getpass(\"LangSmith API Key:\")"
   ]
  },
  {
   "cell_type": "code",
   "outputs": [
    {
     "name": "stdout",
     "output_type": "stream",
     "text": [
      "Requirement already satisfied: langchain_community in /opt/conda/lib/python3.11/site-packages (0.0.31)\r\n",
      "Requirement already satisfied: PyYAML>=5.3 in /opt/conda/lib/python3.11/site-packages (from langchain_community) (6.0.1)\r\n",
      "Requirement already satisfied: SQLAlchemy<3,>=1.4 in /opt/conda/lib/python3.11/site-packages (from langchain_community) (2.0.29)\r\n",
      "Requirement already satisfied: aiohttp<4.0.0,>=3.8.3 in /opt/conda/lib/python3.11/site-packages (from langchain_community) (3.9.3)\r\n",
      "Requirement already satisfied: dataclasses-json<0.7,>=0.5.7 in /opt/conda/lib/python3.11/site-packages (from langchain_community) (0.6.4)\r\n",
      "Requirement already satisfied: langchain-core<0.2.0,>=0.1.37 in /opt/conda/lib/python3.11/site-packages (from langchain_community) (0.1.40)\r\n",
      "Requirement already satisfied: langsmith<0.2.0,>=0.1.0 in /opt/conda/lib/python3.11/site-packages (from langchain_community) (0.1.40)\r\n",
      "Requirement already satisfied: numpy<2,>=1 in ./.local/lib/python3.11/site-packages (from langchain_community) (1.26.4)\r\n",
      "Requirement already satisfied: requests<3,>=2 in /opt/conda/lib/python3.11/site-packages (from langchain_community) (2.31.0)\r\n",
      "Requirement already satisfied: tenacity<9.0.0,>=8.1.0 in /opt/conda/lib/python3.11/site-packages (from langchain_community) (8.2.3)\r\n",
      "Requirement already satisfied: aiosignal>=1.1.2 in /opt/conda/lib/python3.11/site-packages (from aiohttp<4.0.0,>=3.8.3->langchain_community) (1.3.1)\r\n",
      "Requirement already satisfied: attrs>=17.3.0 in /opt/conda/lib/python3.11/site-packages (from aiohttp<4.0.0,>=3.8.3->langchain_community) (23.2.0)\r\n",
      "Requirement already satisfied: frozenlist>=1.1.1 in /opt/conda/lib/python3.11/site-packages (from aiohttp<4.0.0,>=3.8.3->langchain_community) (1.4.1)\r\n",
      "Requirement already satisfied: multidict<7.0,>=4.5 in /opt/conda/lib/python3.11/site-packages (from aiohttp<4.0.0,>=3.8.3->langchain_community) (6.0.5)\r\n",
      "Requirement already satisfied: yarl<2.0,>=1.0 in /opt/conda/lib/python3.11/site-packages (from aiohttp<4.0.0,>=3.8.3->langchain_community) (1.9.4)\r\n",
      "Requirement already satisfied: marshmallow<4.0.0,>=3.18.0 in /opt/conda/lib/python3.11/site-packages (from dataclasses-json<0.7,>=0.5.7->langchain_community) (3.21.1)\r\n",
      "Requirement already satisfied: typing-inspect<1,>=0.4.0 in /opt/conda/lib/python3.11/site-packages (from dataclasses-json<0.7,>=0.5.7->langchain_community) (0.9.0)\r\n",
      "Requirement already satisfied: jsonpatch<2.0,>=1.33 in /opt/conda/lib/python3.11/site-packages (from langchain-core<0.2.0,>=0.1.37->langchain_community) (1.33)\r\n",
      "Requirement already satisfied: packaging<24.0,>=23.2 in /opt/conda/lib/python3.11/site-packages (from langchain-core<0.2.0,>=0.1.37->langchain_community) (23.2)\r\n",
      "Requirement already satisfied: pydantic<3,>=1 in /opt/conda/lib/python3.11/site-packages (from langchain-core<0.2.0,>=0.1.37->langchain_community) (2.6.4)\r\n",
      "Requirement already satisfied: orjson<4.0.0,>=3.9.14 in /opt/conda/lib/python3.11/site-packages (from langsmith<0.2.0,>=0.1.0->langchain_community) (3.10.0)\r\n",
      "Requirement already satisfied: charset-normalizer<4,>=2 in /opt/conda/lib/python3.11/site-packages (from requests<3,>=2->langchain_community) (3.3.2)\r\n",
      "Requirement already satisfied: idna<4,>=2.5 in /opt/conda/lib/python3.11/site-packages (from requests<3,>=2->langchain_community) (3.6)\r\n",
      "Requirement already satisfied: urllib3<3,>=1.21.1 in /opt/conda/lib/python3.11/site-packages (from requests<3,>=2->langchain_community) (2.2.1)\r\n",
      "Requirement already satisfied: certifi>=2017.4.17 in /opt/conda/lib/python3.11/site-packages (from requests<3,>=2->langchain_community) (2024.2.2)\r\n",
      "Requirement already satisfied: typing-extensions>=4.6.0 in /opt/conda/lib/python3.11/site-packages (from SQLAlchemy<3,>=1.4->langchain_community) (4.10.0)\r\n",
      "Requirement already satisfied: greenlet!=0.4.17 in /opt/conda/lib/python3.11/site-packages (from SQLAlchemy<3,>=1.4->langchain_community) (3.0.3)\r\n",
      "Requirement already satisfied: jsonpointer>=1.9 in /opt/conda/lib/python3.11/site-packages (from jsonpatch<2.0,>=1.33->langchain-core<0.2.0,>=0.1.37->langchain_community) (2.4)\r\n",
      "Requirement already satisfied: annotated-types>=0.4.0 in /opt/conda/lib/python3.11/site-packages (from pydantic<3,>=1->langchain-core<0.2.0,>=0.1.37->langchain_community) (0.6.0)\r\n",
      "Requirement already satisfied: pydantic-core==2.16.3 in /opt/conda/lib/python3.11/site-packages (from pydantic<3,>=1->langchain-core<0.2.0,>=0.1.37->langchain_community) (2.16.3)\r\n",
      "Requirement already satisfied: mypy-extensions>=0.3.0 in /opt/conda/lib/python3.11/site-packages (from typing-inspect<1,>=0.4.0->dataclasses-json<0.7,>=0.5.7->langchain_community) (1.0.0)\r\n"
     ]
    }
   ],
   "source": [
    "!pip3 install langchain_community"
   ],
   "metadata": {
    "collapsed": false,
    "ExecuteTime": {
     "end_time": "2024-04-10T22:44:25.446617Z",
     "start_time": "2024-04-10T22:44:22.417021Z"
    }
   },
   "id": "f65eabbb200fd774",
   "execution_count": 108
  },
  {
   "cell_type": "code",
   "execution_count": 109,
   "id": "cb3a2cabb41cf70b",
   "metadata": {
    "collapsed": false,
    "ExecuteTime": {
     "end_time": "2024-04-10T22:44:28.707419Z",
     "start_time": "2024-04-10T22:44:27.259209Z"
    }
   },
   "outputs": [],
   "source": [
    "from langchain_community.graphs import Neo4jGraph\n",
    "from langchain_community.vectorstores import Neo4jVector\n",
    "\n",
    "NEO4J_URI = \"bolt://neo4j.neo4j.svc.cluster.local:7687\"\n",
    "NEO4J_USERNAME = 'neo4j'\n",
    "NEO4J_PASSWORD = os.getenv(\"NEO4J_PASSWORD\")\n",
    "NEO4J_DATABASE = 'neo4j'\n",
    "OPENAI_API_KEY = os.getenv(\"OPENAI_API_KEY\")\n",
    "\n",
    "VECTOR_INDEX_NAME = 'message-embeddings'\n",
    "VECTOR_NODE_LABEL = 'Message'\n",
    "VECTOR_SOURCE_PROPERTY = 'text'\n",
    "VECTOR_EMBEDDING_PROPERTY = 'textEmbedding'\n",
    "\n",
    "# Create the graph\n",
    "graph = Neo4jGraph(\n",
    "    url=NEO4J_URI, username=NEO4J_USERNAME, password=NEO4J_PASSWORD, database=NEO4J_DATABASE\n",
    ")\n"
   ]
  },
  {
   "cell_type": "code",
   "execution_count": 110,
   "id": "8ee9fa11f82f95a6",
   "metadata": {
    "collapsed": false,
    "ExecuteTime": {
     "end_time": "2024-04-10T22:44:29.665696Z",
     "start_time": "2024-04-10T22:44:29.547887Z"
    }
   },
   "outputs": [
    {
     "name": "stdout",
     "output_type": "stream",
     "text": [
      "Node properties are the following: User {name:\n",
      "STRING},Message {content: STRING, platform: STRING,\n",
      "timestamp: STRING, embedding: LIST},Channel {name: STRING}\n",
      "Relationship properties are the following: INTERACTED_WITH\n",
      "{weight: INTEGER},CONNECTION {type: STRING, weight: INTEGER}\n",
      "The relationships are the following: (:User)-[:SENT]-\n",
      ">(:Message),(:User)-[:CONNECTION]->(:User),(:User)-\n",
      "[:INTERACTED_WITH]->(:User),(:Message)-[:POSTED_IN]-\n",
      ">(:Channel),(:Message)-[:MENTIONED]->(:User)\n"
     ]
    }
   ],
   "source": [
    "graph.refresh_schema()\n",
    "print(textwrap.fill(graph.schema, 60))"
   ]
  },
  {
   "cell_type": "markdown",
   "id": "8397abfd087bcbb2",
   "metadata": {
    "collapsed": false
   },
   "source": [
    "# Build our custom retrieval query"
   ]
  },
  {
   "cell_type": "code",
   "execution_count": 111,
   "id": "144ab8dcb00fbcd8",
   "metadata": {
    "collapsed": false,
    "ExecuteTime": {
     "end_time": "2024-04-10T22:44:31.863900Z",
     "start_time": "2024-04-10T22:44:31.858448Z"
    }
   },
   "outputs": [],
   "source": [
    "retrieval_query2 = \"\"\"\n",
    "OPTIONAL MATCH (m:Message)-[:SENT]->(u:User),\n",
    "               (m)-[:POSTED_IN]->(c:Channel),\n",
    "               (m)-[:MENTIONED]->(mentioned:User)\n",
    "WITH m, score, collect(u) AS senders, collect(c) AS channels, collect(mentioned) AS mentionedUsers\n",
    "RETURN m.content AS text,\n",
    "       score,\n",
    "       m {.*, embedding: Null, content: Null, senders: senders, channels: channels, mentionedUsers: mentionedUsers} AS metadata\n",
    "\"\"\"\n",
    "\n",
    "retrieval_query = \"\"\"\n",
    "OPTIONAL MATCH (node)<-[:SENT]-(u:User)\n",
    "WITH node, score, collect(u) AS users\n",
    "RETURN node.content AS text,\n",
    "       score, \n",
    "       node {.*, embedding: Null, content: Null, sentBy: users} AS metadata\n",
    "\"\"\""
   ]
  },
  {
   "cell_type": "markdown",
   "id": "c191374ee9f03e04",
   "metadata": {
    "collapsed": false
   },
   "source": [
    "# Setup the Vector Index "
   ]
  },
  {
   "cell_type": "code",
   "execution_count": 112,
   "id": "33fafb6d352dc911",
   "metadata": {
    "collapsed": false,
    "ExecuteTime": {
     "end_time": "2024-04-10T22:45:11.546125Z",
     "start_time": "2024-04-10T22:44:33.822772Z"
    }
   },
   "outputs": [],
   "source": [
    "from langchain_openai import OpenAIEmbeddings\n",
    "\n",
    "vector_index = Neo4jVector.from_existing_graph(\n",
    "    OpenAIEmbeddings(\n",
    "        model=\"text-embedding-3-small\",\n",
    "        dimensions=1536,\n",
    "    ),\n",
    "    url=NEO4J_URI,\n",
    "    username=NEO4J_USERNAME,\n",
    "    password=NEO4J_PASSWORD,\n",
    "    index_name=\"message-embeddings\",\n",
    "    node_label=\"Message\",\n",
    "    text_node_properties=['content', 'platform', 'timestamp'],\n",
    "    embedding_node_property='embedding',\n",
    "    retrieval_query=retrieval_query,\n",
    ")"
   ]
  },
  {
   "cell_type": "code",
   "execution_count": 113,
   "id": "e5f179a381136aeb",
   "metadata": {
    "collapsed": false,
    "ExecuteTime": {
     "end_time": "2024-04-10T22:45:16.080794Z",
     "start_time": "2024-04-10T22:45:16.072530Z"
    }
   },
   "outputs": [],
   "source": [
    "import re\n",
    "\n",
    "def similarity_search(query: str, max_results: int = 1000):\n",
    "    results = vector_index.search(query, max_results=max_results, search_type=\"similarity\")\n",
    "    print(f\"Found {len(results)} results\")\n",
    "    # Print the raw results for debugging\n",
    "    #print(results)\n",
    "    # Clean the page_content from each Document in the results\n",
    "    content_list = [re.sub(r'^\\ncontent: |\\x02|\\x03\\d{2}(,\\d{2})?|\\u2068|\\u2069', '', result.page_content.split('\\nplatform:')[0].strip()) for result in results]\n",
    "    # Print the cleaned content list for verification\n",
    "    #print(content_list)\n",
    "    return content_list\n",
    "\n",
    "    "
   ]
  },
  {
   "cell_type": "code",
   "execution_count": 114,
   "id": "e458b32ea994f78d",
   "metadata": {
    "collapsed": false,
    "ExecuteTime": {
     "end_time": "2024-04-10T22:45:17.927371Z",
     "start_time": "2024-04-10T22:45:17.917123Z"
    }
   },
   "outputs": [],
   "source": [
    "import re\n",
    "\n",
    "def similarity_search_v2(v2_query: str, max_results: int = 1000):\n",
    "    my_retriever = vector_index.as_retriever()\n",
    "    results = my_retriever.get_relevant_documents(v2_query, max_results=max_results)\n",
    "    \n",
    "    formatted_messages = []\n",
    "    \n",
    "    for result in results:\n",
    "        # Access the message content directly via the page_content attribute\n",
    "        message_content = result.page_content\n",
    "        \n",
    "        # Assuming metadata is directly accessible and contains the 'sentBy' information\n",
    "        # Adjust the access pattern if 'metadata' is structured differently\n",
    "        username = \"Unknown\"  # Default username\n",
    "        if hasattr(result, 'metadata') and 'sentBy' in result.metadata:\n",
    "            sentBy = result.metadata['sentBy']\n",
    "            if sentBy and isinstance(sentBy, list) and len(sentBy) > 0:\n",
    "                username = sentBy[0].get('name', \"Unknown\")\n",
    "        \n",
    "        # Clean the message content\n",
    "        cleaned_message_content = re.sub(r'\\x02|\\x03\\d{2}(,\\d{2})?|\\u2068|\\u2069', '', message_content)\n",
    "        \n",
    "        # Format the message in a chat-like format\n",
    "        chat_format_message = f\"<{username}> {cleaned_message_content}\"\n",
    "        formatted_messages.append(chat_format_message)\n",
    "    \n",
    "    return formatted_messages\n"
   ]
  },
  {
   "cell_type": "code",
   "execution_count": 115,
   "id": "bff3fdcaf1d55319",
   "metadata": {
    "collapsed": false,
    "ExecuteTime": {
     "end_time": "2024-04-10T22:45:23.719622Z",
     "start_time": "2024-04-10T22:45:23.352629Z"
    }
   },
   "outputs": [
    {
     "data": {
      "text/plain": "[Document(page_content=\"sig: what's the last thing leku asked u\", metadata={'timestamp': '2024-04-10T02:27:52.161610+00:00', 'platform': 'IRC', 'sentBy': [{'name': 'ionizer'}]}),\n Document(page_content='leku', metadata={'timestamp': '2024-04-10T21:41:12.843737+00:00', 'platform': 'IRC', 'sentBy': [{'name': 'Toll_Free'}]}),\n Document(page_content='leku: 10:50:53 PM 04/09/24 <viral> tell leku to look up', metadata={'timestamp': '2024-04-10T04:20:07.936072+00:00', 'platform': 'IRC', 'sentBy': [{'name': 'ballsbot'}]}),\n Document(page_content=\"haven't gotten anything from leku recently. what's up with them?\", metadata={'timestamp': '2024-04-10T02:27:53.418744+00:00', 'platform': 'IRC', 'sentBy': [{'name': 'sig'}]})]"
     },
     "execution_count": 115,
     "metadata": {},
     "output_type": "execute_result"
    }
   ],
   "source": [
    "query = \"what is leku's favorite food?\"\n",
    "retriever = vector_index.as_retriever()\n",
    "retriever.get_relevant_documents(query)"
   ]
  },
  {
   "cell_type": "code",
   "execution_count": 116,
   "id": "1de1b4bf0fd3dab9",
   "metadata": {
    "collapsed": false,
    "ExecuteTime": {
     "end_time": "2024-04-10T22:45:26.352492Z",
     "start_time": "2024-04-10T22:45:26.149148Z"
    }
   },
   "outputs": [
    {
     "name": "stdout",
     "output_type": "stream",
     "text": [
      "[\"<ionizer> sig: what's the last thing leku asked u\", '<Toll_Free> leku', '<ballsbot> leku: 10:50:53 PM 04/09/24 <viral> tell leku to look up', \"<sig> haven't gotten anything from leku recently. what's up with them?\"]\n"
     ]
    }
   ],
   "source": [
    "# query = \"nude bots?\"\n",
    "query = \"what is leku's favorite food?\"\n",
    "response = similarity_search_v2(query, max_results=10)\n",
    "print(response)"
   ]
  },
  {
   "cell_type": "markdown",
   "id": "7770ddbd8a180fd2",
   "metadata": {
    "collapsed": false
   },
   "source": [
    "# Define the Cypher Generation Prompt\n",
    "# Here we define the prompt that will be used to generate Cypher queries\n",
    "# We use example queries to show how to use the schema to the LLM"
   ]
  },
  {
   "cell_type": "code",
   "execution_count": 117,
   "id": "ea2b4ec2eff00e80",
   "metadata": {
    "collapsed": false,
    "ExecuteTime": {
     "end_time": "2024-04-10T22:45:32.251422Z",
     "start_time": "2024-04-10T22:45:32.243470Z"
    }
   },
   "outputs": [],
   "source": [
    "CYPHER_GENERATION_TEMPLATE = \"\"\"Task:Generate Cypher statement to \n",
    "query a graph database.\n",
    "Instructions:\n",
    "Use only the provided relationship types and properties in the \n",
    "schema. Do not use any other relationship types or properties that \n",
    "are not provided.\n",
    "Schema:\n",
    "{schema}\n",
    "Note: Do not include any explanations or apologies in your responses.\n",
    "Do not respond to any questions that might ask anything else than \n",
    "for you to construct a Cypher statement.\n",
    "Do not include any text except the generated Cypher statement.\n",
    "Examples: Here are a few examples of generated Cypher \n",
    "statements for particular questions:\n",
    "\n",
    "### Reading messages in chronological order\n",
    "```\n",
    "MATCH (m:Message)-[:POSTED_IN]->(chan:Channel {{name: '#!chases'}})\n",
    "RETURN m.content AS message, datetime(m.timestamp) AS time\n",
    "ORDER BY time DESC\n",
    "```\n",
    "\n",
    "### Indirect Connection Through Shared Channels\n",
    "```\n",
    "MATCH (a:User {{name: 'Alice'}})-[:SENT|POSTED_IN]->(m:Message)-[:POSTED_IN]->(chan:Channel)<-[:POSTED_IN]-(m2:Message)<-[:SENT|POSTED_IN]-(b:User {{name: 'Bob'}})\n",
    "RETURN DISTINCT chan.name AS SharedChannel\n",
    "```\n",
    "\n",
    "### Indirect Connection Through Mutual Connections\n",
    "```\n",
    "MATCH (a:User {{name: 'Alice'}})-[:INTERACTED_WITH]->(mutual:User)<-[:INTERACTED_WITH]-(b:User {{name: 'Bob'}})\n",
    "RETURN DISTINCT mutual.name AS MutualFriend\n",
    "```\n",
    "\n",
    "### Is Alice friends with Bob?\n",
    "```\n",
    "MATCH (a:User {{name: 'Alice'}})-[:INTERACTED_WITH]-(b:User {{name: 'Bob'}})\n",
    "RETURN a, b\n",
    "```\n",
    "\n",
    "### Showing a complete graph\n",
    "\n",
    "```\n",
    "MATCH (chan:Channel)-[:POSTED_IN]-(msg:Message)-[:SENT]-(user:User)\n",
    "OPTIONAL MATCH (msg)-[:MENTIONED]->(mentioned:User)\n",
    "RETURN chan, user, msg, mentioned\n",
    "```\n",
    "\n",
    "### Pagerduty events\n",
    "MATCH (m:Message)-[:POSTED_IN]->(c:Channel)\n",
    "WHERE m.platform = \"IRC\"\n",
    "AND m.content CONTAINS \"PagerDuty\"\n",
    "AND m.timestamp >= \"2024-03-07T00:00:00Z\"\n",
    "AND m.timestamp <= \"2024-04-07T23:59:59Z\"\n",
    "RETURN m.content AS EventContent\n",
    "\n",
    "\n",
    "The question is:\n",
    "{question}\"\"\""
   ]
  },
  {
   "cell_type": "code",
   "execution_count": 118,
   "id": "148b36c0b956c30c",
   "metadata": {
    "collapsed": false,
    "ExecuteTime": {
     "end_time": "2024-04-10T22:45:37.527574Z",
     "start_time": "2024-04-10T22:45:35.058630Z"
    }
   },
   "outputs": [],
   "source": [
    "from langchain.prompts.prompt import PromptTemplate\n",
    "from langchain import hub\n",
    "\n",
    "CYPHER_GENERATION_PROMPT = PromptTemplate(\n",
    "    input_variables=[\"schema\", \"question\"], \n",
    "    template=CYPHER_GENERATION_TEMPLATE,\n",
    ")\n",
    "\n",
    "prompt = hub.pull(\"hwchase17/openai-functions-agent\")\n",
    "#prompt = ChatPromptTemplate.from_template(\"{chat_history}\")\n",
    "\n",
    "## Upload our prompt to LangSmith\n",
    "#hub.push(\"mfreeman451/threadr-cypher-prompt\", CHAT_GENERATION_PROMPT)\n"
   ]
  },
  {
   "cell_type": "code",
   "execution_count": 119,
   "id": "dc8289bb924fc5a9",
   "metadata": {
    "collapsed": false,
    "ExecuteTime": {
     "end_time": "2024-04-10T22:45:38.284099Z",
     "start_time": "2024-04-10T22:45:38.241764Z"
    }
   },
   "outputs": [],
   "source": [
    "from langchain.chains import GraphCypherQAChain\n",
    "from langchain_openai import ChatOpenAI\n",
    "\n",
    "cypherChain = GraphCypherQAChain.from_llm(\n",
    "    ChatOpenAI(model=\"gpt-4-turbo-preview\",temperature=0,openai_api_key=OPENAI_API_KEY),\n",
    "    graph=graph,\n",
    "    return_intermediate_steps=True,\n",
    "    verbose=True,\n",
    "    cypher_prompt=CYPHER_GENERATION_PROMPT,\n",
    ")"
   ]
  },
  {
   "cell_type": "markdown",
   "id": "38eca15077e9653f",
   "metadata": {
    "collapsed": false
   },
   "source": [
    "# Create the Tools"
   ]
  },
  {
   "cell_type": "code",
   "execution_count": 120,
   "id": "b2b336d60fa1ab37",
   "metadata": {
    "collapsed": false,
    "ExecuteTime": {
     "end_time": "2024-04-10T22:45:40.286936Z",
     "start_time": "2024-04-10T22:45:40.281084Z"
    }
   },
   "outputs": [],
   "source": [
    "from typing import Dict, Optional, Type, Union\n",
    "from langchain_core.callbacks import (\n",
    "    AsyncCallbackManagerForToolRun,\n",
    "    CallbackManagerForToolRun,\n",
    ")\n",
    "from langchain_core.pydantic_v1 import BaseModel, Field\n",
    "from langchain_core.tools import BaseTool"
   ]
  },
  {
   "cell_type": "code",
   "execution_count": 122,
   "id": "6773221e6751af70",
   "metadata": {
    "collapsed": false,
    "ExecuteTime": {
     "end_time": "2024-04-10T22:45:48.837417Z",
     "start_time": "2024-04-10T22:45:48.831067Z"
    }
   },
   "outputs": [],
   "source": [
    "class SimilaritySearchInput(BaseModel):\n",
    "    \"\"\"Input for the Similarity Search tool.\"\"\"\n",
    "    # Define the inputs for your tool. Our query comes from chat users.\n",
    "    query: str = Field(description=\"Did Alice mention anything about the meeting?\")\n",
    "    max_results: int = Field(description=\"The maximum number of results to return.\", default=1000)\n",
    "    "
   ]
  },
  {
   "cell_type": "code",
   "execution_count": 123,
   "id": "5c2d2f65222d65f1",
   "metadata": {
    "collapsed": false,
    "ExecuteTime": {
     "end_time": "2024-04-10T22:45:50.963984Z",
     "start_time": "2024-04-10T22:45:50.948036Z"
    }
   },
   "outputs": [],
   "source": [
    "class SimilaritySearchTool(BaseTool):\n",
    "    \"\"\"A tool that serves to retrieve data from a labeled property graph.\"\"\"\n",
    "    \n",
    "    name: str = \"similarity_search_tool\"\n",
    "    description: str = \"A tool that serves to retrieve data from a labeled property graph.\"\n",
    "    max_results: int = 1000\n",
    "    args_schema: Type[BaseModel] = SimilaritySearchInput\n",
    "    \n",
    "    def _run(\n",
    "        self,\n",
    "        query: str,\n",
    "        max_results: int = 1000,\n",
    "        run_manager: Optional[CallbackManagerForToolRun] = None,\n",
    "    ) -> Union[Dict, str]:\n",
    "        \"\"\"Synchronously run the tool.\"\"\"\n",
    "        try:\n",
    "            return similarity_search_v2(query, max_results=max_results)\n",
    "        except Exception as e:\n",
    "            return repr(e)\n",
    "\n",
    "    async def _arun(\n",
    "        self,\n",
    "        query: str,\n",
    "        max_results: int = 1000,\n",
    "        run_manager: Optional[AsyncCallbackManagerForToolRun] = None,\n",
    "    ) -> Union[Dict, str]:\n",
    "        \"\"\"Asynchronously run the tool.\"\"\"\n",
    "        try:\n",
    "            return await similarity_search_v2(query, max_results=max_results)\n",
    "        except Exception as e:\n",
    "            return repr(e)\n",
    "    "
   ]
  },
  {
   "cell_type": "code",
   "execution_count": 124,
   "id": "61faa7e401f1d014",
   "metadata": {
    "collapsed": false,
    "ExecuteTime": {
     "end_time": "2024-04-10T22:45:53.088177Z",
     "start_time": "2024-04-10T22:45:53.072720Z"
    }
   },
   "outputs": [],
   "source": [
    "class CypherQAInput(BaseModel):\n",
    "    \"\"\"Input for the CypherQA tool.\"\"\"\n",
    "    # Define the inputs for your tool. Our query comes from chat users.\n",
    "    query: str = Field(description=\"Who are alice's friends?\")\n",
    "    \n",
    "\n",
    "class CypherQATool(BaseTool):\n",
    "    \"\"\"A Cypher Question-Answering Tool.\"\"\"\n",
    "\n",
    "    name: str = \"cypherqa_tool\"\n",
    "    description: str = \"A tool that serves to retrieve data from a labeled property graph.\"\n",
    "    # If your tool requires initialization parameters, define them here.\n",
    "    # For a placeholder, we might not need any, but you can add as necessary.\n",
    "    args_schema: Type[BaseModel] = CypherQAInput\n",
    "\n",
    "    def _run(\n",
    "        self,\n",
    "        query: str,\n",
    "        run_manager: Optional[CallbackManagerForToolRun] = None,\n",
    "    ) -> Union[Dict, str]:\n",
    "        \"\"\"Synchronously run the tool.\"\"\"\n",
    "        try:\n",
    "            return cypherChain.run(query)\n",
    "        except Exception as e:\n",
    "            # just return an empty dict if there is an error\n",
    "            #return repr(e)\n",
    "            return \"Not Found\"\n",
    "\n",
    "    async def _arun(\n",
    "        self,\n",
    "        query: str,\n",
    "        run_manager: Optional[AsyncCallbackManagerForToolRun] = None,\n",
    "    ) -> Union[Dict, str]:\n",
    "        \"\"\"Asynchronously run the tool.\"\"\"\n",
    "        try:\n",
    "            return await cypherChain.run(query)\n",
    "        except Exception as e:\n",
    "            #return repr(e)\n",
    "            #return {}\n",
    "            return \"Not Found\"\n",
    "\n"
   ]
  },
  {
   "cell_type": "markdown",
   "id": "5dace4a9-7c9e-4da2-bf7b-e58d0d05581e",
   "metadata": {},
   "source": [
    "## Create the LangChain agent\n",
    "\n",
    "First, we will create the LangChain agent. For more information on LangChain agents, see [this documentation](https://python.langchain.com/docs/modules/agents/)"
   ]
  },
  {
   "cell_type": "code",
   "execution_count": 125,
   "id": "4499eb16-bca8-4a60-9a3a-2f34ae3f7078",
   "metadata": {
    "ExecuteTime": {
     "end_time": "2024-04-10T22:45:56.007275Z",
     "start_time": "2024-04-10T22:45:55.972606Z"
    }
   },
   "outputs": [],
   "source": [
    "from langchain.agents import create_openai_functions_agent\n",
    "from langchain_openai.chat_models import ChatOpenAI\n",
    "from langchain_community.tools.tavily_search import TavilySearchResults\n",
    "\n",
    "#tools = [TavilySearchResults(max_results=1)]\n",
    "# tools = [CypherQATool(), SimilaritySearchTool(), TavilySearchResults(max_results=1)]\n",
    "tools = [CypherQATool(return_direct=True), SimilaritySearchTool()]\n",
    "\n",
    "# Choose the LLM that will drive the agent\n",
    "llm = ChatOpenAI(model=\"gpt-4-turbo-preview\", streaming=True)\n",
    "# llm = ChatOpenAI(model=\"gpt-3.5-turbo-0125\", streaming=False)\n",
    "\n",
    "# Construct the OpenAI Functions agent\n",
    "agent_runnable = create_openai_functions_agent(llm, tools, prompt)"
   ]
  },
  {
   "cell_type": "markdown",
   "id": "972e58b3-fe3c-449d-b3c4-8fa2217afd07",
   "metadata": {},
   "source": [
    "## Define the graph state\n",
    "\n",
    "We now define the graph state. The state for the traditional LangChain agent has a few attributes:\n",
    "\n",
    "1. `input`: This is the input string representing the main ask from the user, passed in as input.\n",
    "2. `chat_history`: This is any previous conversation messages, also passed in as input.\n",
    "3. `intermediate_steps`: This is list of actions and corresponding observations that the agent takes over time. This is updated each iteration of the agent.\n",
    "4. `agent_outcome`: This is the response from the agent, either an AgentAction or AgentFinish. The AgentExecutor should finish when this is an AgentFinish, otherwise it should call the requested tools.\n"
   ]
  },
  {
   "cell_type": "code",
   "execution_count": 126,
   "id": "c941fb10-dbe5-4d6a-ab7d-133d01c33cc4",
   "metadata": {
    "ExecuteTime": {
     "end_time": "2024-04-10T22:45:58.807754Z",
     "start_time": "2024-04-10T22:45:58.800504Z"
    }
   },
   "outputs": [],
   "source": [
    "from typing import TypedDict, Annotated, List, Union\n",
    "from langchain_core.agents import AgentAction, AgentFinish\n",
    "from langchain_core.messages import BaseMessage\n",
    "import operator\n",
    "\n",
    "\n",
    "class AgentState(TypedDict):\n",
    "    # The input string\n",
    "    input: str\n",
    "    # The list of previous messages in the conversation\n",
    "    chat_history: list[BaseMessage]\n",
    "    # The outcome of a given call to the agent\n",
    "    # Needs `None` as a valid type, since this is what this will start as\n",
    "    agent_outcome: Union[AgentAction, AgentFinish, None]\n",
    "    # List of actions and corresponding observations\n",
    "    # Here we annotate this with `operator.add` to indicate that operations to\n",
    "    # this state should be ADDED to the existing values (not overwrite it)\n",
    "    intermediate_steps: Annotated[list[tuple[AgentAction, str]], operator.add]"
   ]
  },
  {
   "cell_type": "markdown",
   "id": "cd27b281-cc9a-49c9-be78-8b98a7d905c4",
   "metadata": {},
   "source": [
    "## Define the nodes\n",
    "\n",
    "We now need to define a few different nodes in our graph.\n",
    "In `langgraph`, a node can be either a function or a [runnable](https://python.langchain.com/docs/expression_language/).\n",
    "There are two main nodes we need for this:\n",
    "\n",
    "1. The agent: responsible for deciding what (if any) actions to take.\n",
    "2. A function to invoke tools: if the agent decides to take an action, this node will then execute that action.\n",
    "\n",
    "We will also need to define some edges.\n",
    "Some of these edges may be conditional.\n",
    "The reason they are conditional is that based on the output of a node, one of several paths may be taken.\n",
    "The path that is taken is not known until that node is run (the LLM decides).\n",
    "\n",
    "1. Conditional Edge: after the agent is called, we should either:\n",
    "   a. If the agent said to take an action, then the function to invoke tools should be called\n",
    "   b. If the agent said that it was finished, then it should finish\n",
    "2. Normal Edge: after the tools are invoked, it should always go back to the agent to decide what to do next\n",
    "\n",
    "Let's define the nodes, as well as a function to decide how what conditional edge to take."
   ]
  },
  {
   "cell_type": "code",
   "execution_count": 127,
   "id": "d61a970d-edf4-4eef-9678-28bab7c72331",
   "metadata": {
    "ExecuteTime": {
     "end_time": "2024-04-10T22:46:00.751122Z",
     "start_time": "2024-04-10T22:46:00.747095Z"
    }
   },
   "outputs": [],
   "source": [
    "from langchain_core.agents import AgentFinish\n",
    "from langgraph.prebuilt.tool_executor import ToolExecutor\n",
    "\n",
    "# This a helper class we have that is useful for running tools\n",
    "# It takes in an agent action and calls that tool and returns the result\n",
    "tool_executor = ToolExecutor(tools)\n",
    "\n",
    "\n",
    "# Define the agent\n",
    "def run_agent(data):\n",
    "    agent_outcome = agent_runnable.invoke(data)\n",
    "    return {\"agent_outcome\": agent_outcome}\n",
    "\n",
    "\n",
    "# Define the function to execute tools\n",
    "def execute_tools(data):\n",
    "    # Get the most recent agent_outcome - this is the key added in the `agent` above\n",
    "    agent_action = data[\"agent_outcome\"]\n",
    "    output = tool_executor.invoke(agent_action)\n",
    "    return {\"intermediate_steps\": [(agent_action, str(output))]}\n",
    "\n",
    "\n",
    "# Define logic that will be used to determine which conditional edge to go down\n",
    "def should_continue(data):\n",
    "    print(f\"should_continue: {data}\")\n",
    "    \n",
    "    # If the agent outcome is an AgentFinish, then we return `exit` string\n",
    "    # This will be used when setting up the graph to define the flow\n",
    "    if isinstance(data[\"agent_outcome\"], AgentFinish):\n",
    "        return \"end\"\n",
    "    # Otherwise, an AgentAction is returned\n",
    "    # Here we return `continue` string\n",
    "    # This will be used when setting up the graph to define the flow\n",
    "    else:\n",
    "        return \"continue\""
   ]
  },
  {
   "cell_type": "markdown",
   "id": "02437e83-5485-4827-87e6-7ad1d02cf9be",
   "metadata": {},
   "source": [
    "**MODIFICATION**\n",
    "\n",
    "Here we create a node that returns an AgentAction that just calls the Custom Tool  with the input"
   ]
  },
  {
   "cell_type": "code",
   "execution_count": 128,
   "id": "2ed8463e-73e5-417d-9fab-be6bcee87835",
   "metadata": {
    "ExecuteTime": {
     "end_time": "2024-04-10T22:46:02.401162Z",
     "start_time": "2024-04-10T22:46:02.393826Z"
    }
   },
   "outputs": [
    {
     "data": {
      "text/plain": "'cypherqa_tool'"
     },
     "execution_count": 128,
     "metadata": {},
     "output_type": "execute_result"
    }
   ],
   "source": [
    "tools[0].name"
   ]
  },
  {
   "cell_type": "code",
   "execution_count": 129,
   "id": "df25d899-2338-4f31-a8bf-0582a2eec325",
   "metadata": {
    "ExecuteTime": {
     "end_time": "2024-04-10T22:46:03.087001Z",
     "start_time": "2024-04-10T22:46:03.080376Z"
    }
   },
   "outputs": [],
   "source": [
    "from langchain_core.agents import AgentActionMessageLog\n",
    "\n",
    "\n",
    "def first_agent(agent_inputs):\n",
    "    action = AgentActionMessageLog(\n",
    "        # We force call this tool\n",
    "        #tool=\"tavily_search_results_json\",\n",
    "        tool=\"cypherqa_tool\",\n",
    "        #tool=\"pagerduty_tool\",\n",
    "        #tool=\"similarity_search_tool\",\n",
    "        # We just pass in the `input` key to this tool\n",
    "        tool_input=agent_inputs[\"input\"],\n",
    "        #tool_input = {\"query\": agent_inputs[\"input\"], \"name\": \"SomeName\"},\n",
    "        log=\"\",\n",
    "        message_log=[],\n",
    "    )\n",
    "    return {\"agent_outcome\": action}"
   ]
  },
  {
   "cell_type": "markdown",
   "id": "c0b211f4-0c5c-4792-b18d-cd70907c71e7",
   "metadata": {},
   "source": [
    "## Define the graph\n",
    "\n",
    "We can now put it all together and define the graph!\n",
    "\n",
    "**MODIFICATION**\n",
    "\n",
    "We now add a new `first_agent` node which we set as the entrypoint."
   ]
  },
  {
   "cell_type": "code",
   "execution_count": 130,
   "id": "c4054dde-4618-49b7-998a-daa0c1d6d6c0",
   "metadata": {
    "ExecuteTime": {
     "end_time": "2024-04-10T22:46:04.782209Z",
     "start_time": "2024-04-10T22:46:04.769070Z"
    }
   },
   "outputs": [],
   "source": [
    "from langgraph.graph import END, StateGraph\n",
    "\n",
    "# Define a new graph\n",
    "workflow = StateGraph(AgentState)\n",
    "\n",
    "# Define the two nodes we will cycle between\n",
    "workflow.add_node(\"agent\", run_agent)\n",
    "workflow.add_node(\"action\", execute_tools)\n",
    "workflow.add_node(\"first_agent\", first_agent)\n",
    "\n",
    "# Set the entrypoint as `agent`\n",
    "# This means that this node is the first one called\n",
    "workflow.set_entry_point(\"first_agent\")\n",
    "\n",
    "# We now add a conditional edge\n",
    "workflow.add_conditional_edges(\n",
    "    # First, we define the start node. We use `agent`.\n",
    "    # This means these are the edges taken after the `agent` node is called.\n",
    "    \"agent\",\n",
    "    # Next, we pass in the function that will determine which node is called next.\n",
    "    should_continue,\n",
    "    # Finally we pass in a mapping.\n",
    "    # The keys are strings, and the values are other nodes.\n",
    "    # END is a special node marking that the graph should finish.\n",
    "    # What will happen is we will call `should_continue`, and then the output of that\n",
    "    # will be matched against the keys in this mapping.\n",
    "    # Based on which one it matches, that node will then be called.\n",
    "    {\n",
    "        # If `tools`, then we call the tool node.\n",
    "        \"continue\": \"action\",\n",
    "        # Otherwise we finish.\n",
    "        \"end\": END,\n",
    "    },\n",
    ")\n",
    "\n",
    "# We now add a normal edge from `tools` to `agent`.\n",
    "# This means that after `tools` is called, `agent` node is called next.\n",
    "workflow.add_edge(\"action\", \"agent\")\n",
    "\n",
    "# After the first agent, we want to take an action\n",
    "workflow.add_edge(\"first_agent\", \"action\")\n",
    "\n",
    "# Finally, we compile it!\n",
    "# This compiles it into a LangChain Runnable,\n",
    "# meaning you can use it as you would any other runnable\n",
    "app = workflow.compile()"
   ]
  },
  {
   "cell_type": "code",
   "outputs": [
    {
     "name": "stdout",
     "output_type": "stream",
     "text": [
      "\n",
      "\n",
      "\u001B[1m> Entering new GraphCypherQAChain chain...\u001B[0m\n",
      "Generated Cypher:\n",
      "\u001B[32;1m\u001B[1;3m\n",
      "MATCH (u:User {name: 'bysin'})-[:SENT]->(m:Message)\n",
      "RETURN m.content AS BysinTalks\n",
      "\u001B[0m\n",
      "Full Context:\n",
      "\u001B[32;1m\u001B[1;3m[{'BysinTalks': \"what's that?\"}, {'BysinTalks': 'sig: draw for me a chipmunk as president'}, {'BysinTalks': 'ok?'}, {'BysinTalks': 'catch and release'}, {'BysinTalks': 'dont change the subject'}, {'BysinTalks': 'i have an alert for \"chipmunk\"'}, {'BysinTalks': 'you people killing chipmunks and mice?'}, {'BysinTalks': 'wtf'}, {'BysinTalks': 'fuck git'}, {'BysinTalks': 'maybe'}]\u001B[0m\n",
      "\n",
      "\u001B[1m> Finished chain.\u001B[0m\n",
      "should_continue: {'input': 'What does bysin talk about?', 'chat_history': [], 'agent_outcome': AgentFinish(return_values={'output': 'Bysin discusses a range of subjects, such as:\\n- A request for a drawing of a chipmunk as president\\n- Catch and release\\n- An alert for \"chipmunk\"\\n- Concerns about people killing chipmunks and mice\\n- A negative comment about git'}, log='Bysin discusses a range of subjects, such as:\\n- A request for a drawing of a chipmunk as president\\n- Catch and release\\n- An alert for \"chipmunk\"\\n- Concerns about people killing chipmunks and mice\\n- A negative comment about git'), 'intermediate_steps': [(AgentActionMessageLog(tool='cypherqa_tool', tool_input='What does bysin talk about?', log='', message_log=[]), 'Bysin talks about a variety of topics including a request for a drawing of a chipmunk as president, catch and release, an alert for \"chipmunk\", concerns about people killing chipmunks and mice, and a negative comment about git.')]}\n",
      "Final Output: Bysin discusses a range of subjects, such as:\n",
      "- A request for a drawing of a chipmunk as president\n",
      "- Catch and release\n",
      "- An alert for \"chipmunk\"\n",
      "- Concerns about people killing chipmunks and mice\n",
      "- A negative comment about git\n"
     ]
    }
   ],
   "source": [
    "inputs = {\"input\": \"What does bysin talk about?\", \"chat_history\": []}\n",
    "result = app.invoke(inputs)\n",
    "\n",
    "agent_finish_instance = result['agent_outcome']\n",
    "\n",
    "# Accessing the 'output' from 'return_values'\n",
    "final_output = agent_finish_instance.return_values['output']\n",
    "\n",
    "print(\"Final Output:\", final_output)\n"
   ],
   "metadata": {
    "collapsed": false,
    "ExecuteTime": {
     "end_time": "2024-04-10T22:46:13.123941Z",
     "start_time": "2024-04-10T22:46:05.464486Z"
    }
   },
   "id": "de00cd28163daf1b",
   "execution_count": 131
  },
  {
   "cell_type": "code",
   "execution_count": 132,
   "id": "214ae46e-c297-465d-86db-2b0312ed3530",
   "metadata": {
    "ExecuteTime": {
     "end_time": "2024-04-10T22:47:03.984134Z",
     "start_time": "2024-04-10T22:46:55.167238Z"
    }
   },
   "outputs": [
    {
     "name": "stdout",
     "output_type": "stream",
     "text": [
      "\n",
      "\n",
      "\u001B[1m> Entering new GraphCypherQAChain chain...\u001B[0m\n",
      "Generated Cypher:\n",
      "\u001B[32;1m\u001B[1;3m\n",
      "MATCH (u:User {name: 'farmr'})-[:SENT]->(m:Message)\n",
      "RETURN m.content AS FarmrMessages\n",
      "\u001B[0m\n",
      "Full Context:\n",
      "\u001B[32;1m\u001B[1;3m[{'FarmrMessages': 'same'}, {'FarmrMessages': 'sig: explain the game \"mouse trap\" and then draw it'}, {'FarmrMessages': 'poor kid'}, {'FarmrMessages': 'heh'}, {'FarmrMessages': 'sig: describe the Massacre of Novgorod'}, {'FarmrMessages': 'sig: why was Ivan so \"terrible\"?'}, {'FarmrMessages': 'sig: compare Soma and Synthehol'}, {'FarmrMessages': 'in both star trek and brave new world they had \"better\" ones'}, {'FarmrMessages': 'is sad it has to damage us so badly'}, {'FarmrMessages': 'cuz you use alcohol to COPE with life!'}]\u001B[0m\n",
      "\n",
      "\u001B[1m> Finished chain.\u001B[0m\n",
      "should_continue: {'input': 'What does farmr talk about?', 'chat_history': [], 'agent_outcome': AgentFinish(return_values={'output': 'Farmr discusses a diverse range of topics, such as:\\n\\n- Explaining the game \"Mouse Trap\"\\n- Describing the Massacre of Novgorod\\n- Discussing reasons behind Ivan the Terrible\\'s notorious reputation\\n- Comparing Soma and Synthehol\\n- Mentioning the use of alcohol as a coping mechanism for life challenges\\n\\nThese topics indicate Farmr\\'s discussions span historical events, cultural references, and lifestyle considerations.'}, log='Farmr discusses a diverse range of topics, such as:\\n\\n- Explaining the game \"Mouse Trap\"\\n- Describing the Massacre of Novgorod\\n- Discussing reasons behind Ivan the Terrible\\'s notorious reputation\\n- Comparing Soma and Synthehol\\n- Mentioning the use of alcohol as a coping mechanism for life challenges\\n\\nThese topics indicate Farmr\\'s discussions span historical events, cultural references, and lifestyle considerations.'), 'intermediate_steps': [(AgentActionMessageLog(tool='cypherqa_tool', tool_input='What does farmr talk about?', log='', message_log=[]), 'Farmr talks about a variety of topics including explaining the game \"Mouse Trap,\" describing the Massacre of Novgorod, discussing why Ivan was so \"terrible,\" comparing Soma and Synthehol, and mentioning the use of alcohol to cope with life.')]}\n",
      "Final Output: Farmr discusses a diverse range of topics, such as:\n",
      "\n",
      "- Explaining the game \"Mouse Trap\"\n",
      "- Describing the Massacre of Novgorod\n",
      "- Discussing reasons behind Ivan the Terrible's notorious reputation\n",
      "- Comparing Soma and Synthehol\n",
      "- Mentioning the use of alcohol as a coping mechanism for life challenges\n",
      "\n",
      "These topics indicate Farmr's discussions span historical events, cultural references, and lifestyle considerations.\n"
     ]
    }
   ],
   "source": [
    "inputs = {\"input\": \"What does farmr talk about?\", \"chat_history\": []}\n",
    "result = app.invoke(inputs)\n",
    "\n",
    "agent_finish_instance = result['agent_outcome']\n",
    "\n",
    "# Accessing the 'output' from 'return_values'\n",
    "final_output = agent_finish_instance.return_values['output']\n",
    "\n",
    "print(\"Final Output:\", final_output)"
   ]
  },
  {
   "cell_type": "code",
   "execution_count": 133,
   "id": "2eb662bc-de7d-4a57-a3e8-2f00dcf4ff8b",
   "metadata": {
    "ExecuteTime": {
     "end_time": "2024-04-10T22:47:36.655784Z",
     "start_time": "2024-04-10T22:47:31.496926Z"
    }
   },
   "outputs": [
    {
     "name": "stdout",
     "output_type": "stream",
     "text": [
      "\n",
      "\n",
      "\u001B[1m> Entering new GraphCypherQAChain chain...\u001B[0m\n",
      "Generated Cypher:\n",
      "\u001B[32;1m\u001B[1;3m\n",
      "MATCH (a:User {name: 'farmr'})-[:INTERACTED_WITH]-(b:User {name: 'bysin'})\n",
      "RETURN a, b\n",
      "\u001B[0m\n",
      "Full Context:\n",
      "\u001B[32;1m\u001B[1;3m[{'a': {'name': 'farmr'}, 'b': {'name': 'bysin'}}]\u001B[0m\n",
      "\n",
      "\u001B[1m> Finished chain.\u001B[0m\n",
      "should_continue: {'input': 'Does farmr know bysin?', 'chat_history': [], 'agent_outcome': AgentFinish(return_values={'output': 'Yes, Farmr knows Bysin.'}, log='Yes, Farmr knows Bysin.'), 'intermediate_steps': [(AgentActionMessageLog(tool='cypherqa_tool', tool_input='Does farmr know bysin?', log='', message_log=[]), 'Yes, farmr knows bysin.')]}\n",
      "Final Output: Yes, Farmr knows Bysin.\n"
     ]
    }
   ],
   "source": [
    "inputs = {\"input\": \"Does farmr know bysin?\", \"chat_history\": []}\n",
    "result = app.invoke(inputs)\n",
    "\n",
    "agent_finish_instance = result['agent_outcome']\n",
    "\n",
    "# Accessing the 'output' from 'return_values'\n",
    "final_output = agent_finish_instance.return_values['output']\n",
    "\n",
    "print(\"Final Output:\", final_output)"
   ]
  },
  {
   "cell_type": "code",
   "execution_count": 134,
   "id": "5d4e07afff30d243",
   "metadata": {
    "collapsed": false,
    "ExecuteTime": {
     "end_time": "2024-04-10T22:47:47.823641Z",
     "start_time": "2024-04-10T22:47:40.149341Z"
    }
   },
   "outputs": [
    {
     "name": "stdout",
     "output_type": "stream",
     "text": [
      "\n",
      "\n",
      "\u001B[1m> Entering new GraphCypherQAChain chain...\u001B[0m\n",
      "Generated Cypher:\n",
      "\u001B[32;1m\u001B[1;3m\n",
      "MATCH (farmr:User {name: 'farmr'})-[:INTERACTED_WITH]->(sig:User {name: 'sig'})\n",
      "RETURN COUNT(*) AS InteractionCount\n",
      "\u001B[0m\n",
      "Full Context:\n",
      "\u001B[32;1m\u001B[1;3m[{'InteractionCount': 1}]\u001B[0m\n",
      "\n",
      "\u001B[1m> Finished chain.\u001B[0m\n",
      "should_continue: {'input': 'How well does farmr know sig?', 'chat_history': [], 'agent_outcome': AgentFinish(return_values={'output': 'Farmr knows Sig moderately, with an interaction count of 1 indicating a level of acquaintance between them.'}, log='Farmr knows Sig moderately, with an interaction count of 1 indicating a level of acquaintance between them.'), 'intermediate_steps': [(AgentActionMessageLog(tool='cypherqa_tool', tool_input='How well does farmr know sig?', log='', message_log=[]), 'Farmr knows Sig moderately, as indicated by an interaction count of 1.')]}\n",
      "Final Output: Farmr knows Sig moderately, with an interaction count of 1 indicating a level of acquaintance between them.\n"
     ]
    }
   ],
   "source": [
    "#inputs = {\"input\": \"How well does farmr know sig? Can you please include a count of your interactions\", \"chat_history\": []}\n",
    "inputs = {\"input\": \"How well does farmr know sig?\", \"chat_history\": []}\n",
    "result = app.invoke(inputs)\n",
    "\n",
    "agent_finish_instance = result['agent_outcome']\n",
    "\n",
    "# Accessing the 'output' from 'return_values'\n",
    "final_output = agent_finish_instance.return_values['output']\n",
    "\n",
    "print(\"Final Output:\", final_output)"
   ]
  },
  {
   "cell_type": "code",
   "outputs": [
    {
     "name": "stdout",
     "output_type": "stream",
     "text": [
      "\n",
      "\n",
      "\u001B[1m> Entering new GraphCypherQAChain chain...\u001B[0m\n",
      "Generated Cypher:\n",
      "\u001B[32;1m\u001B[1;3m\n",
      "MATCH (f:User {name: 'farmr'})-[:SENT]->(m:Message)-[:MENTIONED]->(s:User {name: 'sig'})\n",
      "RETURN m.content AS Conversation\n",
      "\u001B[0m\n",
      "Full Context:\n",
      "\u001B[32;1m\u001B[1;3m[{'Conversation': 'sig: explain the game \"mouse trap\" and then draw it'}, {'Conversation': 'sig: describe the Massacre of Novgorod'}, {'Conversation': 'sig: why was Ivan so \"terrible\"?'}, {'Conversation': 'sig: compare Soma and Synthehol'}, {'Conversation': 'sig: why are there no marijuana emojis?'}, {'Conversation': 'sig: define minimalism'}, {'Conversation': 'sig: what white powder could ancient Mayans have been mining in the movie \"Apocalypto\" (2006)?'}]\u001B[0m\n",
      "\n",
      "\u001B[1m> Finished chain.\u001B[0m\n",
      "should_continue: {'input': 'What do farmr and sig talk about?', 'chat_history': [], 'agent_outcome': AgentFinish(return_values={'output': 'Farmr and sig have a wide range of discussions that span historical, cultural, and speculative topics. They talk about:\\n\\n- Explaining the game \"Mouse Trap\"\\n- Describing the Massacre of Novgorod\\n- Discussing why Ivan was so \"terrible\"\\n- Comparing Soma and Synthehol\\n- Questioning why there are no marijuana emojis\\n- Defining minimalism\\n- Speculating about what white powder ancient Mayans could have been mining in the movie \"Apocalypto\" (2006)'}, log='Farmr and sig have a wide range of discussions that span historical, cultural, and speculative topics. They talk about:\\n\\n- Explaining the game \"Mouse Trap\"\\n- Describing the Massacre of Novgorod\\n- Discussing why Ivan was so \"terrible\"\\n- Comparing Soma and Synthehol\\n- Questioning why there are no marijuana emojis\\n- Defining minimalism\\n- Speculating about what white powder ancient Mayans could have been mining in the movie \"Apocalypto\" (2006)'), 'intermediate_steps': [(AgentActionMessageLog(tool='cypherqa_tool', tool_input='What do farmr and sig talk about?', log='', message_log=[]), 'Farmr and sig talk about a variety of topics including explaining the game \"Mouse Trap,\" describing the Massacre of Novgorod, discussing why Ivan was so \"terrible,\" comparing Soma and Synthehol, questioning why there are no marijuana emojis, defining minimalism, and speculating about what white powder ancient Mayans could have been mining in the movie \"Apocalypto\" (2006).')]}\n",
      "Final Output: Farmr and sig have a wide range of discussions that span historical, cultural, and speculative topics. They talk about:\n",
      "\n",
      "- Explaining the game \"Mouse Trap\"\n",
      "- Describing the Massacre of Novgorod\n",
      "- Discussing why Ivan was so \"terrible\"\n",
      "- Comparing Soma and Synthehol\n",
      "- Questioning why there are no marijuana emojis\n",
      "- Defining minimalism\n",
      "- Speculating about what white powder ancient Mayans could have been mining in the movie \"Apocalypto\" (2006)\n"
     ]
    }
   ],
   "source": [
    "inputs = {\"input\": \"What do farmr and sig talk about?\", \"chat_history\": []}\n",
    "result = app.invoke(inputs)\n",
    "\n",
    "agent_finish_instance = result['agent_outcome']\n",
    "\n",
    "# Accessing the 'output' from 'return_values'\n",
    "final_output = agent_finish_instance.return_values['output']\n",
    "\n",
    "print(\"Final Output:\", final_output)"
   ],
   "metadata": {
    "collapsed": false,
    "ExecuteTime": {
     "end_time": "2024-04-10T22:48:09.028748Z",
     "start_time": "2024-04-10T22:47:50.866629Z"
    }
   },
   "id": "58a0480352d5f605",
   "execution_count": 135
  },
  {
   "cell_type": "code",
   "execution_count": 137,
   "id": "8d71a8c595f309ed",
   "metadata": {
    "collapsed": false,
    "ExecuteTime": {
     "end_time": "2024-04-10T22:49:25.962975Z",
     "start_time": "2024-04-10T22:49:14.193281Z"
    }
   },
   "outputs": [
    {
     "name": "stdout",
     "output_type": "stream",
     "text": [
      "\n",
      "\n",
      "\u001B[1m> Entering new GraphCypherQAChain chain...\u001B[0m\n",
      "Generated Cypher:\n",
      "\u001B[32;1m\u001B[1;3m\n",
      "MATCH (f:User {name: 'farmr'})-[:SENT]->(m:Message)-[:MENTIONED]->(s:User {name: 'sig'})\n",
      "WHERE m.timestamp >= \"2024-04-09T00:00:00Z\" AND m.timestamp < \"2024-04-10T00:00:00Z\"\n",
      "RETURN m.content AS conversation\n",
      "\u001B[0m\n",
      "Full Context:\n",
      "\u001B[32;1m\u001B[1;3m[]\u001B[0m\n",
      "\n",
      "\u001B[1m> Finished chain.\u001B[0m\n",
      "should_continue: {'input': \"What did farmr and sig talk about yesterday? Today's date is Wed Apr 10 2024\", 'chat_history': [], 'agent_outcome': AgentActionMessageLog(tool='similarity_search_tool', tool_input={'query': 'farmr and sig talk'}, log=\"\\nInvoking: `similarity_search_tool` with `{'query': 'farmr and sig talk'}`\\n\\n\\n\", message_log=[AIMessage(content='', additional_kwargs={'function_call': {'arguments': '{\"query\":\"farmr and sig talk\"}', 'name': 'similarity_search_tool'}}, response_metadata={'finish_reason': 'function_call'}, id='run-8ed594ff-827f-46d4-b85b-09040de39022-0')]), 'intermediate_steps': [(AgentActionMessageLog(tool='cypherqa_tool', tool_input=\"What did farmr and sig talk about yesterday? Today's date is Wed Apr 10 2024\", log='', message_log=[]), \"I don't know the answer.\")]}\n",
      "should_continue: {'input': \"What did farmr and sig talk about yesterday? Today's date is Wed Apr 10 2024\", 'chat_history': [], 'agent_outcome': AgentFinish(return_values={'output': 'Farmr and Sig discussed various topics, including:\\n\\n- A mention of Sig lying about something,\\n- Observations that Sig might have received an upgrade,\\n- A request for Sig to share details about something or someone named \"rag,\"\\n- A question about what\\'s for dinner directed at Sig.\\n\\nThese conversations indicate a mix of casual and possibly more serious discussions, although without more context, it\\'s difficult to determine the specifics of each topic.'}, log='Farmr and Sig discussed various topics, including:\\n\\n- A mention of Sig lying about something,\\n- Observations that Sig might have received an upgrade,\\n- A request for Sig to share details about something or someone named \"rag,\"\\n- A question about what\\'s for dinner directed at Sig.\\n\\nThese conversations indicate a mix of casual and possibly more serious discussions, although without more context, it\\'s difficult to determine the specifics of each topic.'), 'intermediate_steps': [(AgentActionMessageLog(tool='cypherqa_tool', tool_input=\"What did farmr and sig talk about yesterday? Today's date is Wed Apr 10 2024\", log='', message_log=[]), \"I don't know the answer.\"), (AgentActionMessageLog(tool='similarity_search_tool', tool_input={'query': 'farmr and sig talk'}, log=\"\\nInvoking: `similarity_search_tool` with `{'query': 'farmr and sig talk'}`\\n\\n\\n\", message_log=[AIMessage(content='', additional_kwargs={'function_call': {'arguments': '{\"query\":\"farmr and sig talk\"}', 'name': 'similarity_search_tool'}}, response_metadata={'finish_reason': 'function_call'}, id='run-8ed594ff-827f-46d4-b85b-09040de39022-0')]), \"['<ionizer> Sig lies', '<bysin> i can kinda tell sig got an upgrade', '<belleend> sig: tell me about rag', '<viral> sig: what’s for dinner']\")]}\n",
      "Final Output: Farmr and Sig discussed various topics, including:\n",
      "\n",
      "- A mention of Sig lying about something,\n",
      "- Observations that Sig might have received an upgrade,\n",
      "- A request for Sig to share details about something or someone named \"rag,\"\n",
      "- A question about what's for dinner directed at Sig.\n",
      "\n",
      "These conversations indicate a mix of casual and possibly more serious discussions, although without more context, it's difficult to determine the specifics of each topic.\n"
     ]
    }
   ],
   "source": [
    "inputs = {\"input\": \"What did farmr and sig talk about yesterday? Today's date is Wed Apr 10 2024\", \"chat_history\": []}\n",
    "result = app.invoke(inputs)\n",
    "\n",
    "agent_finish_instance = result['agent_outcome']\n",
    "\n",
    "# Accessing the 'output' from 'return_values'\n",
    "final_output = agent_finish_instance.return_values['output']\n",
    "\n",
    "print(\"Final Output:\", final_output)"
   ]
  },
  {
   "cell_type": "code",
   "execution_count": 138,
   "id": "c05dd54ae1f470e7",
   "metadata": {
    "collapsed": false,
    "ExecuteTime": {
     "end_time": "2024-04-10T22:50:19.892920Z",
     "start_time": "2024-04-10T22:49:50.665452Z"
    }
   },
   "outputs": [
    {
     "name": "stdout",
     "output_type": "stream",
     "text": [
      "\n",
      "\n",
      "\u001B[1m> Entering new GraphCypherQAChain chain...\u001B[0m\n",
      "Generated Cypher:\n",
      "\u001B[32;1m\u001B[1;3m\n",
      "MATCH (m:Message)-[:POSTED_IN]->(c:Channel)\n",
      "WHERE m.timestamp >= \"2024-04-03T00:00:00Z\" AND m.timestamp <= \"2024-04-10T23:59:59Z\"\n",
      "RETURN m.content AS ImportantConversations, m.timestamp AS Time, c.name AS Channel\n",
      "ORDER BY m.timestamp DESC\n",
      "LIMIT 10\n",
      "\u001B[0m\n",
      "Full Context:\n",
      "\u001B[32;1m\u001B[1;3m[{'ImportantConversations': '- Speculating about what white powder ancient Mayans could have been mining in the movie \"Apocalypto\" (2006)', 'Time': '2024-04-10T22:48:33.055649+00:00', 'Channel': '#!chases'}, {'ImportantConversations': '- Defining minimalism', 'Time': '2024-04-10T22:48:32.181892+00:00', 'Channel': '#!chases'}, {'ImportantConversations': '- Questioning why there are no marijuana emojis', 'Time': '2024-04-10T22:48:32.151045+00:00', 'Channel': '#!chases'}, {'ImportantConversations': '- Comparing Soma and Synthehol', 'Time': '2024-04-10T22:48:31.600125+00:00', 'Channel': '#!chases'}, {'ImportantConversations': '- Discussing why Ivan was so \"terrible\"', 'Time': '2024-04-10T22:48:31.598993+00:00', 'Channel': '#!chases'}, {'ImportantConversations': '- Describing the Massacre of Novgorod', 'Time': '2024-04-10T22:48:31.597516+00:00', 'Channel': '#!chases'}, {'ImportantConversations': '- Explaining the game \"Mouse Trap\"', 'Time': '2024-04-10T22:48:31.566445+00:00', 'Channel': '#!chases'}, {'ImportantConversations': ' Farmr and sig have a wide range of discussions that span historical, cultural, and speculative topics. They talk about:', 'Time': '2024-04-10T22:48:31.498520+00:00', 'Channel': '#!chases'}, {'ImportantConversations': '\\x02[Title]\\x02 SOMA AI', 'Time': '2024-04-10T22:48:00.917968+00:00', 'Channel': '#!chases'}, {'ImportantConversations': 'the video stuff', 'Time': '2024-04-10T22:47:34.825251+00:00', 'Channel': '#!chases'}]\u001B[0m\n",
      "\n",
      "\u001B[1m> Finished chain.\u001B[0m\n",
      "should_continue: {'input': \"What were the top conversations of utmost importance over the last week? Today's date is April 10th 2024\", 'chat_history': [], 'agent_outcome': AgentFinish(return_values={'output': 'Over the last week, the top conversations of utmost importance included a variety of topics:\\n\\n1. **Speculating about the white powder ancient Mayans could have been mining** in the movie \"Apocalypto\" (2006) - This conversation likely involved historical speculation and analysis of the film\\'s accuracy regarding Mayan practices and culture.\\n\\n2. **Defining minimalism** - This discussion could have encompassed aspects of minimalism in various contexts, such as lifestyle, art, and design, exploring its principles and impacts.\\n\\n3. **Questioning why there are no marijuana emojis** - This conversation may have delved into cultural and regulatory aspects of digital expression and the representation of marijuana in media and digital platforms.\\n\\n4. **Comparing Soma and Synthehol** - This topic likely explored the fictional substances from the worlds of \"Brave New World\" by Aldous Huxley (Soma) and the \"Star Trek\" universe (Synthehol), discussing their properties, implications, and how they reflect on society.\\n\\n5. **Discussing why Ivan was so \"terrible\"** - A historical discussion focusing on Ivan IV Vasilyevich, also known as Ivan the Terrible, his reign, and why he is remembered as a controversial figure in Russian history.\\n\\n6. **Describing the Massacre of Novgorod** - This conversation probably detailed the events of the Massacre of Novgorod, a significant and tragic event in Russian history involving Ivan the Terrible.\\n\\n7. **Explaining the game \"Mouse Trap\"** - A discussion about the popular board game, its mechanics, history, and impact on family entertainment.\\n\\nThese discussions spanned historical, cultural, and speculative topics, indicating a wide range of interests and areas of importance among participants.'}, log='Over the last week, the top conversations of utmost importance included a variety of topics:\\n\\n1. **Speculating about the white powder ancient Mayans could have been mining** in the movie \"Apocalypto\" (2006) - This conversation likely involved historical speculation and analysis of the film\\'s accuracy regarding Mayan practices and culture.\\n\\n2. **Defining minimalism** - This discussion could have encompassed aspects of minimalism in various contexts, such as lifestyle, art, and design, exploring its principles and impacts.\\n\\n3. **Questioning why there are no marijuana emojis** - This conversation may have delved into cultural and regulatory aspects of digital expression and the representation of marijuana in media and digital platforms.\\n\\n4. **Comparing Soma and Synthehol** - This topic likely explored the fictional substances from the worlds of \"Brave New World\" by Aldous Huxley (Soma) and the \"Star Trek\" universe (Synthehol), discussing their properties, implications, and how they reflect on society.\\n\\n5. **Discussing why Ivan was so \"terrible\"** - A historical discussion focusing on Ivan IV Vasilyevich, also known as Ivan the Terrible, his reign, and why he is remembered as a controversial figure in Russian history.\\n\\n6. **Describing the Massacre of Novgorod** - This conversation probably detailed the events of the Massacre of Novgorod, a significant and tragic event in Russian history involving Ivan the Terrible.\\n\\n7. **Explaining the game \"Mouse Trap\"** - A discussion about the popular board game, its mechanics, history, and impact on family entertainment.\\n\\nThese discussions spanned historical, cultural, and speculative topics, indicating a wide range of interests and areas of importance among participants.'), 'intermediate_steps': [(AgentActionMessageLog(tool='cypherqa_tool', tool_input=\"What were the top conversations of utmost importance over the last week? Today's date is April 10th 2024\", log='', message_log=[]), 'Over the last week, the top conversations of utmost importance included speculating about what white powder ancient Mayans could have been mining in the movie \"Apocalypto\" (2006), defining minimalism, questioning why there are no marijuana emojis, comparing Soma and Synthehol, discussing why Ivan was so \"terrible\", describing the Massacre of Novgorod, and explaining the game \"Mouse Trap\". These discussions spanned historical, cultural, and speculative topics.')]}\n",
      "Final Output: Over the last week, the top conversations of utmost importance included a variety of topics:\n",
      "\n",
      "1. **Speculating about the white powder ancient Mayans could have been mining** in the movie \"Apocalypto\" (2006) - This conversation likely involved historical speculation and analysis of the film's accuracy regarding Mayan practices and culture.\n",
      "\n",
      "2. **Defining minimalism** - This discussion could have encompassed aspects of minimalism in various contexts, such as lifestyle, art, and design, exploring its principles and impacts.\n",
      "\n",
      "3. **Questioning why there are no marijuana emojis** - This conversation may have delved into cultural and regulatory aspects of digital expression and the representation of marijuana in media and digital platforms.\n",
      "\n",
      "4. **Comparing Soma and Synthehol** - This topic likely explored the fictional substances from the worlds of \"Brave New World\" by Aldous Huxley (Soma) and the \"Star Trek\" universe (Synthehol), discussing their properties, implications, and how they reflect on society.\n",
      "\n",
      "5. **Discussing why Ivan was so \"terrible\"** - A historical discussion focusing on Ivan IV Vasilyevich, also known as Ivan the Terrible, his reign, and why he is remembered as a controversial figure in Russian history.\n",
      "\n",
      "6. **Describing the Massacre of Novgorod** - This conversation probably detailed the events of the Massacre of Novgorod, a significant and tragic event in Russian history involving Ivan the Terrible.\n",
      "\n",
      "7. **Explaining the game \"Mouse Trap\"** - A discussion about the popular board game, its mechanics, history, and impact on family entertainment.\n",
      "\n",
      "These discussions spanned historical, cultural, and speculative topics, indicating a wide range of interests and areas of importance among participants.\n"
     ]
    }
   ],
   "source": [
    "inputs = {\"input\": \"What were the top conversations of utmost importance over the last week? Today's date is April 10th 2024\", \"chat_history\": []}\n",
    "result = app.invoke(inputs)\n",
    "\n",
    "agent_finish_instance = result['agent_outcome']\n",
    "\n",
    "# Accessing the 'output' from 'return_values'\n",
    "final_output = agent_finish_instance.return_values['output']\n",
    "\n",
    "print(\"Final Output:\", final_output)"
   ]
  },
  {
   "cell_type": "code",
   "execution_count": 139,
   "id": "eb56c7d085657188",
   "metadata": {
    "collapsed": false,
    "ExecuteTime": {
     "end_time": "2024-04-10T22:52:51.759188Z",
     "start_time": "2024-04-10T22:52:43.741977Z"
    }
   },
   "outputs": [
    {
     "name": "stdout",
     "output_type": "stream",
     "text": [
      "\n",
      "\n",
      "\u001B[1m> Entering new GraphCypherQAChain chain...\u001B[0m\n",
      "Generated Cypher:\n",
      "\u001B[32;1m\u001B[1;3m\n",
      "MATCH (a:User {name: 'bysin'})-[:INTERACTED_WITH|CONNECTION*..2]-(b:User {name: 'farmr'})\n",
      "RETURN COUNT(b) > 0 AS knowsFarmr\n",
      "\u001B[0m\n",
      "Full Context:\n",
      "\u001B[32;1m\u001B[1;3m[{'knowsFarmr': True}]\u001B[0m\n",
      "\n",
      "\u001B[1m> Finished chain.\u001B[0m\n",
      "should_continue: {'input': 'Does bysin from #!chases know farmr?', 'chat_history': [], 'agent_outcome': AgentFinish(return_values={'output': 'Yes, Bysin from #!chases knows Farmr.'}, log='Yes, Bysin from #!chases knows Farmr.'), 'intermediate_steps': [(AgentActionMessageLog(tool='cypherqa_tool', tool_input='Does bysin from #!chases know farmr?', log='', message_log=[]), 'Yes, bysin from #!chases knows farmr.')]}\n",
      "Final Output: Yes, Bysin from #!chases knows Farmr.\n"
     ]
    }
   ],
   "source": [
    "inputs = {\"input\": \"Does bysin from #!chases know farmr?\", \"chat_history\": []}\n",
    "result = app.invoke(inputs)\n",
    "\n",
    "agent_finish_instance = result['agent_outcome']\n",
    "\n",
    "# Accessing the 'output' from 'return_values'\n",
    "final_output = agent_finish_instance.return_values['output']\n",
    "\n",
    "print(\"Final Output:\", final_output)"
   ]
  },
  {
   "cell_type": "code",
   "execution_count": 140,
   "id": "2d718f1185125985",
   "metadata": {
    "collapsed": false,
    "ExecuteTime": {
     "end_time": "2024-04-10T22:53:22.418471Z",
     "start_time": "2024-04-10T22:52:56.128175Z"
    }
   },
   "outputs": [
    {
     "name": "stdout",
     "output_type": "stream",
     "text": [
      "\n",
      "\n",
      "\u001B[1m> Entering new GraphCypherQAChain chain...\u001B[0m\n",
      "Generated Cypher:\n",
      "\u001B[32;1m\u001B[1;3m\n",
      "MATCH (m:Message)-[:POSTED_IN]->(c:Channel)\n",
      "WHERE m.platform = \"IRC\"\n",
      "AND m.content CONTAINS \"PagerDuty\"\n",
      "AND m.timestamp >= \"2024-03-07T00:00:00Z\"\n",
      "AND m.timestamp <= \"2024-04-07T23:59:59Z\"\n",
      "RETURN m.content AS EventContent, c.name AS Team\n",
      "\u001B[0m\n",
      "Full Context:\n",
      "\u001B[32;1m\u001B[1;3m[]\u001B[0m\n",
      "\n",
      "\u001B[1m> Finished chain.\u001B[0m\n",
      "should_continue: {'input': \"What PagerDuty events have been fired and delivered over the last month and what was the team split? Today's date is Sun apr 7 2024\", 'chat_history': [], 'agent_outcome': AgentFinish(return_values={'output': \"I can't directly access live data or events from external services like PagerDuty to provide real-time updates or historical event information. To view PagerDuty events that have been fired and delivered over the last month, including the team split, you would typically need to access your PagerDuty account. Here are the steps you can follow to get this information:\\n\\n1. **Log in to your PagerDuty account.**\\n2. **Navigate to the Analytics or Reports section.** PagerDuty offers various analytics and reporting features that can help you understand incident activity, team responses, and service performance.\\n3. **Customize the date range.** Set the date range to cover the last month, from March 7, 2024, to April 7, 2024, to match your requirement.\\n4. **Review Incident or Event Reports.** Look for reports that detail incidents, alerts, or events fired and their resolution. These reports can often be customized to show data by team, allowing you to see the split of events by different teams.\\n5. **Export or Analyze the Data.** Most reporting tools in PagerDuty allow you to export the data for further analysis or to share with your team.\\n\\nIf you are looking for a specific breakdown by team or any other detailed analysis, you might need to utilize PagerDuty's API. The API can provide more granular data about incidents, including when they were triggered, who was notified, response times, and resolution details. You can use the API to extract data for the specified period and perform your analysis, possibly with the help of data analysis tools or custom scripts.\\n\\nFor assistance with using PagerDuty's API or navigating its analytics features, consult the PagerDuty documentation or reach out to their support team.\"}, log=\"I can't directly access live data or events from external services like PagerDuty to provide real-time updates or historical event information. To view PagerDuty events that have been fired and delivered over the last month, including the team split, you would typically need to access your PagerDuty account. Here are the steps you can follow to get this information:\\n\\n1. **Log in to your PagerDuty account.**\\n2. **Navigate to the Analytics or Reports section.** PagerDuty offers various analytics and reporting features that can help you understand incident activity, team responses, and service performance.\\n3. **Customize the date range.** Set the date range to cover the last month, from March 7, 2024, to April 7, 2024, to match your requirement.\\n4. **Review Incident or Event Reports.** Look for reports that detail incidents, alerts, or events fired and their resolution. These reports can often be customized to show data by team, allowing you to see the split of events by different teams.\\n5. **Export or Analyze the Data.** Most reporting tools in PagerDuty allow you to export the data for further analysis or to share with your team.\\n\\nIf you are looking for a specific breakdown by team or any other detailed analysis, you might need to utilize PagerDuty's API. The API can provide more granular data about incidents, including when they were triggered, who was notified, response times, and resolution details. You can use the API to extract data for the specified period and perform your analysis, possibly with the help of data analysis tools or custom scripts.\\n\\nFor assistance with using PagerDuty's API or navigating its analytics features, consult the PagerDuty documentation or reach out to their support team.\"), 'intermediate_steps': [(AgentActionMessageLog(tool='cypherqa_tool', tool_input=\"What PagerDuty events have been fired and delivered over the last month and what was the team split? Today's date is Sun apr 7 2024\", log='', message_log=[]), \"I don't know the answer.\")]}\n",
      "Final Output: I can't directly access live data or events from external services like PagerDuty to provide real-time updates or historical event information. To view PagerDuty events that have been fired and delivered over the last month, including the team split, you would typically need to access your PagerDuty account. Here are the steps you can follow to get this information:\n",
      "\n",
      "1. **Log in to your PagerDuty account.**\n",
      "2. **Navigate to the Analytics or Reports section.** PagerDuty offers various analytics and reporting features that can help you understand incident activity, team responses, and service performance.\n",
      "3. **Customize the date range.** Set the date range to cover the last month, from March 7, 2024, to April 7, 2024, to match your requirement.\n",
      "4. **Review Incident or Event Reports.** Look for reports that detail incidents, alerts, or events fired and their resolution. These reports can often be customized to show data by team, allowing you to see the split of events by different teams.\n",
      "5. **Export or Analyze the Data.** Most reporting tools in PagerDuty allow you to export the data for further analysis or to share with your team.\n",
      "\n",
      "If you are looking for a specific breakdown by team or any other detailed analysis, you might need to utilize PagerDuty's API. The API can provide more granular data about incidents, including when they were triggered, who was notified, response times, and resolution details. You can use the API to extract data for the specified period and perform your analysis, possibly with the help of data analysis tools or custom scripts.\n",
      "\n",
      "For assistance with using PagerDuty's API or navigating its analytics features, consult the PagerDuty documentation or reach out to their support team.\n"
     ]
    }
   ],
   "source": [
    "inputs = {\"input\": \"What PagerDuty events have been fired and delivered over the last month and what was the team split? Today's date is Sun apr 7 2024\", \"chat_history\": []}\n",
    "result = app.invoke(inputs)\n",
    "\n",
    "agent_finish_instance = result['agent_outcome']\n",
    "\n",
    "# Accessing the 'output' from 'return_values'\n",
    "final_output = agent_finish_instance.return_values['output']\n",
    "\n",
    "print(\"Final Output:\", final_output)"
   ]
  },
  {
   "cell_type": "code",
   "execution_count": null,
   "id": "248a9f2f7accda16",
   "metadata": {
    "collapsed": false
   },
   "outputs": [],
   "source": []
  }
 ],
 "metadata": {
  "kernelspec": {
   "display_name": "Python 3 (ipykernel)",
   "language": "python",
   "name": "python3"
  },
  "language_info": {
   "codemirror_mode": {
    "name": "ipython",
    "version": 3
   },
   "file_extension": ".py",
   "mimetype": "text/x-python",
   "name": "python",
   "nbconvert_exporter": "python",
   "pygments_lexer": "ipython3",
   "version": "3.11.8"
  }
 },
 "nbformat": 4,
 "nbformat_minor": 5
}
