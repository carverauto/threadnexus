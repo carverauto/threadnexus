{
 "cells": [
  {
   "cell_type": "markdown",
   "id": "f725852e-71ef-4615-8cac-011a516fbe72",
   "metadata": {},
   "source": [
    "# Agent Executor From Scratch\n",
    "\n",
    "In this notebook we will create an agent with a search tool. However, at the start we will force the agent to call the search tool (and then let it do whatever it wants after). This is useful when you want to force agents to call particular tools, but still want flexibility of what happens after that.\n",
    "\n",
    "This examples builds off the base agent executor. It is highly recommended you learn about that executor before going through this notebook. You can find documentation for that example [here](./base.ipynb).\n",
    "\n",
    "Any modifications of that example are called below with **MODIFICATION**, so if you are looking for the differences you can just search for that."
   ]
  },
  {
   "cell_type": "markdown",
   "id": "6821de30-6eeb-4f70-b0a7-e05d3187b14b",
   "metadata": {},
   "source": [
    "## Setup\n",
    "\n",
    "First we need to install the packages required"
   ]
  },
  {
   "cell_type": "code",
   "execution_count": 1,
   "id": "694cfc4c-22a7-495d-930d-56b21d850ff9",
   "metadata": {
    "ExecuteTime": {
     "end_time": "2024-04-09T04:05:58.823664Z",
     "start_time": "2024-04-09T04:05:55.801734Z"
    }
   },
   "outputs": [
    {
     "name": "stdout",
     "output_type": "stream",
     "text": [
      "Requirement already satisfied: langchain_core in /opt/conda/lib/python3.11/site-packages (0.1.40)\r\n",
      "Requirement already satisfied: langchain in /opt/conda/lib/python3.11/site-packages (0.1.14)\r\n",
      "Requirement already satisfied: langgraph in /opt/conda/lib/python3.11/site-packages (0.0.32)\r\n",
      "Requirement already satisfied: langchain_openai in /opt/conda/lib/python3.11/site-packages (0.1.1)\r\n",
      "Requirement already satisfied: langchain_community in /opt/conda/lib/python3.11/site-packages (0.0.31)\r\n",
      "Requirement already satisfied: langchainhub in /opt/conda/lib/python3.11/site-packages (0.1.15)\r\n",
      "Requirement already satisfied: PyYAML>=5.3 in /opt/conda/lib/python3.11/site-packages (from langchain_core) (6.0.1)\r\n",
      "Requirement already satisfied: jsonpatch<2.0,>=1.33 in /opt/conda/lib/python3.11/site-packages (from langchain_core) (1.33)\r\n",
      "Requirement already satisfied: langsmith<0.2.0,>=0.1.0 in /opt/conda/lib/python3.11/site-packages (from langchain_core) (0.1.40)\r\n",
      "Requirement already satisfied: packaging<24.0,>=23.2 in /opt/conda/lib/python3.11/site-packages (from langchain_core) (23.2)\r\n",
      "Requirement already satisfied: pydantic<3,>=1 in /opt/conda/lib/python3.11/site-packages (from langchain_core) (2.6.4)\r\n",
      "Requirement already satisfied: tenacity<9.0.0,>=8.1.0 in /opt/conda/lib/python3.11/site-packages (from langchain_core) (8.2.3)\r\n",
      "Requirement already satisfied: SQLAlchemy<3,>=1.4 in /opt/conda/lib/python3.11/site-packages (from langchain) (2.0.29)\r\n",
      "Requirement already satisfied: aiohttp<4.0.0,>=3.8.3 in /opt/conda/lib/python3.11/site-packages (from langchain) (3.9.3)\r\n",
      "Requirement already satisfied: dataclasses-json<0.7,>=0.5.7 in /opt/conda/lib/python3.11/site-packages (from langchain) (0.6.4)\r\n",
      "Requirement already satisfied: langchain-text-splitters<0.1,>=0.0.1 in /opt/conda/lib/python3.11/site-packages (from langchain) (0.0.1)\r\n",
      "Requirement already satisfied: numpy<2,>=1 in ./.local/lib/python3.11/site-packages (from langchain) (1.26.4)\r\n",
      "Requirement already satisfied: requests<3,>=2 in /opt/conda/lib/python3.11/site-packages (from langchain) (2.31.0)\r\n",
      "Requirement already satisfied: openai<2.0.0,>=1.10.0 in /opt/conda/lib/python3.11/site-packages (from langchain_openai) (1.16.2)\r\n",
      "Requirement already satisfied: tiktoken<1,>=0.5.2 in /opt/conda/lib/python3.11/site-packages (from langchain_openai) (0.6.0)\r\n",
      "Requirement already satisfied: types-requests<3.0.0.0,>=2.31.0.2 in /opt/conda/lib/python3.11/site-packages (from langchainhub) (2.31.0.20240406)\r\n",
      "Requirement already satisfied: aiosignal>=1.1.2 in /opt/conda/lib/python3.11/site-packages (from aiohttp<4.0.0,>=3.8.3->langchain) (1.3.1)\r\n",
      "Requirement already satisfied: attrs>=17.3.0 in /opt/conda/lib/python3.11/site-packages (from aiohttp<4.0.0,>=3.8.3->langchain) (23.2.0)\r\n",
      "Requirement already satisfied: frozenlist>=1.1.1 in /opt/conda/lib/python3.11/site-packages (from aiohttp<4.0.0,>=3.8.3->langchain) (1.4.1)\r\n",
      "Requirement already satisfied: multidict<7.0,>=4.5 in /opt/conda/lib/python3.11/site-packages (from aiohttp<4.0.0,>=3.8.3->langchain) (6.0.5)\r\n",
      "Requirement already satisfied: yarl<2.0,>=1.0 in /opt/conda/lib/python3.11/site-packages (from aiohttp<4.0.0,>=3.8.3->langchain) (1.9.4)\r\n",
      "Requirement already satisfied: marshmallow<4.0.0,>=3.18.0 in /opt/conda/lib/python3.11/site-packages (from dataclasses-json<0.7,>=0.5.7->langchain) (3.21.1)\r\n",
      "Requirement already satisfied: typing-inspect<1,>=0.4.0 in /opt/conda/lib/python3.11/site-packages (from dataclasses-json<0.7,>=0.5.7->langchain) (0.9.0)\r\n",
      "Requirement already satisfied: jsonpointer>=1.9 in /opt/conda/lib/python3.11/site-packages (from jsonpatch<2.0,>=1.33->langchain_core) (2.4)\r\n",
      "Requirement already satisfied: orjson<4.0.0,>=3.9.14 in /opt/conda/lib/python3.11/site-packages (from langsmith<0.2.0,>=0.1.0->langchain_core) (3.10.0)\r\n",
      "Requirement already satisfied: anyio<5,>=3.5.0 in /opt/conda/lib/python3.11/site-packages (from openai<2.0.0,>=1.10.0->langchain_openai) (4.3.0)\r\n",
      "Requirement already satisfied: distro<2,>=1.7.0 in /opt/conda/lib/python3.11/site-packages (from openai<2.0.0,>=1.10.0->langchain_openai) (1.9.0)\r\n",
      "Requirement already satisfied: httpx<1,>=0.23.0 in /opt/conda/lib/python3.11/site-packages (from openai<2.0.0,>=1.10.0->langchain_openai) (0.27.0)\r\n",
      "Requirement already satisfied: sniffio in /opt/conda/lib/python3.11/site-packages (from openai<2.0.0,>=1.10.0->langchain_openai) (1.3.1)\r\n",
      "Requirement already satisfied: tqdm>4 in ./.local/lib/python3.11/site-packages (from openai<2.0.0,>=1.10.0->langchain_openai) (4.66.2)\r\n",
      "Requirement already satisfied: typing-extensions<5,>=4.7 in /opt/conda/lib/python3.11/site-packages (from openai<2.0.0,>=1.10.0->langchain_openai) (4.10.0)\r\n",
      "Requirement already satisfied: annotated-types>=0.4.0 in /opt/conda/lib/python3.11/site-packages (from pydantic<3,>=1->langchain_core) (0.6.0)\r\n",
      "Requirement already satisfied: pydantic-core==2.16.3 in /opt/conda/lib/python3.11/site-packages (from pydantic<3,>=1->langchain_core) (2.16.3)\r\n",
      "Requirement already satisfied: charset-normalizer<4,>=2 in /opt/conda/lib/python3.11/site-packages (from requests<3,>=2->langchain) (3.3.2)\r\n",
      "Requirement already satisfied: idna<4,>=2.5 in /opt/conda/lib/python3.11/site-packages (from requests<3,>=2->langchain) (3.6)\r\n",
      "Requirement already satisfied: urllib3<3,>=1.21.1 in /opt/conda/lib/python3.11/site-packages (from requests<3,>=2->langchain) (2.2.1)\r\n",
      "Requirement already satisfied: certifi>=2017.4.17 in /opt/conda/lib/python3.11/site-packages (from requests<3,>=2->langchain) (2024.2.2)\r\n",
      "Requirement already satisfied: greenlet!=0.4.17 in /opt/conda/lib/python3.11/site-packages (from SQLAlchemy<3,>=1.4->langchain) (3.0.3)\r\n",
      "Requirement already satisfied: regex>=2022.1.18 in ./.local/lib/python3.11/site-packages (from tiktoken<1,>=0.5.2->langchain_openai) (2023.12.25)\r\n",
      "Requirement already satisfied: httpcore==1.* in /opt/conda/lib/python3.11/site-packages (from httpx<1,>=0.23.0->openai<2.0.0,>=1.10.0->langchain_openai) (1.0.5)\r\n",
      "Requirement already satisfied: h11<0.15,>=0.13 in /opt/conda/lib/python3.11/site-packages (from httpcore==1.*->httpx<1,>=0.23.0->openai<2.0.0,>=1.10.0->langchain_openai) (0.14.0)\r\n",
      "Requirement already satisfied: mypy-extensions>=0.3.0 in /opt/conda/lib/python3.11/site-packages (from typing-inspect<1,>=0.4.0->dataclasses-json<0.7,>=0.5.7->langchain) (1.0.0)\r\n"
     ]
    }
   ],
   "source": [
    "!pip3 install langchain_core langchain langgraph langchain_openai langchain_community langchainhub"
   ]
  },
  {
   "cell_type": "markdown",
   "id": "dc039752-6d34-4ad4-aa31-9a10f4d4d597",
   "metadata": {},
   "source": [
    "Next, we need to set API keys for OpenAI (the LLM we will use) and Tavily (the search tool we will use)"
   ]
  },
  {
   "cell_type": "code",
   "execution_count": 2,
   "id": "30c06a84-291a-4f58-9d31-53d3b56a3def",
   "metadata": {
    "ExecuteTime": {
     "end_time": "2024-04-09T04:05:58.833275Z",
     "start_time": "2024-04-09T04:05:58.827399Z"
    }
   },
   "outputs": [],
   "source": [
    "import os\n",
    "import warnings\n",
    "import textwrap\n",
    "\n",
    "#os.environ[\"OPENAI_API_KEY\"] = getpass.getpass(\"OpenAI API Key:\")\n",
    "#os.environ[\"TAVILY_API_KEY\"] = getpass.getpass(\"Tavily API Key:\")\n",
    "\n",
    "warnings.filterwarnings(\"ignore\")\n"
   ]
  },
  {
   "cell_type": "markdown",
   "id": "5e7f4767-54fb-4b6e-bd9a-3d433df924fb",
   "metadata": {},
   "source": [
    "Optionally, we can set API key for [LangSmith tracing](https://smith.langchain.com/), which will give us best-in-class observability."
   ]
  },
  {
   "cell_type": "code",
   "execution_count": 3,
   "id": "a8fb285a-7e6e-46fc-a273-43ab1a676189",
   "metadata": {
    "ExecuteTime": {
     "end_time": "2024-04-09T04:05:58.853378Z",
     "start_time": "2024-04-09T04:05:58.835852Z"
    }
   },
   "outputs": [],
   "source": [
    "os.environ[\"LANGCHAIN_TRACING_V2\"] = \"true\"\n",
    "#os.environ[\"LANGCHAIN_API_KEY\"] = getpass.getpass(\"LangSmith API Key:\")"
   ]
  },
  {
   "cell_type": "code",
   "outputs": [
    {
     "name": "stdout",
     "output_type": "stream",
     "text": [
      "Requirement already satisfied: langchain_community in /opt/conda/lib/python3.11/site-packages (0.0.31)\r\n",
      "Requirement already satisfied: PyYAML>=5.3 in /opt/conda/lib/python3.11/site-packages (from langchain_community) (6.0.1)\r\n",
      "Requirement already satisfied: SQLAlchemy<3,>=1.4 in /opt/conda/lib/python3.11/site-packages (from langchain_community) (2.0.29)\r\n",
      "Requirement already satisfied: aiohttp<4.0.0,>=3.8.3 in /opt/conda/lib/python3.11/site-packages (from langchain_community) (3.9.3)\r\n",
      "Requirement already satisfied: dataclasses-json<0.7,>=0.5.7 in /opt/conda/lib/python3.11/site-packages (from langchain_community) (0.6.4)\r\n",
      "Requirement already satisfied: langchain-core<0.2.0,>=0.1.37 in /opt/conda/lib/python3.11/site-packages (from langchain_community) (0.1.40)\r\n",
      "Requirement already satisfied: langsmith<0.2.0,>=0.1.0 in /opt/conda/lib/python3.11/site-packages (from langchain_community) (0.1.40)\r\n",
      "Requirement already satisfied: numpy<2,>=1 in ./.local/lib/python3.11/site-packages (from langchain_community) (1.26.4)\r\n",
      "Requirement already satisfied: requests<3,>=2 in /opt/conda/lib/python3.11/site-packages (from langchain_community) (2.31.0)\r\n",
      "Requirement already satisfied: tenacity<9.0.0,>=8.1.0 in /opt/conda/lib/python3.11/site-packages (from langchain_community) (8.2.3)\r\n",
      "Requirement already satisfied: aiosignal>=1.1.2 in /opt/conda/lib/python3.11/site-packages (from aiohttp<4.0.0,>=3.8.3->langchain_community) (1.3.1)\r\n",
      "Requirement already satisfied: attrs>=17.3.0 in /opt/conda/lib/python3.11/site-packages (from aiohttp<4.0.0,>=3.8.3->langchain_community) (23.2.0)\r\n",
      "Requirement already satisfied: frozenlist>=1.1.1 in /opt/conda/lib/python3.11/site-packages (from aiohttp<4.0.0,>=3.8.3->langchain_community) (1.4.1)\r\n",
      "Requirement already satisfied: multidict<7.0,>=4.5 in /opt/conda/lib/python3.11/site-packages (from aiohttp<4.0.0,>=3.8.3->langchain_community) (6.0.5)\r\n",
      "Requirement already satisfied: yarl<2.0,>=1.0 in /opt/conda/lib/python3.11/site-packages (from aiohttp<4.0.0,>=3.8.3->langchain_community) (1.9.4)\r\n",
      "Requirement already satisfied: marshmallow<4.0.0,>=3.18.0 in /opt/conda/lib/python3.11/site-packages (from dataclasses-json<0.7,>=0.5.7->langchain_community) (3.21.1)\r\n",
      "Requirement already satisfied: typing-inspect<1,>=0.4.0 in /opt/conda/lib/python3.11/site-packages (from dataclasses-json<0.7,>=0.5.7->langchain_community) (0.9.0)\r\n",
      "Requirement already satisfied: jsonpatch<2.0,>=1.33 in /opt/conda/lib/python3.11/site-packages (from langchain-core<0.2.0,>=0.1.37->langchain_community) (1.33)\r\n",
      "Requirement already satisfied: packaging<24.0,>=23.2 in /opt/conda/lib/python3.11/site-packages (from langchain-core<0.2.0,>=0.1.37->langchain_community) (23.2)\r\n",
      "Requirement already satisfied: pydantic<3,>=1 in /opt/conda/lib/python3.11/site-packages (from langchain-core<0.2.0,>=0.1.37->langchain_community) (2.6.4)\r\n",
      "Requirement already satisfied: orjson<4.0.0,>=3.9.14 in /opt/conda/lib/python3.11/site-packages (from langsmith<0.2.0,>=0.1.0->langchain_community) (3.10.0)\r\n",
      "Requirement already satisfied: charset-normalizer<4,>=2 in /opt/conda/lib/python3.11/site-packages (from requests<3,>=2->langchain_community) (3.3.2)\r\n",
      "Requirement already satisfied: idna<4,>=2.5 in /opt/conda/lib/python3.11/site-packages (from requests<3,>=2->langchain_community) (3.6)\r\n",
      "Requirement already satisfied: urllib3<3,>=1.21.1 in /opt/conda/lib/python3.11/site-packages (from requests<3,>=2->langchain_community) (2.2.1)\r\n",
      "Requirement already satisfied: certifi>=2017.4.17 in /opt/conda/lib/python3.11/site-packages (from requests<3,>=2->langchain_community) (2024.2.2)\r\n",
      "Requirement already satisfied: typing-extensions>=4.6.0 in /opt/conda/lib/python3.11/site-packages (from SQLAlchemy<3,>=1.4->langchain_community) (4.10.0)\r\n",
      "Requirement already satisfied: greenlet!=0.4.17 in /opt/conda/lib/python3.11/site-packages (from SQLAlchemy<3,>=1.4->langchain_community) (3.0.3)\r\n",
      "Requirement already satisfied: jsonpointer>=1.9 in /opt/conda/lib/python3.11/site-packages (from jsonpatch<2.0,>=1.33->langchain-core<0.2.0,>=0.1.37->langchain_community) (2.4)\r\n",
      "Requirement already satisfied: annotated-types>=0.4.0 in /opt/conda/lib/python3.11/site-packages (from pydantic<3,>=1->langchain-core<0.2.0,>=0.1.37->langchain_community) (0.6.0)\r\n",
      "Requirement already satisfied: pydantic-core==2.16.3 in /opt/conda/lib/python3.11/site-packages (from pydantic<3,>=1->langchain-core<0.2.0,>=0.1.37->langchain_community) (2.16.3)\r\n",
      "Requirement already satisfied: mypy-extensions>=0.3.0 in /opt/conda/lib/python3.11/site-packages (from typing-inspect<1,>=0.4.0->dataclasses-json<0.7,>=0.5.7->langchain_community) (1.0.0)\r\n"
     ]
    }
   ],
   "source": [
    "!pip3 install langchain_community"
   ],
   "metadata": {
    "collapsed": false,
    "ExecuteTime": {
     "end_time": "2024-04-09T04:06:01.594661Z",
     "start_time": "2024-04-09T04:05:58.857101Z"
    }
   },
   "id": "f65eabbb200fd774",
   "execution_count": 4
  },
  {
   "cell_type": "code",
   "execution_count": 5,
   "id": "cb3a2cabb41cf70b",
   "metadata": {
    "collapsed": false,
    "ExecuteTime": {
     "end_time": "2024-04-09T04:06:03.005889Z",
     "start_time": "2024-04-09T04:06:01.597842Z"
    }
   },
   "outputs": [],
   "source": [
    "from langchain_community.graphs import Neo4jGraph\n",
    "from langchain_community.vectorstores import Neo4jVector\n",
    "\n",
    "NEO4J_URI = \"bolt://neo4j.neo4j.svc.cluster.local:7687\"\n",
    "NEO4J_USERNAME = 'neo4j'\n",
    "NEO4J_PASSWORD = os.getenv(\"NEO4J_PASSWORD\")\n",
    "NEO4J_DATABASE = 'neo4j'\n",
    "OPENAI_API_KEY = os.getenv(\"OPENAI_API_KEY\")\n",
    "\n",
    "VECTOR_INDEX_NAME = 'message-embeddings'\n",
    "VECTOR_NODE_LABEL = 'Message'\n",
    "VECTOR_SOURCE_PROPERTY = 'text'\n",
    "VECTOR_EMBEDDING_PROPERTY = 'textEmbedding'\n",
    "\n",
    "# Create the graph\n",
    "graph = Neo4jGraph(\n",
    "    url=NEO4J_URI, username=NEO4J_USERNAME, password=NEO4J_PASSWORD, database=NEO4J_DATABASE\n",
    ")\n"
   ]
  },
  {
   "cell_type": "code",
   "execution_count": 6,
   "id": "8ee9fa11f82f95a6",
   "metadata": {
    "collapsed": false,
    "ExecuteTime": {
     "end_time": "2024-04-09T04:06:03.209992Z",
     "start_time": "2024-04-09T04:06:03.008781Z"
    }
   },
   "outputs": [
    {
     "name": "stdout",
     "output_type": "stream",
     "text": [
      "Node properties are the following: User {name:\n",
      "STRING},Message {content: STRING, platform: STRING,\n",
      "timestamp: STRING, embedding: LIST},Channel {name: STRING}\n",
      "Relationship properties are the following: INTERACTED_WITH\n",
      "{weight: INTEGER},CONNECTION {type: STRING, weight: INTEGER}\n",
      "The relationships are the following: (:User)-[:CONNECTION]-\n",
      ">(:User),(:User)-[:SENT]->(:Message),(:User)-\n",
      "[:INTERACTED_WITH]->(:User),(:Message)-[:POSTED_IN]-\n",
      ">(:Channel),(:Message)-[:MENTIONED]->(:User)\n"
     ]
    }
   ],
   "source": [
    "graph.refresh_schema()\n",
    "print(textwrap.fill(graph.schema, 60))"
   ]
  },
  {
   "cell_type": "markdown",
   "id": "8397abfd087bcbb2",
   "metadata": {
    "collapsed": false
   },
   "source": [
    "# Build our custom retrieval query"
   ]
  },
  {
   "cell_type": "code",
   "execution_count": 7,
   "id": "144ab8dcb00fbcd8",
   "metadata": {
    "collapsed": false,
    "ExecuteTime": {
     "end_time": "2024-04-09T04:06:03.218861Z",
     "start_time": "2024-04-09T04:06:03.212994Z"
    }
   },
   "outputs": [],
   "source": [
    "retrieval_query2 = \"\"\"\n",
    "OPTIONAL MATCH (m:Message)-[:SENT]->(u:User),\n",
    "               (m)-[:POSTED_IN]->(c:Channel),\n",
    "               (m)-[:MENTIONED]->(mentioned:User)\n",
    "WITH m, score, collect(u) AS senders, collect(c) AS channels, collect(mentioned) AS mentionedUsers\n",
    "RETURN m.content AS text,\n",
    "       score,\n",
    "       m {.*, embedding: Null, content: Null, senders: senders, channels: channels, mentionedUsers: mentionedUsers} AS metadata\n",
    "\"\"\"\n",
    "\n",
    "retrieval_query = \"\"\"\n",
    "OPTIONAL MATCH (node)<-[:SENT]-(u:User)\n",
    "WITH node, score, collect(u) AS users\n",
    "RETURN node.content AS text,\n",
    "       score, \n",
    "       node {.*, embedding: Null, content: Null, sentBy: users} AS metadata\n",
    "\"\"\""
   ]
  },
  {
   "cell_type": "markdown",
   "id": "c191374ee9f03e04",
   "metadata": {
    "collapsed": false
   },
   "source": [
    "# Setup the Vector Index "
   ]
  },
  {
   "cell_type": "code",
   "execution_count": 9,
   "id": "33fafb6d352dc911",
   "metadata": {
    "collapsed": false,
    "ExecuteTime": {
     "end_time": "2024-04-09T04:06:06.759759Z",
     "start_time": "2024-04-09T04:06:05.816242Z"
    }
   },
   "outputs": [],
   "source": [
    "from langchain_openai import OpenAIEmbeddings\n",
    "\n",
    "vector_index = Neo4jVector.from_existing_graph(\n",
    "    OpenAIEmbeddings(\n",
    "        model=\"text-embedding-3-small\",\n",
    "        dimensions=1536,\n",
    "    ),\n",
    "    url=NEO4J_URI,\n",
    "    username=NEO4J_USERNAME,\n",
    "    password=NEO4J_PASSWORD,\n",
    "    index_name=\"message-embeddings\",\n",
    "    node_label=\"Message\",\n",
    "    text_node_properties=['content', 'platform', 'timestamp'],\n",
    "    embedding_node_property='embedding',\n",
    "    retrieval_query=retrieval_query,\n",
    ")"
   ]
  },
  {
   "cell_type": "code",
   "execution_count": 10,
   "id": "e5f179a381136aeb",
   "metadata": {
    "collapsed": false,
    "ExecuteTime": {
     "end_time": "2024-04-09T04:06:06.773006Z",
     "start_time": "2024-04-09T04:06:06.765442Z"
    }
   },
   "outputs": [],
   "source": [
    "import re\n",
    "\n",
    "def similarity_search(query: str, max_results: int = 1000):\n",
    "    results = vector_index.search(query, max_results=max_results, search_type=\"similarity\")\n",
    "    print(f\"Found {len(results)} results\")\n",
    "    # Print the raw results for debugging\n",
    "    #print(results)\n",
    "    # Clean the page_content from each Document in the results\n",
    "    content_list = [re.sub(r'^\\ncontent: |\\x02|\\x03\\d{2}(,\\d{2})?|\\u2068|\\u2069', '', result.page_content.split('\\nplatform:')[0].strip()) for result in results]\n",
    "    # Print the cleaned content list for verification\n",
    "    #print(content_list)\n",
    "    return content_list\n",
    "\n",
    "    "
   ]
  },
  {
   "cell_type": "code",
   "execution_count": 11,
   "id": "e458b32ea994f78d",
   "metadata": {
    "collapsed": false,
    "ExecuteTime": {
     "end_time": "2024-04-09T04:06:06.785812Z",
     "start_time": "2024-04-09T04:06:06.775436Z"
    }
   },
   "outputs": [],
   "source": [
    "import re\n",
    "\n",
    "def similarity_search_v2(v2_query: str, max_results: int = 1000):\n",
    "    my_retriever = vector_index.as_retriever()\n",
    "    results = my_retriever.get_relevant_documents(v2_query, max_results=max_results)\n",
    "    \n",
    "    formatted_messages = []\n",
    "    \n",
    "    for result in results:\n",
    "        # Access the message content directly via the page_content attribute\n",
    "        message_content = result.page_content\n",
    "        \n",
    "        # Assuming metadata is directly accessible and contains the 'sentBy' information\n",
    "        # Adjust the access pattern if 'metadata' is structured differently\n",
    "        username = \"Unknown\"  # Default username\n",
    "        if hasattr(result, 'metadata') and 'sentBy' in result.metadata:\n",
    "            sentBy = result.metadata['sentBy']\n",
    "            if sentBy and isinstance(sentBy, list) and len(sentBy) > 0:\n",
    "                username = sentBy[0].get('name', \"Unknown\")\n",
    "        \n",
    "        # Clean the message content\n",
    "        cleaned_message_content = re.sub(r'\\x02|\\x03\\d{2}(,\\d{2})?|\\u2068|\\u2069', '', message_content)\n",
    "        \n",
    "        # Format the message in a chat-like format\n",
    "        chat_format_message = f\"<{username}> {cleaned_message_content}\"\n",
    "        formatted_messages.append(chat_format_message)\n",
    "    \n",
    "    return formatted_messages\n"
   ]
  },
  {
   "cell_type": "code",
   "execution_count": 12,
   "id": "bff3fdcaf1d55319",
   "metadata": {
    "collapsed": false,
    "ExecuteTime": {
     "end_time": "2024-04-09T04:06:07.014182Z",
     "start_time": "2024-04-09T04:06:06.788312Z"
    }
   },
   "outputs": [
    {
     "data": {
      "text/plain": "[Document(page_content='u got USDT ?', metadata={'timestamp': '2024-04-01T01:35:38.599058+00:00', 'platform': 'IRC', 'sentBy': [{'name': 'FE2'}]}),\n Document(page_content='hi', metadata={'timestamp': '2024-04-01T02:00:46.932146+00:00', 'platform': 'IRC', 'sentBy': [{'name': 'bysin'}]}),\n Document(page_content='in case u do', metadata={'timestamp': '2024-04-01T01:35:45.124193+00:00', 'platform': 'IRC', 'sentBy': [{'name': 'leku'}]}),\n Document(page_content='which one', metadata={'timestamp': '2024-04-01T02:00:56.648500+00:00', 'platform': 'IRC', 'sentBy': [{'name': 'leku'}]})]"
     },
     "execution_count": 12,
     "metadata": {},
     "output_type": "execute_result"
    }
   ],
   "source": [
    "query = \"what is leku's favorite food?\"\n",
    "retriever = vector_index.as_retriever()\n",
    "retriever.get_relevant_documents(query)"
   ]
  },
  {
   "cell_type": "code",
   "execution_count": 13,
   "id": "1de1b4bf0fd3dab9",
   "metadata": {
    "collapsed": false,
    "ExecuteTime": {
     "end_time": "2024-04-09T04:06:07.260515Z",
     "start_time": "2024-04-09T04:06:07.016223Z"
    }
   },
   "outputs": [
    {
     "name": "stdout",
     "output_type": "stream",
     "text": [
      "['<FE2> u got USDT ?', '<bysin> hi', '<leku> in case u do', '<leku> which one']\n"
     ]
    }
   ],
   "source": [
    "# query = \"nude bots?\"\n",
    "query = \"what is leku's favorite food?\"\n",
    "response = similarity_search_v2(query, max_results=10)\n",
    "print(response)"
   ]
  },
  {
   "cell_type": "markdown",
   "id": "7770ddbd8a180fd2",
   "metadata": {
    "collapsed": false
   },
   "source": [
    "# Define the Cypher Generation Prompt\n",
    "# Here we define the prompt that will be used to generate Cypher queries\n",
    "# We use example queries to show how to use the schema to the LLM"
   ]
  },
  {
   "cell_type": "code",
   "execution_count": 14,
   "id": "ea2b4ec2eff00e80",
   "metadata": {
    "collapsed": false,
    "ExecuteTime": {
     "end_time": "2024-04-09T04:06:07.269330Z",
     "start_time": "2024-04-09T04:06:07.263138Z"
    }
   },
   "outputs": [],
   "source": [
    "CYPHER_GENERATION_TEMPLATE = \"\"\"Task:Generate Cypher statement to \n",
    "query a graph database.\n",
    "Instructions:\n",
    "Use only the provided relationship types and properties in the \n",
    "schema. Do not use any other relationship types or properties that \n",
    "are not provided.\n",
    "Schema:\n",
    "{schema}\n",
    "Note: Do not include any explanations or apologies in your responses.\n",
    "Do not respond to any questions that might ask anything else than \n",
    "for you to construct a Cypher statement.\n",
    "Do not include any text except the generated Cypher statement.\n",
    "Examples: Here are a few examples of generated Cypher \n",
    "statements for particular questions:\n",
    "\n",
    "### Reading messages in chronological order\n",
    "```\n",
    "MATCH (m:Message)-[:POSTED_IN]->(chan:Channel {{name: '#!chases'}})\n",
    "RETURN m.content AS message, datetime(m.timestamp) AS time\n",
    "ORDER BY time DESC\n",
    "```\n",
    "\n",
    "### Indirect Connection Through Shared Channels\n",
    "```\n",
    "MATCH (a:User {{name: 'Alice'}})-[:SENT|POSTED_IN]->(m:Message)-[:POSTED_IN]->(chan:Channel)<-[:POSTED_IN]-(m2:Message)<-[:SENT|POSTED_IN]-(b:User {{name: 'Bob'}})\n",
    "RETURN DISTINCT chan.name AS SharedChannel\n",
    "```\n",
    "\n",
    "### Indirect Connection Through Mutual Connections\n",
    "```\n",
    "MATCH (a:User {{name: 'Alice'}})-[:INTERACTED_WITH]->(mutual:User)<-[:INTERACTED_WITH]-(b:User {{name: 'Bob'}})\n",
    "RETURN DISTINCT mutual.name AS MutualFriend\n",
    "```\n",
    "\n",
    "### Is Alice friends with Bob?\n",
    "```\n",
    "MATCH (a:User {{name: 'Alice'}})-[:INTERACTED_WITH]-(b:User {{name: 'Bob'}})\n",
    "RETURN a, b\n",
    "```\n",
    "\n",
    "### Showing a complete graph\n",
    "\n",
    "```\n",
    "MATCH (chan:Channel)-[:POSTED_IN]-(msg:Message)-[:SENT]-(user:User)\n",
    "OPTIONAL MATCH (msg)-[:MENTIONED]->(mentioned:User)\n",
    "RETURN chan, user, msg, mentioned\n",
    "```\n",
    "\n",
    "### Pagerduty events\n",
    "MATCH (m:Message)-[:POSTED_IN]->(c:Channel)\n",
    "WHERE m.platform = \"IRC\"\n",
    "AND m.content CONTAINS \"PagerDuty\"\n",
    "AND m.timestamp >= \"2024-03-07T00:00:00Z\"\n",
    "AND m.timestamp <= \"2024-04-07T23:59:59Z\"\n",
    "RETURN m.content AS EventContent\n",
    "\n",
    "\n",
    "The question is:\n",
    "{question}\"\"\""
   ]
  },
  {
   "cell_type": "code",
   "execution_count": 15,
   "id": "148b36c0b956c30c",
   "metadata": {
    "collapsed": false,
    "ExecuteTime": {
     "end_time": "2024-04-09T04:06:09.510043Z",
     "start_time": "2024-04-09T04:06:07.271530Z"
    }
   },
   "outputs": [],
   "source": [
    "from langchain.prompts.prompt import PromptTemplate\n",
    "from langchain import hub\n",
    "\n",
    "CYPHER_GENERATION_PROMPT = PromptTemplate(\n",
    "    input_variables=[\"schema\", \"question\"], \n",
    "    template=CYPHER_GENERATION_TEMPLATE,\n",
    ")\n",
    "\n",
    "prompt = hub.pull(\"hwchase17/openai-functions-agent\")\n",
    "#prompt = ChatPromptTemplate.from_template(\"{chat_history}\")\n",
    "\n",
    "## Upload our prompt to LangSmith\n",
    "#hub.push(\"mfreeman451/threadr-cypher-prompt\", CHAT_GENERATION_PROMPT)\n"
   ]
  },
  {
   "cell_type": "code",
   "execution_count": 37,
   "id": "dc8289bb924fc5a9",
   "metadata": {
    "collapsed": false,
    "ExecuteTime": {
     "end_time": "2024-04-09T04:09:41.240594Z",
     "start_time": "2024-04-09T04:09:41.199661Z"
    }
   },
   "outputs": [],
   "source": [
    "from langchain.chains import GraphCypherQAChain\n",
    "from langchain_openai import ChatOpenAI\n",
    "\n",
    "cypherChain = GraphCypherQAChain.from_llm(\n",
    "    ChatOpenAI(model=\"gpt-4-turbo-preview\",temperature=0,openai_api_key=OPENAI_API_KEY),\n",
    "    graph=graph,\n",
    "    return_intermediate_steps=True,\n",
    "    verbose=True,\n",
    "    cypher_prompt=CYPHER_GENERATION_PROMPT,\n",
    ")"
   ]
  },
  {
   "cell_type": "markdown",
   "id": "38eca15077e9653f",
   "metadata": {
    "collapsed": false
   },
   "source": [
    "# Create the Tools"
   ]
  },
  {
   "cell_type": "code",
   "execution_count": 38,
   "id": "b2b336d60fa1ab37",
   "metadata": {
    "collapsed": false,
    "ExecuteTime": {
     "end_time": "2024-04-09T04:09:44.821504Z",
     "start_time": "2024-04-09T04:09:44.815554Z"
    }
   },
   "outputs": [],
   "source": [
    "from typing import Dict, Optional, Type, Union\n",
    "from langchain_core.callbacks import (\n",
    "    AsyncCallbackManagerForToolRun,\n",
    "    CallbackManagerForToolRun,\n",
    ")\n",
    "from langchain_core.pydantic_v1 import BaseModel, Field\n",
    "from langchain_core.tools import BaseTool"
   ]
  },
  {
   "cell_type": "code",
   "execution_count": 39,
   "id": "d7a6add961907095",
   "metadata": {
    "collapsed": false,
    "ExecuteTime": {
     "end_time": "2024-04-09T04:09:45.620158Z",
     "start_time": "2024-04-09T04:09:45.613580Z"
    }
   },
   "outputs": [],
   "source": [
    "class TemporalSimilaritySearchInput(BaseModel):\n",
    "    \"\"\"Input for the Temporal Similarity Search tool.\"\"\"\n",
    "    # Define the inputs for your tool. Our query comes from chat users.\n",
    "    query: str = Field(description=\"Did Alice mention anything about yesterday's meeting?\")"
   ]
  },
  {
   "cell_type": "code",
   "execution_count": 40,
   "id": "6773221e6751af70",
   "metadata": {
    "collapsed": false,
    "ExecuteTime": {
     "end_time": "2024-04-09T04:09:46.396396Z",
     "start_time": "2024-04-09T04:09:46.389014Z"
    }
   },
   "outputs": [],
   "source": [
    "class SimilaritySearchInput(BaseModel):\n",
    "    \"\"\"Input for the Similarity Search tool.\"\"\"\n",
    "    # Define the inputs for your tool. Our query comes from chat users.\n",
    "    query: str = Field(description=\"Did Alice mention anything about the meeting?\")\n",
    "    max_results: int = Field(description=\"The maximum number of results to return.\", default=1000)\n",
    "    "
   ]
  },
  {
   "cell_type": "code",
   "execution_count": 41,
   "id": "5c2d2f65222d65f1",
   "metadata": {
    "collapsed": false,
    "ExecuteTime": {
     "end_time": "2024-04-09T04:09:47.119436Z",
     "start_time": "2024-04-09T04:09:47.102868Z"
    }
   },
   "outputs": [],
   "source": [
    "class SimilaritySearchTool(BaseTool):\n",
    "    \"\"\"A tool that serves to retrieve data from a labeled property graph.\"\"\"\n",
    "    \n",
    "    name: str = \"similarity_search_tool\"\n",
    "    description: str = \"A tool that serves to retrieve data from a labeled property graph.\"\n",
    "    max_results: int = 1000\n",
    "    args_schema: Type[BaseModel] = SimilaritySearchInput\n",
    "    \n",
    "    def _run(\n",
    "        self,\n",
    "        query: str,\n",
    "        max_results: int = 1000,\n",
    "        run_manager: Optional[CallbackManagerForToolRun] = None,\n",
    "    ) -> Union[Dict, str]:\n",
    "        \"\"\"Synchronously run the tool.\"\"\"\n",
    "        try:\n",
    "            return similarity_search_v2(query, max_results=max_results)\n",
    "        except Exception as e:\n",
    "            return repr(e)\n",
    "\n",
    "    async def _arun(\n",
    "        self,\n",
    "        query: str,\n",
    "        max_results: int = 1000,\n",
    "        run_manager: Optional[AsyncCallbackManagerForToolRun] = None,\n",
    "    ) -> Union[Dict, str]:\n",
    "        \"\"\"Asynchronously run the tool.\"\"\"\n",
    "        try:\n",
    "            return await similarity_search_v2(query, max_results=max_results)\n",
    "        except Exception as e:\n",
    "            return repr(e)\n",
    "    "
   ]
  },
  {
   "cell_type": "code",
   "execution_count": 42,
   "id": "61faa7e401f1d014",
   "metadata": {
    "collapsed": false,
    "ExecuteTime": {
     "end_time": "2024-04-09T04:09:47.984755Z",
     "start_time": "2024-04-09T04:09:47.966368Z"
    }
   },
   "outputs": [],
   "source": [
    "class CypherQAInput(BaseModel):\n",
    "    \"\"\"Input for the CypherQA tool.\"\"\"\n",
    "    # Define the inputs for your tool. Our query comes from chat users.\n",
    "    query: str = Field(description=\"Who are alice's friends?\")\n",
    "    \n",
    "\n",
    "class CypherQATool(BaseTool):\n",
    "    \"\"\"A Cypher Question-Answering Tool.\"\"\"\n",
    "\n",
    "    name: str = \"cypherqa_tool\"\n",
    "    description: str = \"A tool that serves to retrieve data from a labeled property graph.\"\n",
    "    # If your tool requires initialization parameters, define them here.\n",
    "    # For a placeholder, we might not need any, but you can add as necessary.\n",
    "    args_schema: Type[BaseModel] = CypherQAInput\n",
    "\n",
    "    def _run(\n",
    "        self,\n",
    "        query: str,\n",
    "        run_manager: Optional[CallbackManagerForToolRun] = None,\n",
    "    ) -> Union[Dict, str]:\n",
    "        \"\"\"Synchronously run the tool.\"\"\"\n",
    "        try:\n",
    "            return cypherChain.run(query)\n",
    "        except Exception as e:\n",
    "            # just return an empty dict if there is an error\n",
    "            #return repr(e)\n",
    "            return \"Not Found\"\n",
    "\n",
    "    async def _arun(\n",
    "        self,\n",
    "        query: str,\n",
    "        run_manager: Optional[AsyncCallbackManagerForToolRun] = None,\n",
    "    ) -> Union[Dict, str]:\n",
    "        \"\"\"Asynchronously run the tool.\"\"\"\n",
    "        try:\n",
    "            return await cypherChain.run(query)\n",
    "        except Exception as e:\n",
    "            #return repr(e)\n",
    "            #return {}\n",
    "            return \"Not Found\"\n",
    "\n"
   ]
  },
  {
   "cell_type": "markdown",
   "id": "5dace4a9-7c9e-4da2-bf7b-e58d0d05581e",
   "metadata": {},
   "source": [
    "## Create the LangChain agent\n",
    "\n",
    "First, we will create the LangChain agent. For more information on LangChain agents, see [this documentation](https://python.langchain.com/docs/modules/agents/)"
   ]
  },
  {
   "cell_type": "code",
   "execution_count": 43,
   "id": "4499eb16-bca8-4a60-9a3a-2f34ae3f7078",
   "metadata": {
    "ExecuteTime": {
     "end_time": "2024-04-09T04:09:49.739408Z",
     "start_time": "2024-04-09T04:09:49.697425Z"
    }
   },
   "outputs": [],
   "source": [
    "from langchain.agents import create_openai_functions_agent\n",
    "from langchain_openai.chat_models import ChatOpenAI\n",
    "from langchain_community.tools.tavily_search import TavilySearchResults\n",
    "\n",
    "#tools = [TavilySearchResults(max_results=1)]\n",
    "# tools = [CypherQATool(), SimilaritySearchTool(), TavilySearchResults(max_results=1)]\n",
    "tools = [CypherQATool(return_direct=True), SimilaritySearchTool()]\n",
    "\n",
    "# Choose the LLM that will drive the agent\n",
    "llm = ChatOpenAI(model=\"gpt-4-turbo-preview\", streaming=True)\n",
    "# llm = ChatOpenAI(model=\"gpt-3.5-turbo-0125\", streaming=False)\n",
    "\n",
    "# Construct the OpenAI Functions agent\n",
    "agent_runnable = create_openai_functions_agent(llm, tools, prompt)"
   ]
  },
  {
   "cell_type": "markdown",
   "id": "972e58b3-fe3c-449d-b3c4-8fa2217afd07",
   "metadata": {},
   "source": [
    "## Define the graph state\n",
    "\n",
    "We now define the graph state. The state for the traditional LangChain agent has a few attributes:\n",
    "\n",
    "1. `input`: This is the input string representing the main ask from the user, passed in as input.\n",
    "2. `chat_history`: This is any previous conversation messages, also passed in as input.\n",
    "3. `intermediate_steps`: This is list of actions and corresponding observations that the agent takes over time. This is updated each iteration of the agent.\n",
    "4. `agent_outcome`: This is the response from the agent, either an AgentAction or AgentFinish. The AgentExecutor should finish when this is an AgentFinish, otherwise it should call the requested tools.\n"
   ]
  },
  {
   "cell_type": "code",
   "execution_count": 44,
   "id": "c941fb10-dbe5-4d6a-ab7d-133d01c33cc4",
   "metadata": {
    "ExecuteTime": {
     "end_time": "2024-04-09T04:10:00.347838Z",
     "start_time": "2024-04-09T04:10:00.339248Z"
    }
   },
   "outputs": [],
   "source": [
    "from typing import TypedDict, Annotated, List, Union\n",
    "from langchain_core.agents import AgentAction, AgentFinish\n",
    "from langchain_core.messages import BaseMessage\n",
    "import operator\n",
    "\n",
    "\n",
    "class AgentState(TypedDict):\n",
    "    # The input string\n",
    "    input: str\n",
    "    # The list of previous messages in the conversation\n",
    "    chat_history: list[BaseMessage]\n",
    "    # The outcome of a given call to the agent\n",
    "    # Needs `None` as a valid type, since this is what this will start as\n",
    "    agent_outcome: Union[AgentAction, AgentFinish, None]\n",
    "    # List of actions and corresponding observations\n",
    "    # Here we annotate this with `operator.add` to indicate that operations to\n",
    "    # this state should be ADDED to the existing values (not overwrite it)\n",
    "    intermediate_steps: Annotated[list[tuple[AgentAction, str]], operator.add]"
   ]
  },
  {
   "cell_type": "markdown",
   "id": "cd27b281-cc9a-49c9-be78-8b98a7d905c4",
   "metadata": {},
   "source": [
    "## Define the nodes\n",
    "\n",
    "We now need to define a few different nodes in our graph.\n",
    "In `langgraph`, a node can be either a function or a [runnable](https://python.langchain.com/docs/expression_language/).\n",
    "There are two main nodes we need for this:\n",
    "\n",
    "1. The agent: responsible for deciding what (if any) actions to take.\n",
    "2. A function to invoke tools: if the agent decides to take an action, this node will then execute that action.\n",
    "\n",
    "We will also need to define some edges.\n",
    "Some of these edges may be conditional.\n",
    "The reason they are conditional is that based on the output of a node, one of several paths may be taken.\n",
    "The path that is taken is not known until that node is run (the LLM decides).\n",
    "\n",
    "1. Conditional Edge: after the agent is called, we should either:\n",
    "   a. If the agent said to take an action, then the function to invoke tools should be called\n",
    "   b. If the agent said that it was finished, then it should finish\n",
    "2. Normal Edge: after the tools are invoked, it should always go back to the agent to decide what to do next\n",
    "\n",
    "Let's define the nodes, as well as a function to decide how what conditional edge to take."
   ]
  },
  {
   "cell_type": "code",
   "execution_count": 45,
   "id": "d61a970d-edf4-4eef-9678-28bab7c72331",
   "metadata": {
    "ExecuteTime": {
     "end_time": "2024-04-09T04:10:02.355437Z",
     "start_time": "2024-04-09T04:10:02.344902Z"
    }
   },
   "outputs": [],
   "source": [
    "from langchain_core.agents import AgentFinish\n",
    "from langgraph.prebuilt.tool_executor import ToolExecutor\n",
    "\n",
    "# This a helper class we have that is useful for running tools\n",
    "# It takes in an agent action and calls that tool and returns the result\n",
    "tool_executor = ToolExecutor(tools)\n",
    "\n",
    "\n",
    "# Define the agent\n",
    "def run_agent(data):\n",
    "    agent_outcome = agent_runnable.invoke(data)\n",
    "    return {\"agent_outcome\": agent_outcome}\n",
    "\n",
    "\n",
    "# Define the function to execute tools\n",
    "def execute_tools(data):\n",
    "    # Get the most recent agent_outcome - this is the key added in the `agent` above\n",
    "    agent_action = data[\"agent_outcome\"]\n",
    "    output = tool_executor.invoke(agent_action)\n",
    "    return {\"intermediate_steps\": [(agent_action, str(output))]}\n",
    "\n",
    "\n",
    "# Define logic that will be used to determine which conditional edge to go down\n",
    "def should_continue(data):\n",
    "    print(f\"should_continue: {data}\")\n",
    "    \n",
    "    # If the agent outcome is an AgentFinish, then we return `exit` string\n",
    "    # This will be used when setting up the graph to define the flow\n",
    "    if isinstance(data[\"agent_outcome\"], AgentFinish):\n",
    "        return \"end\"\n",
    "    # Otherwise, an AgentAction is returned\n",
    "    # Here we return `continue` string\n",
    "    # This will be used when setting up the graph to define the flow\n",
    "    else:\n",
    "        return \"continue\""
   ]
  },
  {
   "cell_type": "markdown",
   "id": "02437e83-5485-4827-87e6-7ad1d02cf9be",
   "metadata": {},
   "source": [
    "**MODIFICATION**\n",
    "\n",
    "Here we create a node that returns an AgentAction that just calls the Custom Tool  with the input"
   ]
  },
  {
   "cell_type": "code",
   "execution_count": 25,
   "id": "2ed8463e-73e5-417d-9fab-be6bcee87835",
   "metadata": {
    "ExecuteTime": {
     "end_time": "2024-04-09T04:06:10.211160Z",
     "start_time": "2024-04-09T04:06:10.207458Z"
    }
   },
   "outputs": [
    {
     "data": {
      "text/plain": "'cypherqa_tool'"
     },
     "execution_count": 25,
     "metadata": {},
     "output_type": "execute_result"
    }
   ],
   "source": [
    "tools[0].name"
   ]
  },
  {
   "cell_type": "code",
   "execution_count": 46,
   "id": "df25d899-2338-4f31-a8bf-0582a2eec325",
   "metadata": {
    "ExecuteTime": {
     "end_time": "2024-04-09T04:10:07.941147Z",
     "start_time": "2024-04-09T04:10:07.934452Z"
    }
   },
   "outputs": [],
   "source": [
    "from langchain_core.agents import AgentActionMessageLog\n",
    "\n",
    "\n",
    "def first_agent(agent_inputs):\n",
    "    action = AgentActionMessageLog(\n",
    "        # We force call this tool\n",
    "        #tool=\"tavily_search_results_json\",\n",
    "        tool=\"cypherqa_tool\",\n",
    "        #tool=\"pagerduty_tool\",\n",
    "        #tool=\"similarity_search_tool\",\n",
    "        # We just pass in the `input` key to this tool\n",
    "        tool_input=agent_inputs[\"input\"],\n",
    "        #tool_input = {\"query\": agent_inputs[\"input\"], \"name\": \"SomeName\"},\n",
    "        log=\"\",\n",
    "        message_log=[],\n",
    "    )\n",
    "    return {\"agent_outcome\": action}"
   ]
  },
  {
   "cell_type": "markdown",
   "id": "c0b211f4-0c5c-4792-b18d-cd70907c71e7",
   "metadata": {},
   "source": [
    "## Define the graph\n",
    "\n",
    "We can now put it all together and define the graph!\n",
    "\n",
    "**MODIFICATION**\n",
    "\n",
    "We now add a new `first_agent` node which we set as the entrypoint."
   ]
  },
  {
   "cell_type": "code",
   "execution_count": 47,
   "id": "c4054dde-4618-49b7-998a-daa0c1d6d6c0",
   "metadata": {
    "ExecuteTime": {
     "end_time": "2024-04-09T04:10:10.519432Z",
     "start_time": "2024-04-09T04:10:10.506659Z"
    }
   },
   "outputs": [],
   "source": [
    "from langgraph.graph import END, StateGraph\n",
    "\n",
    "# Define a new graph\n",
    "workflow = StateGraph(AgentState)\n",
    "\n",
    "# Define the two nodes we will cycle between\n",
    "workflow.add_node(\"agent\", run_agent)\n",
    "workflow.add_node(\"action\", execute_tools)\n",
    "workflow.add_node(\"first_agent\", first_agent)\n",
    "\n",
    "# Set the entrypoint as `agent`\n",
    "# This means that this node is the first one called\n",
    "workflow.set_entry_point(\"first_agent\")\n",
    "\n",
    "# We now add a conditional edge\n",
    "workflow.add_conditional_edges(\n",
    "    # First, we define the start node. We use `agent`.\n",
    "    # This means these are the edges taken after the `agent` node is called.\n",
    "    \"agent\",\n",
    "    # Next, we pass in the function that will determine which node is called next.\n",
    "    should_continue,\n",
    "    # Finally we pass in a mapping.\n",
    "    # The keys are strings, and the values are other nodes.\n",
    "    # END is a special node marking that the graph should finish.\n",
    "    # What will happen is we will call `should_continue`, and then the output of that\n",
    "    # will be matched against the keys in this mapping.\n",
    "    # Based on which one it matches, that node will then be called.\n",
    "    {\n",
    "        # If `tools`, then we call the tool node.\n",
    "        \"continue\": \"action\",\n",
    "        # Otherwise we finish.\n",
    "        \"end\": END,\n",
    "    },\n",
    ")\n",
    "\n",
    "# We now add a normal edge from `tools` to `agent`.\n",
    "# This means that after `tools` is called, `agent` node is called next.\n",
    "workflow.add_edge(\"action\", \"agent\")\n",
    "\n",
    "# After the first agent, we want to take an action\n",
    "workflow.add_edge(\"first_agent\", \"action\")\n",
    "\n",
    "# Finally, we compile it!\n",
    "# This compiles it into a LangChain Runnable,\n",
    "# meaning you can use it as you would any other runnable\n",
    "app = workflow.compile()"
   ]
  },
  {
   "cell_type": "code",
   "outputs": [
    {
     "name": "stdout",
     "output_type": "stream",
     "text": [
      "\n",
      "\n",
      "\u001B[1m> Entering new GraphCypherQAChain chain...\u001B[0m\n",
      "Generated Cypher:\n",
      "\u001B[32;1m\u001B[1;3m\n",
      "MATCH (u:User {name: 'bysin'})-[:SENT]->(m:Message)\n",
      "RETURN m.content AS BysinTalksAbout\n",
      "\u001B[0m\n",
      "Full Context:\n",
      "\u001B[32;1m\u001B[1;3m[{'BysinTalksAbout': 'sig: can you draw me someone passing out from the smell of that fart?'}, {'BysinTalksAbout': 'jail, straight to jail'}, {'BysinTalksAbout': 'threadr: i talk about how bland you are, remember that'}, {'BysinTalksAbout': 'threadr: did you get that? bland'}, {'BysinTalksAbout': 'that is... very bland'}, {'BysinTalksAbout': 'i cant believe they made a copy-cat channel without the !'}, {'BysinTalksAbout': 'last one'}, {'BysinTalksAbout': 'watch my link'}, {'BysinTalksAbout': 'hi'}, {'BysinTalksAbout': \"that doesn't look like an american meal\"}]\u001B[0m\n",
      "\n",
      "\u001B[1m> Finished chain.\u001B[0m\n",
      "should_continue: {'input': 'What does bysin talk about?', 'chat_history': [], 'agent_outcome': AgentFinish(return_values={'output': 'Bysin discusses a range of topics, such as:\\n\\n- Someone passing out from the smell of a fart\\n- Going straight to jail\\n- Discussing how bland someone is\\n- Making a copy-cat channel without the \"!\"\\n- Mentioning it\\'s the last one\\n- Asking to watch a link\\n- Greeting with \"hi\"\\n- Commenting on something not looking like an American meal'}, log='Bysin discusses a range of topics, such as:\\n\\n- Someone passing out from the smell of a fart\\n- Going straight to jail\\n- Discussing how bland someone is\\n- Making a copy-cat channel without the \"!\"\\n- Mentioning it\\'s the last one\\n- Asking to watch a link\\n- Greeting with \"hi\"\\n- Commenting on something not looking like an American meal'), 'intermediate_steps': [(AgentActionMessageLog(tool='cypherqa_tool', tool_input='What does bysin talk about?', log='', message_log=[]), 'Bysin talks about a variety of topics including someone passing out from the smell of a fart, going straight to jail, discussing how bland someone is, making a copy-cat channel without the \"!\", mentioning it\\'s the last one, asking to watch a link, greeting with \"hi\", and commenting on something not looking like an American meal.')]}\n",
      "Top-level keys in result: ['chat_history', 'input', 'agent_outcome', 'intermediate_steps']\n",
      "Final Output: Bysin discusses a range of topics, such as:\n",
      "\n",
      "- Someone passing out from the smell of a fart\n",
      "- Going straight to jail\n",
      "- Discussing how bland someone is\n",
      "- Making a copy-cat channel without the \"!\"\n",
      "- Mentioning it's the last one\n",
      "- Asking to watch a link\n",
      "- Greeting with \"hi\"\n",
      "- Commenting on something not looking like an American meal\n"
     ]
    }
   ],
   "source": [
    "inputs = {\"input\": \"What does bysin talk about?\", \"chat_history\": []}\n",
    "result = app.invoke(inputs)\n",
    "\n",
    "agent_finish_instance = result['agent_outcome']\n",
    "\n",
    "# Accessing the 'output' from 'return_values'\n",
    "final_output = agent_finish_instance.return_values['output']\n",
    "\n",
    "print(\"Final Output:\", final_output)\n"
   ],
   "metadata": {
    "collapsed": false,
    "ExecuteTime": {
     "end_time": "2024-04-09T05:15:55.585875Z",
     "start_time": "2024-04-09T05:15:46.914935Z"
    }
   },
   "id": "de00cd28163daf1b",
   "execution_count": 59
  },
  {
   "cell_type": "code",
   "execution_count": 60,
   "id": "214ae46e-c297-465d-86db-2b0312ed3530",
   "metadata": {
    "ExecuteTime": {
     "end_time": "2024-04-09T05:19:12.689423Z",
     "start_time": "2024-04-09T05:19:04.128673Z"
    }
   },
   "outputs": [
    {
     "name": "stdout",
     "output_type": "stream",
     "text": [
      "\n",
      "\n",
      "\u001B[1m> Entering new GraphCypherQAChain chain...\u001B[0m\n",
      "Generated Cypher:\n",
      "\u001B[32;1m\u001B[1;3m\n",
      "MATCH (u:User {name: 'farmr'})-[:SENT]->(m:Message)\n",
      "RETURN m.content AS FarmrMessages\n",
      "\u001B[0m\n",
      "Full Context:\n",
      "\u001B[32;1m\u001B[1;3m[{'FarmrMessages': 'what exactly would he have us do?'}, {'FarmrMessages': 'why does he think humans are IGNORING it?'}, {'FarmrMessages': 'with individual sections you mentioned'}, {'FarmrMessages': 'Hofstra University dorms were named The Netherlands'}, {'FarmrMessages': 'i see!'}, {'FarmrMessages': 'sig: what white powder could ancient Mayans have been mining in the movie \"Apocalypto\" (2006)?'}, {'FarmrMessages': 'more organized...'}, {'FarmrMessages': 'id sorta envisioned mayans as little more \"advanced\" tho'}, {'FarmrMessages': 'movie was \"gritty\"'}, {'FarmrMessages': 'YES!'}]\u001B[0m\n",
      "\n",
      "\u001B[1m> Finished chain.\u001B[0m\n",
      "should_continue: {'input': 'What does farmr talk about?', 'chat_history': [], 'agent_outcome': AgentFinish(return_values={'output': 'Farmr covers a diverse range of topics, such as:\\n\\n- Questions and discussions about human behavior, including actions and perceptions.\\n- The naming of Hofstra University dorms as The Netherlands.\\n- Speculation about the white powder that ancient Mayans might have been mining in the movie \"Apocalypto\" (2006).\\n- Comments on organization and advancements of the Mayans.\\n- Discussions about the gritty nature of the movie \"Apocalypto.\"\\n\\nThese topics indicate a wide-ranging interest in history, movies, and human sociology.'}, log='Farmr covers a diverse range of topics, such as:\\n\\n- Questions and discussions about human behavior, including actions and perceptions.\\n- The naming of Hofstra University dorms as The Netherlands.\\n- Speculation about the white powder that ancient Mayans might have been mining in the movie \"Apocalypto\" (2006).\\n- Comments on organization and advancements of the Mayans.\\n- Discussions about the gritty nature of the movie \"Apocalypto.\"\\n\\nThese topics indicate a wide-ranging interest in history, movies, and human sociology.'), 'intermediate_steps': [(AgentActionMessageLog(tool='cypherqa_tool', tool_input='What does farmr talk about?', log='', message_log=[]), 'Farmr discusses various topics including questions about actions and perceptions regarding human behavior, the naming of Hofstra University dorms as The Netherlands, and a query about what white powder ancient Mayans might have been mining in the movie \"Apocalypto\" (2006). Additionally, there are comments on organization, advancements of the Mayans, and the movie\\'s gritty nature.')]}\n",
      "Final Output: Farmr covers a diverse range of topics, such as:\n",
      "\n",
      "- Questions and discussions about human behavior, including actions and perceptions.\n",
      "- The naming of Hofstra University dorms as The Netherlands.\n",
      "- Speculation about the white powder that ancient Mayans might have been mining in the movie \"Apocalypto\" (2006).\n",
      "- Comments on organization and advancements of the Mayans.\n",
      "- Discussions about the gritty nature of the movie \"Apocalypto.\"\n",
      "\n",
      "These topics indicate a wide-ranging interest in history, movies, and human sociology.\n"
     ]
    }
   ],
   "source": [
    "inputs = {\"input\": \"What does farmr talk about?\", \"chat_history\": []}\n",
    "result = app.invoke(inputs)\n",
    "\n",
    "agent_finish_instance = result['agent_outcome']\n",
    "\n",
    "# Accessing the 'output' from 'return_values'\n",
    "final_output = agent_finish_instance.return_values['output']\n",
    "\n",
    "print(\"Final Output:\", final_output)"
   ]
  },
  {
   "cell_type": "code",
   "execution_count": 61,
   "id": "2eb662bc-de7d-4a57-a3e8-2f00dcf4ff8b",
   "metadata": {
    "ExecuteTime": {
     "end_time": "2024-04-09T05:20:54.025043Z",
     "start_time": "2024-04-09T05:20:42.892226Z"
    }
   },
   "outputs": [
    {
     "name": "stdout",
     "output_type": "stream",
     "text": [
      "\n",
      "\n",
      "\u001B[1m> Entering new GraphCypherQAChain chain...\u001B[0m\n",
      "Generated Cypher:\n",
      "\u001B[32;1m\u001B[1;3m\n",
      "MATCH (a:User {name: 'farmr'})-[:INTERACTED_WITH]-(b:User {name: 'bysin'})\n",
      "RETURN a, b\n",
      "\u001B[0m\n",
      "Full Context:\n",
      "\u001B[32;1m\u001B[1;3m[]\u001B[0m\n",
      "\n",
      "\u001B[1m> Finished chain.\u001B[0m\n",
      "should_continue: {'input': 'Does farmr know bysin?', 'chat_history': [], 'agent_outcome': AgentFinish(return_values={'output': 'It seems like there might have been a typo or confusion in your question. If you\\'re asking whether \"farmer\" knows \"bison,\" it could be interpreted in a few ways depending on the context. If you\\'re asking in the context of a database or a specific dataset, could you please clarify or correct the terms you\\'re using? If you\\'re asking in a more general or figurative sense, please provide more details so I can assist you better.'}, log='It seems like there might have been a typo or confusion in your question. If you\\'re asking whether \"farmer\" knows \"bison,\" it could be interpreted in a few ways depending on the context. If you\\'re asking in the context of a database or a specific dataset, could you please clarify or correct the terms you\\'re using? If you\\'re asking in a more general or figurative sense, please provide more details so I can assist you better.'), 'intermediate_steps': [(AgentActionMessageLog(tool='cypherqa_tool', tool_input='Does farmr know bysin?', log='', message_log=[]), \"I don't know the answer.\")]}\n",
      "Final Output: It seems like there might have been a typo or confusion in your question. If you're asking whether \"farmer\" knows \"bison,\" it could be interpreted in a few ways depending on the context. If you're asking in the context of a database or a specific dataset, could you please clarify or correct the terms you're using? If you're asking in a more general or figurative sense, please provide more details so I can assist you better.\n"
     ]
    }
   ],
   "source": [
    "inputs = {\"input\": \"Does farmr know bysin?\", \"chat_history\": []}\n",
    "result = app.invoke(inputs)\n",
    "\n",
    "agent_finish_instance = result['agent_outcome']\n",
    "\n",
    "# Accessing the 'output' from 'return_values'\n",
    "final_output = agent_finish_instance.return_values['output']\n",
    "\n",
    "print(\"Final Output:\", final_output)"
   ]
  },
  {
   "cell_type": "code",
   "execution_count": 62,
   "id": "5d4e07afff30d243",
   "metadata": {
    "collapsed": false,
    "ExecuteTime": {
     "end_time": "2024-04-09T05:21:18.101706Z",
     "start_time": "2024-04-09T05:21:14.581770Z"
    }
   },
   "outputs": [
    {
     "name": "stdout",
     "output_type": "stream",
     "text": [
      "\n",
      "\n",
      "\u001B[1m> Entering new GraphCypherQAChain chain...\u001B[0m\n",
      "Generated Cypher:\n",
      "\u001B[32;1m\u001B[1;3m\n",
      "MATCH (farmr:User {name: 'farmr'})-[:INTERACTED_WITH]->(sig:User {name: 'sig'})\n",
      "RETURN COUNT(*) AS InteractionCount\n",
      "\u001B[0m\n",
      "Full Context:\n",
      "\u001B[32;1m\u001B[1;3m[{'InteractionCount': 1}]\u001B[0m\n",
      "\n",
      "\u001B[1m> Finished chain.\u001B[0m\n",
      "should_continue: {'input': 'How well does farmr know sig? Can you please include a count of your interactions', 'chat_history': [], 'agent_outcome': AgentFinish(return_values={'output': 'Farmr knows Sig through 1 interaction.'}, log='Farmr knows Sig through 1 interaction.'), 'intermediate_steps': [(AgentActionMessageLog(tool='cypherqa_tool', tool_input='How well does farmr know sig? Can you please include a count of your interactions', log='', message_log=[]), 'Farmr knows Sig through 1 interaction.')]}\n",
      "Final Output: Farmr knows Sig through 1 interaction.\n"
     ]
    }
   ],
   "source": [
    "inputs = {\"input\": \"How well does farmr know sig? Can you please include a count of your interactions\", \"chat_history\": []}\n",
    "result = app.invoke(inputs)\n",
    "\n",
    "agent_finish_instance = result['agent_outcome']\n",
    "\n",
    "# Accessing the 'output' from 'return_values'\n",
    "final_output = agent_finish_instance.return_values['output']\n",
    "\n",
    "print(\"Final Output:\", final_output)"
   ]
  },
  {
   "cell_type": "code",
   "outputs": [
    {
     "name": "stdout",
     "output_type": "stream",
     "text": [
      "\n",
      "\n",
      "\u001B[1m> Entering new GraphCypherQAChain chain...\u001B[0m\n",
      "Generated Cypher:\n",
      "\u001B[32;1m\u001B[1;3m\n",
      "MATCH (f:User {name: 'farmr'})-[:SENT]->(m:Message)-[:MENTIONED]->(s:User {name: 'sig'})\n",
      "RETURN m.content AS conversation\n",
      "\u001B[0m\n",
      "Full Context:\n",
      "\u001B[32;1m\u001B[1;3m[{'conversation': 'sig: what white powder could ancient Mayans have been mining in the movie \"Apocalypto\" (2006)?'}]\u001B[0m\n",
      "\n",
      "\u001B[1m> Finished chain.\u001B[0m\n",
      "should_continue: {'input': 'What do farmr and sig talk about?', 'chat_history': [], 'agent_outcome': AgentFinish(return_values={'output': 'Farmr and Sig discuss the white powder that the ancient Mayans could have been mining in the movie \"Apocalypto\" (2006).'}, log='Farmr and Sig discuss the white powder that the ancient Mayans could have been mining in the movie \"Apocalypto\" (2006).'), 'intermediate_steps': [(AgentActionMessageLog(tool='cypherqa_tool', tool_input='What do farmr and sig talk about?', log='', message_log=[]), 'Farmr and Sig talk about what white powder the ancient Mayans could have been mining in the movie \"Apocalypto\" (2006).')]}\n",
      "Final Output: Farmr and Sig discuss the white powder that the ancient Mayans could have been mining in the movie \"Apocalypto\" (2006).\n"
     ]
    }
   ],
   "source": [
    "inputs = {\"input\": \"What do farmr and sig talk about?\", \"chat_history\": []}\n",
    "result = app.invoke(inputs)\n",
    "\n",
    "agent_finish_instance = result['agent_outcome']\n",
    "\n",
    "# Accessing the 'output' from 'return_values'\n",
    "final_output = agent_finish_instance.return_values['output']\n",
    "\n",
    "print(\"Final Output:\", final_output)"
   ],
   "metadata": {
    "collapsed": false,
    "ExecuteTime": {
     "end_time": "2024-04-09T05:21:27.755432Z",
     "start_time": "2024-04-09T05:21:21.870593Z"
    }
   },
   "id": "58a0480352d5f605",
   "execution_count": 63
  },
  {
   "cell_type": "code",
   "execution_count": 65,
   "id": "8d71a8c595f309ed",
   "metadata": {
    "collapsed": false,
    "ExecuteTime": {
     "end_time": "2024-04-09T05:22:12.571130Z",
     "start_time": "2024-04-09T05:22:04.203715Z"
    }
   },
   "outputs": [
    {
     "name": "stdout",
     "output_type": "stream",
     "text": [
      "\n",
      "\n",
      "\u001B[1m> Entering new GraphCypherQAChain chain...\u001B[0m\n",
      "Generated Cypher:\n",
      "\u001B[32;1m\u001B[1;3m\n",
      "MATCH (f:User {name: 'farmr'})-[:SENT]->(m:Message)-[:MENTIONED]->(s:User {name: 'sig'})\n",
      "WHERE m.timestamp >= \"2024-04-09T00:00:00Z\" AND m.timestamp < \"2024-04-10T00:00:00Z\"\n",
      "RETURN m.content AS conversation\n",
      "\u001B[0m\n",
      "Full Context:\n",
      "\u001B[32;1m\u001B[1;3m[]\u001B[0m\n",
      "\n",
      "\u001B[1m> Finished chain.\u001B[0m\n",
      "should_continue: {'input': \"What did farmr and sig talk about yesterday? Today's date is Sun Apr 10 2024\", 'chat_history': [], 'agent_outcome': AgentActionMessageLog(tool='similarity_search_tool', tool_input={'query': 'What did farmr and sig talk about yesterday?'}, log=\"\\nInvoking: `similarity_search_tool` with `{'query': 'What did farmr and sig talk about yesterday?'}`\\n\\n\\n\", message_log=[AIMessage(content='', additional_kwargs={'function_call': {'arguments': '{\"query\":\"What did farmr and sig talk about yesterday?\"}', 'name': 'similarity_search_tool'}}, response_metadata={'finish_reason': 'function_call'}, id='run-76a5281c-a377-4f8c-9b50-151d329470bb-0')]), 'intermediate_steps': [(AgentActionMessageLog(tool='cypherqa_tool', tool_input=\"What did farmr and sig talk about yesterday? Today's date is Sun Apr 10 2024\", log='', message_log=[]), \"I don't know the answer.\")]}\n",
      "should_continue: {'input': \"What did farmr and sig talk about yesterday? Today's date is Sun Apr 10 2024\", 'chat_history': [], 'agent_outcome': AgentFinish(return_values={'output': 'Yesterday, Farmr and Sig talked about several topics, including corn, coins dusk, and they also discussed \"which one\" possibly in the context of making a choice or decision.'}, log='Yesterday, Farmr and Sig talked about several topics, including corn, coins dusk, and they also discussed \"which one\" possibly in the context of making a choice or decision.'), 'intermediate_steps': [(AgentActionMessageLog(tool='cypherqa_tool', tool_input=\"What did farmr and sig talk about yesterday? Today's date is Sun Apr 10 2024\", log='', message_log=[]), \"I don't know the answer.\"), (AgentActionMessageLog(tool='similarity_search_tool', tool_input={'query': 'What did farmr and sig talk about yesterday?'}, log=\"\\nInvoking: `similarity_search_tool` with `{'query': 'What did farmr and sig talk about yesterday?'}`\\n\\n\\n\", message_log=[AIMessage(content='', additional_kwargs={'function_call': {'arguments': '{\"query\":\"What did farmr and sig talk about yesterday?\"}', 'name': 'similarity_search_tool'}}, response_metadata={'finish_reason': 'function_call'}, id='run-76a5281c-a377-4f8c-9b50-151d329470bb-0')]), \"['<leku> .corn', '<leku> .corn', '<leku> `coins dusk', '<leku> which one']\")]}\n",
      "Final Output: Yesterday, Farmr and Sig talked about several topics, including corn, coins dusk, and they also discussed \"which one\" possibly in the context of making a choice or decision.\n"
     ]
    }
   ],
   "source": [
    "inputs = {\"input\": \"What did farmr and sig talk about yesterday? Today's date is Sun Apr 10 2024\", \"chat_history\": []}\n",
    "result = app.invoke(inputs)\n",
    "\n",
    "agent_finish_instance = result['agent_outcome']\n",
    "\n",
    "# Accessing the 'output' from 'return_values'\n",
    "final_output = agent_finish_instance.return_values['output']\n",
    "\n",
    "print(\"Final Output:\", final_output)"
   ]
  },
  {
   "cell_type": "code",
   "execution_count": 67,
   "id": "c05dd54ae1f470e7",
   "metadata": {
    "collapsed": false,
    "ExecuteTime": {
     "end_time": "2024-04-09T05:23:49.801367Z",
     "start_time": "2024-04-09T05:23:36.097912Z"
    }
   },
   "outputs": [
    {
     "name": "stdout",
     "output_type": "stream",
     "text": [
      "\n",
      "\n",
      "\u001B[1m> Entering new GraphCypherQAChain chain...\u001B[0m\n",
      "Generated Cypher:\n",
      "\u001B[32;1m\u001B[1;3m\n",
      "MATCH (m:Message)-[:POSTED_IN]->(c:Channel)\n",
      "WHERE m.timestamp >= \"2024-04-03T00:00:00Z\" AND m.timestamp <= \"2024-04-10T23:59:59Z\"\n",
      "RETURN m.content AS ImportantConversations, m.timestamp AS Time, c.name AS Channel\n",
      "ORDER BY m.embedding[0] DESC\n",
      "LIMIT 10\n",
      "\u001B[0m\n",
      "Full Context:\n",
      "\u001B[32;1m\u001B[1;3m[{'ImportantConversations': '- Commenting on something not looking like an American meal', 'Time': '2024-04-09T05:16:23.070375+00:00', 'Channel': '#!chases'}, {'ImportantConversations': '- Greeting with \"hi\"', 'Time': '2024-04-09T05:16:22.188672+00:00', 'Channel': '#!chases'}, {'ImportantConversations': '- Asking to watch a link', 'Time': '2024-04-09T05:16:22.154330+00:00', 'Channel': '#!chases'}, {'ImportantConversations': \"- Mentioning it's the last one\", 'Time': '2024-04-09T05:16:21.364432+00:00', 'Channel': '#!chases'}, {'ImportantConversations': '- Making a copy-cat channel without the \"!\"', 'Time': '2024-04-09T05:16:21.363497+00:00', 'Channel': '#!chases'}, {'ImportantConversations': '- Discussing how bland someone is', 'Time': '2024-04-09T05:16:21.362304+00:00', 'Channel': '#!chases'}, {'ImportantConversations': '- Going straight to jail', 'Time': '2024-04-09T05:16:21.360673+00:00', 'Channel': '#!chases'}, {'ImportantConversations': '- Someone passing out from the smell of a fart', 'Time': '2024-04-09T05:16:21.326467+00:00', 'Channel': '#!chases'}, {'ImportantConversations': ' Bysin discusses a range of topics, such as:', 'Time': '2024-04-09T05:16:21.258578+00:00', 'Channel': '#!chases'}, {'ImportantConversations': 'thats a good bot you got there', 'Time': '2024-04-09T05:16:34.601737+00:00', 'Channel': '#!chases'}]\u001B[0m\n",
      "\n",
      "\u001B[1m> Finished chain.\u001B[0m\n",
      "should_continue: {'input': \"What were the top conversations of utmost importance over the last week? Today's date is April 10th 2024\", 'chat_history': [], 'agent_outcome': AgentFinish(return_values={'output': 'Over the last week, the conversations that were of utmost importance included a diverse range of topics:\\n\\n1. A comment on something not resembling an American meal.\\n2. A simple greeting with \"hi.\"\\n3. A request to watch a link, mentioned as being the last one.\\n4. The creation of a copy-cat channel, specifically noted for lacking an exclamation mark (\"!\").\\n5. A discussion about someone being bland.\\n6. A humorous or metaphorical reference to going straight to jail.\\n7. An incident involving someone passing out from the smell of a fart.\\n8. A range of topics discussed by a user named Bysin.\\n9. A compliment or acknowledgment of a good bot.\\n\\nThese conversations suggest a mix of social interaction, humor, and technical discussions.'}, log='Over the last week, the conversations that were of utmost importance included a diverse range of topics:\\n\\n1. A comment on something not resembling an American meal.\\n2. A simple greeting with \"hi.\"\\n3. A request to watch a link, mentioned as being the last one.\\n4. The creation of a copy-cat channel, specifically noted for lacking an exclamation mark (\"!\").\\n5. A discussion about someone being bland.\\n6. A humorous or metaphorical reference to going straight to jail.\\n7. An incident involving someone passing out from the smell of a fart.\\n8. A range of topics discussed by a user named Bysin.\\n9. A compliment or acknowledgment of a good bot.\\n\\nThese conversations suggest a mix of social interaction, humor, and technical discussions.'), 'intermediate_steps': [(AgentActionMessageLog(tool='cypherqa_tool', tool_input=\"What were the top conversations of utmost importance over the last week? Today's date is April 10th 2024\", log='', message_log=[]), 'Over the last week, the top conversations of utmost importance included commenting on something not looking like an American meal, greeting with \"hi\", asking to watch a link, mentioning it\\'s the last one, making a copy-cat channel without the \"!\", discussing how bland someone is, going straight to jail, someone passing out from the smell of a fart, and a discussion by Bysin on a range of topics. Additionally, there was a mention of \"that\\'s a good bot you got there.\"')]}\n",
      "Final Output: Over the last week, the conversations that were of utmost importance included a diverse range of topics:\n",
      "\n",
      "1. A comment on something not resembling an American meal.\n",
      "2. A simple greeting with \"hi.\"\n",
      "3. A request to watch a link, mentioned as being the last one.\n",
      "4. The creation of a copy-cat channel, specifically noted for lacking an exclamation mark (\"!\").\n",
      "5. A discussion about someone being bland.\n",
      "6. A humorous or metaphorical reference to going straight to jail.\n",
      "7. An incident involving someone passing out from the smell of a fart.\n",
      "8. A range of topics discussed by a user named Bysin.\n",
      "9. A compliment or acknowledgment of a good bot.\n",
      "\n",
      "These conversations suggest a mix of social interaction, humor, and technical discussions.\n"
     ]
    }
   ],
   "source": [
    "inputs = {\"input\": \"What were the top conversations of utmost importance over the last week? Today's date is April 10th 2024\", \"chat_history\": []}\n",
    "result = app.invoke(inputs)\n",
    "\n",
    "agent_finish_instance = result['agent_outcome']\n",
    "\n",
    "# Accessing the 'output' from 'return_values'\n",
    "final_output = agent_finish_instance.return_values['output']\n",
    "\n",
    "print(\"Final Output:\", final_output)"
   ]
  },
  {
   "cell_type": "code",
   "execution_count": 68,
   "id": "eb56c7d085657188",
   "metadata": {
    "collapsed": false,
    "ExecuteTime": {
     "end_time": "2024-04-09T05:24:22.220504Z",
     "start_time": "2024-04-09T05:24:16.357576Z"
    }
   },
   "outputs": [
    {
     "name": "stdout",
     "output_type": "stream",
     "text": [
      "\n",
      "\n",
      "\u001B[1m> Entering new GraphCypherQAChain chain...\u001B[0m\n",
      "Generated Cypher:\n",
      "\u001B[32;1m\u001B[1;3m\n",
      "MATCH (a:User {name: 'bysin'})-[:INTERACTED_WITH|CONNECTION*1..2]-(b:User {name: 'farmr'})\n",
      "RETURN COUNT(b) > 0 AS Knows\n",
      "\u001B[0m\n",
      "Full Context:\n",
      "\u001B[32;1m\u001B[1;3m[{'Knows': True}]\u001B[0m\n",
      "\n",
      "\u001B[1m> Finished chain.\u001B[0m\n",
      "should_continue: {'input': 'Does bysin from #!chases know farmr?', 'chat_history': [], 'agent_outcome': AgentFinish(return_values={'output': 'Yes, Bysin from #!chases knows Farmr.'}, log='Yes, Bysin from #!chases knows Farmr.'), 'intermediate_steps': [(AgentActionMessageLog(tool='cypherqa_tool', tool_input='Does bysin from #!chases know farmr?', log='', message_log=[]), 'Yes, bysin from #!chases knows farmr.')]}\n",
      "Final Output: Yes, Bysin from #!chases knows Farmr.\n"
     ]
    }
   ],
   "source": [
    "inputs = {\"input\": \"Does bysin from #!chases know farmr?\", \"chat_history\": []}\n",
    "result = app.invoke(inputs)\n",
    "\n",
    "agent_finish_instance = result['agent_outcome']\n",
    "\n",
    "# Accessing the 'output' from 'return_values'\n",
    "final_output = agent_finish_instance.return_values['output']\n",
    "\n",
    "print(\"Final Output:\", final_output)"
   ]
  },
  {
   "cell_type": "code",
   "execution_count": 69,
   "id": "2d718f1185125985",
   "metadata": {
    "collapsed": false,
    "ExecuteTime": {
     "end_time": "2024-04-09T05:24:49.812529Z",
     "start_time": "2024-04-09T05:24:32.083851Z"
    }
   },
   "outputs": [
    {
     "name": "stdout",
     "output_type": "stream",
     "text": [
      "\n",
      "\n",
      "\u001B[1m> Entering new GraphCypherQAChain chain...\u001B[0m\n",
      "Generated Cypher:\n",
      "\u001B[32;1m\u001B[1;3m\n",
      "MATCH (m:Message)-[:POSTED_IN]->(c:Channel)\n",
      "WHERE m.platform = \"IRC\"\n",
      "AND m.content CONTAINS \"PagerDuty\"\n",
      "AND m.timestamp >= \"2024-03-07T00:00:00Z\"\n",
      "AND m.timestamp <= \"2024-04-07T23:59:59Z\"\n",
      "RETURN m.content AS EventContent, c.name AS TeamSplit\n",
      "\u001B[0m\n",
      "Full Context:\n",
      "\u001B[32;1m\u001B[1;3m[]\u001B[0m\n",
      "\n",
      "\u001B[1m> Finished chain.\u001B[0m\n",
      "should_continue: {'input': \"What PagerDuty events have been fired and delivered over the last month and what was the team split? Today's date is Sun apr 7 2024\", 'chat_history': [], 'agent_outcome': AgentFinish(return_values={'output': 'I\\'m unable to directly access or retrieve live or specific data regarding events from PagerDuty or any other external systems as of my last update in April 2023. To find out about PagerDuty events that have been fired and delivered over the last month and to understand the team split, you would need to access your PagerDuty account. Here are the steps you can follow to gather this information:\\n\\n1. **Log in to PagerDuty**: Access your account using your login credentials.\\n\\n2. **Navigate to the Reports or Analytics Section**: Once logged in, look for the \"Analytics\" or \"Reports\" section of the dashboard. This section provides various reports on incidents, alerts, and other metrics.\\n\\n3. **Incident Reports**: For events fired and delivered, you may want to check the incident reports. These reports can show you all incidents that occurred within a specified time frame, including their status (triggered, acknowledged, resolved).\\n\\n4. **Team Reports**: To understand the team split, look for reports that break down incidents by team or user. This can show you how incidents were distributed among different teams or responders.\\n\\n5. **Customize Your Report**: Use the filtering options to set the time frame for the last month. You can also customize the reports based on other criteria that are relevant to what you want to analyze.\\n\\n6. **Export and Analyze**: Most reporting tools in systems like PagerDuty allow you to export your reports in various formats (e.g., CSV, PDF). You can use this data for further analysis or presentation.\\n\\nIf you\\'re looking for more specific information or need to automate this process, consider using the PagerDuty API. The API can be used to programmatically retrieve incident and alert data, as well as information about teams and users. You would need some programming knowledge or assistance from a developer to use the API effectively.\\n\\nFor the most accurate and detailed instructions, please refer to the official PagerDuty documentation or contact their support team.'}, log='I\\'m unable to directly access or retrieve live or specific data regarding events from PagerDuty or any other external systems as of my last update in April 2023. To find out about PagerDuty events that have been fired and delivered over the last month and to understand the team split, you would need to access your PagerDuty account. Here are the steps you can follow to gather this information:\\n\\n1. **Log in to PagerDuty**: Access your account using your login credentials.\\n\\n2. **Navigate to the Reports or Analytics Section**: Once logged in, look for the \"Analytics\" or \"Reports\" section of the dashboard. This section provides various reports on incidents, alerts, and other metrics.\\n\\n3. **Incident Reports**: For events fired and delivered, you may want to check the incident reports. These reports can show you all incidents that occurred within a specified time frame, including their status (triggered, acknowledged, resolved).\\n\\n4. **Team Reports**: To understand the team split, look for reports that break down incidents by team or user. This can show you how incidents were distributed among different teams or responders.\\n\\n5. **Customize Your Report**: Use the filtering options to set the time frame for the last month. You can also customize the reports based on other criteria that are relevant to what you want to analyze.\\n\\n6. **Export and Analyze**: Most reporting tools in systems like PagerDuty allow you to export your reports in various formats (e.g., CSV, PDF). You can use this data for further analysis or presentation.\\n\\nIf you\\'re looking for more specific information or need to automate this process, consider using the PagerDuty API. The API can be used to programmatically retrieve incident and alert data, as well as information about teams and users. You would need some programming knowledge or assistance from a developer to use the API effectively.\\n\\nFor the most accurate and detailed instructions, please refer to the official PagerDuty documentation or contact their support team.'), 'intermediate_steps': [(AgentActionMessageLog(tool='cypherqa_tool', tool_input=\"What PagerDuty events have been fired and delivered over the last month and what was the team split? Today's date is Sun apr 7 2024\", log='', message_log=[]), \"I don't know the answer.\")]}\n",
      "Final Output: I'm unable to directly access or retrieve live or specific data regarding events from PagerDuty or any other external systems as of my last update in April 2023. To find out about PagerDuty events that have been fired and delivered over the last month and to understand the team split, you would need to access your PagerDuty account. Here are the steps you can follow to gather this information:\n",
      "\n",
      "1. **Log in to PagerDuty**: Access your account using your login credentials.\n",
      "\n",
      "2. **Navigate to the Reports or Analytics Section**: Once logged in, look for the \"Analytics\" or \"Reports\" section of the dashboard. This section provides various reports on incidents, alerts, and other metrics.\n",
      "\n",
      "3. **Incident Reports**: For events fired and delivered, you may want to check the incident reports. These reports can show you all incidents that occurred within a specified time frame, including their status (triggered, acknowledged, resolved).\n",
      "\n",
      "4. **Team Reports**: To understand the team split, look for reports that break down incidents by team or user. This can show you how incidents were distributed among different teams or responders.\n",
      "\n",
      "5. **Customize Your Report**: Use the filtering options to set the time frame for the last month. You can also customize the reports based on other criteria that are relevant to what you want to analyze.\n",
      "\n",
      "6. **Export and Analyze**: Most reporting tools in systems like PagerDuty allow you to export your reports in various formats (e.g., CSV, PDF). You can use this data for further analysis or presentation.\n",
      "\n",
      "If you're looking for more specific information or need to automate this process, consider using the PagerDuty API. The API can be used to programmatically retrieve incident and alert data, as well as information about teams and users. You would need some programming knowledge or assistance from a developer to use the API effectively.\n",
      "\n",
      "For the most accurate and detailed instructions, please refer to the official PagerDuty documentation or contact their support team.\n"
     ]
    }
   ],
   "source": [
    "inputs = {\"input\": \"What PagerDuty events have been fired and delivered over the last month and what was the team split? Today's date is Sun apr 7 2024\", \"chat_history\": []}\n",
    "result = app.invoke(inputs)\n",
    "\n",
    "agent_finish_instance = result['agent_outcome']\n",
    "\n",
    "# Accessing the 'output' from 'return_values'\n",
    "final_output = agent_finish_instance.return_values['output']\n",
    "\n",
    "print(\"Final Output:\", final_output)"
   ]
  },
  {
   "cell_type": "code",
   "execution_count": 36,
   "id": "248a9f2f7accda16",
   "metadata": {
    "collapsed": false,
    "ExecuteTime": {
     "end_time": "2024-04-09T04:06:49.798494Z",
     "start_time": "2024-04-09T04:06:49.795091Z"
    }
   },
   "outputs": [],
   "source": []
  }
 ],
 "metadata": {
  "kernelspec": {
   "display_name": "Python 3 (ipykernel)",
   "language": "python",
   "name": "python3"
  },
  "language_info": {
   "codemirror_mode": {
    "name": "ipython",
    "version": 3
   },
   "file_extension": ".py",
   "mimetype": "text/x-python",
   "name": "python",
   "nbconvert_exporter": "python",
   "pygments_lexer": "ipython3",
   "version": "3.11.8"
  }
 },
 "nbformat": 4,
 "nbformat_minor": 5
}
