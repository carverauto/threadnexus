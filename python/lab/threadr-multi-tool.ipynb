{
 "cells": [
  {
   "cell_type": "markdown",
   "id": "f725852e-71ef-4615-8cac-011a516fbe72",
   "metadata": {},
   "source": [
    "# Agent Executor From Scratch\n",
    "\n",
    "In this notebook we will create an agent with a search tool. However, at the start we will force the agent to call the search tool (and then let it do whatever it wants after). This is useful when you want to force agents to call particular tools, but still want flexibility of what happens after that.\n",
    "\n",
    "This examples builds off the base agent executor. It is highly recommended you learn about that executor before going through this notebook. You can find documentation for that example [here](./base.ipynb).\n",
    "\n",
    "Any modifications of that example are called below with **MODIFICATION**, so if you are looking for the differences you can just search for that."
   ]
  },
  {
   "cell_type": "markdown",
   "id": "6821de30-6eeb-4f70-b0a7-e05d3187b14b",
   "metadata": {},
   "source": [
    "## Setup\n",
    "\n",
    "First we need to install the packages required"
   ]
  },
  {
   "cell_type": "code",
   "execution_count": 47,
   "id": "694cfc4c-22a7-495d-930d-56b21d850ff9",
   "metadata": {
    "ExecuteTime": {
     "end_time": "2024-04-07T16:50:17.877163Z",
     "start_time": "2024-04-07T16:49:44.419638Z"
    }
   },
   "outputs": [
    {
     "name": "stdout",
     "output_type": "stream",
     "text": [
      "/Users/mfreeman/src/threadr/python/lab\r\n",
      "\u001B[31mERROR: pip's dependency resolver does not currently take into account all the packages that are installed. This behaviour is the source of the following dependency conflicts.\r\n",
      "snowflake-connector-python 3.2.1 requires platformdirs<4.0.0,>=2.6.0, but you have platformdirs 4.2.0 which is incompatible.\r\n",
      "snowflake-connector-python 3.2.1 requires urllib3<1.27,>=1.21.1, but you have urllib3 2.0.4 which is incompatible.\r\n",
      "datasets 2.17.1 requires fsspec[http]<=2023.10.0,>=2023.1.0, but you have fsspec 2024.2.0 which is incompatible.\r\n",
      "predibase 2024.3.6 requires dataclasses-json==0.5.7, but you have dataclasses-json 0.5.14 which is incompatible.\r\n",
      "predibase 2024.3.6 requires pydantic==1.10.13, but you have pydantic 2.3.0 which is incompatible.\r\n",
      "questionary 2.0.1 requires prompt_toolkit<=3.0.36,>=2.0, but you have prompt-toolkit 3.0.43 which is incompatible.\r\n",
      "great-expectations 0.15.50 requires pydantic<2.0,>=1.10.4, but you have pydantic 2.3.0 which is incompatible.\r\n",
      "great-expectations 0.15.50 requires urllib3<1.27,>=1.25.4, but you have urllib3 2.0.4 which is incompatible.\r\n",
      "langchain-cli 0.0.21 requires uvicorn<0.24.0,>=0.23.2, but you have uvicorn 0.29.0 which is incompatible.\r\n",
      "mage-ai 0.9.44 requires GitPython==3.1.34, but you have gitpython 3.1.42 which is incompatible.\r\n",
      "mage-ai 0.9.44 requires httpx==0.23.1, but you have httpx 0.27.0 which is incompatible.\r\n",
      "mage-ai 0.9.44 requires ipykernel==6.15.0, but you have ipykernel 6.29.3 which is incompatible.\r\n",
      "mage-ai 0.9.44 requires ipython==7.34.0, but you have ipython 8.22.2 which is incompatible.\r\n",
      "mage-ai 0.9.44 requires itsdangerous~=1.1.0, but you have itsdangerous 2.1.2 which is incompatible.\r\n",
      "mage-ai 0.9.44 requires Jinja2==3.1.2, but you have jinja2 3.1.3 which is incompatible.\r\n",
      "mage-ai 0.9.44 requires jupyter-client==7.3.4, but you have jupyter-client 8.6.1 which is incompatible.\r\n",
      "mage-ai 0.9.44 requires jupyter-server==1.23.5, but you have jupyter-server 2.13.0 which is incompatible.\r\n",
      "mage-ai 0.9.44 requires pyarrow==10.0.1, but you have pyarrow 15.0.0 which is incompatible.\r\n",
      "mage-ai 0.9.44 requires python-dateutil==2.8.2, but you have python-dateutil 2.9.0.post0 which is incompatible.\r\n",
      "mage-ai 0.9.44 requires pytz==2022.2.1, but you have pytz 2023.3.post1 which is incompatible.\r\n",
      "mage-ai 0.9.44 requires sqlalchemy<2.0.0,>=1.4.20, but you have sqlalchemy 2.0.20 which is incompatible.\r\n",
      "mage-ai 0.9.44 requires terminado==0.17.1, but you have terminado 0.18.1 which is incompatible.\r\n",
      "mage-ai 0.9.44 requires tornado==6.1, but you have tornado 6.4 which is incompatible.\r\n",
      "mage-ai 0.9.44 requires typer[all]==0.7.0, but you have typer 0.9.0 which is incompatible.\r\n",
      "mage-ai 0.9.44 requires typing-extensions==4.5.0, but you have typing-extensions 4.10.0 which is incompatible.\r\n",
      "hologram 0.0.16 requires python-dateutil<2.9,>=2.8, but you have python-dateutil 2.9.0.post0 which is incompatible.\r\n",
      "virtualenv 20.24.6 requires platformdirs<4,>=3.9.1, but you have platformdirs 4.2.0 which is incompatible.\r\n",
      "dbt-core 1.4.8 requires click<8.1.4,>=7.0, but you have click 8.1.7 which is incompatible.\r\n",
      "dbt-core 1.4.8 requires Jinja2==3.1.2, but you have jinja2 3.1.3 which is incompatible.\r\n",
      "dbt-core 1.4.8 requires networkx<3,>=2.3; python_version >= \"3.8\", but you have networkx 3.2.1 which is incompatible.\r\n",
      "dbt-core 1.4.8 requires werkzeug<3,>=1, but you have werkzeug 3.0.1 which is incompatible.\r\n",
      "botocore 1.29.60 requires urllib3<1.27,>=1.25.4, but you have urllib3 2.0.4 which is incompatible.\u001B[0m\u001B[31m\r\n",
      "\u001B[0m"
     ]
    }
   ],
   "source": [
    "!pwd\n",
    "!pip install --quiet -r requirements.txt"
   ]
  },
  {
   "cell_type": "markdown",
   "id": "dc039752-6d34-4ad4-aa31-9a10f4d4d597",
   "metadata": {},
   "source": [
    "Next, we need to set API keys for OpenAI (the LLM we will use) and Tavily (the search tool we will use)"
   ]
  },
  {
   "cell_type": "code",
   "execution_count": 85,
   "id": "30c06a84-291a-4f58-9d31-53d3b56a3def",
   "metadata": {
    "ExecuteTime": {
     "end_time": "2024-04-07T17:03:18.187186Z",
     "start_time": "2024-04-07T17:03:18.182316Z"
    }
   },
   "outputs": [],
   "source": [
    "import os\n",
    "import warnings\n",
    "import textwrap\n",
    "\n",
    "#os.environ[\"OPENAI_API_KEY\"] = getpass.getpass(\"OpenAI API Key:\")\n",
    "#os.environ[\"TAVILY_API_KEY\"] = getpass.getpass(\"Tavily API Key:\")\n",
    "\n",
    "warnings.filterwarnings(\"ignore\")\n"
   ]
  },
  {
   "cell_type": "markdown",
   "id": "5e7f4767-54fb-4b6e-bd9a-3d433df924fb",
   "metadata": {},
   "source": [
    "Optionally, we can set API key for [LangSmith tracing](https://smith.langchain.com/), which will give us best-in-class observability."
   ]
  },
  {
   "cell_type": "code",
   "execution_count": 109,
   "id": "a8fb285a-7e6e-46fc-a273-43ab1a676189",
   "metadata": {
    "ExecuteTime": {
     "end_time": "2024-04-07T17:10:57.639048Z",
     "start_time": "2024-04-07T17:10:57.635945Z"
    }
   },
   "outputs": [],
   "source": [
    "os.environ[\"LANGCHAIN_TRACING_V2\"] = \"true\"\n",
    "#os.environ[\"LANGCHAIN_API_KEY\"] = getpass.getpass(\"LangSmith API Key:\")"
   ]
  },
  {
   "cell_type": "code",
   "execution_count": 110,
   "id": "cb3a2cabb41cf70b",
   "metadata": {
    "collapsed": false,
    "ExecuteTime": {
     "end_time": "2024-04-07T17:10:58.871696Z",
     "start_time": "2024-04-07T17:10:58.462411Z"
    }
   },
   "outputs": [],
   "source": [
    "from langchain_community.graphs import Neo4jGraph\n",
    "from langchain_community.vectorstores import Neo4jVector\n",
    "\n",
    "NEO4J_URI = \"bolt://localhost:7687\"\n",
    "NEO4J_USERNAME = 'neo4j'\n",
    "NEO4J_PASSWORD = os.getenv(\"NEO4J_PASSWORD\")\n",
    "NEO4J_DATABASE = 'neo4j'\n",
    "OPENAI_API_KEY = os.getenv(\"OPENAI_API_KEY\")\n",
    "\n",
    "VECTOR_INDEX_NAME = 'message-embeddings'\n",
    "VECTOR_NODE_LABEL = 'Message'\n",
    "VECTOR_SOURCE_PROPERTY = 'text'\n",
    "VECTOR_EMBEDDING_PROPERTY = 'textEmbedding'\n",
    "\n",
    "# Create the graph\n",
    "graph = Neo4jGraph(\n",
    "    url=NEO4J_URI, username=NEO4J_USERNAME, password=NEO4J_PASSWORD, database=NEO4J_DATABASE\n",
    ")\n"
   ]
  },
  {
   "cell_type": "code",
   "execution_count": 111,
   "id": "8ee9fa11f82f95a6",
   "metadata": {
    "collapsed": false,
    "ExecuteTime": {
     "end_time": "2024-04-07T17:10:59.837340Z",
     "start_time": "2024-04-07T17:10:59.584142Z"
    }
   },
   "outputs": [
    {
     "name": "stdout",
     "output_type": "stream",
     "text": [
      "Node properties are the following: User {name:\n",
      "STRING},Message {content: STRING, platform: STRING,\n",
      "timestamp: STRING, embedding: LIST},Channel {name: STRING}\n",
      "Relationship properties are the following: INTERACTED_WITH\n",
      "{weight: INTEGER},CONNECTION {type: STRING, weight: INTEGER}\n",
      "The relationships are the following: (:User)-[:SENT]-\n",
      ">(:Message),(:User)-[:CONNECTION]->(:User),(:User)-\n",
      "[:INTERACTED_WITH]->(:User),(:Message)-[:POSTED_IN]-\n",
      ">(:Channel),(:Message)-[:MENTIONED]->(:User)\n"
     ]
    }
   ],
   "source": [
    "graph.refresh_schema()\n",
    "print(textwrap.fill(graph.schema, 60))"
   ]
  },
  {
   "cell_type": "markdown",
   "id": "8397abfd087bcbb2",
   "metadata": {
    "collapsed": false
   },
   "source": [
    "# Build our custom retrieval query"
   ]
  },
  {
   "cell_type": "code",
   "execution_count": 112,
   "id": "144ab8dcb00fbcd8",
   "metadata": {
    "collapsed": false,
    "ExecuteTime": {
     "end_time": "2024-04-07T17:11:01.713985Z",
     "start_time": "2024-04-07T17:11:01.708897Z"
    }
   },
   "outputs": [],
   "source": [
    "retrieval_query2 = \"\"\"\n",
    "OPTIONAL MATCH (m:Message)-[:SENT]->(u:User),\n",
    "               (m)-[:POSTED_IN]->(c:Channel),\n",
    "               (m)-[:MENTIONED]->(mentioned:User)\n",
    "WITH m, score, collect(u) AS senders, collect(c) AS channels, collect(mentioned) AS mentionedUsers\n",
    "RETURN m.content AS text,\n",
    "       score,\n",
    "       m {.*, embedding: Null, content: Null, senders: senders, channels: channels, mentionedUsers: mentionedUsers} AS metadata\n",
    "\"\"\"\n",
    "\n",
    "retrieval_query = \"\"\"\n",
    "OPTIONAL MATCH (node)<-[:SENT]-(u:User)\n",
    "WITH node, score, collect(u) AS users\n",
    "RETURN node.content AS text,\n",
    "       score, \n",
    "       node {.*, embedding: Null, content: Null, sentBy: users} AS metadata\n",
    "\"\"\""
   ]
  },
  {
   "cell_type": "markdown",
   "id": "c191374ee9f03e04",
   "metadata": {
    "collapsed": false
   },
   "source": [
    "# Setup the Vector Index "
   ]
  },
  {
   "cell_type": "code",
   "execution_count": 113,
   "id": "33fafb6d352dc911",
   "metadata": {
    "collapsed": false,
    "ExecuteTime": {
     "end_time": "2024-04-07T17:11:03.525422Z",
     "start_time": "2024-04-07T17:11:02.903469Z"
    }
   },
   "outputs": [],
   "source": [
    "from langchain_openai import OpenAIEmbeddings\n",
    "\n",
    "vector_index = Neo4jVector.from_existing_graph(\n",
    "    OpenAIEmbeddings(\n",
    "        model=\"text-embedding-3-small\",\n",
    "        dimensions=1536,\n",
    "    ),\n",
    "    url=NEO4J_URI,\n",
    "    username=NEO4J_USERNAME,\n",
    "    password=NEO4J_PASSWORD,\n",
    "    index_name=\"message-embeddings\",\n",
    "    node_label=\"Message\",\n",
    "    text_node_properties=['content', 'platform', 'timestamp'],\n",
    "    embedding_node_property='embedding',\n",
    "    retrieval_query=retrieval_query,\n",
    ")"
   ]
  },
  {
   "cell_type": "code",
   "execution_count": 114,
   "id": "e5f179a381136aeb",
   "metadata": {
    "collapsed": false,
    "ExecuteTime": {
     "end_time": "2024-04-07T17:11:03.531281Z",
     "start_time": "2024-04-07T17:11:03.526900Z"
    }
   },
   "outputs": [],
   "source": [
    "import re\n",
    "\n",
    "def similarity_search(query: str, max_results: int = 1000):\n",
    "    results = vector_index.search(query, max_results=max_results, search_type=\"similarity\")\n",
    "    print(f\"Found {len(results)} results\")\n",
    "    # Print the raw results for debugging\n",
    "    #print(results)\n",
    "    # Clean the page_content from each Document in the results\n",
    "    content_list = [re.sub(r'^\\ncontent: |\\x02|\\x03\\d{2}(,\\d{2})?|\\u2068|\\u2069', '', result.page_content.split('\\nplatform:')[0].strip()) for result in results]\n",
    "    # Print the cleaned content list for verification\n",
    "    #print(content_list)\n",
    "    return content_list\n",
    "\n",
    "    "
   ]
  },
  {
   "cell_type": "code",
   "execution_count": 115,
   "id": "e458b32ea994f78d",
   "metadata": {
    "collapsed": false,
    "ExecuteTime": {
     "end_time": "2024-04-07T17:11:04.925972Z",
     "start_time": "2024-04-07T17:11:04.920315Z"
    }
   },
   "outputs": [],
   "source": [
    "import re\n",
    "\n",
    "def similarity_search_v2(v2_query: str, max_results: int = 1000):\n",
    "    my_retriever = vector_index.as_retriever()\n",
    "    results = my_retriever.get_relevant_documents(v2_query, max_results=max_results)\n",
    "    \n",
    "    formatted_messages = []\n",
    "    \n",
    "    for result in results:\n",
    "        # Access the message content directly via the page_content attribute\n",
    "        message_content = result.page_content\n",
    "        \n",
    "        # Assuming metadata is directly accessible and contains the 'sentBy' information\n",
    "        # Adjust the access pattern if 'metadata' is structured differently\n",
    "        username = \"Unknown\"  # Default username\n",
    "        if hasattr(result, 'metadata') and 'sentBy' in result.metadata:\n",
    "            sentBy = result.metadata['sentBy']\n",
    "            if sentBy and isinstance(sentBy, list) and len(sentBy) > 0:\n",
    "                username = sentBy[0].get('name', \"Unknown\")\n",
    "        \n",
    "        # Clean the message content\n",
    "        cleaned_message_content = re.sub(r'\\x02|\\x03\\d{2}(,\\d{2})?|\\u2068|\\u2069', '', message_content)\n",
    "        \n",
    "        # Format the message in a chat-like format\n",
    "        chat_format_message = f\"<{username}> {cleaned_message_content}\"\n",
    "        formatted_messages.append(chat_format_message)\n",
    "    \n",
    "    return formatted_messages\n"
   ]
  },
  {
   "cell_type": "code",
   "execution_count": 116,
   "id": "bff3fdcaf1d55319",
   "metadata": {
    "collapsed": false,
    "ExecuteTime": {
     "end_time": "2024-04-07T17:11:06.673314Z",
     "start_time": "2024-04-07T17:11:06.448381Z"
    }
   },
   "outputs": [
    {
     "data": {
      "text/plain": "[Document(page_content='ffs', metadata={'timestamp': '2024-04-07T16:47:29.812479+00:00', 'platform': 'IRC', 'sentBy': [{'name': 'nem'}]}),\n Document(page_content='i never really went anywhere with my parents', metadata={'timestamp': '2024-04-06T15:01:20.820982+00:00', 'platform': 'IRC', 'sentBy': [{'name': 'leku'}]}),\n Document(page_content='now add it to my url service!', metadata={'timestamp': '2024-04-04T16:49:59.625174+00:00', 'platform': 'IRC', 'sentBy': [{'name': 'Pilate'}]}),\n Document(page_content=\"oh, i understand this kind of struggling. i don't even kill spiders\", metadata={'timestamp': '2024-04-04T16:43:45.167055+00:00', 'platform': 'IRC', 'sentBy': [{'name': 'oo'}]})]"
     },
     "execution_count": 116,
     "metadata": {},
     "output_type": "execute_result"
    }
   ],
   "source": [
    "query = \"what is leku's favorite food?\"\n",
    "retriever = vector_index.as_retriever()\n",
    "retriever.get_relevant_documents(query)"
   ]
  },
  {
   "cell_type": "code",
   "execution_count": 117,
   "id": "1de1b4bf0fd3dab9",
   "metadata": {
    "collapsed": false,
    "ExecuteTime": {
     "end_time": "2024-04-07T17:11:07.708611Z",
     "start_time": "2024-04-07T17:11:07.427146Z"
    }
   },
   "outputs": [
    {
     "name": "stdout",
     "output_type": "stream",
     "text": [
      "['<nem> ffs', '<leku> i never really went anywhere with my parents', '<Pilate> now add it to my url service!', \"<oo> oh, i understand this kind of struggling. i don't even kill spiders\"]\n"
     ]
    }
   ],
   "source": [
    "# query = \"nude bots?\"\n",
    "query = \"what is leku's favorite food?\"\n",
    "response = similarity_search_v2(query, max_results=10)\n",
    "print(response)"
   ]
  },
  {
   "cell_type": "markdown",
   "id": "7770ddbd8a180fd2",
   "metadata": {
    "collapsed": false
   },
   "source": [
    "# Define the Cypher Generation Prompt\n",
    "# Here we define the prompt that will be used to generate Cypher queries\n",
    "# We use example queries to show how to use the schema to the LLM"
   ]
  },
  {
   "cell_type": "code",
   "execution_count": 197,
   "id": "ea2b4ec2eff00e80",
   "metadata": {
    "collapsed": false,
    "ExecuteTime": {
     "end_time": "2024-04-07T17:22:27.859939Z",
     "start_time": "2024-04-07T17:22:27.851866Z"
    }
   },
   "outputs": [],
   "source": [
    "CYPHER_GENERATION_TEMPLATE = \"\"\"Task:Generate Cypher statement to \n",
    "query a graph database.\n",
    "Instructions:\n",
    "Use only the provided relationship types and properties in the \n",
    "schema. Do not use any other relationship types or properties that \n",
    "are not provided.\n",
    "Schema:\n",
    "{schema}\n",
    "Note: Do not include any explanations or apologies in your responses.\n",
    "Do not respond to any questions that might ask anything else than \n",
    "for you to construct a Cypher statement.\n",
    "Do not include any text except the generated Cypher statement.\n",
    "Examples: Here are a few examples of generated Cypher \n",
    "statements for particular questions:\n",
    "\n",
    "### Reading messages in chronological order\n",
    "```\n",
    "MATCH (m:Message)-[:POSTED_IN]->(chan:Channel {{name: '#!chases'}})\n",
    "RETURN m.content AS message, datetime(m.timestamp) AS time\n",
    "ORDER BY time DESC\n",
    "```\n",
    "\n",
    "### Indirect Connection Through Shared Channels\n",
    "```\n",
    "MATCH (a:User {{name: 'Alice'}})-[:SENT|POSTED_IN]->(m:Message)-[:POSTED_IN]->(chan:Channel)<-[:POSTED_IN]-(m2:Message)<-[:SENT|POSTED_IN]-(b:User {{name: 'Bob'}})\n",
    "RETURN DISTINCT chan.name AS SharedChannel\n",
    "```\n",
    "\n",
    "### Indirect Connection Through Mutual Connections\n",
    "```\n",
    "MATCH (a:User {{name: 'Alice'}})-[:INTERACTED_WITH]->(mutual:User)<-[:INTERACTED_WITH]-(b:User {{name: 'Bob'}})\n",
    "RETURN DISTINCT mutual.name AS MutualFriend\n",
    "```\n",
    "\n",
    "### Is Alice friends with Bob?\n",
    "```\n",
    "MATCH (a:User {{name: 'Alice'}})-[:INTERACTED_WITH]-(b:User {{name: 'Bob'}})\n",
    "RETURN a, b\n",
    "```\n",
    "\n",
    "### Showing a complete graph\n",
    "\n",
    "```\n",
    "MATCH (chan:Channel)-[:POSTED_IN]-(msg:Message)-[:SENT]-(user:User)\n",
    "OPTIONAL MATCH (msg)-[:MENTIONED]->(mentioned:User)\n",
    "RETURN chan, user, msg, mentioned\n",
    "```\n",
    "\n",
    "### Pagerduty events\n",
    "MATCH (m:Message)-[:POSTED_IN]->(c:Channel)\n",
    "WHERE m.platform = \"IRC\"\n",
    "AND m.content CONTAINS \"PagerDuty\"\n",
    "AND m.timestamp >= \"2024-03-07T00:00:00Z\"\n",
    "AND m.timestamp <= \"2024-04-07T23:59:59Z\"\n",
    "RETURN m.content AS EventContent\n",
    "\n",
    "\n",
    "The question is:\n",
    "{question}\"\"\""
   ]
  },
  {
   "cell_type": "code",
   "execution_count": 198,
   "id": "148b36c0b956c30c",
   "metadata": {
    "collapsed": false,
    "ExecuteTime": {
     "end_time": "2024-04-07T17:22:31.734708Z",
     "start_time": "2024-04-07T17:22:29.094748Z"
    }
   },
   "outputs": [],
   "source": [
    "from langchain.prompts.prompt import PromptTemplate\n",
    "from langchain.prompts.chat import ChatPromptTemplate\n",
    "from langchain import hub\n",
    "\n",
    "CYPHER_GENERATION_PROMPT = PromptTemplate(\n",
    "    input_variables=[\"schema\", \"question\"], \n",
    "    template=CYPHER_GENERATION_TEMPLATE,\n",
    ")\n",
    "\n",
    "prompt = hub.pull(\"hwchase17/openai-functions-agent\")\n",
    "#prompt = ChatPromptTemplate.from_template(\"{chat_history}\")\n",
    "\n",
    "## Upload our prompt to LangSmith\n",
    "#hub.push(\"mfreeman451/threadr-cypher-prompt\", CHAT_GENERATION_PROMPT)\n"
   ]
  },
  {
   "cell_type": "code",
   "execution_count": 199,
   "id": "dc8289bb924fc5a9",
   "metadata": {
    "collapsed": false,
    "ExecuteTime": {
     "end_time": "2024-04-07T17:22:32.515600Z",
     "start_time": "2024-04-07T17:22:32.487387Z"
    }
   },
   "outputs": [],
   "source": [
    "from langchain.chains import GraphCypherQAChain\n",
    "from langchain_openai import ChatOpenAI\n",
    "\n",
    "cypherChain = GraphCypherQAChain.from_llm(\n",
    "    ChatOpenAI(model=\"gpt-4-turbo-preview\",temperature=0,openai_api_key=OPENAI_API_KEY),\n",
    "    graph=graph,\n",
    "    verbose=True,\n",
    "    cypher_prompt=CYPHER_GENERATION_PROMPT,\n",
    ")"
   ]
  },
  {
   "cell_type": "markdown",
   "id": "38eca15077e9653f",
   "metadata": {
    "collapsed": false
   },
   "source": [
    "# Create the Tools"
   ]
  },
  {
   "cell_type": "code",
   "execution_count": 200,
   "id": "b2b336d60fa1ab37",
   "metadata": {
    "collapsed": false,
    "ExecuteTime": {
     "end_time": "2024-04-07T17:22:34.499668Z",
     "start_time": "2024-04-07T17:22:34.495197Z"
    }
   },
   "outputs": [],
   "source": [
    "from typing import Dict, Optional, Type, Union\n",
    "from langchain_core.callbacks import (\n",
    "    AsyncCallbackManagerForToolRun,\n",
    "    CallbackManagerForToolRun,\n",
    ")\n",
    "from langchain_core.pydantic_v1 import BaseModel, Field\n",
    "from langchain_core.tools import BaseTool"
   ]
  },
  {
   "cell_type": "code",
   "execution_count": 201,
   "id": "d7a6add961907095",
   "metadata": {
    "collapsed": false,
    "ExecuteTime": {
     "end_time": "2024-04-07T17:22:35.437325Z",
     "start_time": "2024-04-07T17:22:35.434082Z"
    }
   },
   "outputs": [],
   "source": [
    "class TemporalSimilaritySearchInput(BaseModel):\n",
    "    \"\"\"Input for the Temporal Similarity Search tool.\"\"\"\n",
    "    # Define the inputs for your tool. Our query comes from chat users.\n",
    "    query: str = Field(description=\"Did Alice mention anything about yesterday's meeting?\")"
   ]
  },
  {
   "cell_type": "code",
   "execution_count": 202,
   "id": "6773221e6751af70",
   "metadata": {
    "collapsed": false,
    "ExecuteTime": {
     "end_time": "2024-04-07T17:22:36.048141Z",
     "start_time": "2024-04-07T17:22:36.041070Z"
    }
   },
   "outputs": [],
   "source": [
    "class SimilaritySearchInput(BaseModel):\n",
    "    \"\"\"Input for the Similarity Search tool.\"\"\"\n",
    "    # Define the inputs for your tool. Our query comes from chat users.\n",
    "    query: str = Field(description=\"Did Alice mention anything about the meeting?\")\n",
    "    max_results: int = Field(description=\"The maximum number of results to return.\", default=1000)\n",
    "    "
   ]
  },
  {
   "cell_type": "code",
   "execution_count": 203,
   "id": "5c2d2f65222d65f1",
   "metadata": {
    "collapsed": false,
    "ExecuteTime": {
     "end_time": "2024-04-07T17:22:36.700346Z",
     "start_time": "2024-04-07T17:22:36.689003Z"
    }
   },
   "outputs": [],
   "source": [
    "class SimilaritySearchTool(BaseTool):\n",
    "    \"\"\"A tool that serves to retrieve data from a labeled property graph.\"\"\"\n",
    "    \n",
    "    name: str = \"similarity_search_tool\"\n",
    "    description: str = \"A tool that serves to retrieve data from a labeled property graph.\"\n",
    "    max_results: int = 1000\n",
    "    args_schema: Type[BaseModel] = SimilaritySearchInput\n",
    "    \n",
    "    def _run(\n",
    "        self,\n",
    "        query: str,\n",
    "        max_results: int = 1000,\n",
    "        run_manager: Optional[CallbackManagerForToolRun] = None,\n",
    "    ) -> Union[Dict, str]:\n",
    "        \"\"\"Synchronously run the tool.\"\"\"\n",
    "        try:\n",
    "            return similarity_search_v2(query, max_results=max_results)\n",
    "        except Exception as e:\n",
    "            return repr(e)\n",
    "\n",
    "    async def _arun(\n",
    "        self,\n",
    "        query: str,\n",
    "        max_results: int = 1000,\n",
    "        run_manager: Optional[AsyncCallbackManagerForToolRun] = None,\n",
    "    ) -> Union[Dict, str]:\n",
    "        \"\"\"Asynchronously run the tool.\"\"\"\n",
    "        try:\n",
    "            return await similarity_search_v2(query, max_results=max_results)\n",
    "        except Exception as e:\n",
    "            return repr(e)\n",
    "    "
   ]
  },
  {
   "cell_type": "code",
   "execution_count": 204,
   "id": "61faa7e401f1d014",
   "metadata": {
    "collapsed": false,
    "ExecuteTime": {
     "end_time": "2024-04-07T17:22:37.600967Z",
     "start_time": "2024-04-07T17:22:37.590934Z"
    }
   },
   "outputs": [],
   "source": [
    "class CypherQAInput(BaseModel):\n",
    "    \"\"\"Input for the CypherQA tool.\"\"\"\n",
    "    # Define the inputs for your tool. Our query comes from chat users.\n",
    "    query: str = Field(description=\"Who are alice's friends?\")\n",
    "    \n",
    "\n",
    "class CypherQATool(BaseTool):\n",
    "    \"\"\"A Cypher Question-Answering Tool.\"\"\"\n",
    "\n",
    "    name: str = \"cypherqa_tool\"\n",
    "    description: str = \"A tool that serves to retrieve data from a labeled property graph.\"\n",
    "    # If your tool requires initialization parameters, define them here.\n",
    "    # For a placeholder, we might not need any, but you can add as necessary.\n",
    "    args_schema: Type[BaseModel] = CypherQAInput\n",
    "\n",
    "    def _run(\n",
    "        self,\n",
    "        query: str,\n",
    "        run_manager: Optional[CallbackManagerForToolRun] = None,\n",
    "    ) -> Union[Dict, str]:\n",
    "        \"\"\"Synchronously run the tool.\"\"\"\n",
    "        try:\n",
    "            return cypherChain.run(query)\n",
    "        except Exception as e:\n",
    "            # just return an empty dict if there is an error\n",
    "            #return repr(e)\n",
    "            return \"Not Found\"\n",
    "\n",
    "    async def _arun(\n",
    "        self,\n",
    "        query: str,\n",
    "        run_manager: Optional[AsyncCallbackManagerForToolRun] = None,\n",
    "    ) -> Union[Dict, str]:\n",
    "        \"\"\"Asynchronously run the tool.\"\"\"\n",
    "        try:\n",
    "            return await cypherChain.run(query)\n",
    "        except Exception as e:\n",
    "            #return repr(e)\n",
    "            #return {}\n",
    "            return \"Not Found\"\n",
    "\n"
   ]
  },
  {
   "cell_type": "markdown",
   "id": "5dace4a9-7c9e-4da2-bf7b-e58d0d05581e",
   "metadata": {},
   "source": [
    "## Create the LangChain agent\n",
    "\n",
    "First, we will create the LangChain agent. For more information on LangChain agents, see [this documentation](https://python.langchain.com/docs/modules/agents/)"
   ]
  },
  {
   "cell_type": "code",
   "execution_count": 205,
   "id": "4499eb16-bca8-4a60-9a3a-2f34ae3f7078",
   "metadata": {
    "ExecuteTime": {
     "end_time": "2024-04-07T17:22:39.244186Z",
     "start_time": "2024-04-07T17:22:39.215759Z"
    }
   },
   "outputs": [],
   "source": [
    "from langchain.agents import create_openai_functions_agent\n",
    "from langchain_openai.chat_models import ChatOpenAI\n",
    "from langchain_community.tools.tavily_search import TavilySearchResults\n",
    "\n",
    "#tools = [TavilySearchResults(max_results=1)]\n",
    "# tools = [CypherQATool(), SimilaritySearchTool(), TavilySearchResults(max_results=1)]\n",
    "tools = [CypherQATool(), SimilaritySearchTool()]\n",
    "\n",
    "# Choose the LLM that will drive the agent\n",
    "llm = ChatOpenAI(model=\"gpt-4-turbo-preview\", streaming=True)\n",
    "# llm = ChatOpenAI(model=\"gpt-3.5-turbo-0125\", streaming=False)\n",
    "\n",
    "# Construct the OpenAI Functions agent\n",
    "agent_runnable = create_openai_functions_agent(llm, tools, prompt)"
   ]
  },
  {
   "cell_type": "markdown",
   "id": "972e58b3-fe3c-449d-b3c4-8fa2217afd07",
   "metadata": {},
   "source": [
    "## Define the graph state\n",
    "\n",
    "We now define the graph state. The state for the traditional LangChain agent has a few attributes:\n",
    "\n",
    "1. `input`: This is the input string representing the main ask from the user, passed in as input.\n",
    "2. `chat_history`: This is any previous conversation messages, also passed in as input.\n",
    "3. `intermediate_steps`: This is list of actions and corresponding observations that the agent takes over time. This is updated each iteration of the agent.\n",
    "4. `agent_outcome`: This is the response from the agent, either an AgentAction or AgentFinish. The AgentExecutor should finish when this is an AgentFinish, otherwise it should call the requested tools.\n"
   ]
  },
  {
   "cell_type": "code",
   "execution_count": 206,
   "id": "c941fb10-dbe5-4d6a-ab7d-133d01c33cc4",
   "metadata": {
    "ExecuteTime": {
     "end_time": "2024-04-07T17:22:41.217227Z",
     "start_time": "2024-04-07T17:22:41.207787Z"
    }
   },
   "outputs": [],
   "source": [
    "from typing import TypedDict, Annotated, List, Union\n",
    "from langchain_core.agents import AgentAction, AgentFinish\n",
    "from langchain_core.messages import BaseMessage\n",
    "import operator\n",
    "\n",
    "\n",
    "class AgentState(TypedDict):\n",
    "    # The input string\n",
    "    input: str\n",
    "    # The list of previous messages in the conversation\n",
    "    chat_history: list[BaseMessage]\n",
    "    # The outcome of a given call to the agent\n",
    "    # Needs `None` as a valid type, since this is what this will start as\n",
    "    agent_outcome: Union[AgentAction, AgentFinish, None]\n",
    "    # List of actions and corresponding observations\n",
    "    # Here we annotate this with `operator.add` to indicate that operations to\n",
    "    # this state should be ADDED to the existing values (not overwrite it)\n",
    "    intermediate_steps: Annotated[list[tuple[AgentAction, str]], operator.add]"
   ]
  },
  {
   "cell_type": "markdown",
   "id": "cd27b281-cc9a-49c9-be78-8b98a7d905c4",
   "metadata": {},
   "source": [
    "## Define the nodes\n",
    "\n",
    "We now need to define a few different nodes in our graph.\n",
    "In `langgraph`, a node can be either a function or a [runnable](https://python.langchain.com/docs/expression_language/).\n",
    "There are two main nodes we need for this:\n",
    "\n",
    "1. The agent: responsible for deciding what (if any) actions to take.\n",
    "2. A function to invoke tools: if the agent decides to take an action, this node will then execute that action.\n",
    "\n",
    "We will also need to define some edges.\n",
    "Some of these edges may be conditional.\n",
    "The reason they are conditional is that based on the output of a node, one of several paths may be taken.\n",
    "The path that is taken is not known until that node is run (the LLM decides).\n",
    "\n",
    "1. Conditional Edge: after the agent is called, we should either:\n",
    "   a. If the agent said to take an action, then the function to invoke tools should be called\n",
    "   b. If the agent said that it was finished, then it should finish\n",
    "2. Normal Edge: after the tools are invoked, it should always go back to the agent to decide what to do next\n",
    "\n",
    "Let's define the nodes, as well as a function to decide how what conditional edge to take."
   ]
  },
  {
   "cell_type": "code",
   "execution_count": 207,
   "id": "d61a970d-edf4-4eef-9678-28bab7c72331",
   "metadata": {
    "ExecuteTime": {
     "end_time": "2024-04-07T17:22:42.946645Z",
     "start_time": "2024-04-07T17:22:42.937321Z"
    }
   },
   "outputs": [],
   "source": [
    "from langchain_core.agents import AgentFinish\n",
    "from langgraph.prebuilt.tool_executor import ToolExecutor\n",
    "\n",
    "# This a helper class we have that is useful for running tools\n",
    "# It takes in an agent action and calls that tool and returns the result\n",
    "tool_executor = ToolExecutor(tools)\n",
    "\n",
    "\n",
    "# Define the agent\n",
    "def run_agent(data):\n",
    "    agent_outcome = agent_runnable.invoke(data)\n",
    "    return {\"agent_outcome\": agent_outcome}\n",
    "\n",
    "\n",
    "# Define the function to execute tools\n",
    "def execute_tools(data):\n",
    "    # Get the most recent agent_outcome - this is the key added in the `agent` above\n",
    "    agent_action = data[\"agent_outcome\"]\n",
    "    output = tool_executor.invoke(agent_action)\n",
    "    return {\"intermediate_steps\": [(agent_action, str(output))]}\n",
    "\n",
    "\n",
    "# Define logic that will be used to determine which conditional edge to go down\n",
    "def should_continue(data):\n",
    "    print(f\"should_continue: {data}\")\n",
    "    \n",
    "    # If the agent outcome is an AgentFinish, then we return `exit` string\n",
    "    # This will be used when setting up the graph to define the flow\n",
    "    if isinstance(data[\"agent_outcome\"], AgentFinish):\n",
    "        return \"end\"\n",
    "    # Otherwise, an AgentAction is returned\n",
    "    # Here we return `continue` string\n",
    "    # This will be used when setting up the graph to define the flow\n",
    "    else:\n",
    "        return \"continue\""
   ]
  },
  {
   "cell_type": "markdown",
   "id": "02437e83-5485-4827-87e6-7ad1d02cf9be",
   "metadata": {},
   "source": [
    "**MODIFICATION**\n",
    "\n",
    "Here we create a node that returns an AgentAction that just calls the Custom Tool  with the input"
   ]
  },
  {
   "cell_type": "code",
   "execution_count": 208,
   "id": "2ed8463e-73e5-417d-9fab-be6bcee87835",
   "metadata": {
    "ExecuteTime": {
     "end_time": "2024-04-07T17:22:44.383600Z",
     "start_time": "2024-04-07T17:22:44.378144Z"
    }
   },
   "outputs": [
    {
     "data": {
      "text/plain": "'cypherqa_tool'"
     },
     "execution_count": 208,
     "metadata": {},
     "output_type": "execute_result"
    }
   ],
   "source": [
    "tools[0].name"
   ]
  },
  {
   "cell_type": "code",
   "execution_count": 209,
   "id": "df25d899-2338-4f31-a8bf-0582a2eec325",
   "metadata": {
    "ExecuteTime": {
     "end_time": "2024-04-07T17:22:45.246866Z",
     "start_time": "2024-04-07T17:22:45.240190Z"
    }
   },
   "outputs": [],
   "source": [
    "from langchain_core.agents import AgentActionMessageLog\n",
    "\n",
    "\n",
    "def first_agent(agent_inputs):\n",
    "    action = AgentActionMessageLog(\n",
    "        # We force call this tool\n",
    "        #tool=\"tavily_search_results_json\",\n",
    "        tool=\"cypherqa_tool\",\n",
    "        #tool=\"pagerduty_tool\",\n",
    "        #tool=\"similarity_search_tool\",\n",
    "        # We just pass in the `input` key to this tool\n",
    "        tool_input=agent_inputs[\"input\"],\n",
    "        #tool_input = {\"query\": agent_inputs[\"input\"], \"name\": \"SomeName\"},\n",
    "        log=\"\",\n",
    "        message_log=[],\n",
    "    )\n",
    "    return {\"agent_outcome\": action}"
   ]
  },
  {
   "cell_type": "markdown",
   "id": "c0b211f4-0c5c-4792-b18d-cd70907c71e7",
   "metadata": {},
   "source": [
    "## Define the graph\n",
    "\n",
    "We can now put it all together and define the graph!\n",
    "\n",
    "**MODIFICATION**\n",
    "\n",
    "We now add a new `first_agent` node which we set as the entrypoint."
   ]
  },
  {
   "cell_type": "code",
   "execution_count": 210,
   "id": "c4054dde-4618-49b7-998a-daa0c1d6d6c0",
   "metadata": {
    "ExecuteTime": {
     "end_time": "2024-04-07T17:22:46.890986Z",
     "start_time": "2024-04-07T17:22:46.878882Z"
    }
   },
   "outputs": [],
   "source": [
    "from langgraph.graph import END, StateGraph\n",
    "\n",
    "# Define a new graph\n",
    "workflow = StateGraph(AgentState)\n",
    "\n",
    "# Define the two nodes we will cycle between\n",
    "workflow.add_node(\"agent\", run_agent)\n",
    "workflow.add_node(\"action\", execute_tools)\n",
    "workflow.add_node(\"first_agent\", first_agent)\n",
    "\n",
    "# Set the entrypoint as `agent`\n",
    "# This means that this node is the first one called\n",
    "workflow.set_entry_point(\"first_agent\")\n",
    "\n",
    "# We now add a conditional edge\n",
    "workflow.add_conditional_edges(\n",
    "    # First, we define the start node. We use `agent`.\n",
    "    # This means these are the edges taken after the `agent` node is called.\n",
    "    \"agent\",\n",
    "    # Next, we pass in the function that will determine which node is called next.\n",
    "    should_continue,\n",
    "    # Finally we pass in a mapping.\n",
    "    # The keys are strings, and the values are other nodes.\n",
    "    # END is a special node marking that the graph should finish.\n",
    "    # What will happen is we will call `should_continue`, and then the output of that\n",
    "    # will be matched against the keys in this mapping.\n",
    "    # Based on which one it matches, that node will then be called.\n",
    "    {\n",
    "        # If `tools`, then we call the tool node.\n",
    "        \"continue\": \"action\",\n",
    "        # Otherwise we finish.\n",
    "        \"end\": END,\n",
    "    },\n",
    ")\n",
    "\n",
    "# We now add a normal edge from `tools` to `agent`.\n",
    "# This means that after `tools` is called, `agent` node is called next.\n",
    "workflow.add_edge(\"action\", \"agent\")\n",
    "\n",
    "# After the first agent, we want to take an action\n",
    "workflow.add_edge(\"first_agent\", \"action\")\n",
    "\n",
    "# Finally, we compile it!\n",
    "# This compiles it into a LangChain Runnable,\n",
    "# meaning you can use it as you would any other runnable\n",
    "app = workflow.compile()"
   ]
  },
  {
   "cell_type": "code",
   "execution_count": 211,
   "id": "214ae46e-c297-465d-86db-2b0312ed3530",
   "metadata": {
    "ExecuteTime": {
     "end_time": "2024-04-07T17:22:54.517404Z",
     "start_time": "2024-04-07T17:22:48.538761Z"
    }
   },
   "outputs": [
    {
     "name": "stdout",
     "output_type": "stream",
     "text": [
      "{'agent_outcome': AgentActionMessageLog(tool='cypherqa_tool', tool_input='What does farmr talk about?', log='', message_log=[])}\n",
      "----\n",
      "\n",
      "\n",
      "\u001B[1m> Entering new GraphCypherQAChain chain...\u001B[0m\n",
      "Generated Cypher:\n",
      "\u001B[32;1m\u001B[1;3m\n",
      "MATCH (u:User {name: 'farmr'})-[:SENT]->(m:Message)\n",
      "RETURN m.content AS FarmrMessages\n",
      "\u001B[0m\n",
      "Full Context:\n",
      "\u001B[32;1m\u001B[1;3m[{'FarmrMessages': 'YEAH!'}, {'FarmrMessages': 'bysin becomes exhibitionist when drinking?'}, {'FarmrMessages': '!'}, {'FarmrMessages': 'sig: how many US presidents have been assassinated?'}, {'FarmrMessages': 'American presidency has caused the deaths of 20% of presidents, both directly and indirectly.'}, {'FarmrMessages': 'is technically the most DANGEROUS too!'}, {'FarmrMessages': 'i fear im too old to \"run\"'}, {'FarmrMessages': 'NICE!'}, {'FarmrMessages': 'sig: how many \"sheets to the wind\" do we need bysin to be before we get worried?'}, {'FarmrMessages': 'plz dont drink entire bottle tonight'}]\u001B[0m\n",
      "\n",
      "\u001B[1m> Finished chain.\u001B[0m\n",
      "{'intermediate_steps': [(AgentActionMessageLog(tool='cypherqa_tool', tool_input='What does farmr talk about?', log='', message_log=[]), \"Farmr talks about various topics including personal comments, questions about US presidents, specifically mentioning the danger of the American presidency and its impact on presidents, and concerns about someone named bysin's drinking habits.\")]}\n",
      "----\n",
      "{'agent_outcome': AgentFinish(return_values={'output': \"Farmr discusses a range of topics, including personal remarks, inquiries about US presidents, with a specific focus on the dangers associated with the American presidency and its effects on presidents. Additionally, Farmr mentions concerns regarding someone named Bysin's drinking habits.\"}, log=\"Farmr discusses a range of topics, including personal remarks, inquiries about US presidents, with a specific focus on the dangers associated with the American presidency and its effects on presidents. Additionally, Farmr mentions concerns regarding someone named Bysin's drinking habits.\")}\n",
      "----\n",
      "should_continue: {'input': 'What does farmr talk about?', 'chat_history': [], 'agent_outcome': AgentFinish(return_values={'output': \"Farmr discusses a range of topics, including personal remarks, inquiries about US presidents, with a specific focus on the dangers associated with the American presidency and its effects on presidents. Additionally, Farmr mentions concerns regarding someone named Bysin's drinking habits.\"}, log=\"Farmr discusses a range of topics, including personal remarks, inquiries about US presidents, with a specific focus on the dangers associated with the American presidency and its effects on presidents. Additionally, Farmr mentions concerns regarding someone named Bysin's drinking habits.\"), 'intermediate_steps': [(AgentActionMessageLog(tool='cypherqa_tool', tool_input='What does farmr talk about?', log='', message_log=[]), \"Farmr talks about various topics including personal comments, questions about US presidents, specifically mentioning the danger of the American presidency and its impact on presidents, and concerns about someone named bysin's drinking habits.\")]}\n",
      "{'input': 'What does farmr talk about?', 'chat_history': [], 'agent_outcome': AgentFinish(return_values={'output': \"Farmr discusses a range of topics, including personal remarks, inquiries about US presidents, with a specific focus on the dangers associated with the American presidency and its effects on presidents. Additionally, Farmr mentions concerns regarding someone named Bysin's drinking habits.\"}, log=\"Farmr discusses a range of topics, including personal remarks, inquiries about US presidents, with a specific focus on the dangers associated with the American presidency and its effects on presidents. Additionally, Farmr mentions concerns regarding someone named Bysin's drinking habits.\"), 'intermediate_steps': [(AgentActionMessageLog(tool='cypherqa_tool', tool_input='What does farmr talk about?', log='', message_log=[]), \"Farmr talks about various topics including personal comments, questions about US presidents, specifically mentioning the danger of the American presidency and its impact on presidents, and concerns about someone named bysin's drinking habits.\")]}\n",
      "----\n"
     ]
    }
   ],
   "source": [
    "inputs = {\"input\": \"What does farmr talk about?\", \"chat_history\": []}\n",
    "for s in app.stream(inputs):\n",
    "    print(list(s.values())[0])\n",
    "    #print(s)\n",
    "    print(\"----\")"
   ]
  },
  {
   "cell_type": "code",
   "execution_count": 150,
   "id": "2eb662bc-de7d-4a57-a3e8-2f00dcf4ff8b",
   "metadata": {
    "ExecuteTime": {
     "end_time": "2024-04-07T17:13:48.545979Z",
     "start_time": "2024-04-07T17:13:43.938775Z"
    }
   },
   "outputs": [
    {
     "name": "stdout",
     "output_type": "stream",
     "text": [
      "{'agent_outcome': AgentActionMessageLog(tool='cypherqa_tool', tool_input='Does farmr know bysin?', log='', message_log=[])}\n",
      "----\n",
      "\n",
      "\n",
      "\u001B[1m> Entering new GraphCypherQAChain chain...\u001B[0m\n",
      "Generated Cypher:\n",
      "\u001B[32;1m\u001B[1;3m\n",
      "MATCH (a:User {name: 'farmr'})-[:INTERACTED_WITH]-(b:User {name: 'bysin'})\n",
      "RETURN a, b\n",
      "\u001B[0m\n",
      "Full Context:\n",
      "\u001B[32;1m\u001B[1;3m[{'a': {'name': 'farmr'}, 'b': {'name': 'bysin'}}]\u001B[0m\n",
      "\n",
      "\u001B[1m> Finished chain.\u001B[0m\n",
      "{'intermediate_steps': [(AgentActionMessageLog(tool='cypherqa_tool', tool_input='Does farmr know bysin?', log='', message_log=[]), 'Yes, farmr knows bysin.')]}\n",
      "----\n",
      "{'agent_outcome': AgentFinish(return_values={'output': 'Yes, the farmer knows Bysin.'}, log='Yes, the farmer knows Bysin.')}\n",
      "----\n",
      "should_continue: {'input': 'Does farmr know bysin?', 'chat_history': [], 'agent_outcome': AgentFinish(return_values={'output': 'Yes, the farmer knows Bysin.'}, log='Yes, the farmer knows Bysin.'), 'intermediate_steps': [(AgentActionMessageLog(tool='cypherqa_tool', tool_input='Does farmr know bysin?', log='', message_log=[]), 'Yes, farmr knows bysin.')]}\n",
      "{'input': 'Does farmr know bysin?', 'chat_history': [], 'agent_outcome': AgentFinish(return_values={'output': 'Yes, the farmer knows Bysin.'}, log='Yes, the farmer knows Bysin.'), 'intermediate_steps': [(AgentActionMessageLog(tool='cypherqa_tool', tool_input='Does farmr know bysin?', log='', message_log=[]), 'Yes, farmr knows bysin.')]}\n",
      "----\n"
     ]
    }
   ],
   "source": [
    "inputs = {\"input\": \"Does farmr know bysin?\", \"chat_history\": []}\n",
    "for s in app.stream(inputs):\n",
    "    print(list(s.values())[0])\n",
    "    #print(s)\n",
    "    print(\"----\")"
   ]
  },
  {
   "cell_type": "code",
   "execution_count": 134,
   "id": "5d4e07afff30d243",
   "metadata": {
    "collapsed": false,
    "ExecuteTime": {
     "end_time": "2024-04-07T17:12:37.041338Z",
     "start_time": "2024-04-07T17:12:34.888587Z"
    }
   },
   "outputs": [
    {
     "name": "stdout",
     "output_type": "stream",
     "text": [
      "{'agent_outcome': AgentActionMessageLog(tool='cypherqa_tool', tool_input='How well does farmr know sig? Can you please include a count of your interactions', log='', message_log=[])}\n",
      "----\n",
      "\n",
      "\n",
      "\u001B[1m> Entering new GraphCypherQAChain chain...\u001B[0m\n",
      "{'intermediate_steps': [(AgentActionMessageLog(tool='cypherqa_tool', tool_input='How well does farmr know sig? Can you please include a count of your interactions', log='', message_log=[]), 'Not Found')]}\n",
      "----\n",
      "{'agent_outcome': AgentFinish(return_values={'output': 'It appears there was an issue retrieving the specific interactions between \"farmr\" and \"sig\" from the available data. Without access to the detailed interaction data between these entities, I cannot provide a precise analysis or count of their interactions. If you have any other questions or need information on a different topic, feel free to ask!'}, log='It appears there was an issue retrieving the specific interactions between \"farmr\" and \"sig\" from the available data. Without access to the detailed interaction data between these entities, I cannot provide a precise analysis or count of their interactions. If you have any other questions or need information on a different topic, feel free to ask!')}\n",
      "----\n",
      "should_continue: {'input': 'How well does farmr know sig? Can you please include a count of your interactions', 'chat_history': [], 'agent_outcome': AgentFinish(return_values={'output': 'It appears there was an issue retrieving the specific interactions between \"farmr\" and \"sig\" from the available data. Without access to the detailed interaction data between these entities, I cannot provide a precise analysis or count of their interactions. If you have any other questions or need information on a different topic, feel free to ask!'}, log='It appears there was an issue retrieving the specific interactions between \"farmr\" and \"sig\" from the available data. Without access to the detailed interaction data between these entities, I cannot provide a precise analysis or count of their interactions. If you have any other questions or need information on a different topic, feel free to ask!'), 'intermediate_steps': [(AgentActionMessageLog(tool='cypherqa_tool', tool_input='How well does farmr know sig? Can you please include a count of your interactions', log='', message_log=[]), 'Not Found')]}\n",
      "{'input': 'How well does farmr know sig? Can you please include a count of your interactions', 'chat_history': [], 'agent_outcome': AgentFinish(return_values={'output': 'It appears there was an issue retrieving the specific interactions between \"farmr\" and \"sig\" from the available data. Without access to the detailed interaction data between these entities, I cannot provide a precise analysis or count of their interactions. If you have any other questions or need information on a different topic, feel free to ask!'}, log='It appears there was an issue retrieving the specific interactions between \"farmr\" and \"sig\" from the available data. Without access to the detailed interaction data between these entities, I cannot provide a precise analysis or count of their interactions. If you have any other questions or need information on a different topic, feel free to ask!'), 'intermediate_steps': [(AgentActionMessageLog(tool='cypherqa_tool', tool_input='How well does farmr know sig? Can you please include a count of your interactions', log='', message_log=[]), 'Not Found')]}\n",
      "----\n"
     ]
    }
   ],
   "source": [
    "inputs = {\"input\": \"How well does farmr know sig? Can you please include a count of your interactions\", \"chat_history\": []}\n",
    "for s in app.stream(inputs):\n",
    "    print(list(s.values())[0])\n",
    "    #print(s)\n",
    "    print(\"----\")"
   ]
  },
  {
   "cell_type": "code",
   "outputs": [],
   "source": [
    "inputs = {\"input\": \"What do farmr and sig talk about?\", \"chat_history\": []}\n",
    "for s in app.stream(inputs):\n",
    "    print(list(s.values())[0])\n",
    "    #print(s)\n",
    "    print(\"----\")"
   ],
   "metadata": {
    "collapsed": false
   },
   "id": "58a0480352d5f605"
  },
  {
   "cell_type": "code",
   "execution_count": null,
   "id": "8d71a8c595f309ed",
   "metadata": {
    "collapsed": false
   },
   "outputs": [],
   "source": [
    "inputs = {\"input\": \"What did farmr and sig talk about yesterday? Today's date is Sun Apr 7 2024\", \"chat_history\": []}\n",
    "for s in app.stream(inputs):\n",
    "    print(list(s.values())[0])\n",
    "    #print(s)\n",
    "    print(\"----\")"
   ]
  },
  {
   "cell_type": "code",
   "execution_count": null,
   "id": "c05dd54ae1f470e7",
   "metadata": {
    "collapsed": false
   },
   "outputs": [],
   "source": [
    "inputs = {\"input\": \"What were the top 3 conversations of utmost importance over the last week? Today's date is April 7th 2024\", \"chat_history\": []}\n",
    "for s in app.stream(inputs):\n",
    "    print(list(s.values())[0])\n",
    "    #print(s)\n",
    "    print(\"----\")"
   ]
  },
  {
   "cell_type": "code",
   "execution_count": null,
   "id": "eb56c7d085657188",
   "metadata": {
    "collapsed": false
   },
   "outputs": [],
   "source": [
    "inputs = {\"input\": \"Does bysin from #!chases know farmr?\", \"chat_history\": []}\n",
    "for s in app.stream(inputs):\n",
    "    print(list(s.values())[0])\n",
    "    #print(s)\n",
    "    print(\"----\")"
   ]
  },
  {
   "cell_type": "code",
   "execution_count": 213,
   "id": "2d718f1185125985",
   "metadata": {
    "collapsed": false,
    "ExecuteTime": {
     "end_time": "2024-04-07T17:24:09.992548Z",
     "start_time": "2024-04-07T17:23:48.856368Z"
    }
   },
   "outputs": [
    {
     "name": "stdout",
     "output_type": "stream",
     "text": [
      "{'agent_outcome': AgentActionMessageLog(tool='cypherqa_tool', tool_input=\"What PagerDuty events have been fired and delivered over the last month and what was the team split? Today's date is Sun apr 7 2024\", log='', message_log=[])}\n",
      "----\n",
      "\n",
      "\n",
      "\u001B[1m> Entering new GraphCypherQAChain chain...\u001B[0m\n",
      "Generated Cypher:\n",
      "\u001B[32;1m\u001B[1;3m\n",
      "MATCH (m:Message)-[:POSTED_IN]->(c:Channel)\n",
      "WHERE m.platform = \"IRC\"\n",
      "AND m.content CONTAINS \"PagerDuty\"\n",
      "AND m.timestamp >= \"2024-03-07T00:00:00Z\"\n",
      "AND m.timestamp <= \"2024-04-07T23:59:59Z\"\n",
      "RETURN m.content AS EventContent, c.name AS TeamSplit\n",
      "\u001B[0m\n",
      "Full Context:\n",
      "\u001B[32;1m\u001B[1;3m[{'EventContent': ' [PagerDuty Alert: DevOps Team] ALERT ID: PD-10234 - Severity: Critical - Issue: Database Response Time Spike - Details: The primary customer          database has experienced a 50% increase in response time as of 03:45 AM UTC.  Action Required: Immediate investigation into database performance and  server load.', 'TeamSplit': '#𝓉𝓌𝑒𝓇𝓀𝒾𝓃'}, {'EventContent': '[PagerDuty|DevOps Team] ALERT ID: PD-10234 | Severity: Critical | Issue: Database Response Time Spike | Details: 50% increase in response time as of 03:45 AM UTC | Action Required: Investigate database performance.', 'TeamSplit': '#𝓉𝓌𝑒𝓇𝓀𝒾𝓃'}, {'EventContent': '[PagerDuty|Platform Team] ALERT ID: PD-20456 | Severity: High | Issue: API Gateway Latency | Details: Latency > 200 ms for > 5 mins, impacting service integration | Action Required: Assess and scale API gateway performance.', 'TeamSplit': '#𝓉𝓌𝑒𝓇𝓀𝒾𝓃'}, {'EventContent': '[PagerDuty|Customer Support Team] ALERT ID: PD-30678 | Severity: Moderate | Issue: High Ticket Volume | Details: 40% increase in tickets related to login issues | Action Required: Allocate resources to support requests and identify cause.', 'TeamSplit': '#𝓉𝓌𝑒𝓇𝓀𝒾𝓃'}]\u001B[0m\n",
      "\n",
      "\u001B[1m> Finished chain.\u001B[0m\n",
      "{'intermediate_steps': [(AgentActionMessageLog(tool='cypherqa_tool', tool_input=\"What PagerDuty events have been fired and delivered over the last month and what was the team split? Today's date is Sun apr 7 2024\", log='', message_log=[]), 'Over the last month, several PagerDuty events have been fired and delivered, each associated with a specific team. The events and their corresponding team splits are as follows:\\n\\n1. A critical alert regarding a Database Response Time Spike, with the details highlighting a 50% increase in response time as of 03:45 AM UTC. This alert required immediate investigation into database performance and server load, and it was associated with the DevOps Team under the team split #𝓉𝓌𝑒𝓇𝓀𝒾𝓃.\\n\\n2. Another critical alert for the DevOps Team concerning the same Database Response Time Spike issue, emphasizing the need to investigate database performance. This was also under the team split #𝓉𝓌𝑒𝓇𝓀𝒾𝓃.\\n\\n3. A high severity alert for the Platform Team regarding API Gateway Latency, with details mentioning latency greater than 200 ms for more than 5 minutes, impacting service integration. The action required was to assess and scale API gateway performance, associated with the team split #𝓉𝓌𝑒𝓇𝓀𝒾𝓃.\\n\\n4. A moderate severity alert for the Customer Support Team related to a High Ticket Volume, detailing a 40% increase in tickets related to login issues. The required action was to allocate resources to support requests and identify the cause, also under the team split #𝓉𝓌𝑒𝓇𝓀𝒾𝓃.')]}\n",
      "----\n",
      "{'agent_outcome': AgentFinish(return_values={'output': 'Over the last month, the following PagerDuty events were fired and delivered, with the details of the team split as follows:\\n\\n1. **Database Response Time Spike** (Critical Alert)\\n   - **Details:** A 50% increase in database response time as of 03:45 AM UTC, requiring immediate investigation into database performance and server load.\\n   - **Team Associated:** DevOps Team\\n   - **Team Split:** #twerkin\\n\\n2. **Database Response Time Spike** (Critical Alert)\\n   - **Details:** Emphasized the need to investigate database performance related to the same issue mentioned above.\\n   - **Team Associated:** DevOps Team\\n   - **Team Split:** #twerkin\\n\\n3. **API Gateway Latency** (High Severity Alert)\\n   - **Details:** Latency greater than 200 ms for more than 5 minutes, impacting service integration. The action required was to assess and scale API gateway performance.\\n   - **Team Associated:** Platform Team\\n   - **Team Split:** #twerkin\\n\\n4. **High Ticket Volume** (Moderate Severity Alert)\\n   - **Details:** A 40% increase in tickets related to login issues, requiring allocation of resources to support requests and identification of the cause.\\n   - **Team Associated:** Customer Support Team\\n   - **Team Split:** #twerkin\\n\\nEach of these events required specific actions from the respective teams and were all managed under the team split #twerkin.'}, log='Over the last month, the following PagerDuty events were fired and delivered, with the details of the team split as follows:\\n\\n1. **Database Response Time Spike** (Critical Alert)\\n   - **Details:** A 50% increase in database response time as of 03:45 AM UTC, requiring immediate investigation into database performance and server load.\\n   - **Team Associated:** DevOps Team\\n   - **Team Split:** #twerkin\\n\\n2. **Database Response Time Spike** (Critical Alert)\\n   - **Details:** Emphasized the need to investigate database performance related to the same issue mentioned above.\\n   - **Team Associated:** DevOps Team\\n   - **Team Split:** #twerkin\\n\\n3. **API Gateway Latency** (High Severity Alert)\\n   - **Details:** Latency greater than 200 ms for more than 5 minutes, impacting service integration. The action required was to assess and scale API gateway performance.\\n   - **Team Associated:** Platform Team\\n   - **Team Split:** #twerkin\\n\\n4. **High Ticket Volume** (Moderate Severity Alert)\\n   - **Details:** A 40% increase in tickets related to login issues, requiring allocation of resources to support requests and identification of the cause.\\n   - **Team Associated:** Customer Support Team\\n   - **Team Split:** #twerkin\\n\\nEach of these events required specific actions from the respective teams and were all managed under the team split #twerkin.')}\n",
      "----\n",
      "should_continue: {'input': \"What PagerDuty events have been fired and delivered over the last month and what was the team split? Today's date is Sun apr 7 2024\", 'chat_history': [], 'agent_outcome': AgentFinish(return_values={'output': 'Over the last month, the following PagerDuty events were fired and delivered, with the details of the team split as follows:\\n\\n1. **Database Response Time Spike** (Critical Alert)\\n   - **Details:** A 50% increase in database response time as of 03:45 AM UTC, requiring immediate investigation into database performance and server load.\\n   - **Team Associated:** DevOps Team\\n   - **Team Split:** #twerkin\\n\\n2. **Database Response Time Spike** (Critical Alert)\\n   - **Details:** Emphasized the need to investigate database performance related to the same issue mentioned above.\\n   - **Team Associated:** DevOps Team\\n   - **Team Split:** #twerkin\\n\\n3. **API Gateway Latency** (High Severity Alert)\\n   - **Details:** Latency greater than 200 ms for more than 5 minutes, impacting service integration. The action required was to assess and scale API gateway performance.\\n   - **Team Associated:** Platform Team\\n   - **Team Split:** #twerkin\\n\\n4. **High Ticket Volume** (Moderate Severity Alert)\\n   - **Details:** A 40% increase in tickets related to login issues, requiring allocation of resources to support requests and identification of the cause.\\n   - **Team Associated:** Customer Support Team\\n   - **Team Split:** #twerkin\\n\\nEach of these events required specific actions from the respective teams and were all managed under the team split #twerkin.'}, log='Over the last month, the following PagerDuty events were fired and delivered, with the details of the team split as follows:\\n\\n1. **Database Response Time Spike** (Critical Alert)\\n   - **Details:** A 50% increase in database response time as of 03:45 AM UTC, requiring immediate investigation into database performance and server load.\\n   - **Team Associated:** DevOps Team\\n   - **Team Split:** #twerkin\\n\\n2. **Database Response Time Spike** (Critical Alert)\\n   - **Details:** Emphasized the need to investigate database performance related to the same issue mentioned above.\\n   - **Team Associated:** DevOps Team\\n   - **Team Split:** #twerkin\\n\\n3. **API Gateway Latency** (High Severity Alert)\\n   - **Details:** Latency greater than 200 ms for more than 5 minutes, impacting service integration. The action required was to assess and scale API gateway performance.\\n   - **Team Associated:** Platform Team\\n   - **Team Split:** #twerkin\\n\\n4. **High Ticket Volume** (Moderate Severity Alert)\\n   - **Details:** A 40% increase in tickets related to login issues, requiring allocation of resources to support requests and identification of the cause.\\n   - **Team Associated:** Customer Support Team\\n   - **Team Split:** #twerkin\\n\\nEach of these events required specific actions from the respective teams and were all managed under the team split #twerkin.'), 'intermediate_steps': [(AgentActionMessageLog(tool='cypherqa_tool', tool_input=\"What PagerDuty events have been fired and delivered over the last month and what was the team split? Today's date is Sun apr 7 2024\", log='', message_log=[]), 'Over the last month, several PagerDuty events have been fired and delivered, each associated with a specific team. The events and their corresponding team splits are as follows:\\n\\n1. A critical alert regarding a Database Response Time Spike, with the details highlighting a 50% increase in response time as of 03:45 AM UTC. This alert required immediate investigation into database performance and server load, and it was associated with the DevOps Team under the team split #𝓉𝓌𝑒𝓇𝓀𝒾𝓃.\\n\\n2. Another critical alert for the DevOps Team concerning the same Database Response Time Spike issue, emphasizing the need to investigate database performance. This was also under the team split #𝓉𝓌𝑒𝓇𝓀𝒾𝓃.\\n\\n3. A high severity alert for the Platform Team regarding API Gateway Latency, with details mentioning latency greater than 200 ms for more than 5 minutes, impacting service integration. The action required was to assess and scale API gateway performance, associated with the team split #𝓉𝓌𝑒𝓇𝓀𝒾𝓃.\\n\\n4. A moderate severity alert for the Customer Support Team related to a High Ticket Volume, detailing a 40% increase in tickets related to login issues. The required action was to allocate resources to support requests and identify the cause, also under the team split #𝓉𝓌𝑒𝓇𝓀𝒾𝓃.')]}\n",
      "{'input': \"What PagerDuty events have been fired and delivered over the last month and what was the team split? Today's date is Sun apr 7 2024\", 'chat_history': [], 'agent_outcome': AgentFinish(return_values={'output': 'Over the last month, the following PagerDuty events were fired and delivered, with the details of the team split as follows:\\n\\n1. **Database Response Time Spike** (Critical Alert)\\n   - **Details:** A 50% increase in database response time as of 03:45 AM UTC, requiring immediate investigation into database performance and server load.\\n   - **Team Associated:** DevOps Team\\n   - **Team Split:** #twerkin\\n\\n2. **Database Response Time Spike** (Critical Alert)\\n   - **Details:** Emphasized the need to investigate database performance related to the same issue mentioned above.\\n   - **Team Associated:** DevOps Team\\n   - **Team Split:** #twerkin\\n\\n3. **API Gateway Latency** (High Severity Alert)\\n   - **Details:** Latency greater than 200 ms for more than 5 minutes, impacting service integration. The action required was to assess and scale API gateway performance.\\n   - **Team Associated:** Platform Team\\n   - **Team Split:** #twerkin\\n\\n4. **High Ticket Volume** (Moderate Severity Alert)\\n   - **Details:** A 40% increase in tickets related to login issues, requiring allocation of resources to support requests and identification of the cause.\\n   - **Team Associated:** Customer Support Team\\n   - **Team Split:** #twerkin\\n\\nEach of these events required specific actions from the respective teams and were all managed under the team split #twerkin.'}, log='Over the last month, the following PagerDuty events were fired and delivered, with the details of the team split as follows:\\n\\n1. **Database Response Time Spike** (Critical Alert)\\n   - **Details:** A 50% increase in database response time as of 03:45 AM UTC, requiring immediate investigation into database performance and server load.\\n   - **Team Associated:** DevOps Team\\n   - **Team Split:** #twerkin\\n\\n2. **Database Response Time Spike** (Critical Alert)\\n   - **Details:** Emphasized the need to investigate database performance related to the same issue mentioned above.\\n   - **Team Associated:** DevOps Team\\n   - **Team Split:** #twerkin\\n\\n3. **API Gateway Latency** (High Severity Alert)\\n   - **Details:** Latency greater than 200 ms for more than 5 minutes, impacting service integration. The action required was to assess and scale API gateway performance.\\n   - **Team Associated:** Platform Team\\n   - **Team Split:** #twerkin\\n\\n4. **High Ticket Volume** (Moderate Severity Alert)\\n   - **Details:** A 40% increase in tickets related to login issues, requiring allocation of resources to support requests and identification of the cause.\\n   - **Team Associated:** Customer Support Team\\n   - **Team Split:** #twerkin\\n\\nEach of these events required specific actions from the respective teams and were all managed under the team split #twerkin.'), 'intermediate_steps': [(AgentActionMessageLog(tool='cypherqa_tool', tool_input=\"What PagerDuty events have been fired and delivered over the last month and what was the team split? Today's date is Sun apr 7 2024\", log='', message_log=[]), 'Over the last month, several PagerDuty events have been fired and delivered, each associated with a specific team. The events and their corresponding team splits are as follows:\\n\\n1. A critical alert regarding a Database Response Time Spike, with the details highlighting a 50% increase in response time as of 03:45 AM UTC. This alert required immediate investigation into database performance and server load, and it was associated with the DevOps Team under the team split #𝓉𝓌𝑒𝓇𝓀𝒾𝓃.\\n\\n2. Another critical alert for the DevOps Team concerning the same Database Response Time Spike issue, emphasizing the need to investigate database performance. This was also under the team split #𝓉𝓌𝑒𝓇𝓀𝒾𝓃.\\n\\n3. A high severity alert for the Platform Team regarding API Gateway Latency, with details mentioning latency greater than 200 ms for more than 5 minutes, impacting service integration. The action required was to assess and scale API gateway performance, associated with the team split #𝓉𝓌𝑒𝓇𝓀𝒾𝓃.\\n\\n4. A moderate severity alert for the Customer Support Team related to a High Ticket Volume, detailing a 40% increase in tickets related to login issues. The required action was to allocate resources to support requests and identify the cause, also under the team split #𝓉𝓌𝑒𝓇𝓀𝒾𝓃.')]}\n",
      "----\n"
     ]
    }
   ],
   "source": [
    "inputs = {\"input\": \"What PagerDuty events have been fired and delivered over the last month and what was the team split? Today's date is Sun apr 7 2024\", \"chat_history\": []}\n",
    "for s in app.stream(inputs):\n",
    "    print(list(s.values())[0])\n",
    "    #print(s)\n",
    "    print(\"----\")"
   ]
  },
  {
   "cell_type": "code",
   "execution_count": null,
   "id": "248a9f2f7accda16",
   "metadata": {
    "collapsed": false
   },
   "outputs": [],
   "source": []
  }
 ],
 "metadata": {
  "kernelspec": {
   "display_name": "Python 3 (ipykernel)",
   "language": "python",
   "name": "python3"
  },
  "language_info": {
   "codemirror_mode": {
    "name": "ipython",
    "version": 3
   },
   "file_extension": ".py",
   "mimetype": "text/x-python",
   "name": "python",
   "nbconvert_exporter": "python",
   "pygments_lexer": "ipython3",
   "version": "3.11.8"
  }
 },
 "nbformat": 4,
 "nbformat_minor": 5
}
