{
 "cells": [
  {
   "cell_type": "markdown",
   "id": "f725852e-71ef-4615-8cac-011a516fbe72",
   "metadata": {},
   "source": [
    "# Agent Executor From Scratch\n",
    "\n",
    "In this notebook we will create an agent with a search tool. However, at the start we will force the agent to call the search tool (and then let it do whatever it wants after). This is useful when you want to force agents to call particular tools, but still want flexibility of what happens after that.\n",
    "\n",
    "This examples builds off the base agent executor. It is highly recommended you learn about that executor before going through this notebook. You can find documentation for that example [here](./base.ipynb).\n",
    "\n",
    "Any modifications of that example are called below with **MODIFICATION**, so if you are looking for the differences you can just search for that."
   ]
  },
  {
   "cell_type": "markdown",
   "id": "6821de30-6eeb-4f70-b0a7-e05d3187b14b",
   "metadata": {},
   "source": [
    "## Setup\n",
    "\n",
    "First we need to install the packages required"
   ]
  },
  {
   "cell_type": "code",
   "execution_count": 1,
   "id": "694cfc4c-22a7-495d-930d-56b21d850ff9",
   "metadata": {
    "ExecuteTime": {
     "end_time": "2024-04-07T05:12:50.667514Z",
     "start_time": "2024-04-07T05:12:48.402555Z"
    }
   },
   "outputs": [],
   "source": [
    "!pip install --quiet -U langchain langchain_openai tavily-python langchainhub"
   ]
  },
  {
   "cell_type": "markdown",
   "id": "dc039752-6d34-4ad4-aa31-9a10f4d4d597",
   "metadata": {},
   "source": [
    "Next, we need to set API keys for OpenAI (the LLM we will use) and Tavily (the search tool we will use)"
   ]
  },
  {
   "cell_type": "code",
   "execution_count": 2,
   "id": "30c06a84-291a-4f58-9d31-53d3b56a3def",
   "metadata": {
    "ExecuteTime": {
     "end_time": "2024-04-07T05:12:50.671654Z",
     "start_time": "2024-04-07T05:12:50.669174Z"
    }
   },
   "outputs": [],
   "source": [
    "import os\n",
    "import warnings\n",
    "import textwrap\n",
    "\n",
    "#os.environ[\"OPENAI_API_KEY\"] = getpass.getpass(\"OpenAI API Key:\")\n",
    "#os.environ[\"TAVILY_API_KEY\"] = getpass.getpass(\"Tavily API Key:\")\n",
    "\n",
    "warnings.filterwarnings(\"ignore\")\n"
   ]
  },
  {
   "cell_type": "markdown",
   "id": "5e7f4767-54fb-4b6e-bd9a-3d433df924fb",
   "metadata": {},
   "source": [
    "Optionally, we can set API key for [LangSmith tracing](https://smith.langchain.com/), which will give us best-in-class observability."
   ]
  },
  {
   "cell_type": "code",
   "execution_count": 3,
   "id": "a8fb285a-7e6e-46fc-a273-43ab1a676189",
   "metadata": {
    "ExecuteTime": {
     "end_time": "2024-04-07T05:12:50.674040Z",
     "start_time": "2024-04-07T05:12:50.672468Z"
    }
   },
   "outputs": [],
   "source": [
    "os.environ[\"LANGCHAIN_TRACING_V2\"] = \"true\"\n",
    "#os.environ[\"LANGCHAIN_API_KEY\"] = getpass.getpass(\"LangSmith API Key:\")"
   ]
  },
  {
   "cell_type": "code",
   "execution_count": 4,
   "id": "cb3a2cabb41cf70b",
   "metadata": {
    "collapsed": false,
    "ExecuteTime": {
     "end_time": "2024-04-07T05:12:51.513353Z",
     "start_time": "2024-04-07T05:12:50.675507Z"
    }
   },
   "outputs": [],
   "source": [
    "from langchain_community.graphs import Neo4jGraph\n",
    "from langchain_community.vectorstores import Neo4jVector\n",
    "\n",
    "NEO4J_URI = \"bolt://localhost:7687\"\n",
    "NEO4J_USERNAME = 'neo4j'\n",
    "NEO4J_PASSWORD = os.getenv(\"NEO4J_PASSWORD\")\n",
    "NEO4J_DATABASE = 'neo4j'\n",
    "OPENAI_API_KEY = os.getenv(\"OPENAI_API_KEY\")\n",
    "\n",
    "VECTOR_INDEX_NAME = 'message-embeddings'\n",
    "VECTOR_NODE_LABEL = 'Message'\n",
    "VECTOR_SOURCE_PROPERTY = 'text'\n",
    "VECTOR_EMBEDDING_PROPERTY = 'textEmbedding'\n",
    "\n",
    "# Create the graph\n",
    "graph = Neo4jGraph(\n",
    "    url=NEO4J_URI, username=NEO4J_USERNAME, password=NEO4J_PASSWORD, database=NEO4J_DATABASE\n",
    ")\n"
   ]
  },
  {
   "cell_type": "code",
   "execution_count": 5,
   "id": "8ee9fa11f82f95a6",
   "metadata": {
    "collapsed": false,
    "ExecuteTime": {
     "end_time": "2024-04-07T05:12:52.194821Z",
     "start_time": "2024-04-07T05:12:51.515186Z"
    }
   },
   "outputs": [
    {
     "name": "stdout",
     "output_type": "stream",
     "text": [
      "Node properties are the following: User {name:\n",
      "STRING},Message {content: STRING, platform: STRING,\n",
      "timestamp: STRING, embedding: LIST},Channel {name: STRING}\n",
      "Relationship properties are the following: INTERACTED_WITH\n",
      "{weight: INTEGER},CONNECTION {type: STRING, weight: INTEGER}\n",
      "The relationships are the following: (:User)-[:SENT]-\n",
      ">(:Message),(:User)-[:CONNECTION]->(:User),(:User)-\n",
      "[:INTERACTED_WITH]->(:User),(:Message)-[:POSTED_IN]-\n",
      ">(:Channel),(:Message)-[:MENTIONED]->(:User)\n"
     ]
    }
   ],
   "source": [
    "graph.refresh_schema()\n",
    "print(textwrap.fill(graph.schema, 60))"
   ]
  },
  {
   "cell_type": "markdown",
   "source": [
    "# Build our custom retrieval query"
   ],
   "metadata": {
    "collapsed": false
   },
   "id": "8397abfd087bcbb2"
  },
  {
   "cell_type": "code",
   "outputs": [],
   "source": [
    "retrieval_query2 = \"\"\"\n",
    "OPTIONAL MATCH (m:Message)-[:SENT]->(u:User),\n",
    "               (m)-[:POSTED_IN]->(c:Channel),\n",
    "               (m)-[:MENTIONED]->(mentioned:User)\n",
    "WITH m, score, collect(u) AS senders, collect(c) AS channels, collect(mentioned) AS mentionedUsers\n",
    "RETURN m.content AS text,\n",
    "       score,\n",
    "       m {.*, embedding: Null, content: Null, senders: senders, channels: channels, mentionedUsers: mentionedUsers} AS metadata\n",
    "\"\"\"\n",
    "\n",
    "retrieval_query = \"\"\"\n",
    "OPTIONAL MATCH (node)<-[:SENT]-(u:User)\n",
    "WITH node, score, collect(u) AS users\n",
    "RETURN node.content AS text,\n",
    "       score, \n",
    "       node {.*, embedding: Null, content: Null, sentBy: users} AS metadata\n",
    "\"\"\""
   ],
   "metadata": {
    "collapsed": false,
    "ExecuteTime": {
     "end_time": "2024-04-07T05:12:52.201672Z",
     "start_time": "2024-04-07T05:12:52.197598Z"
    }
   },
   "id": "144ab8dcb00fbcd8",
   "execution_count": 6
  },
  {
   "cell_type": "markdown",
   "source": [
    "# Setup the Vector Index "
   ],
   "metadata": {
    "collapsed": false
   },
   "id": "c191374ee9f03e04"
  },
  {
   "cell_type": "code",
   "execution_count": 7,
   "id": "33fafb6d352dc911",
   "metadata": {
    "collapsed": false,
    "ExecuteTime": {
     "end_time": "2024-04-07T05:12:53.215836Z",
     "start_time": "2024-04-07T05:12:52.203087Z"
    }
   },
   "outputs": [],
   "source": [
    "from langchain_openai import OpenAIEmbeddings\n",
    "\n",
    "vector_index = Neo4jVector.from_existing_graph(\n",
    "    OpenAIEmbeddings(\n",
    "        model=\"text-embedding-3-small\",\n",
    "        dimensions=1536,\n",
    "    ),\n",
    "    url=NEO4J_URI,\n",
    "    username=NEO4J_USERNAME,\n",
    "    password=NEO4J_PASSWORD,\n",
    "    index_name=\"message-embeddings\",\n",
    "    node_label=\"Message\",\n",
    "    text_node_properties=['content', 'platform', 'timestamp'],\n",
    "    embedding_node_property='embedding',\n",
    "    retrieval_query=retrieval_query,\n",
    ")"
   ]
  },
  {
   "cell_type": "code",
   "outputs": [],
   "source": [
    "import re\n",
    "\n",
    "def similarity_search(query: str, max_results: int = 1000):\n",
    "    results = vector_index.search(query, max_results=max_results, search_type=\"similarity\")\n",
    "    print(f\"Found {len(results)} results\")\n",
    "    # Print the raw results for debugging\n",
    "    #print(results)\n",
    "    # Clean the page_content from each Document in the results\n",
    "    content_list = [re.sub(r'^\\ncontent: |\\x02|\\x03\\d{2}(,\\d{2})?|\\u2068|\\u2069', '', result.page_content.split('\\nplatform:')[0].strip()) for result in results]\n",
    "    # Print the cleaned content list for verification\n",
    "    #print(content_list)\n",
    "    return content_list\n",
    "\n",
    "    "
   ],
   "metadata": {
    "collapsed": false,
    "ExecuteTime": {
     "end_time": "2024-04-07T05:12:53.226278Z",
     "start_time": "2024-04-07T05:12:53.219113Z"
    }
   },
   "id": "e5f179a381136aeb",
   "execution_count": 8
  },
  {
   "cell_type": "code",
   "outputs": [],
   "source": [
    "import re\n",
    "\n",
    "def similarity_search_v2(v2_query: str, max_results: int = 1000):\n",
    "    my_retriever = vector_index.as_retriever()\n",
    "    results = my_retriever.get_relevant_documents(v2_query, max_results=max_results)\n",
    "    \n",
    "    formatted_messages = []\n",
    "    \n",
    "    for result in results:\n",
    "        # Access the message content directly via the page_content attribute\n",
    "        message_content = result.page_content\n",
    "        \n",
    "        # Assuming metadata is directly accessible and contains the 'sentBy' information\n",
    "        # Adjust the access pattern if 'metadata' is structured differently\n",
    "        username = \"Unknown\"  # Default username\n",
    "        if hasattr(result, 'metadata') and 'sentBy' in result.metadata:\n",
    "            sentBy = result.metadata['sentBy']\n",
    "            if sentBy and isinstance(sentBy, list) and len(sentBy) > 0:\n",
    "                username = sentBy[0].get('name', \"Unknown\")\n",
    "        \n",
    "        # Clean the message content\n",
    "        cleaned_message_content = re.sub(r'\\x02|\\x03\\d{2}(,\\d{2})?|\\u2068|\\u2069', '', message_content)\n",
    "        \n",
    "        # Format the message in a chat-like format\n",
    "        chat_format_message = f\"<{username}> {cleaned_message_content}\"\n",
    "        formatted_messages.append(chat_format_message)\n",
    "    \n",
    "    return formatted_messages\n"
   ],
   "metadata": {
    "collapsed": false,
    "ExecuteTime": {
     "end_time": "2024-04-07T05:12:53.237442Z",
     "start_time": "2024-04-07T05:12:53.229492Z"
    }
   },
   "id": "e458b32ea994f78d",
   "execution_count": 9
  },
  {
   "cell_type": "code",
   "outputs": [
    {
     "data": {
      "text/plain": "[Document(page_content='i never really went anywhere with my parents', metadata={'timestamp': '2024-04-06T15:01:20.820982+00:00', 'platform': 'IRC', 'sentBy': [{'name': 'leku'}]}),\n Document(page_content='same', metadata={'timestamp': '2024-04-04T16:52:46.933179+00:00', 'platform': 'IRC', 'sentBy': [{'name': 'viral'}]}),\n Document(page_content='now add it to my url service!', metadata={'timestamp': '2024-04-04T16:49:59.625174+00:00', 'platform': 'IRC', 'sentBy': [{'name': 'Pilate'}]}),\n Document(page_content=\"oh, i understand this kind of struggling. i don't even kill spiders\", metadata={'timestamp': '2024-04-04T16:43:45.167055+00:00', 'platform': 'IRC', 'sentBy': [{'name': 'oo'}]})]"
     },
     "execution_count": 10,
     "metadata": {},
     "output_type": "execute_result"
    }
   ],
   "source": [
    "query = \"what is leku's favorite food?\"\n",
    "retriever = vector_index.as_retriever()\n",
    "retriever.get_relevant_documents(query)"
   ],
   "metadata": {
    "collapsed": false,
    "ExecuteTime": {
     "end_time": "2024-04-07T05:12:53.536662Z",
     "start_time": "2024-04-07T05:12:53.241375Z"
    }
   },
   "id": "bff3fdcaf1d55319",
   "execution_count": 10
  },
  {
   "cell_type": "code",
   "outputs": [
    {
     "name": "stdout",
     "output_type": "stream",
     "text": [
      "['<leku> i never really went anywhere with my parents', '<viral> same', '<Pilate> now add it to my url service!', \"<oo> oh, i understand this kind of struggling. i don't even kill spiders\"]\n"
     ]
    }
   ],
   "source": [
    "# query = \"nude bots?\"\n",
    "query = \"what is leku's favorite food?\"\n",
    "response = similarity_search_v2(query, max_results=10)\n",
    "print(response)"
   ],
   "metadata": {
    "collapsed": false,
    "ExecuteTime": {
     "end_time": "2024-04-07T05:12:53.789821Z",
     "start_time": "2024-04-07T05:12:53.539145Z"
    }
   },
   "id": "1de1b4bf0fd3dab9",
   "execution_count": 11
  },
  {
   "cell_type": "markdown",
   "source": [
    "# Define the Cypher Generation Prompt\n",
    "# Here we define the prompt that will be used to generate Cypher queries\n",
    "# We use example queries to show how to use the schema to the LLM"
   ],
   "metadata": {
    "collapsed": false
   },
   "id": "7770ddbd8a180fd2"
  },
  {
   "cell_type": "code",
   "execution_count": 57,
   "id": "ea2b4ec2eff00e80",
   "metadata": {
    "collapsed": false,
    "ExecuteTime": {
     "end_time": "2024-04-07T05:27:21.953444Z",
     "start_time": "2024-04-07T05:27:21.947717Z"
    }
   },
   "outputs": [],
   "source": [
    "CYPHER_GENERATION_TEMPLATE = \"\"\"Task:Generate Cypher statement to \n",
    "query a graph database.\n",
    "Instructions:\n",
    "Use only the provided relationship types and properties in the \n",
    "schema. Do not use any other relationship types or properties that \n",
    "are not provided.\n",
    "Schema:\n",
    "{schema}\n",
    "Note: Do not include any explanations or apologies in your responses.\n",
    "Do not respond to any questions that might ask anything else than \n",
    "for you to construct a Cypher statement.\n",
    "Do not include any text except the generated Cypher statement.\n",
    "Examples: Here are a few examples of generated Cypher \n",
    "statements for particular questions:\n",
    "\n",
    "### Reading messages in chronological order\n",
    "```\n",
    "MATCH (m:Message)-[:POSTED_IN]->(chan:Channel {{name: '#!chases'}})\n",
    "RETURN m.content AS message, datetime(m.timestamp) AS time\n",
    "ORDER BY time DESC\n",
    "```\n",
    "\n",
    "### Indirect Connection Through Shared Channels\n",
    "```\n",
    "MATCH (a:User {{name: 'Alice'}})-[:SENT|POSTED_IN]->(m:Message)-[:POSTED_IN]->(chan:Channel)<-[:POSTED_IN]-(m2:Message)<-[:SENT|POSTED_IN]-(b:User {{name: 'Bob'}})\n",
    "RETURN DISTINCT chan.name AS SharedChannel\n",
    "```\n",
    "\n",
    "### Indirect Connection Through Mutual Connections\n",
    "```\n",
    "MATCH (a:User {{name: 'Alice'}})-[:INTERACTED_WITH]->(mutual:User)<-[:INTERACTED_WITH]-(b:User {{name: 'Bob'}})\n",
    "RETURN DISTINCT mutual.name AS MutualFriend\n",
    "```\n",
    "\n",
    "### Is Alice friends with Bob?\n",
    "```\n",
    "MATCH (a:User {{name: 'Alice'}})-[:INTERACTED_WITH]-(b:User {{name: 'Bob'}})\n",
    "RETURN a, b\n",
    "```\n",
    "\n",
    "### Showing a complete graph\n",
    "\n",
    "```\n",
    "MATCH (chan:Channel)-[:POSTED_IN]-(msg:Message)-[:SENT]-(user:User)\n",
    "OPTIONAL MATCH (msg)-[:MENTIONED]->(mentioned:User)\n",
    "RETURN chan, user, msg, mentioned\n",
    "```\n",
    "\n",
    "### Show a more complete graph\n",
    "\n",
    "```\n",
    "MATCH (chan:Channel)-[:POSTED_IN]-(msg:Message)-[:SENT]-(user:User)\n",
    "OPTIONAL MATCH (msg)-[:MENTIONED]->(mentioned:User)\n",
    "\n",
    "// Order messages in the channel by timestamp (descending)\n",
    "WITH chan, user, msg, mentioned\n",
    "ORDER BY msg.timestamp DESC\n",
    "\n",
    "// Limit results, preserving the relationships\n",
    "WITH  chan,\n",
    "      collect({{user: user, msg: msg, mentioned: mentioned}})[..25] as recentChannelActivity\n",
    "UNWIND recentChannelActivity as result\n",
    "RETURN chan, result.user, result.msg, result.mentioned\n",
    "```\n",
    "The question is:\n",
    "{question}\"\"\""
   ]
  },
  {
   "cell_type": "code",
   "execution_count": 58,
   "id": "148b36c0b956c30c",
   "metadata": {
    "collapsed": false,
    "ExecuteTime": {
     "end_time": "2024-04-07T05:27:26.016674Z",
     "start_time": "2024-04-07T05:27:23.795569Z"
    }
   },
   "outputs": [],
   "source": [
    "from langchain.prompts.prompt import PromptTemplate\n",
    "from langchain.prompts.chat import ChatPromptTemplate\n",
    "from langchain import hub\n",
    "\n",
    "CYPHER_GENERATION_PROMPT = PromptTemplate(\n",
    "    input_variables=[\"schema\", \"question\"], \n",
    "    template=CYPHER_GENERATION_TEMPLATE,\n",
    ")\n",
    "\n",
    "prompt = hub.pull(\"hwchase17/openai-functions-agent\")\n",
    "#prompt = ChatPromptTemplate.from_template(\"{chat_history}\")\n",
    "\n",
    "## Upload our prompt to LangSmith\n",
    "#hub.push(\"mfreeman451/threadr-cypher-prompt\", CHAT_GENERATION_PROMPT)\n"
   ]
  },
  {
   "cell_type": "code",
   "execution_count": 59,
   "id": "dc8289bb924fc5a9",
   "metadata": {
    "collapsed": false,
    "ExecuteTime": {
     "end_time": "2024-04-07T05:27:26.759557Z",
     "start_time": "2024-04-07T05:27:26.729848Z"
    }
   },
   "outputs": [],
   "source": [
    "from langchain.chains import GraphCypherQAChain\n",
    "from langchain_openai import ChatOpenAI\n",
    "\n",
    "cypherChain = GraphCypherQAChain.from_llm(\n",
    "    ChatOpenAI(model=\"gpt-4-turbo-preview\",temperature=0,openai_api_key=OPENAI_API_KEY),\n",
    "    graph=graph,\n",
    "    verbose=True,\n",
    "    cypher_prompt=CYPHER_GENERATION_PROMPT,\n",
    ")"
   ]
  },
  {
   "cell_type": "markdown",
   "id": "38eca15077e9653f",
   "metadata": {
    "collapsed": false
   },
   "source": [
    "# Create the Tools"
   ]
  },
  {
   "cell_type": "code",
   "execution_count": 60,
   "id": "b2b336d60fa1ab37",
   "metadata": {
    "collapsed": false,
    "ExecuteTime": {
     "end_time": "2024-04-07T05:27:28.740644Z",
     "start_time": "2024-04-07T05:27:28.736517Z"
    }
   },
   "outputs": [],
   "source": [
    "from typing import Dict, Optional, Type, Union\n",
    "from langchain_core.callbacks import (\n",
    "    AsyncCallbackManagerForToolRun,\n",
    "    CallbackManagerForToolRun,\n",
    ")\n",
    "from langchain_core.pydantic_v1 import BaseModel, Field\n",
    "from langchain_core.tools import BaseTool"
   ]
  },
  {
   "cell_type": "code",
   "execution_count": 61,
   "id": "d7a6add961907095",
   "metadata": {
    "collapsed": false,
    "ExecuteTime": {
     "end_time": "2024-04-07T05:27:29.391725Z",
     "start_time": "2024-04-07T05:27:29.388517Z"
    }
   },
   "outputs": [],
   "source": [
    "class TemporalSimilaritySearchInput(BaseModel):\n",
    "    \"\"\"Input for the Temporal Similarity Search tool.\"\"\"\n",
    "    # Define the inputs for your tool. Our query comes from chat users.\n",
    "    query: str = Field(description=\"Did Alice mention anything about yesterday's meeting?\")"
   ]
  },
  {
   "cell_type": "code",
   "execution_count": 62,
   "id": "6773221e6751af70",
   "metadata": {
    "collapsed": false,
    "ExecuteTime": {
     "end_time": "2024-04-07T05:27:30.001047Z",
     "start_time": "2024-04-07T05:27:29.993972Z"
    }
   },
   "outputs": [],
   "source": [
    "class SimilaritySearchInput(BaseModel):\n",
    "    \"\"\"Input for the Similarity Search tool.\"\"\"\n",
    "    # Define the inputs for your tool. Our query comes from chat users.\n",
    "    query: str = Field(description=\"Did Alice mention anything about the meeting?\")\n",
    "    max_results: int = Field(description=\"The maximum number of results to return.\", default=1000)\n",
    "    "
   ]
  },
  {
   "cell_type": "code",
   "outputs": [],
   "source": [
    "class SimilaritySearchTool(BaseTool):\n",
    "    \"\"\"A tool that serves to retrieve data from a labeled property graph.\"\"\"\n",
    "    \n",
    "    name: str = \"similarity_search_tool\"\n",
    "    description: str = \"A tool that serves to retrieve data from a labeled property graph.\"\n",
    "    max_results: int = 1000\n",
    "    args_schema: Type[BaseModel] = SimilaritySearchInput\n",
    "    \n",
    "    def _run(\n",
    "        self,\n",
    "        query: str,\n",
    "        max_results: int = 1000,\n",
    "        run_manager: Optional[CallbackManagerForToolRun] = None,\n",
    "    ) -> Union[Dict, str]:\n",
    "        \"\"\"Synchronously run the tool.\"\"\"\n",
    "        try:\n",
    "            return similarity_search_v2(query, max_results=max_results)\n",
    "        except Exception as e:\n",
    "            return repr(e)\n",
    "\n",
    "    async def _arun(\n",
    "        self,\n",
    "        query: str,\n",
    "        max_results: int = 1000,\n",
    "        run_manager: Optional[AsyncCallbackManagerForToolRun] = None,\n",
    "    ) -> Union[Dict, str]:\n",
    "        \"\"\"Asynchronously run the tool.\"\"\"\n",
    "        try:\n",
    "            return await similarity_search_v2(query, max_results=max_results)\n",
    "        except Exception as e:\n",
    "            return repr(e)\n",
    "    "
   ],
   "metadata": {
    "collapsed": false,
    "ExecuteTime": {
     "end_time": "2024-04-07T05:27:30.768841Z",
     "start_time": "2024-04-07T05:27:30.760138Z"
    }
   },
   "id": "5c2d2f65222d65f1",
   "execution_count": 63
  },
  {
   "cell_type": "code",
   "execution_count": 64,
   "id": "61faa7e401f1d014",
   "metadata": {
    "collapsed": false,
    "ExecuteTime": {
     "end_time": "2024-04-07T05:27:31.431431Z",
     "start_time": "2024-04-07T05:27:31.418314Z"
    }
   },
   "outputs": [],
   "source": [
    "class CypherQAInput(BaseModel):\n",
    "    \"\"\"Input for the CypherQA tool.\"\"\"\n",
    "    # Define the inputs for your tool. Our query comes from chat users.\n",
    "    query: str = Field(description=\"Who are alice's friends?\")\n",
    "    \n",
    "\n",
    "class CypherQATool(BaseTool):\n",
    "    \"\"\"A Cypher Question-Answering Tool.\"\"\"\n",
    "\n",
    "    name: str = \"cypherqa_tool\"\n",
    "    description: str = \"A tool that serves to retrieve data from a labeled property graph.\"\n",
    "    # If your tool requires initialization parameters, define them here.\n",
    "    # For a placeholder, we might not need any, but you can add as necessary.\n",
    "    args_schema: Type[BaseModel] = CypherQAInput\n",
    "\n",
    "    def _run(\n",
    "        self,\n",
    "        query: str,\n",
    "        run_manager: Optional[CallbackManagerForToolRun] = None,\n",
    "    ) -> Union[Dict, str]:\n",
    "        \"\"\"Synchronously run the tool.\"\"\"\n",
    "        try:\n",
    "            return cypherChain.run(query)\n",
    "        except Exception as e:\n",
    "            # just return an empty dict if there is an error\n",
    "            #return repr(e)\n",
    "            return \"Not Found\"\n",
    "\n",
    "    async def _arun(\n",
    "        self,\n",
    "        query: str,\n",
    "        run_manager: Optional[AsyncCallbackManagerForToolRun] = None,\n",
    "    ) -> Union[Dict, str]:\n",
    "        \"\"\"Asynchronously run the tool.\"\"\"\n",
    "        try:\n",
    "            return await cypherChain.run(query)\n",
    "        except Exception as e:\n",
    "            #return repr(e)\n",
    "            #return {}\n",
    "            return \"Not Found\"\n",
    "\n"
   ]
  },
  {
   "cell_type": "markdown",
   "id": "5dace4a9-7c9e-4da2-bf7b-e58d0d05581e",
   "metadata": {},
   "source": [
    "## Create the LangChain agent\n",
    "\n",
    "First, we will create the LangChain agent. For more information on LangChain agents, see [this documentation](https://python.langchain.com/docs/modules/agents/)"
   ]
  },
  {
   "cell_type": "code",
   "execution_count": 65,
   "id": "4499eb16-bca8-4a60-9a3a-2f34ae3f7078",
   "metadata": {
    "ExecuteTime": {
     "end_time": "2024-04-07T05:27:34.925085Z",
     "start_time": "2024-04-07T05:27:32.733001Z"
    }
   },
   "outputs": [],
   "source": [
    "from langchain.agents import create_openai_functions_agent\n",
    "from langchain_openai.chat_models import ChatOpenAI\n",
    "from langchain_community.tools.tavily_search import TavilySearchResults\n",
    "\n",
    "#tools = [TavilySearchResults(max_results=1)]\n",
    "# tools = [CypherQATool(), SimilaritySearchTool(), TavilySearchResults(max_results=1)]\n",
    "tools = [CypherQATool(), SimilaritySearchTool()]\n",
    "\n",
    "# Get the prompt to use - you can modify this!\n",
    "prompt = hub.pull(\"hwchase17/openai-functions-agent\")\n",
    "\n",
    "# Choose the LLM that will drive the agent\n",
    "llm = ChatOpenAI(model=\"gpt-4-turbo-preview\", streaming=True)\n",
    "# llm = ChatOpenAI(model=\"gpt-3.5-turbo-0125\", streaming=False)\n",
    "\n",
    "# Construct the OpenAI Functions agent\n",
    "agent_runnable = create_openai_functions_agent(llm, tools, prompt)"
   ]
  },
  {
   "cell_type": "markdown",
   "id": "972e58b3-fe3c-449d-b3c4-8fa2217afd07",
   "metadata": {},
   "source": [
    "## Define the graph state\n",
    "\n",
    "We now define the graph state. The state for the traditional LangChain agent has a few attributes:\n",
    "\n",
    "1. `input`: This is the input string representing the main ask from the user, passed in as input.\n",
    "2. `chat_history`: This is any previous conversation messages, also passed in as input.\n",
    "3. `intermediate_steps`: This is list of actions and corresponding observations that the agent takes over time. This is updated each iteration of the agent.\n",
    "4. `agent_outcome`: This is the response from the agent, either an AgentAction or AgentFinish. The AgentExecutor should finish when this is an AgentFinish, otherwise it should call the requested tools.\n"
   ]
  },
  {
   "cell_type": "code",
   "execution_count": 66,
   "id": "c941fb10-dbe5-4d6a-ab7d-133d01c33cc4",
   "metadata": {
    "ExecuteTime": {
     "end_time": "2024-04-07T05:27:36.085501Z",
     "start_time": "2024-04-07T05:27:36.081471Z"
    }
   },
   "outputs": [],
   "source": [
    "from typing import TypedDict, Annotated, List, Union\n",
    "from langchain_core.agents import AgentAction, AgentFinish\n",
    "from langchain_core.messages import BaseMessage\n",
    "import operator\n",
    "\n",
    "\n",
    "class AgentState(TypedDict):\n",
    "    # The input string\n",
    "    input: str\n",
    "    # The list of previous messages in the conversation\n",
    "    chat_history: list[BaseMessage]\n",
    "    # The outcome of a given call to the agent\n",
    "    # Needs `None` as a valid type, since this is what this will start as\n",
    "    agent_outcome: Union[AgentAction, AgentFinish, None]\n",
    "    # List of actions and corresponding observations\n",
    "    # Here we annotate this with `operator.add` to indicate that operations to\n",
    "    # this state should be ADDED to the existing values (not overwrite it)\n",
    "    intermediate_steps: Annotated[list[tuple[AgentAction, str]], operator.add]"
   ]
  },
  {
   "cell_type": "markdown",
   "id": "cd27b281-cc9a-49c9-be78-8b98a7d905c4",
   "metadata": {},
   "source": [
    "## Define the nodes\n",
    "\n",
    "We now need to define a few different nodes in our graph.\n",
    "In `langgraph`, a node can be either a function or a [runnable](https://python.langchain.com/docs/expression_language/).\n",
    "There are two main nodes we need for this:\n",
    "\n",
    "1. The agent: responsible for deciding what (if any) actions to take.\n",
    "2. A function to invoke tools: if the agent decides to take an action, this node will then execute that action.\n",
    "\n",
    "We will also need to define some edges.\n",
    "Some of these edges may be conditional.\n",
    "The reason they are conditional is that based on the output of a node, one of several paths may be taken.\n",
    "The path that is taken is not known until that node is run (the LLM decides).\n",
    "\n",
    "1. Conditional Edge: after the agent is called, we should either:\n",
    "   a. If the agent said to take an action, then the function to invoke tools should be called\n",
    "   b. If the agent said that it was finished, then it should finish\n",
    "2. Normal Edge: after the tools are invoked, it should always go back to the agent to decide what to do next\n",
    "\n",
    "Let's define the nodes, as well as a function to decide how what conditional edge to take."
   ]
  },
  {
   "cell_type": "code",
   "execution_count": 67,
   "id": "d61a970d-edf4-4eef-9678-28bab7c72331",
   "metadata": {
    "ExecuteTime": {
     "end_time": "2024-04-07T05:27:37.241013Z",
     "start_time": "2024-04-07T05:27:37.233219Z"
    }
   },
   "outputs": [],
   "source": [
    "from langchain_core.agents import AgentFinish\n",
    "from langgraph.prebuilt.tool_executor import ToolExecutor\n",
    "\n",
    "# This a helper class we have that is useful for running tools\n",
    "# It takes in an agent action and calls that tool and returns the result\n",
    "tool_executor = ToolExecutor(tools)\n",
    "\n",
    "\n",
    "# Define the agent\n",
    "def run_agent(data):\n",
    "    agent_outcome = agent_runnable.invoke(data)\n",
    "    return {\"agent_outcome\": agent_outcome}\n",
    "\n",
    "\n",
    "# Define the function to execute tools\n",
    "def execute_tools(data):\n",
    "    # Get the most recent agent_outcome - this is the key added in the `agent` above\n",
    "    agent_action = data[\"agent_outcome\"]\n",
    "    output = tool_executor.invoke(agent_action)\n",
    "    return {\"intermediate_steps\": [(agent_action, str(output))]}\n",
    "\n",
    "\n",
    "# Define logic that will be used to determine which conditional edge to go down\n",
    "def should_continue(data):\n",
    "    print(f\"should_continue: {data}\")\n",
    "    \n",
    "    # If the agent outcome is an AgentFinish, then we return `exit` string\n",
    "    # This will be used when setting up the graph to define the flow\n",
    "    if isinstance(data[\"agent_outcome\"], AgentFinish):\n",
    "        return \"end\"\n",
    "    # Otherwise, an AgentAction is returned\n",
    "    # Here we return `continue` string\n",
    "    # This will be used when setting up the graph to define the flow\n",
    "    else:\n",
    "        return \"continue\""
   ]
  },
  {
   "cell_type": "markdown",
   "id": "02437e83-5485-4827-87e6-7ad1d02cf9be",
   "metadata": {},
   "source": [
    "**MODIFICATION**\n",
    "\n",
    "Here we create a node that returns an AgentAction that just calls the Custom Tool  with the input"
   ]
  },
  {
   "cell_type": "code",
   "execution_count": 68,
   "id": "2ed8463e-73e5-417d-9fab-be6bcee87835",
   "metadata": {
    "ExecuteTime": {
     "end_time": "2024-04-07T05:27:38.520300Z",
     "start_time": "2024-04-07T05:27:38.516727Z"
    }
   },
   "outputs": [
    {
     "data": {
      "text/plain": "'cypherqa_tool'"
     },
     "execution_count": 68,
     "metadata": {},
     "output_type": "execute_result"
    }
   ],
   "source": [
    "tools[0].name"
   ]
  },
  {
   "cell_type": "code",
   "execution_count": 69,
   "id": "df25d899-2338-4f31-a8bf-0582a2eec325",
   "metadata": {
    "ExecuteTime": {
     "end_time": "2024-04-07T05:27:38.987600Z",
     "start_time": "2024-04-07T05:27:38.984528Z"
    }
   },
   "outputs": [],
   "source": [
    "from langchain_core.agents import AgentActionMessageLog\n",
    "\n",
    "\n",
    "def first_agent(agent_inputs):\n",
    "    action = AgentActionMessageLog(\n",
    "        # We force call this tool\n",
    "        #tool=\"tavily_search_results_json\",\n",
    "        tool=\"cypherqa_tool\",\n",
    "        #tool=\"similarity_search_tool\",\n",
    "        # We just pass in the `input` key to this tool\n",
    "        tool_input=agent_inputs[\"input\"],\n",
    "        log=\"\",\n",
    "        message_log=[],\n",
    "    )\n",
    "    return {\"agent_outcome\": action}"
   ]
  },
  {
   "cell_type": "markdown",
   "id": "c0b211f4-0c5c-4792-b18d-cd70907c71e7",
   "metadata": {},
   "source": [
    "## Define the graph\n",
    "\n",
    "We can now put it all together and define the graph!\n",
    "\n",
    "**MODIFICATION**\n",
    "\n",
    "We now add a new `first_agent` node which we set as the entrypoint."
   ]
  },
  {
   "cell_type": "code",
   "execution_count": 70,
   "id": "c4054dde-4618-49b7-998a-daa0c1d6d6c0",
   "metadata": {
    "ExecuteTime": {
     "end_time": "2024-04-07T05:27:41.977609Z",
     "start_time": "2024-04-07T05:27:41.966288Z"
    }
   },
   "outputs": [],
   "source": [
    "from langgraph.graph import END, StateGraph\n",
    "\n",
    "# Define a new graph\n",
    "workflow = StateGraph(AgentState)\n",
    "\n",
    "# Define the two nodes we will cycle between\n",
    "workflow.add_node(\"agent\", run_agent)\n",
    "workflow.add_node(\"action\", execute_tools)\n",
    "workflow.add_node(\"first_agent\", first_agent)\n",
    "\n",
    "# Set the entrypoint as `agent`\n",
    "# This means that this node is the first one called\n",
    "workflow.set_entry_point(\"first_agent\")\n",
    "\n",
    "# We now add a conditional edge\n",
    "workflow.add_conditional_edges(\n",
    "    # First, we define the start node. We use `agent`.\n",
    "    # This means these are the edges taken after the `agent` node is called.\n",
    "    \"agent\",\n",
    "    # Next, we pass in the function that will determine which node is called next.\n",
    "    should_continue,\n",
    "    # Finally we pass in a mapping.\n",
    "    # The keys are strings, and the values are other nodes.\n",
    "    # END is a special node marking that the graph should finish.\n",
    "    # What will happen is we will call `should_continue`, and then the output of that\n",
    "    # will be matched against the keys in this mapping.\n",
    "    # Based on which one it matches, that node will then be called.\n",
    "    {\n",
    "        # If `tools`, then we call the tool node.\n",
    "        \"continue\": \"action\",\n",
    "        # Otherwise we finish.\n",
    "        \"end\": END,\n",
    "    },\n",
    ")\n",
    "\n",
    "# We now add a normal edge from `tools` to `agent`.\n",
    "# This means that after `tools` is called, `agent` node is called next.\n",
    "workflow.add_edge(\"action\", \"agent\")\n",
    "\n",
    "# After the first agent, we want to take an action\n",
    "workflow.add_edge(\"first_agent\", \"action\")\n",
    "\n",
    "# Finally, we compile it!\n",
    "# This compiles it into a LangChain Runnable,\n",
    "# meaning you can use it as you would any other runnable\n",
    "app = workflow.compile()"
   ]
  },
  {
   "cell_type": "code",
   "execution_count": 71,
   "id": "214ae46e-c297-465d-86db-2b0312ed3530",
   "metadata": {
    "ExecuteTime": {
     "end_time": "2024-04-07T05:27:49.989069Z",
     "start_time": "2024-04-07T05:27:43.916381Z"
    }
   },
   "outputs": [
    {
     "name": "stdout",
     "output_type": "stream",
     "text": [
      "{'agent_outcome': AgentActionMessageLog(tool='cypherqa_tool', tool_input='What does farmr talk about?', log='', message_log=[])}\n",
      "----\n",
      "\n",
      "\n",
      "\u001B[1m> Entering new GraphCypherQAChain chain...\u001B[0m\n",
      "Generated Cypher:\n",
      "\u001B[32;1m\u001B[1;3m\n",
      "MATCH (u:User {name: 'farmr'})-[:SENT]->(m:Message)\n",
      "RETURN m.content AS Topics\n",
      "\u001B[0m\n",
      "Full Context:\n",
      "\u001B[32;1m\u001B[1;3m[{'Topics': 'YEAH!'}, {'Topics': 'bysin becomes exhibitionist when drinking?'}, {'Topics': '!'}, {'Topics': 'sig: how many US presidents have been assassinated?'}, {'Topics': 'American presidency has caused the deaths of 20% of presidents, both directly and indirectly.'}, {'Topics': 'is technically the most DANGEROUS too!'}, {'Topics': 'i fear im too old to \"run\"'}, {'Topics': 'NICE!'}, {'Topics': 'sig: how many \"sheets to the wind\" do we need bysin to be before we get worried?'}, {'Topics': 'plz dont drink entire bottle tonight'}]\u001B[0m\n",
      "\n",
      "\u001B[1m> Finished chain.\u001B[0m\n",
      "{'intermediate_steps': [(AgentActionMessageLog(tool='cypherqa_tool', tool_input='What does farmr talk about?', log='', message_log=[]), 'Farmr talks about a variety of topics including expressions of enthusiasm like \"YEAH!\" and \"NICE!\", discussions about the effects of alcohol on behavior, specifically mentioning bysin becoming an exhibitionist when drinking, concerns about drinking too much, the dangers associated with the American presidency, noting that it has caused the deaths of 20% of presidents, both directly and indirectly, and questions about the number of US presidents who have been assassinated.')]}\n",
      "----\n",
      "{'agent_outcome': AgentFinish(return_values={'output': 'Farmr discusses a range of topics, including:\\n\\n- Expressions of enthusiasm, with phrases like \"YEAH!\" and \"NICE!\"\\n- The effects of alcohol on behavior, specifically mentioning that bysin becomes an exhibitionist when drinking.\\n- Concerns about consuming too much alcohol.\\n- The dangers associated with the American presidency, noting that it has directly and indirectly caused the deaths of 20% of presidents.\\n- Questions about the number of US presidents who have been assassinated.'}, log='Farmr discusses a range of topics, including:\\n\\n- Expressions of enthusiasm, with phrases like \"YEAH!\" and \"NICE!\"\\n- The effects of alcohol on behavior, specifically mentioning that bysin becomes an exhibitionist when drinking.\\n- Concerns about consuming too much alcohol.\\n- The dangers associated with the American presidency, noting that it has directly and indirectly caused the deaths of 20% of presidents.\\n- Questions about the number of US presidents who have been assassinated.')}\n",
      "----\n",
      "should_continue: {'input': 'What does farmr talk about?', 'chat_history': [], 'agent_outcome': AgentFinish(return_values={'output': 'Farmr discusses a range of topics, including:\\n\\n- Expressions of enthusiasm, with phrases like \"YEAH!\" and \"NICE!\"\\n- The effects of alcohol on behavior, specifically mentioning that bysin becomes an exhibitionist when drinking.\\n- Concerns about consuming too much alcohol.\\n- The dangers associated with the American presidency, noting that it has directly and indirectly caused the deaths of 20% of presidents.\\n- Questions about the number of US presidents who have been assassinated.'}, log='Farmr discusses a range of topics, including:\\n\\n- Expressions of enthusiasm, with phrases like \"YEAH!\" and \"NICE!\"\\n- The effects of alcohol on behavior, specifically mentioning that bysin becomes an exhibitionist when drinking.\\n- Concerns about consuming too much alcohol.\\n- The dangers associated with the American presidency, noting that it has directly and indirectly caused the deaths of 20% of presidents.\\n- Questions about the number of US presidents who have been assassinated.'), 'intermediate_steps': [(AgentActionMessageLog(tool='cypherqa_tool', tool_input='What does farmr talk about?', log='', message_log=[]), 'Farmr talks about a variety of topics including expressions of enthusiasm like \"YEAH!\" and \"NICE!\", discussions about the effects of alcohol on behavior, specifically mentioning bysin becoming an exhibitionist when drinking, concerns about drinking too much, the dangers associated with the American presidency, noting that it has caused the deaths of 20% of presidents, both directly and indirectly, and questions about the number of US presidents who have been assassinated.')]}\n",
      "{'input': 'What does farmr talk about?', 'chat_history': [], 'agent_outcome': AgentFinish(return_values={'output': 'Farmr discusses a range of topics, including:\\n\\n- Expressions of enthusiasm, with phrases like \"YEAH!\" and \"NICE!\"\\n- The effects of alcohol on behavior, specifically mentioning that bysin becomes an exhibitionist when drinking.\\n- Concerns about consuming too much alcohol.\\n- The dangers associated with the American presidency, noting that it has directly and indirectly caused the deaths of 20% of presidents.\\n- Questions about the number of US presidents who have been assassinated.'}, log='Farmr discusses a range of topics, including:\\n\\n- Expressions of enthusiasm, with phrases like \"YEAH!\" and \"NICE!\"\\n- The effects of alcohol on behavior, specifically mentioning that bysin becomes an exhibitionist when drinking.\\n- Concerns about consuming too much alcohol.\\n- The dangers associated with the American presidency, noting that it has directly and indirectly caused the deaths of 20% of presidents.\\n- Questions about the number of US presidents who have been assassinated.'), 'intermediate_steps': [(AgentActionMessageLog(tool='cypherqa_tool', tool_input='What does farmr talk about?', log='', message_log=[]), 'Farmr talks about a variety of topics including expressions of enthusiasm like \"YEAH!\" and \"NICE!\", discussions about the effects of alcohol on behavior, specifically mentioning bysin becoming an exhibitionist when drinking, concerns about drinking too much, the dangers associated with the American presidency, noting that it has caused the deaths of 20% of presidents, both directly and indirectly, and questions about the number of US presidents who have been assassinated.')]}\n",
      "----\n"
     ]
    }
   ],
   "source": [
    "inputs = {\"input\": \"What does farmr talk about?\", \"chat_history\": []}\n",
    "for s in app.stream(inputs):\n",
    "    print(list(s.values())[0])\n",
    "    #print(s)\n",
    "    print(\"----\")"
   ]
  },
  {
   "cell_type": "code",
   "execution_count": 72,
   "id": "2eb662bc-de7d-4a57-a3e8-2f00dcf4ff8b",
   "metadata": {
    "ExecuteTime": {
     "end_time": "2024-04-07T05:27:55.099913Z",
     "start_time": "2024-04-07T05:27:52.058754Z"
    }
   },
   "outputs": [
    {
     "name": "stdout",
     "output_type": "stream",
     "text": [
      "{'agent_outcome': AgentActionMessageLog(tool='cypherqa_tool', tool_input='Does farmr know bysin?', log='', message_log=[])}\n",
      "----\n",
      "\n",
      "\n",
      "\u001B[1m> Entering new GraphCypherQAChain chain...\u001B[0m\n",
      "Generated Cypher:\n",
      "\u001B[32;1m\u001B[1;3m\n",
      "MATCH (a:User {name: 'farmr'})-[:INTERACTED_WITH]-(b:User {name: 'bysin'})\n",
      "RETURN a, b\n",
      "\u001B[0m\n",
      "Full Context:\n",
      "\u001B[32;1m\u001B[1;3m[{'a': {'name': 'farmr'}, 'b': {'name': 'bysin'}}]\u001B[0m\n",
      "\n",
      "\u001B[1m> Finished chain.\u001B[0m\n",
      "{'intermediate_steps': [(AgentActionMessageLog(tool='cypherqa_tool', tool_input='Does farmr know bysin?', log='', message_log=[]), 'Yes, farmr knows bysin.')]}\n",
      "----\n",
      "{'agent_outcome': AgentFinish(return_values={'output': 'Yes, the farmer knows Bysin.'}, log='Yes, the farmer knows Bysin.')}\n",
      "----\n",
      "should_continue: {'input': 'Does farmr know bysin?', 'chat_history': [], 'agent_outcome': AgentFinish(return_values={'output': 'Yes, the farmer knows Bysin.'}, log='Yes, the farmer knows Bysin.'), 'intermediate_steps': [(AgentActionMessageLog(tool='cypherqa_tool', tool_input='Does farmr know bysin?', log='', message_log=[]), 'Yes, farmr knows bysin.')]}\n",
      "{'input': 'Does farmr know bysin?', 'chat_history': [], 'agent_outcome': AgentFinish(return_values={'output': 'Yes, the farmer knows Bysin.'}, log='Yes, the farmer knows Bysin.'), 'intermediate_steps': [(AgentActionMessageLog(tool='cypherqa_tool', tool_input='Does farmr know bysin?', log='', message_log=[]), 'Yes, farmr knows bysin.')]}\n",
      "----\n"
     ]
    }
   ],
   "source": [
    "inputs = {\"input\": \"Does farmr know bysin?\", \"chat_history\": []}\n",
    "for s in app.stream(inputs):\n",
    "    print(list(s.values())[0])\n",
    "    #print(s)\n",
    "    print(\"----\")"
   ]
  },
  {
   "cell_type": "code",
   "outputs": [
    {
     "name": "stdout",
     "output_type": "stream",
     "text": [
      "{'agent_outcome': AgentActionMessageLog(tool='cypherqa_tool', tool_input='How well does farmr know sig? Can you please include a count of your interactions', log='', message_log=[])}\n",
      "----\n",
      "\n",
      "\n",
      "\u001B[1m> Entering new GraphCypherQAChain chain...\u001B[0m\n",
      "Generated Cypher:\n",
      "\u001B[32;1m\u001B[1;3m\n",
      "MATCH (farmr:User {name: 'farmr'})-[:INTERACTED_WITH]->(sig:User {name: 'sig'})\n",
      "RETURN COUNT(*) AS interactionCount\n",
      "\u001B[0m\n",
      "Full Context:\n",
      "\u001B[32;1m\u001B[1;3m[{'interactionCount': 1}]\u001B[0m\n",
      "\n",
      "\u001B[1m> Finished chain.\u001B[0m\n",
      "{'intermediate_steps': [(AgentActionMessageLog(tool='cypherqa_tool', tool_input='How well does farmr know sig? Can you please include a count of your interactions', log='', message_log=[]), 'Farmr knows sig through 1 interaction.')]}\n",
      "----\n",
      "{'agent_outcome': AgentFinish(return_values={'output': 'Farmr knows Sig through 1 interaction.'}, log='Farmr knows Sig through 1 interaction.')}\n",
      "----\n",
      "should_continue: {'input': 'How well does farmr know sig? Can you please include a count of your interactions', 'chat_history': [], 'agent_outcome': AgentFinish(return_values={'output': 'Farmr knows Sig through 1 interaction.'}, log='Farmr knows Sig through 1 interaction.'), 'intermediate_steps': [(AgentActionMessageLog(tool='cypherqa_tool', tool_input='How well does farmr know sig? Can you please include a count of your interactions', log='', message_log=[]), 'Farmr knows sig through 1 interaction.')]}\n",
      "{'input': 'How well does farmr know sig? Can you please include a count of your interactions', 'chat_history': [], 'agent_outcome': AgentFinish(return_values={'output': 'Farmr knows Sig through 1 interaction.'}, log='Farmr knows Sig through 1 interaction.'), 'intermediate_steps': [(AgentActionMessageLog(tool='cypherqa_tool', tool_input='How well does farmr know sig? Can you please include a count of your interactions', log='', message_log=[]), 'Farmr knows sig through 1 interaction.')]}\n",
      "----\n"
     ]
    }
   ],
   "source": [
    "inputs = {\"input\": \"How well does farmr know sig? Can you please include a count of your interactions\", \"chat_history\": []}\n",
    "for s in app.stream(inputs):\n",
    "    print(list(s.values())[0])\n",
    "    #print(s)\n",
    "    print(\"----\")"
   ],
   "metadata": {
    "collapsed": false,
    "ExecuteTime": {
     "end_time": "2024-04-07T05:27:59.268952Z",
     "start_time": "2024-04-07T05:27:56.681277Z"
    }
   },
   "id": "5d4e07afff30d243",
   "execution_count": 73
  },
  {
   "cell_type": "code",
   "outputs": [
    {
     "name": "stdout",
     "output_type": "stream",
     "text": [
      "{'agent_outcome': AgentActionMessageLog(tool='cypherqa_tool', tool_input='What do farmr and sig talk about?', log='', message_log=[])}\n",
      "----\n",
      "\n",
      "\n",
      "\u001B[1m> Entering new GraphCypherQAChain chain...\u001B[0m\n",
      "Generated Cypher:\n",
      "\u001B[32;1m\u001B[1;3m\n",
      "MATCH (f:User {name: 'farmr'})-[:SENT]->(m:Message)-[:MENTIONED]->(s:User {name: 'sig'})\n",
      "RETURN m.content AS conversation\n",
      "\u001B[0m\n",
      "Full Context:\n",
      "\u001B[32;1m\u001B[1;3m[{'conversation': 'sig: how many US presidents have been assassinated?'}, {'conversation': 'sig: how many \"sheets to the wind\" do we need bysin to be before we get worried?'}, {'conversation': 'sig: what was the original power source for Boston Dynamics Big Dog?'}, {'conversation': 'sig: One of the unfortunate tradeoffs with Blackwell is its power consumption. The B200 burns through 1000 W (1 kW), and the B100 fits into the same 700-W power envelope (TDP) as its predecessor.\"'}, {'conversation': 'sig: how many WATTS can that new $30,000 chip from nvidia consume?'}, {'conversation': 'sig: wasnt waking up from a kiss also involved in \"sleeping beauty\" movie?'}, {'conversation': 'sig: whats the PLOT of that disney movie with the magic mirror?'}, {'conversation': 'sig: can doordash bring liquor?'}, {'conversation': 'sig: tell robotnik how we can approximate pi by dropping match sticks on a hardwood floor'}, {'conversation': 'sig: describe how the size of an oil molecule can be determined with water, and eyedropper and a ruler'}]\u001B[0m\n",
      "\n",
      "\u001B[1m> Finished chain.\u001B[0m\n",
      "{'intermediate_steps': [(AgentActionMessageLog(tool='cypherqa_tool', tool_input='What do farmr and sig talk about?', log='', message_log=[]), 'Farmr and sig discuss a variety of topics including the number of US presidents who have been assassinated, the concept of \"sheets to the wind,\" the original power source for Boston Dynamics\\' Big Dog, the power consumption of Blackwell\\'s B200 and B100, the wattage consumption of a new $30,000 chip from Nvidia, the plot elements of the \"Sleeping Beauty\" movie, the plot of a Disney movie involving a magic mirror, whether DoorDash can deliver liquor, approximating pi by dropping match sticks on a hardwood floor, and determining the size of an oil molecule using water, an eyedropper, and a ruler.')]}\n",
      "----\n",
      "{'agent_outcome': AgentFinish(return_values={'output': 'Farmr and Sig discuss a diverse range of topics, including:\\n\\n- The number of US presidents who have been assassinated.\\n- The meaning of the phrase \"sheets to the wind.\"\\n- The original power source for Boston Dynamics\\' Big Dog.\\n- The power consumption of Blackwell\\'s B200 and B100.\\n- The wattage consumption of a new $30,000 chip from Nvidia.\\n- Plot elements of the \"Sleeping Beauty\" movie.\\n- The plot of a Disney movie involving a magic mirror.\\n- Whether DoorDash can deliver liquor.\\n- Approximating pi by dropping match sticks on a hardwood floor.\\n- Determining the size of an oil molecule using water, an eyedropper, and a ruler.\\n\\nTheir conversations cover a wide array of subjects, from technology and science to movies and unique experimental methods.'}, log='Farmr and Sig discuss a diverse range of topics, including:\\n\\n- The number of US presidents who have been assassinated.\\n- The meaning of the phrase \"sheets to the wind.\"\\n- The original power source for Boston Dynamics\\' Big Dog.\\n- The power consumption of Blackwell\\'s B200 and B100.\\n- The wattage consumption of a new $30,000 chip from Nvidia.\\n- Plot elements of the \"Sleeping Beauty\" movie.\\n- The plot of a Disney movie involving a magic mirror.\\n- Whether DoorDash can deliver liquor.\\n- Approximating pi by dropping match sticks on a hardwood floor.\\n- Determining the size of an oil molecule using water, an eyedropper, and a ruler.\\n\\nTheir conversations cover a wide array of subjects, from technology and science to movies and unique experimental methods.')}\n",
      "----\n",
      "should_continue: {'input': 'What do farmr and sig talk about?', 'chat_history': [], 'agent_outcome': AgentFinish(return_values={'output': 'Farmr and Sig discuss a diverse range of topics, including:\\n\\n- The number of US presidents who have been assassinated.\\n- The meaning of the phrase \"sheets to the wind.\"\\n- The original power source for Boston Dynamics\\' Big Dog.\\n- The power consumption of Blackwell\\'s B200 and B100.\\n- The wattage consumption of a new $30,000 chip from Nvidia.\\n- Plot elements of the \"Sleeping Beauty\" movie.\\n- The plot of a Disney movie involving a magic mirror.\\n- Whether DoorDash can deliver liquor.\\n- Approximating pi by dropping match sticks on a hardwood floor.\\n- Determining the size of an oil molecule using water, an eyedropper, and a ruler.\\n\\nTheir conversations cover a wide array of subjects, from technology and science to movies and unique experimental methods.'}, log='Farmr and Sig discuss a diverse range of topics, including:\\n\\n- The number of US presidents who have been assassinated.\\n- The meaning of the phrase \"sheets to the wind.\"\\n- The original power source for Boston Dynamics\\' Big Dog.\\n- The power consumption of Blackwell\\'s B200 and B100.\\n- The wattage consumption of a new $30,000 chip from Nvidia.\\n- Plot elements of the \"Sleeping Beauty\" movie.\\n- The plot of a Disney movie involving a magic mirror.\\n- Whether DoorDash can deliver liquor.\\n- Approximating pi by dropping match sticks on a hardwood floor.\\n- Determining the size of an oil molecule using water, an eyedropper, and a ruler.\\n\\nTheir conversations cover a wide array of subjects, from technology and science to movies and unique experimental methods.'), 'intermediate_steps': [(AgentActionMessageLog(tool='cypherqa_tool', tool_input='What do farmr and sig talk about?', log='', message_log=[]), 'Farmr and sig discuss a variety of topics including the number of US presidents who have been assassinated, the concept of \"sheets to the wind,\" the original power source for Boston Dynamics\\' Big Dog, the power consumption of Blackwell\\'s B200 and B100, the wattage consumption of a new $30,000 chip from Nvidia, the plot elements of the \"Sleeping Beauty\" movie, the plot of a Disney movie involving a magic mirror, whether DoorDash can deliver liquor, approximating pi by dropping match sticks on a hardwood floor, and determining the size of an oil molecule using water, an eyedropper, and a ruler.')]}\n",
      "{'input': 'What do farmr and sig talk about?', 'chat_history': [], 'agent_outcome': AgentFinish(return_values={'output': 'Farmr and Sig discuss a diverse range of topics, including:\\n\\n- The number of US presidents who have been assassinated.\\n- The meaning of the phrase \"sheets to the wind.\"\\n- The original power source for Boston Dynamics\\' Big Dog.\\n- The power consumption of Blackwell\\'s B200 and B100.\\n- The wattage consumption of a new $30,000 chip from Nvidia.\\n- Plot elements of the \"Sleeping Beauty\" movie.\\n- The plot of a Disney movie involving a magic mirror.\\n- Whether DoorDash can deliver liquor.\\n- Approximating pi by dropping match sticks on a hardwood floor.\\n- Determining the size of an oil molecule using water, an eyedropper, and a ruler.\\n\\nTheir conversations cover a wide array of subjects, from technology and science to movies and unique experimental methods.'}, log='Farmr and Sig discuss a diverse range of topics, including:\\n\\n- The number of US presidents who have been assassinated.\\n- The meaning of the phrase \"sheets to the wind.\"\\n- The original power source for Boston Dynamics\\' Big Dog.\\n- The power consumption of Blackwell\\'s B200 and B100.\\n- The wattage consumption of a new $30,000 chip from Nvidia.\\n- Plot elements of the \"Sleeping Beauty\" movie.\\n- The plot of a Disney movie involving a magic mirror.\\n- Whether DoorDash can deliver liquor.\\n- Approximating pi by dropping match sticks on a hardwood floor.\\n- Determining the size of an oil molecule using water, an eyedropper, and a ruler.\\n\\nTheir conversations cover a wide array of subjects, from technology and science to movies and unique experimental methods.'), 'intermediate_steps': [(AgentActionMessageLog(tool='cypherqa_tool', tool_input='What do farmr and sig talk about?', log='', message_log=[]), 'Farmr and sig discuss a variety of topics including the number of US presidents who have been assassinated, the concept of \"sheets to the wind,\" the original power source for Boston Dynamics\\' Big Dog, the power consumption of Blackwell\\'s B200 and B100, the wattage consumption of a new $30,000 chip from Nvidia, the plot elements of the \"Sleeping Beauty\" movie, the plot of a Disney movie involving a magic mirror, whether DoorDash can deliver liquor, approximating pi by dropping match sticks on a hardwood floor, and determining the size of an oil molecule using water, an eyedropper, and a ruler.')]}\n",
      "----\n"
     ]
    }
   ],
   "source": [
    "inputs = {\"input\": \"What do farmr and sig talk about?\", \"chat_history\": []}\n",
    "for s in app.stream(inputs):\n",
    "    print(list(s.values())[0])\n",
    "    #print(s)\n",
    "    print(\"----\")"
   ],
   "metadata": {
    "collapsed": false,
    "ExecuteTime": {
     "end_time": "2024-04-07T05:28:09.284214Z",
     "start_time": "2024-04-07T05:28:00.478944Z"
    }
   },
   "id": "b0b5f59809d17f36",
   "execution_count": 74
  },
  {
   "cell_type": "code",
   "outputs": [
    {
     "name": "stdout",
     "output_type": "stream",
     "text": [
      "{'agent_outcome': AgentActionMessageLog(tool='cypherqa_tool', tool_input=\"What did farmr and sig talk about yesterday? Today's date is Sun Apr 7 2024\", log='', message_log=[])}\n",
      "----\n",
      "\n",
      "\n",
      "\u001B[1m> Entering new GraphCypherQAChain chain...\u001B[0m\n",
      "Generated Cypher:\n",
      "\u001B[32;1m\u001B[1;3m\n",
      "MATCH (f:User {name: 'farmr'})-[:SENT]->(m:Message)-[:MENTIONED]->(s:User {name: 'sig'})\n",
      "WHERE m.timestamp >= '2024-04-06T00:00:00' AND m.timestamp < '2024-04-07T00:00:00'\n",
      "RETURN m.content AS conversation\n",
      "\u001B[0m\n",
      "Full Context:\n",
      "\u001B[32;1m\u001B[1;3m[{'conversation': 'sig: what was the original power source for Boston Dynamics Big Dog?'}, {'conversation': 'sig: One of the unfortunate tradeoffs with Blackwell is its power consumption. The B200 burns through 1000 W (1 kW), and the B100 fits into the same 700-W power envelope (TDP) as its predecessor.\"'}, {'conversation': 'sig: how many WATTS can that new $30,000 chip from nvidia consume?'}, {'conversation': 'sig: wasnt waking up from a kiss also involved in \"sleeping beauty\" movie?'}, {'conversation': 'sig: whats the PLOT of that disney movie with the magic mirror?'}]\u001B[0m\n",
      "\n",
      "\u001B[1m> Finished chain.\u001B[0m\n",
      "{'intermediate_steps': [(AgentActionMessageLog(tool='cypherqa_tool', tool_input=\"What did farmr and sig talk about yesterday? Today's date is Sun Apr 7 2024\", log='', message_log=[]), \"I don't know the answer.\")]}\n",
      "----\n",
      "{'agent_outcome': AgentActionMessageLog(tool='similarity_search_tool', tool_input={'query': 'What did farmr and sig talk about yesterday?'}, log=\"\\nInvoking: `similarity_search_tool` with `{'query': 'What did farmr and sig talk about yesterday?'}`\\n\\n\\n\", message_log=[AIMessage(content='', additional_kwargs={'function_call': {'arguments': '{\"query\":\"What did farmr and sig talk about yesterday?\"}', 'name': 'similarity_search_tool'}}, response_metadata={'finish_reason': 'function_call'})])}\n",
      "----\n",
      "should_continue: {'input': \"What did farmr and sig talk about yesterday? Today's date is Sun Apr 7 2024\", 'chat_history': [], 'agent_outcome': AgentActionMessageLog(tool='similarity_search_tool', tool_input={'query': 'What did farmr and sig talk about yesterday?'}, log=\"\\nInvoking: `similarity_search_tool` with `{'query': 'What did farmr and sig talk about yesterday?'}`\\n\\n\\n\", message_log=[AIMessage(content='', additional_kwargs={'function_call': {'arguments': '{\"query\":\"What did farmr and sig talk about yesterday?\"}', 'name': 'similarity_search_tool'}}, response_metadata={'finish_reason': 'function_call'})]), 'intermediate_steps': [(AgentActionMessageLog(tool='cypherqa_tool', tool_input=\"What did farmr and sig talk about yesterday? Today's date is Sun Apr 7 2024\", log='', message_log=[]), \"I don't know the answer.\")]}\n",
      "{'intermediate_steps': [(AgentActionMessageLog(tool='similarity_search_tool', tool_input={'query': 'What did farmr and sig talk about yesterday?'}, log=\"\\nInvoking: `similarity_search_tool` with `{'query': 'What did farmr and sig talk about yesterday?'}`\\n\\n\\n\", message_log=[AIMessage(content='', additional_kwargs={'function_call': {'arguments': '{\"query\":\"What did farmr and sig talk about yesterday?\"}', 'name': 'similarity_search_tool'}}, response_metadata={'finish_reason': 'function_call'})]), '[\\'<leku> i never really went anywhere with my parents\\', \\'<viral> same\\', \\'<Pilate> now add it to my url service!\\', \"<oo> oh, i understand this kind of struggling. i don\\'t even kill spiders\"]')]}\n",
      "----\n",
      "{'agent_outcome': AgentFinish(return_values={'output': 'It seems there was no direct conversation captured between \"farmr\" and \"sig\" related to your inquiry. The provided responses are unrelated to the specific question about what \"farmr\" and \"sig\" talked about. If you have any more specific details or a different question, feel free to ask!'}, log='It seems there was no direct conversation captured between \"farmr\" and \"sig\" related to your inquiry. The provided responses are unrelated to the specific question about what \"farmr\" and \"sig\" talked about. If you have any more specific details or a different question, feel free to ask!')}\n",
      "----\n",
      "should_continue: {'input': \"What did farmr and sig talk about yesterday? Today's date is Sun Apr 7 2024\", 'chat_history': [], 'agent_outcome': AgentFinish(return_values={'output': 'It seems there was no direct conversation captured between \"farmr\" and \"sig\" related to your inquiry. The provided responses are unrelated to the specific question about what \"farmr\" and \"sig\" talked about. If you have any more specific details or a different question, feel free to ask!'}, log='It seems there was no direct conversation captured between \"farmr\" and \"sig\" related to your inquiry. The provided responses are unrelated to the specific question about what \"farmr\" and \"sig\" talked about. If you have any more specific details or a different question, feel free to ask!'), 'intermediate_steps': [(AgentActionMessageLog(tool='cypherqa_tool', tool_input=\"What did farmr and sig talk about yesterday? Today's date is Sun Apr 7 2024\", log='', message_log=[]), \"I don't know the answer.\"), (AgentActionMessageLog(tool='similarity_search_tool', tool_input={'query': 'What did farmr and sig talk about yesterday?'}, log=\"\\nInvoking: `similarity_search_tool` with `{'query': 'What did farmr and sig talk about yesterday?'}`\\n\\n\\n\", message_log=[AIMessage(content='', additional_kwargs={'function_call': {'arguments': '{\"query\":\"What did farmr and sig talk about yesterday?\"}', 'name': 'similarity_search_tool'}}, response_metadata={'finish_reason': 'function_call'})]), '[\\'<leku> i never really went anywhere with my parents\\', \\'<viral> same\\', \\'<Pilate> now add it to my url service!\\', \"<oo> oh, i understand this kind of struggling. i don\\'t even kill spiders\"]')]}\n",
      "{'input': \"What did farmr and sig talk about yesterday? Today's date is Sun Apr 7 2024\", 'chat_history': [], 'agent_outcome': AgentFinish(return_values={'output': 'It seems there was no direct conversation captured between \"farmr\" and \"sig\" related to your inquiry. The provided responses are unrelated to the specific question about what \"farmr\" and \"sig\" talked about. If you have any more specific details or a different question, feel free to ask!'}, log='It seems there was no direct conversation captured between \"farmr\" and \"sig\" related to your inquiry. The provided responses are unrelated to the specific question about what \"farmr\" and \"sig\" talked about. If you have any more specific details or a different question, feel free to ask!'), 'intermediate_steps': [(AgentActionMessageLog(tool='cypherqa_tool', tool_input=\"What did farmr and sig talk about yesterday? Today's date is Sun Apr 7 2024\", log='', message_log=[]), \"I don't know the answer.\"), (AgentActionMessageLog(tool='similarity_search_tool', tool_input={'query': 'What did farmr and sig talk about yesterday?'}, log=\"\\nInvoking: `similarity_search_tool` with `{'query': 'What did farmr and sig talk about yesterday?'}`\\n\\n\\n\", message_log=[AIMessage(content='', additional_kwargs={'function_call': {'arguments': '{\"query\":\"What did farmr and sig talk about yesterday?\"}', 'name': 'similarity_search_tool'}}, response_metadata={'finish_reason': 'function_call'})]), '[\\'<leku> i never really went anywhere with my parents\\', \\'<viral> same\\', \\'<Pilate> now add it to my url service!\\', \"<oo> oh, i understand this kind of struggling. i don\\'t even kill spiders\"]')]}\n",
      "----\n"
     ]
    }
   ],
   "source": [
    "inputs = {\"input\": \"What did farmr and sig talk about yesterday? Today's date is Sun Apr 7 2024\", \"chat_history\": []}\n",
    "for s in app.stream(inputs):\n",
    "    print(list(s.values())[0])\n",
    "    #print(s)\n",
    "    print(\"----\")"
   ],
   "metadata": {
    "collapsed": false,
    "ExecuteTime": {
     "end_time": "2024-04-07T05:28:15.886775Z",
     "start_time": "2024-04-07T05:28:09.285552Z"
    }
   },
   "id": "8d71a8c595f309ed",
   "execution_count": 75
  },
  {
   "cell_type": "code",
   "outputs": [
    {
     "name": "stdout",
     "output_type": "stream",
     "text": [
      "{'agent_outcome': AgentActionMessageLog(tool='cypherqa_tool', tool_input=\"What were the top 3 conversations of utmost importance over the last week? Today's date is April 7th 2024\", log='', message_log=[])}\n",
      "----\n",
      "\n",
      "\n",
      "\u001B[1m> Entering new GraphCypherQAChain chain...\u001B[0m\n",
      "Generated Cypher:\n",
      "\u001B[32;1m\u001B[1;3m\n",
      "MATCH (u1:User)-[:SENT]->(m:Message)-[:MENTIONED]->(u2:User)\n",
      "WHERE m.timestamp >= '2024-03-31' AND m.timestamp <= '2024-04-07'\n",
      "RETURN m.content AS conversation, m.timestamp AS time, u1.name AS sender, u2.name AS mentionedUser\n",
      "ORDER BY m.weight DESC\n",
      "LIMIT 3\n",
      "\u001B[0m\n",
      "Full Context:\n",
      "\u001B[32;1m\u001B[1;3m[{'conversation': 'Pilate: we wait', 'time': '2024-04-04T16:55:56.691304+00:00', 'sender': 'leku', 'mentionedUser': 'Pilate'}, {'conversation': 'viral: re', 'time': '2024-04-06T00:43:01.266639+00:00', 'sender': 'leku', 'mentionedUser': 'viral'}, {'conversation': \"viral: you should know by now the heater doesn't get turned off until June :P\", 'time': '2024-04-06T02:38:44.742287+00:00', 'sender': 'Raccoon', 'mentionedUser': 'viral'}]\u001B[0m\n",
      "\n",
      "\u001B[1m> Finished chain.\u001B[0m\n",
      "{'intermediate_steps': [(AgentActionMessageLog(tool='cypherqa_tool', tool_input=\"What were the top 3 conversations of utmost importance over the last week? Today's date is April 7th 2024\", log='', message_log=[]), 'The top 3 conversations of utmost importance over the last week were:\\n\\n1. \"Pilate: we wait\" - This conversation took place on April 4th, 2024, involving the sender \\'leku\\' and mentioned user \\'Pilate\\'.\\n2. \"viral: re\" - Occurred on April 6th, 2024, with \\'leku\\' as the sender and \\'viral\\' as the mentioned user.\\n3. \"viral: you should know by now the heater doesn\\'t get turned off until June :P\" - This conversation happened on April 6th, 2024, between \\'Raccoon\\' (sender) and \\'viral\\' (mentioned user).')]}\n",
      "----\n",
      "{'agent_outcome': AgentFinish(return_values={'output': \"The top 3 conversations of utmost importance over the last week were:\\n\\n1. **Pilate: we wait** - This conversation took place on April 4th, 2024. It involved the sender 'leku' and the mentioned user 'Pilate'.\\n2. **viral: re** - Occurred on April 6th, 2024, with 'leku' as the sender and 'viral' as the mentioned user.\\n3. **viral: you should know by now the heater doesn't get turned off until June :P** - This conversation happened on April 6th, 2024, between 'Raccoon' (sender) and 'viral' (mentioned user).\\n\\nThese were the conversations highlighted as being of utmost importance based on the query parameters and the data available.\"}, log=\"The top 3 conversations of utmost importance over the last week were:\\n\\n1. **Pilate: we wait** - This conversation took place on April 4th, 2024. It involved the sender 'leku' and the mentioned user 'Pilate'.\\n2. **viral: re** - Occurred on April 6th, 2024, with 'leku' as the sender and 'viral' as the mentioned user.\\n3. **viral: you should know by now the heater doesn't get turned off until June :P** - This conversation happened on April 6th, 2024, between 'Raccoon' (sender) and 'viral' (mentioned user).\\n\\nThese were the conversations highlighted as being of utmost importance based on the query parameters and the data available.\")}\n",
      "----\n",
      "should_continue: {'input': \"What were the top 3 conversations of utmost importance over the last week? Today's date is April 7th 2024\", 'chat_history': [], 'agent_outcome': AgentFinish(return_values={'output': \"The top 3 conversations of utmost importance over the last week were:\\n\\n1. **Pilate: we wait** - This conversation took place on April 4th, 2024. It involved the sender 'leku' and the mentioned user 'Pilate'.\\n2. **viral: re** - Occurred on April 6th, 2024, with 'leku' as the sender and 'viral' as the mentioned user.\\n3. **viral: you should know by now the heater doesn't get turned off until June :P** - This conversation happened on April 6th, 2024, between 'Raccoon' (sender) and 'viral' (mentioned user).\\n\\nThese were the conversations highlighted as being of utmost importance based on the query parameters and the data available.\"}, log=\"The top 3 conversations of utmost importance over the last week were:\\n\\n1. **Pilate: we wait** - This conversation took place on April 4th, 2024. It involved the sender 'leku' and the mentioned user 'Pilate'.\\n2. **viral: re** - Occurred on April 6th, 2024, with 'leku' as the sender and 'viral' as the mentioned user.\\n3. **viral: you should know by now the heater doesn't get turned off until June :P** - This conversation happened on April 6th, 2024, between 'Raccoon' (sender) and 'viral' (mentioned user).\\n\\nThese were the conversations highlighted as being of utmost importance based on the query parameters and the data available.\"), 'intermediate_steps': [(AgentActionMessageLog(tool='cypherqa_tool', tool_input=\"What were the top 3 conversations of utmost importance over the last week? Today's date is April 7th 2024\", log='', message_log=[]), 'The top 3 conversations of utmost importance over the last week were:\\n\\n1. \"Pilate: we wait\" - This conversation took place on April 4th, 2024, involving the sender \\'leku\\' and mentioned user \\'Pilate\\'.\\n2. \"viral: re\" - Occurred on April 6th, 2024, with \\'leku\\' as the sender and \\'viral\\' as the mentioned user.\\n3. \"viral: you should know by now the heater doesn\\'t get turned off until June :P\" - This conversation happened on April 6th, 2024, between \\'Raccoon\\' (sender) and \\'viral\\' (mentioned user).')]}\n",
      "{'input': \"What were the top 3 conversations of utmost importance over the last week? Today's date is April 7th 2024\", 'chat_history': [], 'agent_outcome': AgentFinish(return_values={'output': \"The top 3 conversations of utmost importance over the last week were:\\n\\n1. **Pilate: we wait** - This conversation took place on April 4th, 2024. It involved the sender 'leku' and the mentioned user 'Pilate'.\\n2. **viral: re** - Occurred on April 6th, 2024, with 'leku' as the sender and 'viral' as the mentioned user.\\n3. **viral: you should know by now the heater doesn't get turned off until June :P** - This conversation happened on April 6th, 2024, between 'Raccoon' (sender) and 'viral' (mentioned user).\\n\\nThese were the conversations highlighted as being of utmost importance based on the query parameters and the data available.\"}, log=\"The top 3 conversations of utmost importance over the last week were:\\n\\n1. **Pilate: we wait** - This conversation took place on April 4th, 2024. It involved the sender 'leku' and the mentioned user 'Pilate'.\\n2. **viral: re** - Occurred on April 6th, 2024, with 'leku' as the sender and 'viral' as the mentioned user.\\n3. **viral: you should know by now the heater doesn't get turned off until June :P** - This conversation happened on April 6th, 2024, between 'Raccoon' (sender) and 'viral' (mentioned user).\\n\\nThese were the conversations highlighted as being of utmost importance based on the query parameters and the data available.\"), 'intermediate_steps': [(AgentActionMessageLog(tool='cypherqa_tool', tool_input=\"What were the top 3 conversations of utmost importance over the last week? Today's date is April 7th 2024\", log='', message_log=[]), 'The top 3 conversations of utmost importance over the last week were:\\n\\n1. \"Pilate: we wait\" - This conversation took place on April 4th, 2024, involving the sender \\'leku\\' and mentioned user \\'Pilate\\'.\\n2. \"viral: re\" - Occurred on April 6th, 2024, with \\'leku\\' as the sender and \\'viral\\' as the mentioned user.\\n3. \"viral: you should know by now the heater doesn\\'t get turned off until June :P\" - This conversation happened on April 6th, 2024, between \\'Raccoon\\' (sender) and \\'viral\\' (mentioned user).')]}\n",
      "----\n"
     ]
    }
   ],
   "source": [
    "inputs = {\"input\": \"What were the top 3 conversations of utmost importance over the last week? Today's date is April 7th 2024\", \"chat_history\": []}\n",
    "for s in app.stream(inputs):\n",
    "    print(list(s.values())[0])\n",
    "    #print(s)\n",
    "    print(\"----\")"
   ],
   "metadata": {
    "collapsed": false,
    "ExecuteTime": {
     "end_time": "2024-04-07T05:28:26.330491Z",
     "start_time": "2024-04-07T05:28:15.888261Z"
    }
   },
   "id": "c05dd54ae1f470e7",
   "execution_count": 76
  },
  {
   "cell_type": "code",
   "outputs": [
    {
     "name": "stdout",
     "output_type": "stream",
     "text": [
      "{'agent_outcome': AgentActionMessageLog(tool='cypherqa_tool', tool_input='Does bysin from #!chases know farmr?', log='', message_log=[])}\n",
      "----\n",
      "\n",
      "\n",
      "\u001B[1m> Entering new GraphCypherQAChain chain...\u001B[0m\n",
      "Generated Cypher:\n",
      "\u001B[32;1m\u001B[1;3m\n",
      "MATCH (b:User {name: 'bysin'})-[:INTERACTED_WITH]-(f:User {name: 'farmr'})\n",
      "RETURN b, f\n",
      "\u001B[0m\n",
      "Full Context:\n",
      "\u001B[32;1m\u001B[1;3m[{'b': {'name': 'bysin'}, 'f': {'name': 'farmr'}}]\u001B[0m\n",
      "\n",
      "\u001B[1m> Finished chain.\u001B[0m\n",
      "{'intermediate_steps': [(AgentActionMessageLog(tool='cypherqa_tool', tool_input='Does bysin from #!chases know farmr?', log='', message_log=[]), 'Yes, bysin knows farmr.')]}\n",
      "----\n",
      "{'agent_outcome': AgentFinish(return_values={'output': 'Yes, bysin from #!chases knows farmr.'}, log='Yes, bysin from #!chases knows farmr.')}\n",
      "----\n",
      "should_continue: {'input': 'Does bysin from #!chases know farmr?', 'chat_history': [], 'agent_outcome': AgentFinish(return_values={'output': 'Yes, bysin from #!chases knows farmr.'}, log='Yes, bysin from #!chases knows farmr.'), 'intermediate_steps': [(AgentActionMessageLog(tool='cypherqa_tool', tool_input='Does bysin from #!chases know farmr?', log='', message_log=[]), 'Yes, bysin knows farmr.')]}\n",
      "{'input': 'Does bysin from #!chases know farmr?', 'chat_history': [], 'agent_outcome': AgentFinish(return_values={'output': 'Yes, bysin from #!chases knows farmr.'}, log='Yes, bysin from #!chases knows farmr.'), 'intermediate_steps': [(AgentActionMessageLog(tool='cypherqa_tool', tool_input='Does bysin from #!chases know farmr?', log='', message_log=[]), 'Yes, bysin knows farmr.')]}\n",
      "----\n"
     ]
    }
   ],
   "source": [
    "inputs = {\"input\": \"Does bysin from #!chases know farmr?\", \"chat_history\": []}\n",
    "for s in app.stream(inputs):\n",
    "    print(list(s.values())[0])\n",
    "    #print(s)\n",
    "    print(\"----\")"
   ],
   "metadata": {
    "collapsed": false,
    "ExecuteTime": {
     "end_time": "2024-04-07T05:28:33.725498Z",
     "start_time": "2024-04-07T05:28:29.853837Z"
    }
   },
   "id": "eb56c7d085657188",
   "execution_count": 77
  },
  {
   "cell_type": "code",
   "outputs": [
    {
     "name": "stdout",
     "output_type": "stream",
     "text": [
      "{'agent_outcome': AgentActionMessageLog(tool='cypherqa_tool', tool_input=\"How many PagerDuty events have been fired and delivered over the IRC platform over the last month and what was the team split? Today's date is Sun apr 7 2024\", log='', message_log=[])}\n",
      "----\n",
      "\n",
      "\n",
      "\u001B[1m> Entering new GraphCypherQAChain chain...\u001B[0m\n",
      "Generated Cypher:\n",
      "\u001B[32;1m\u001B[1;3m\n",
      "MATCH (m:Message {platform: 'IRC'})-[:POSTED_IN]->(chan:Channel)\n",
      "WHERE m.content CONTAINS 'PagerDuty' AND m.timestamp >= '2024-03-07T00:00:00' AND m.timestamp < '2024-04-07T00:00:00'\n",
      "RETURN chan.name AS Team, COUNT(m) AS Events\n",
      "GROUP BY Team\n",
      "ORDER BY Events DESC\n",
      "\u001B[0m\n",
      "{'intermediate_steps': [(AgentActionMessageLog(tool='cypherqa_tool', tool_input=\"How many PagerDuty events have been fired and delivered over the IRC platform over the last month and what was the team split? Today's date is Sun apr 7 2024\", log='', message_log=[]), 'Not Found')]}\n",
      "----\n",
      "{'agent_outcome': AgentFinish(return_values={'output': \"I'm unable to directly access real-time or historical data from external services like PagerDuty or an IRC platform, including the number of events fired, delivered, or team-specific metrics without access to those specific systems or databases. My capabilities are designed around providing information, answering questions based on the knowledge up to April 2023, and performing tasks within the environment I have access to.\\n\\nTo obtain the specific number of PagerDuty events fired and delivered over the IRC platform over the last month and the team split as of April 7, 2024, I recommend the following steps:\\n\\n1. **PagerDuty Reports or API:** Check if PagerDuty provides detailed reports or API endpoints that can give you insights into events. PagerDuty's analytics or reporting features might offer the ability to filter events by date, source platform (e.g., IRC), and team. Additionally, the PagerDuty API could be used to programmatically fetch this data if you have the necessary permissions and API keys.\\n\\n2. **IRC Logs or Bots:** If the IRC platform or bots used within it have logging capabilities, you might be able to analyze the logs for mentions of PagerDuty events. This would require access to the logs and possibly some scripting or tooling to parse and count the relevant event mentions.\\n\\n3. **Team Coordination:** Coordinate with your team or the teams involved to gather any manually tracked data or insights they might have. Sometimes, teams keep records of critical incidents or events that could help in compiling the needed information.\\n\\n4. **Integration Configuration Details:** Review the configuration of the integration between PagerDuty and the IRC platform. There might be logs, metrics, or even dashboards built into the integration setup that can provide insights into the events passing through this integration.\\n\\nIf you're looking for assistance on how to use the PagerDuty API, analyze logs, or work with specific tools to achieve this, feel free to ask for more detailed guidance on those topics!\"}, log=\"I'm unable to directly access real-time or historical data from external services like PagerDuty or an IRC platform, including the number of events fired, delivered, or team-specific metrics without access to those specific systems or databases. My capabilities are designed around providing information, answering questions based on the knowledge up to April 2023, and performing tasks within the environment I have access to.\\n\\nTo obtain the specific number of PagerDuty events fired and delivered over the IRC platform over the last month and the team split as of April 7, 2024, I recommend the following steps:\\n\\n1. **PagerDuty Reports or API:** Check if PagerDuty provides detailed reports or API endpoints that can give you insights into events. PagerDuty's analytics or reporting features might offer the ability to filter events by date, source platform (e.g., IRC), and team. Additionally, the PagerDuty API could be used to programmatically fetch this data if you have the necessary permissions and API keys.\\n\\n2. **IRC Logs or Bots:** If the IRC platform or bots used within it have logging capabilities, you might be able to analyze the logs for mentions of PagerDuty events. This would require access to the logs and possibly some scripting or tooling to parse and count the relevant event mentions.\\n\\n3. **Team Coordination:** Coordinate with your team or the teams involved to gather any manually tracked data or insights they might have. Sometimes, teams keep records of critical incidents or events that could help in compiling the needed information.\\n\\n4. **Integration Configuration Details:** Review the configuration of the integration between PagerDuty and the IRC platform. There might be logs, metrics, or even dashboards built into the integration setup that can provide insights into the events passing through this integration.\\n\\nIf you're looking for assistance on how to use the PagerDuty API, analyze logs, or work with specific tools to achieve this, feel free to ask for more detailed guidance on those topics!\")}\n",
      "----\n",
      "should_continue: {'input': \"How many PagerDuty events have been fired and delivered over the IRC platform over the last month and what was the team split? Today's date is Sun apr 7 2024\", 'chat_history': [], 'agent_outcome': AgentFinish(return_values={'output': \"I'm unable to directly access real-time or historical data from external services like PagerDuty or an IRC platform, including the number of events fired, delivered, or team-specific metrics without access to those specific systems or databases. My capabilities are designed around providing information, answering questions based on the knowledge up to April 2023, and performing tasks within the environment I have access to.\\n\\nTo obtain the specific number of PagerDuty events fired and delivered over the IRC platform over the last month and the team split as of April 7, 2024, I recommend the following steps:\\n\\n1. **PagerDuty Reports or API:** Check if PagerDuty provides detailed reports or API endpoints that can give you insights into events. PagerDuty's analytics or reporting features might offer the ability to filter events by date, source platform (e.g., IRC), and team. Additionally, the PagerDuty API could be used to programmatically fetch this data if you have the necessary permissions and API keys.\\n\\n2. **IRC Logs or Bots:** If the IRC platform or bots used within it have logging capabilities, you might be able to analyze the logs for mentions of PagerDuty events. This would require access to the logs and possibly some scripting or tooling to parse and count the relevant event mentions.\\n\\n3. **Team Coordination:** Coordinate with your team or the teams involved to gather any manually tracked data or insights they might have. Sometimes, teams keep records of critical incidents or events that could help in compiling the needed information.\\n\\n4. **Integration Configuration Details:** Review the configuration of the integration between PagerDuty and the IRC platform. There might be logs, metrics, or even dashboards built into the integration setup that can provide insights into the events passing through this integration.\\n\\nIf you're looking for assistance on how to use the PagerDuty API, analyze logs, or work with specific tools to achieve this, feel free to ask for more detailed guidance on those topics!\"}, log=\"I'm unable to directly access real-time or historical data from external services like PagerDuty or an IRC platform, including the number of events fired, delivered, or team-specific metrics without access to those specific systems or databases. My capabilities are designed around providing information, answering questions based on the knowledge up to April 2023, and performing tasks within the environment I have access to.\\n\\nTo obtain the specific number of PagerDuty events fired and delivered over the IRC platform over the last month and the team split as of April 7, 2024, I recommend the following steps:\\n\\n1. **PagerDuty Reports or API:** Check if PagerDuty provides detailed reports or API endpoints that can give you insights into events. PagerDuty's analytics or reporting features might offer the ability to filter events by date, source platform (e.g., IRC), and team. Additionally, the PagerDuty API could be used to programmatically fetch this data if you have the necessary permissions and API keys.\\n\\n2. **IRC Logs or Bots:** If the IRC platform or bots used within it have logging capabilities, you might be able to analyze the logs for mentions of PagerDuty events. This would require access to the logs and possibly some scripting or tooling to parse and count the relevant event mentions.\\n\\n3. **Team Coordination:** Coordinate with your team or the teams involved to gather any manually tracked data or insights they might have. Sometimes, teams keep records of critical incidents or events that could help in compiling the needed information.\\n\\n4. **Integration Configuration Details:** Review the configuration of the integration between PagerDuty and the IRC platform. There might be logs, metrics, or even dashboards built into the integration setup that can provide insights into the events passing through this integration.\\n\\nIf you're looking for assistance on how to use the PagerDuty API, analyze logs, or work with specific tools to achieve this, feel free to ask for more detailed guidance on those topics!\"), 'intermediate_steps': [(AgentActionMessageLog(tool='cypherqa_tool', tool_input=\"How many PagerDuty events have been fired and delivered over the IRC platform over the last month and what was the team split? Today's date is Sun apr 7 2024\", log='', message_log=[]), 'Not Found')]}\n",
      "{'input': \"How many PagerDuty events have been fired and delivered over the IRC platform over the last month and what was the team split? Today's date is Sun apr 7 2024\", 'chat_history': [], 'agent_outcome': AgentFinish(return_values={'output': \"I'm unable to directly access real-time or historical data from external services like PagerDuty or an IRC platform, including the number of events fired, delivered, or team-specific metrics without access to those specific systems or databases. My capabilities are designed around providing information, answering questions based on the knowledge up to April 2023, and performing tasks within the environment I have access to.\\n\\nTo obtain the specific number of PagerDuty events fired and delivered over the IRC platform over the last month and the team split as of April 7, 2024, I recommend the following steps:\\n\\n1. **PagerDuty Reports or API:** Check if PagerDuty provides detailed reports or API endpoints that can give you insights into events. PagerDuty's analytics or reporting features might offer the ability to filter events by date, source platform (e.g., IRC), and team. Additionally, the PagerDuty API could be used to programmatically fetch this data if you have the necessary permissions and API keys.\\n\\n2. **IRC Logs or Bots:** If the IRC platform or bots used within it have logging capabilities, you might be able to analyze the logs for mentions of PagerDuty events. This would require access to the logs and possibly some scripting or tooling to parse and count the relevant event mentions.\\n\\n3. **Team Coordination:** Coordinate with your team or the teams involved to gather any manually tracked data or insights they might have. Sometimes, teams keep records of critical incidents or events that could help in compiling the needed information.\\n\\n4. **Integration Configuration Details:** Review the configuration of the integration between PagerDuty and the IRC platform. There might be logs, metrics, or even dashboards built into the integration setup that can provide insights into the events passing through this integration.\\n\\nIf you're looking for assistance on how to use the PagerDuty API, analyze logs, or work with specific tools to achieve this, feel free to ask for more detailed guidance on those topics!\"}, log=\"I'm unable to directly access real-time or historical data from external services like PagerDuty or an IRC platform, including the number of events fired, delivered, or team-specific metrics without access to those specific systems or databases. My capabilities are designed around providing information, answering questions based on the knowledge up to April 2023, and performing tasks within the environment I have access to.\\n\\nTo obtain the specific number of PagerDuty events fired and delivered over the IRC platform over the last month and the team split as of April 7, 2024, I recommend the following steps:\\n\\n1. **PagerDuty Reports or API:** Check if PagerDuty provides detailed reports or API endpoints that can give you insights into events. PagerDuty's analytics or reporting features might offer the ability to filter events by date, source platform (e.g., IRC), and team. Additionally, the PagerDuty API could be used to programmatically fetch this data if you have the necessary permissions and API keys.\\n\\n2. **IRC Logs or Bots:** If the IRC platform or bots used within it have logging capabilities, you might be able to analyze the logs for mentions of PagerDuty events. This would require access to the logs and possibly some scripting or tooling to parse and count the relevant event mentions.\\n\\n3. **Team Coordination:** Coordinate with your team or the teams involved to gather any manually tracked data or insights they might have. Sometimes, teams keep records of critical incidents or events that could help in compiling the needed information.\\n\\n4. **Integration Configuration Details:** Review the configuration of the integration between PagerDuty and the IRC platform. There might be logs, metrics, or even dashboards built into the integration setup that can provide insights into the events passing through this integration.\\n\\nIf you're looking for assistance on how to use the PagerDuty API, analyze logs, or work with specific tools to achieve this, feel free to ask for more detailed guidance on those topics!\"), 'intermediate_steps': [(AgentActionMessageLog(tool='cypherqa_tool', tool_input=\"How many PagerDuty events have been fired and delivered over the IRC platform over the last month and what was the team split? Today's date is Sun apr 7 2024\", log='', message_log=[]), 'Not Found')]}\n",
      "----\n"
     ]
    }
   ],
   "source": [
    "inputs = {\"input\": \"How many PagerDuty events have been fired and delivered over the IRC platform over the last month and what was the team split? Today's date is Sun apr 7 2024\", \"chat_history\": []}\n",
    "for s in app.stream(inputs):\n",
    "    print(list(s.values())[0])\n",
    "    #print(s)\n",
    "    print(\"----\")"
   ],
   "metadata": {
    "collapsed": false,
    "ExecuteTime": {
     "end_time": "2024-04-07T05:28:48.444814Z",
     "start_time": "2024-04-07T05:28:35.394822Z"
    }
   },
   "id": "2d718f1185125985",
   "execution_count": 78
  },
  {
   "cell_type": "code",
   "outputs": [],
   "source": [],
   "metadata": {
    "collapsed": false
   },
   "id": "248a9f2f7accda16"
  }
 ],
 "metadata": {
  "kernelspec": {
   "display_name": "Python 3 (ipykernel)",
   "language": "python",
   "name": "python3"
  },
  "language_info": {
   "codemirror_mode": {
    "name": "ipython",
    "version": 3
   },
   "file_extension": ".py",
   "mimetype": "text/x-python",
   "name": "python",
   "nbconvert_exporter": "python",
   "pygments_lexer": "ipython3",
   "version": "3.11.8"
  }
 },
 "nbformat": 4,
 "nbformat_minor": 5
}
