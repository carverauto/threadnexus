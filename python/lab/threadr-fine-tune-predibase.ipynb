{
 "cells": [
  {
   "cell_type": "code",
   "execution_count": 1,
   "id": "initial_id",
   "metadata": {
    "ExecuteTime": {
     "end_time": "2024-04-08T05:57:57.891165Z",
     "start_time": "2024-04-08T05:57:54.354745Z"
    }
   },
   "outputs": [
    {
     "name": "stdout",
     "output_type": "stream",
     "text": [
      "Requirement already satisfied: neo4j in ./.local/lib/python3.11/site-packages (5.19.0)\r\n",
      "Requirement already satisfied: sentence_transformers in ./.local/lib/python3.11/site-packages (2.6.1)\r\n",
      "Requirement already satisfied: pandas in ./.local/lib/python3.11/site-packages (2.2.1)\r\n",
      "Requirement already satisfied: pytz in ./.local/lib/python3.11/site-packages (from neo4j) (2024.1)\r\n",
      "Requirement already satisfied: transformers<5.0.0,>=4.32.0 in ./.local/lib/python3.11/site-packages (from sentence_transformers) (4.39.3)\r\n",
      "Requirement already satisfied: tqdm in ./.local/lib/python3.11/site-packages (from sentence_transformers) (4.66.2)\r\n",
      "Requirement already satisfied: torch>=1.11.0 in ./.local/lib/python3.11/site-packages (from sentence_transformers) (2.2.2)\r\n",
      "Requirement already satisfied: numpy in ./.local/lib/python3.11/site-packages (from sentence_transformers) (1.26.4)\r\n",
      "Requirement already satisfied: scikit-learn in ./.local/lib/python3.11/site-packages (from sentence_transformers) (1.4.1.post1)\r\n",
      "Requirement already satisfied: scipy in ./.local/lib/python3.11/site-packages (from sentence_transformers) (1.13.0)\r\n",
      "Requirement already satisfied: huggingface-hub>=0.15.1 in ./.local/lib/python3.11/site-packages (from sentence_transformers) (0.22.2)\r\n",
      "Requirement already satisfied: Pillow in ./.local/lib/python3.11/site-packages (from sentence_transformers) (10.3.0)\r\n",
      "Requirement already satisfied: python-dateutil>=2.8.2 in /opt/conda/lib/python3.11/site-packages (from pandas) (2.9.0)\r\n",
      "Requirement already satisfied: tzdata>=2022.7 in ./.local/lib/python3.11/site-packages (from pandas) (2024.1)\r\n",
      "Requirement already satisfied: filelock in ./.local/lib/python3.11/site-packages (from huggingface-hub>=0.15.1->sentence_transformers) (3.13.3)\r\n",
      "Requirement already satisfied: fsspec>=2023.5.0 in ./.local/lib/python3.11/site-packages (from huggingface-hub>=0.15.1->sentence_transformers) (2024.3.1)\r\n",
      "Requirement already satisfied: packaging>=20.9 in /opt/conda/lib/python3.11/site-packages (from huggingface-hub>=0.15.1->sentence_transformers) (24.0)\r\n",
      "Requirement already satisfied: pyyaml>=5.1 in /opt/conda/lib/python3.11/site-packages (from huggingface-hub>=0.15.1->sentence_transformers) (6.0.1)\r\n",
      "Requirement already satisfied: requests in /opt/conda/lib/python3.11/site-packages (from huggingface-hub>=0.15.1->sentence_transformers) (2.31.0)\r\n",
      "Requirement already satisfied: typing-extensions>=3.7.4.3 in /opt/conda/lib/python3.11/site-packages (from huggingface-hub>=0.15.1->sentence_transformers) (4.10.0)\r\n",
      "Requirement already satisfied: six>=1.5 in /opt/conda/lib/python3.11/site-packages (from python-dateutil>=2.8.2->pandas) (1.16.0)\r\n",
      "Requirement already satisfied: sympy in ./.local/lib/python3.11/site-packages (from torch>=1.11.0->sentence_transformers) (1.12)\r\n",
      "Requirement already satisfied: networkx in ./.local/lib/python3.11/site-packages (from torch>=1.11.0->sentence_transformers) (3.3)\r\n",
      "Requirement already satisfied: jinja2 in /opt/conda/lib/python3.11/site-packages (from torch>=1.11.0->sentence_transformers) (3.1.3)\r\n",
      "Requirement already satisfied: nvidia-cuda-nvrtc-cu12==12.1.105 in ./.local/lib/python3.11/site-packages (from torch>=1.11.0->sentence_transformers) (12.1.105)\r\n",
      "Requirement already satisfied: nvidia-cuda-runtime-cu12==12.1.105 in ./.local/lib/python3.11/site-packages (from torch>=1.11.0->sentence_transformers) (12.1.105)\r\n",
      "Requirement already satisfied: nvidia-cuda-cupti-cu12==12.1.105 in ./.local/lib/python3.11/site-packages (from torch>=1.11.0->sentence_transformers) (12.1.105)\r\n",
      "Requirement already satisfied: nvidia-cudnn-cu12==8.9.2.26 in ./.local/lib/python3.11/site-packages (from torch>=1.11.0->sentence_transformers) (8.9.2.26)\r\n",
      "Requirement already satisfied: nvidia-cublas-cu12==12.1.3.1 in ./.local/lib/python3.11/site-packages (from torch>=1.11.0->sentence_transformers) (12.1.3.1)\r\n",
      "Requirement already satisfied: nvidia-cufft-cu12==11.0.2.54 in ./.local/lib/python3.11/site-packages (from torch>=1.11.0->sentence_transformers) (11.0.2.54)\r\n",
      "Requirement already satisfied: nvidia-curand-cu12==10.3.2.106 in ./.local/lib/python3.11/site-packages (from torch>=1.11.0->sentence_transformers) (10.3.2.106)\r\n",
      "Requirement already satisfied: nvidia-cusolver-cu12==11.4.5.107 in ./.local/lib/python3.11/site-packages (from torch>=1.11.0->sentence_transformers) (11.4.5.107)\r\n",
      "Requirement already satisfied: nvidia-cusparse-cu12==12.1.0.106 in ./.local/lib/python3.11/site-packages (from torch>=1.11.0->sentence_transformers) (12.1.0.106)\r\n",
      "Requirement already satisfied: nvidia-nccl-cu12==2.19.3 in ./.local/lib/python3.11/site-packages (from torch>=1.11.0->sentence_transformers) (2.19.3)\r\n",
      "Requirement already satisfied: nvidia-nvtx-cu12==12.1.105 in ./.local/lib/python3.11/site-packages (from torch>=1.11.0->sentence_transformers) (12.1.105)\r\n",
      "Requirement already satisfied: triton==2.2.0 in ./.local/lib/python3.11/site-packages (from torch>=1.11.0->sentence_transformers) (2.2.0)\r\n",
      "Requirement already satisfied: nvidia-nvjitlink-cu12 in ./.local/lib/python3.11/site-packages (from nvidia-cusolver-cu12==11.4.5.107->torch>=1.11.0->sentence_transformers) (12.4.127)\r\n",
      "Requirement already satisfied: regex!=2019.12.17 in ./.local/lib/python3.11/site-packages (from transformers<5.0.0,>=4.32.0->sentence_transformers) (2023.12.25)\r\n",
      "Requirement already satisfied: tokenizers<0.19,>=0.14 in ./.local/lib/python3.11/site-packages (from transformers<5.0.0,>=4.32.0->sentence_transformers) (0.15.2)\r\n",
      "Requirement already satisfied: safetensors>=0.4.1 in ./.local/lib/python3.11/site-packages (from transformers<5.0.0,>=4.32.0->sentence_transformers) (0.4.2)\r\n",
      "Requirement already satisfied: joblib>=1.2.0 in ./.local/lib/python3.11/site-packages (from scikit-learn->sentence_transformers) (1.3.2)\r\n",
      "Requirement already satisfied: threadpoolctl>=2.0.0 in ./.local/lib/python3.11/site-packages (from scikit-learn->sentence_transformers) (3.4.0)\r\n",
      "Requirement already satisfied: MarkupSafe>=2.0 in /opt/conda/lib/python3.11/site-packages (from jinja2->torch>=1.11.0->sentence_transformers) (2.1.5)\r\n",
      "Requirement already satisfied: charset-normalizer<4,>=2 in /opt/conda/lib/python3.11/site-packages (from requests->huggingface-hub>=0.15.1->sentence_transformers) (3.3.2)\r\n",
      "Requirement already satisfied: idna<4,>=2.5 in /opt/conda/lib/python3.11/site-packages (from requests->huggingface-hub>=0.15.1->sentence_transformers) (3.6)\r\n",
      "Requirement already satisfied: urllib3<3,>=1.21.1 in /opt/conda/lib/python3.11/site-packages (from requests->huggingface-hub>=0.15.1->sentence_transformers) (2.2.1)\r\n",
      "Requirement already satisfied: certifi>=2017.4.17 in /opt/conda/lib/python3.11/site-packages (from requests->huggingface-hub>=0.15.1->sentence_transformers) (2024.2.2)\r\n",
      "Requirement already satisfied: mpmath>=0.19 in ./.local/lib/python3.11/site-packages (from sympy->torch>=1.11.0->sentence_transformers) (1.3.0)\r\n"
     ]
    }
   ],
   "source": [
    "!pip3 install neo4j sentence_transformers pandas"
   ]
  },
  {
   "cell_type": "markdown",
   "id": "727fb704df2cbfe",
   "metadata": {
    "collapsed": false
   },
   "source": [
    "# Build our dataset from Neo4j"
   ]
  },
  {
   "cell_type": "code",
   "execution_count": 2,
   "id": "c47932ddc9b0b594",
   "metadata": {
    "collapsed": false,
    "ExecuteTime": {
     "end_time": "2024-04-08T05:58:01.650600Z",
     "start_time": "2024-04-08T05:58:01.644355Z"
    }
   },
   "outputs": [],
   "source": [
    "import os\n",
    "import warnings\n",
    "import textwrap\n",
    "\n",
    "warnings.filterwarnings(\"ignore\")\n",
    "\n",
    "NEO4J_URI = \"bolt://neo4j.neo4j.svc.cluster.local\"\n",
    "NEO4J_PASSWORD = os.getenv(\"NEO4J_PASSWORD\")\n",
    "NEO4J_DATABASE = 'neo4j'"
   ]
  },
  {
   "cell_type": "code",
   "execution_count": 4,
   "id": "9bc8e87f9f459798",
   "metadata": {
    "collapsed": false,
    "ExecuteTime": {
     "end_time": "2024-04-08T05:59:21.023068Z",
     "start_time": "2024-04-08T05:59:20.996796Z"
    }
   },
   "outputs": [],
   "source": [
    "from neo4j import GraphDatabase\n",
    "auth = (\"neo4j\", \"keZSjc1CaHTakP\")\n",
    "with GraphDatabase.driver(NEO4J_URI, auth=auth) as driver:\n",
    "    driver.verify_connectivity()"
   ]
  },
  {
   "cell_type": "code",
   "execution_count": 5,
   "id": "b5a27e75fddfaeba",
   "metadata": {
    "collapsed": false,
    "ExecuteTime": {
     "end_time": "2024-04-08T05:59:24.544282Z",
     "start_time": "2024-04-08T05:59:24.468306Z"
    }
   },
   "outputs": [
    {
     "name": "stdout",
     "output_type": "stream",
     "text": [
      "Chat logs saved to chat_logs.csv\n"
     ]
    }
   ],
   "source": [
    "import pandas as pd\n",
    "\n",
    "# Function to execute the query and return results as a pandas DataFrame\n",
    "def get_chat_logs_as_dataframe(driver):\n",
    "    query = \"\"\"\n",
    "    MATCH (m:Message)-[:POSTED_IN]->(c:Channel), (u:User)-[:SENT]->(m)\n",
    "    OPTIONAL MATCH (m)-[:MENTIONED]->(mentioned:User)\n",
    "    RETURN u.name AS user, c.name AS channel, m.timestamp AS timestamp, m.content AS message\n",
    "    ORDER BY m.timestamp DESC\n",
    "    \"\"\"\n",
    "    \n",
    "    # Execute the query\n",
    "    with driver.session(database=\"neo4j\") as session:\n",
    "        results = session.run(query)\n",
    "        \n",
    "        # Convert results to a DataFrame\n",
    "        chat_logs_df = pd.DataFrame([record.data() for record in results])\n",
    "        \n",
    "        # Optionally, you can save the DataFrame to a CSV file for easy use\n",
    "        chat_logs_df.to_csv(\"chat_logs.csv\", index=False)\n",
    "        \n",
    "        print(\"Chat logs saved to chat_logs.csv\")\n",
    "        \n",
    "        return chat_logs_df\n",
    "\n",
    "# Assuming you have a function to create a driver instance, e.g., `create_driver()`\n",
    "# driver = create_driver()\n",
    "\n",
    "# Call the function to get chat logs as a pandas DataFrame\n",
    "chat_logs_df = get_chat_logs_as_dataframe(driver)"
   ]
  },
  {
   "cell_type": "markdown",
   "id": "d9cc96315c51ea7c",
   "metadata": {
    "collapsed": false
   },
   "source": [
    "# Break the chat logs into conversational contexts\n",
    "\n",
    "## Possible Approaches:\n",
    "\n",
    "1. **Clustering**: Use Clustering algorithms to group the chat logs into conversational contexts,\n",
    "like K-Means or DBSCAN. We'll use the `message` column as the feature to cluster on.\n",
    "2. **Time-based**: Group chat logs based on a time window, like every 5 minutes.\n",
    "3. **User-based**: Group chat logs based on the user who sent the message.\n",
    "4. **Channel-based**: Group chat logs based on the channel where the message was posted.\n",
    "5. **Sequential**: Group chat logs based on the order they were posted.\n",
    "6. **Sequence Labeling**: Use Sequence Labeling models to predict the start and end of each conversation, like Named Entity Recognition (NER) models, Conditional Random Fields (CRFs), Hidden Markov Model (HMM) or Long Short-Term Memory (LSTM) networks to label each message with a conversation ID. To do this, we need to train our model on labeled data to learn the conversational patterns that distinguish between different conversational threads. We can use this model to label new messages automatically.\n",
    "7. **Transformer Based Methods**: Use transformer-based models like BERT, GPT-2, or RoBERTa to generate embeddings for each message and cluster them based on the embeddings."
   ]
  },
  {
   "cell_type": "code",
   "execution_count": 6,
   "id": "1e3a44d538f7ea5f",
   "metadata": {
    "collapsed": false,
    "ExecuteTime": {
     "end_time": "2024-04-08T05:59:30.403950Z",
     "start_time": "2024-04-08T05:59:30.399278Z"
    }
   },
   "outputs": [],
   "source": [
    "# Approach 1: Clustering"
   ]
  },
  {
   "cell_type": "code",
   "execution_count": 7,
   "id": "5402d8fa16bbf26",
   "metadata": {
    "collapsed": false,
    "ExecuteTime": {
     "end_time": "2024-04-08T05:59:33.253045Z",
     "start_time": "2024-04-08T05:59:33.242942Z"
    }
   },
   "outputs": [
    {
     "name": "stdout",
     "output_type": "stream",
     "text": [
      "       user       channel                         timestamp  \\\n",
      "0      leku      #!chases  2024-04-01T02:21:46.712646+00:00   \n",
      "1  larsinio      #!chases  2024-04-01T02:16:12.510311+00:00   \n",
      "2      leku  #singularity  2024-04-01T02:01:10.481358+00:00   \n",
      "3     bysin  #singularity  2024-04-01T02:01:01.059385+00:00   \n",
      "4      leku  #singularity  2024-04-01T02:00:56.648500+00:00   \n",
      "\n",
      "                     message              message_clean  \n",
      "0                        re?                         re  \n",
      "1                        sup                        sup  \n",
      "2  i dont understand pokemon  i dont understand pokemon  \n",
      "3                   last one                   last one  \n",
      "4                  which one                  which one  \n"
     ]
    }
   ],
   "source": [
    "# Basic text cleaning and preprocessing\n",
    "# You might want to expand this with more sophisticated cleaning\n",
    "chat_logs_df['message_clean'] = chat_logs_df['message'].str.lower().str.replace('[^\\w\\s]', '', regex=True)\n",
    "\n",
    "# Display the first few rows of the DataFrame\n",
    "print(chat_logs_df.head())"
   ]
  },
  {
   "cell_type": "markdown",
   "id": "7635ad8036fa7397",
   "metadata": {
    "collapsed": false
   },
   "source": [
    "## Generate embeddings"
   ]
  },
  {
   "cell_type": "code",
   "outputs": [
    {
     "name": "stdout",
     "output_type": "stream",
     "text": [
      "Requirement already satisfied: sentence_transformers in ./.local/lib/python3.11/site-packages (2.6.1)\r\n",
      "Requirement already satisfied: transformers<5.0.0,>=4.32.0 in ./.local/lib/python3.11/site-packages (from sentence_transformers) (4.39.3)\r\n",
      "Requirement already satisfied: tqdm in ./.local/lib/python3.11/site-packages (from sentence_transformers) (4.66.2)\r\n",
      "Requirement already satisfied: torch>=1.11.0 in ./.local/lib/python3.11/site-packages (from sentence_transformers) (2.2.2)\r\n",
      "Requirement already satisfied: numpy in ./.local/lib/python3.11/site-packages (from sentence_transformers) (1.26.4)\r\n",
      "Requirement already satisfied: scikit-learn in ./.local/lib/python3.11/site-packages (from sentence_transformers) (1.4.1.post1)\r\n",
      "Requirement already satisfied: scipy in ./.local/lib/python3.11/site-packages (from sentence_transformers) (1.13.0)\r\n",
      "Requirement already satisfied: huggingface-hub>=0.15.1 in ./.local/lib/python3.11/site-packages (from sentence_transformers) (0.22.2)\r\n",
      "Requirement already satisfied: Pillow in ./.local/lib/python3.11/site-packages (from sentence_transformers) (10.3.0)\r\n",
      "Requirement already satisfied: filelock in ./.local/lib/python3.11/site-packages (from huggingface-hub>=0.15.1->sentence_transformers) (3.13.3)\r\n",
      "Requirement already satisfied: fsspec>=2023.5.0 in ./.local/lib/python3.11/site-packages (from huggingface-hub>=0.15.1->sentence_transformers) (2024.3.1)\r\n",
      "Requirement already satisfied: packaging>=20.9 in /opt/conda/lib/python3.11/site-packages (from huggingface-hub>=0.15.1->sentence_transformers) (24.0)\r\n",
      "Requirement already satisfied: pyyaml>=5.1 in /opt/conda/lib/python3.11/site-packages (from huggingface-hub>=0.15.1->sentence_transformers) (6.0.1)\r\n",
      "Requirement already satisfied: requests in /opt/conda/lib/python3.11/site-packages (from huggingface-hub>=0.15.1->sentence_transformers) (2.31.0)\r\n",
      "Requirement already satisfied: typing-extensions>=3.7.4.3 in /opt/conda/lib/python3.11/site-packages (from huggingface-hub>=0.15.1->sentence_transformers) (4.10.0)\r\n",
      "Requirement already satisfied: sympy in ./.local/lib/python3.11/site-packages (from torch>=1.11.0->sentence_transformers) (1.12)\r\n",
      "Requirement already satisfied: networkx in ./.local/lib/python3.11/site-packages (from torch>=1.11.0->sentence_transformers) (3.3)\r\n",
      "Requirement already satisfied: jinja2 in /opt/conda/lib/python3.11/site-packages (from torch>=1.11.0->sentence_transformers) (3.1.3)\r\n",
      "Requirement already satisfied: nvidia-cuda-nvrtc-cu12==12.1.105 in ./.local/lib/python3.11/site-packages (from torch>=1.11.0->sentence_transformers) (12.1.105)\r\n",
      "Requirement already satisfied: nvidia-cuda-runtime-cu12==12.1.105 in ./.local/lib/python3.11/site-packages (from torch>=1.11.0->sentence_transformers) (12.1.105)\r\n",
      "Requirement already satisfied: nvidia-cuda-cupti-cu12==12.1.105 in ./.local/lib/python3.11/site-packages (from torch>=1.11.0->sentence_transformers) (12.1.105)\r\n",
      "Requirement already satisfied: nvidia-cudnn-cu12==8.9.2.26 in ./.local/lib/python3.11/site-packages (from torch>=1.11.0->sentence_transformers) (8.9.2.26)\r\n",
      "Requirement already satisfied: nvidia-cublas-cu12==12.1.3.1 in ./.local/lib/python3.11/site-packages (from torch>=1.11.0->sentence_transformers) (12.1.3.1)\r\n",
      "Requirement already satisfied: nvidia-cufft-cu12==11.0.2.54 in ./.local/lib/python3.11/site-packages (from torch>=1.11.0->sentence_transformers) (11.0.2.54)\r\n",
      "Requirement already satisfied: nvidia-curand-cu12==10.3.2.106 in ./.local/lib/python3.11/site-packages (from torch>=1.11.0->sentence_transformers) (10.3.2.106)\r\n",
      "Requirement already satisfied: nvidia-cusolver-cu12==11.4.5.107 in ./.local/lib/python3.11/site-packages (from torch>=1.11.0->sentence_transformers) (11.4.5.107)\r\n",
      "Requirement already satisfied: nvidia-cusparse-cu12==12.1.0.106 in ./.local/lib/python3.11/site-packages (from torch>=1.11.0->sentence_transformers) (12.1.0.106)\r\n",
      "Requirement already satisfied: nvidia-nccl-cu12==2.19.3 in ./.local/lib/python3.11/site-packages (from torch>=1.11.0->sentence_transformers) (2.19.3)\r\n",
      "Requirement already satisfied: nvidia-nvtx-cu12==12.1.105 in ./.local/lib/python3.11/site-packages (from torch>=1.11.0->sentence_transformers) (12.1.105)\r\n",
      "Requirement already satisfied: triton==2.2.0 in ./.local/lib/python3.11/site-packages (from torch>=1.11.0->sentence_transformers) (2.2.0)\r\n",
      "Requirement already satisfied: nvidia-nvjitlink-cu12 in ./.local/lib/python3.11/site-packages (from nvidia-cusolver-cu12==11.4.5.107->torch>=1.11.0->sentence_transformers) (12.4.127)\r\n",
      "Requirement already satisfied: regex!=2019.12.17 in ./.local/lib/python3.11/site-packages (from transformers<5.0.0,>=4.32.0->sentence_transformers) (2023.12.25)\r\n",
      "Requirement already satisfied: tokenizers<0.19,>=0.14 in ./.local/lib/python3.11/site-packages (from transformers<5.0.0,>=4.32.0->sentence_transformers) (0.15.2)\r\n",
      "Requirement already satisfied: safetensors>=0.4.1 in ./.local/lib/python3.11/site-packages (from transformers<5.0.0,>=4.32.0->sentence_transformers) (0.4.2)\r\n",
      "Requirement already satisfied: joblib>=1.2.0 in ./.local/lib/python3.11/site-packages (from scikit-learn->sentence_transformers) (1.3.2)\r\n",
      "Requirement already satisfied: threadpoolctl>=2.0.0 in ./.local/lib/python3.11/site-packages (from scikit-learn->sentence_transformers) (3.4.0)\r\n",
      "Requirement already satisfied: MarkupSafe>=2.0 in /opt/conda/lib/python3.11/site-packages (from jinja2->torch>=1.11.0->sentence_transformers) (2.1.5)\r\n",
      "Requirement already satisfied: charset-normalizer<4,>=2 in /opt/conda/lib/python3.11/site-packages (from requests->huggingface-hub>=0.15.1->sentence_transformers) (3.3.2)\r\n",
      "Requirement already satisfied: idna<4,>=2.5 in /opt/conda/lib/python3.11/site-packages (from requests->huggingface-hub>=0.15.1->sentence_transformers) (3.6)\r\n",
      "Requirement already satisfied: urllib3<3,>=1.21.1 in /opt/conda/lib/python3.11/site-packages (from requests->huggingface-hub>=0.15.1->sentence_transformers) (2.2.1)\r\n",
      "Requirement already satisfied: certifi>=2017.4.17 in /opt/conda/lib/python3.11/site-packages (from requests->huggingface-hub>=0.15.1->sentence_transformers) (2024.2.2)\r\n",
      "Requirement already satisfied: mpmath>=0.19 in ./.local/lib/python3.11/site-packages (from sympy->torch>=1.11.0->sentence_transformers) (1.3.0)\r\n"
     ]
    }
   ],
   "source": [
    "!pip install sentence_transformers"
   ],
   "metadata": {
    "collapsed": false,
    "ExecuteTime": {
     "end_time": "2024-04-08T05:59:41.039339Z",
     "start_time": "2024-04-08T05:59:37.889328Z"
    }
   },
   "id": "6355eb51497bad31",
   "execution_count": 8
  },
  {
   "cell_type": "code",
   "outputs": [
    {
     "name": "stdout",
     "output_type": "stream",
     "text": [
      "Sentence: This framework generates embeddings for each input sentence\n",
      "Embedding: [-1.37173254e-02 -4.28515784e-02 -1.56286024e-02  1.40537536e-02\n",
      "  3.95538062e-02  1.21796325e-01  2.94333436e-02 -3.17524485e-02\n",
      "  3.54959629e-02 -7.93140307e-02  1.75878238e-02 -4.04369608e-02\n",
      "  4.97259349e-02  2.54913010e-02 -7.18699843e-02  8.14968795e-02\n",
      "  1.47071958e-03  4.79627587e-02 -4.50336002e-02 -9.92174968e-02\n",
      " -2.81769242e-02  6.45045564e-02  4.44670394e-02 -4.76217270e-02\n",
      " -3.52952555e-02  4.38671224e-02 -5.28565869e-02  4.33025125e-04\n",
      "  1.01921491e-01  1.64072793e-02  3.26996781e-02 -3.45986858e-02\n",
      "  1.21339187e-02  7.94870779e-02  4.58346261e-03  1.57778636e-02\n",
      " -9.68207140e-03  2.87626237e-02 -5.05806766e-02 -1.55794332e-02\n",
      " -2.87907198e-02 -9.62278899e-03  3.15556452e-02  2.27349605e-02\n",
      "  8.71449709e-02 -3.85027714e-02 -8.84718373e-02 -8.75491835e-03\n",
      " -2.12343764e-02  2.08924264e-02 -9.02078152e-02 -5.25732227e-02\n",
      " -1.05638616e-02  2.88310945e-02 -1.61454994e-02  6.17835484e-03\n",
      " -1.23234652e-02 -1.07337264e-02  2.83353887e-02 -5.28568141e-02\n",
      " -3.58618237e-02 -5.97989596e-02 -1.09055201e-02  2.91566327e-02\n",
      "  7.97978863e-02 -3.27871006e-04  6.83496986e-03  1.32718366e-02\n",
      " -4.24619392e-02  1.87656861e-02 -9.89234298e-02  2.09049787e-02\n",
      " -8.69605765e-02 -1.50151858e-02 -4.86202203e-02  8.04414749e-02\n",
      " -3.67699959e-03 -6.65044039e-02  1.14556789e-01 -3.04228682e-02\n",
      "  2.96631474e-02 -2.80695241e-02  4.64990959e-02 -2.25513652e-02\n",
      "  8.54223222e-02  3.15446816e-02  7.34541640e-02 -2.21861508e-02\n",
      " -5.29679209e-02  1.27130896e-02 -5.27339764e-02 -1.06188789e-01\n",
      "  7.04732165e-02  2.76736338e-02 -8.05531144e-02  2.39649341e-02\n",
      " -2.65125111e-02 -2.17331499e-02  4.35275473e-02  4.84712459e-02\n",
      " -2.37067286e-02  2.85768732e-02  1.11846134e-01 -6.34935498e-02\n",
      " -1.58318263e-02 -2.26169284e-02 -1.31028080e-02 -1.62068068e-03\n",
      " -3.60929258e-02 -9.78296921e-02 -4.67728674e-02  1.76271666e-02\n",
      " -3.97491977e-02 -1.76401460e-04  3.39628197e-02 -2.09633876e-02\n",
      "  6.33660657e-03 -2.59411149e-02  8.10410529e-02  6.14393316e-02\n",
      " -5.44598605e-03  6.48276359e-02 -1.16844043e-01  2.36861166e-02\n",
      " -1.32058943e-02 -1.12476468e-01  1.90049801e-02 -1.74661046e-34\n",
      "  5.58949299e-02  1.94244701e-02  4.65438850e-02  5.18645905e-02\n",
      "  3.89390215e-02  3.40540670e-02 -4.32114378e-02  7.90637806e-02\n",
      " -9.79529768e-02 -1.27440747e-02 -2.91871056e-02  1.02052270e-02\n",
      "  1.88116189e-02  1.08942583e-01  6.63464889e-02 -5.35295382e-02\n",
      " -3.29228304e-02  4.69826795e-02  2.28883214e-02  2.74114404e-02\n",
      " -2.91983206e-02  3.12706381e-02 -2.22850312e-02 -1.02282137e-01\n",
      " -2.79116370e-02  1.13792755e-02  9.06308591e-02 -4.75414507e-02\n",
      " -1.00718960e-01 -1.23232063e-02 -7.96928331e-02 -1.44637069e-02\n",
      " -7.76400343e-02 -7.66920019e-03  9.73951537e-03  2.24204510e-02\n",
      "  7.77267963e-02 -3.17158084e-03  2.11538021e-02 -3.30393650e-02\n",
      "  9.55250021e-03 -3.73011976e-02  2.61360258e-02 -9.79083031e-03\n",
      " -6.31505027e-02  5.77434665e-03 -3.80031504e-02  1.29684685e-02\n",
      " -1.82499457e-02 -1.56283118e-02 -1.23363070e-03  5.55579476e-02\n",
      "  1.13090777e-04 -5.61257042e-02  7.40165338e-02  1.84452292e-02\n",
      " -2.66367849e-02  1.31951747e-02  7.50086978e-02 -2.46797837e-02\n",
      " -3.24006602e-02 -1.57675091e-02 -8.03514570e-03 -5.61320037e-03\n",
      "  1.05687622e-02  3.26163182e-03 -3.91990431e-02 -9.38677490e-02\n",
      "  1.14227131e-01  6.57304749e-02 -4.72633615e-02  1.45088499e-02\n",
      " -3.54490094e-02 -3.37761566e-02 -5.15505560e-02 -3.81003530e-03\n",
      " -5.15036359e-02 -5.93429543e-02 -1.69410382e-03  7.42107481e-02\n",
      " -4.20091264e-02 -7.19974786e-02  3.17250118e-02 -1.66303664e-02\n",
      "  3.96983838e-03 -6.52751029e-02  2.77391169e-02 -7.51649514e-02\n",
      "  2.27455944e-02 -3.91368046e-02  1.54315364e-02 -5.54908514e-02\n",
      "  1.23318257e-02 -2.59521026e-02  6.66424334e-02 -6.91258361e-34\n",
      "  3.31628881e-02  8.47929195e-02 -6.65584356e-02  3.33541818e-02\n",
      "  4.71610948e-03  1.35361897e-02 -5.38694486e-02  9.20694023e-02\n",
      " -2.96876784e-02  3.16219181e-02 -2.37497780e-02  1.98770966e-02\n",
      "  1.03446171e-01 -9.06947479e-02  6.30625756e-03  1.42886499e-02\n",
      "  1.19293639e-02  6.43730257e-03  4.20105271e-02  1.25344712e-02\n",
      "  3.93019319e-02  5.35691381e-02 -4.30749804e-02  6.10432588e-02\n",
      " -5.39430621e-05  6.91682771e-02  1.05519909e-02  1.22112045e-02\n",
      " -7.23185539e-02  2.50469595e-02 -5.18371128e-02 -4.36562076e-02\n",
      " -6.71818480e-02  1.34828184e-02 -7.25888833e-02  7.04164058e-03\n",
      "  6.58939406e-02  1.08994450e-02 -2.60014669e-03  5.49969524e-02\n",
      "  5.06966449e-02  3.27948257e-02 -6.68833628e-02  6.45557120e-02\n",
      " -2.52075884e-02 -2.92572509e-02 -1.16696686e-01  3.24064344e-02\n",
      "  5.85858747e-02 -3.51756550e-02 -7.15240091e-02  2.24935915e-02\n",
      " -1.00786768e-01 -4.74544764e-02 -7.61962086e-02 -5.87166920e-02\n",
      "  4.21138331e-02 -7.47213811e-02  1.98467914e-02 -3.36504565e-03\n",
      " -5.29736839e-02  2.74729524e-02  3.45736891e-02 -6.11846596e-02\n",
      "  1.06364816e-01 -9.64120254e-02 -4.55945358e-02  1.51489927e-02\n",
      " -5.13526937e-03 -6.64447993e-02  4.31721024e-02 -1.10406214e-02\n",
      " -9.80251376e-03  7.53783360e-02 -1.49571635e-02 -4.80208769e-02\n",
      "  5.80726415e-02 -2.43896488e-02 -2.23137718e-02 -4.36992608e-02\n",
      "  5.12054265e-02 -3.28625590e-02  1.08763337e-01  6.08926155e-02\n",
      "  3.30794021e-03  5.53820655e-02  8.43201280e-02  1.27086882e-02\n",
      "  3.84465866e-02  6.52325526e-02 -2.94683818e-02  5.08006141e-02\n",
      " -2.09348407e-02  1.46135643e-01  2.25561969e-02 -1.77227761e-08\n",
      " -5.02673052e-02 -2.79131607e-04 -1.00328594e-01  2.42811590e-02\n",
      " -7.54043385e-02 -3.79140228e-02  3.96049842e-02  3.10079455e-02\n",
      " -9.05705430e-03 -6.50412142e-02  4.05453444e-02  4.83390130e-02\n",
      " -4.56962213e-02  4.76003019e-03  2.64360802e-03  9.35614035e-02\n",
      " -4.02599797e-02  3.27401757e-02  1.18298475e-02  5.54345213e-02\n",
      "  1.48052290e-01  7.21189678e-02  2.76962150e-04  1.68651156e-02\n",
      "  8.34879093e-03 -8.76155496e-03 -1.33650107e-02  6.14236481e-02\n",
      "  1.57167949e-02  6.94961548e-02  1.08621651e-02  6.08018450e-02\n",
      " -5.33421412e-02 -3.47924456e-02 -3.36272307e-02  6.93906248e-02\n",
      "  1.22987796e-02 -1.45237327e-01 -2.06969026e-03 -4.61133085e-02\n",
      "  3.72751011e-03 -5.59351267e-03 -1.00659855e-01 -4.45953384e-02\n",
      "  5.40921353e-02  4.98888176e-03  1.49535248e-02 -8.26059207e-02\n",
      "  6.26630411e-02 -5.01911109e-03 -4.81857583e-02 -3.53991278e-02\n",
      "  9.03390534e-03 -2.42337864e-02  5.66267706e-02  2.51528472e-02\n",
      " -1.70708932e-02 -1.24780284e-02  3.19517590e-02  1.38420872e-02\n",
      " -1.55815184e-02  1.00178234e-01  1.23657234e-01 -4.22967598e-02]\n",
      "\n",
      "Sentence: Sentences are passed as a list of string.\n",
      "Embedding: [ 5.64525053e-02  5.50024323e-02  3.13796028e-02  3.39484811e-02\n",
      " -3.54247056e-02  8.34667832e-02  9.88800526e-02  7.27543561e-03\n",
      " -6.68658642e-03 -7.65812164e-03  7.93738216e-02  7.39704526e-04\n",
      "  1.49291251e-02 -1.51047297e-02  3.67674306e-02  4.78743166e-02\n",
      " -4.81969416e-02 -3.76051627e-02 -4.60278131e-02 -8.89815912e-02\n",
      "  1.20228127e-01  1.30663306e-01 -3.73936072e-02  2.47852691e-03\n",
      "  2.55820225e-03  7.25814328e-02 -6.80435970e-02 -5.24695851e-02\n",
      "  4.90234271e-02  2.99563184e-02 -5.84429651e-02 -2.02262830e-02\n",
      "  2.08822079e-02  9.76691619e-02  3.52390632e-02  3.91141325e-02\n",
      "  1.05667710e-02  1.56233367e-03 -1.30822212e-02  8.52906052e-03\n",
      " -4.84094862e-03 -2.03766488e-02 -2.71801073e-02  2.83307731e-02\n",
      "  3.66017595e-02  2.51276195e-02 -9.90862027e-02  1.15626799e-02\n",
      " -3.60380448e-02 -7.23784417e-02 -1.12670057e-01  1.12941992e-02\n",
      " -3.86397839e-02  4.67385761e-02 -2.88460255e-02  2.26703435e-02\n",
      " -8.52402113e-03  3.32814828e-02 -1.06581033e-03 -7.09744841e-02\n",
      " -6.31169900e-02 -5.72186634e-02 -6.16027005e-02  5.47146611e-02\n",
      "  1.18318284e-02 -4.66261469e-02  2.56960168e-02 -7.07416469e-03\n",
      " -5.73842935e-02  4.12839465e-02 -5.91503642e-02  5.89021891e-02\n",
      " -4.41696979e-02  4.65081148e-02 -3.15814577e-02  5.58311939e-02\n",
      "  5.54578714e-02 -5.96533790e-02  4.06407602e-02  4.83764615e-03\n",
      " -4.96768057e-02 -1.00944363e-01  3.40078659e-02  4.13274532e-03\n",
      " -2.93529150e-03  2.11837385e-02 -3.73962484e-02 -2.79066842e-02\n",
      " -4.61767539e-02  5.26138656e-02 -2.79735215e-02 -1.62379265e-01\n",
      "  6.61042705e-02  1.72274355e-02 -5.45109529e-03  4.74474058e-02\n",
      " -3.82237807e-02 -3.96896526e-02  1.34544829e-02  4.49654721e-02\n",
      "  4.53668879e-03  2.82978825e-02  8.36633295e-02 -1.00857979e-02\n",
      " -1.19354017e-01 -3.84624526e-02  4.82858531e-02 -9.46083963e-02\n",
      "  1.91854332e-02 -9.96518731e-02 -6.30596280e-02  3.02696209e-02\n",
      "  1.17402161e-02 -4.78372425e-02 -6.20272523e-03 -3.32851075e-02\n",
      " -4.04388504e-03  1.28307175e-02  4.05254662e-02  7.56477192e-02\n",
      "  2.92435158e-02  2.84270048e-02 -2.78938469e-02  1.66857801e-02\n",
      " -2.47961804e-02 -6.83650821e-02  2.89968196e-02 -5.39867821e-33\n",
      " -2.69012945e-03 -2.65069138e-02 -6.47858949e-04 -8.46203603e-03\n",
      " -7.35154748e-02  4.94082365e-03 -5.97842708e-02  1.03437826e-02\n",
      "  2.12901901e-03 -2.88214814e-03 -3.17077041e-02 -9.42364633e-02\n",
      "  3.03020123e-02  7.00226724e-02  4.50685062e-02  3.69439162e-02\n",
      "  1.13593582e-02  3.53027172e-02  5.50446566e-03  1.34414190e-03\n",
      "  3.46119027e-03  7.75048286e-02  5.45112826e-02 -7.92055503e-02\n",
      " -9.31696743e-02 -4.03398722e-02  3.10669020e-02 -3.83081697e-02\n",
      " -5.89442775e-02  1.93332024e-02 -2.67160013e-02 -7.91938677e-02\n",
      "  1.04194834e-04  7.70621300e-02  4.16604169e-02  8.90932903e-02\n",
      "  3.56843285e-02 -1.09153269e-02  3.71498913e-02 -2.07070336e-02\n",
      " -2.46100500e-02 -2.05025412e-02  2.62201745e-02  3.43590267e-02\n",
      "  4.39250655e-02 -8.20520148e-03 -8.40711072e-02  4.24171388e-02\n",
      "  4.87498939e-02  5.95385619e-02  2.87747663e-02  3.37638780e-02\n",
      " -4.07442749e-02 -1.66373909e-03  7.91927055e-02  3.41088139e-02\n",
      " -5.72833640e-04  1.87749323e-02 -1.36964163e-02  7.38332793e-02\n",
      "  5.74430916e-04  8.33505094e-02  5.60811013e-02 -1.13711013e-02\n",
      "  4.42611314e-02  2.69582421e-02 -4.80535962e-02 -3.15087847e-02\n",
      "  7.75226131e-02  1.81773510e-02 -8.83005932e-02 -7.85519369e-03\n",
      " -6.22242764e-02  7.19372407e-02 -2.33474839e-02  6.52480451e-03\n",
      " -9.49525926e-03 -9.88312513e-02  4.01306376e-02  3.07396781e-02\n",
      " -2.21606996e-02 -9.45910811e-02  1.02368016e-02  1.02187812e-01\n",
      " -4.12959903e-02 -3.15777101e-02  4.74751294e-02 -1.10209890e-01\n",
      "  1.69614423e-02 -3.71708572e-02 -1.03261750e-02 -4.72538956e-02\n",
      " -1.20214634e-02 -1.93255264e-02  5.79292476e-02  4.23866687e-34\n",
      "  3.92013453e-02  8.41361731e-02 -1.02946684e-01  6.92259595e-02\n",
      "  1.68821868e-02 -3.26760709e-02  9.65956692e-03  1.80899873e-02\n",
      "  2.17939671e-02  1.63189061e-02 -9.69291925e-02  3.74855730e-03\n",
      " -2.38457266e-02 -3.44055966e-02  7.11962730e-02  9.21958010e-04\n",
      " -6.23859931e-03  3.23754586e-02 -8.90419702e-04  5.01904497e-03\n",
      " -4.24537808e-02  9.89083350e-02 -4.60320748e-02  4.69704270e-02\n",
      " -1.75284278e-02 -7.02514639e-03  1.32744070e-02 -5.30152470e-02\n",
      "  2.66403635e-03  1.45819075e-02  7.43346009e-03 -3.07131782e-02\n",
      " -2.09416524e-02  8.24110284e-02 -5.15894331e-02 -2.71177664e-02\n",
      "  1.17583081e-01  7.72505626e-03 -1.89522859e-02  3.94559912e-02\n",
      "  7.17360228e-02  2.59116925e-02  2.75192149e-02  9.50543489e-03\n",
      " -3.02355103e-02 -4.07945067e-02 -1.04028486e-01 -7.97418691e-03\n",
      " -3.64456535e-03  3.29716131e-02 -2.35954653e-02 -7.50519568e-03\n",
      " -5.82234375e-02 -3.17906141e-02 -4.18048985e-02  2.17453707e-02\n",
      " -6.67292774e-02 -4.89104167e-02  4.58515389e-03 -2.66046058e-02\n",
      " -1.12597004e-01  5.11166938e-02  5.48534021e-02 -6.69856742e-02\n",
      "  1.26766264e-01 -8.59487429e-02 -5.94231449e-02 -2.92187463e-03\n",
      " -1.14876069e-02 -1.26025781e-01 -3.48279462e-03 -9.12001953e-02\n",
      " -1.22933082e-01  1.33777214e-02 -4.75775786e-02 -6.57933205e-02\n",
      " -3.39410119e-02 -3.07107903e-02 -5.22034019e-02 -2.35463511e-02\n",
      "  5.90035133e-02 -3.85758206e-02  3.19700614e-02  4.05118577e-02\n",
      "  1.67078190e-02 -3.58281434e-02  1.45688234e-02  3.20137814e-02\n",
      " -1.34843420e-02  6.07819781e-02 -8.31396878e-03 -1.08105307e-02\n",
      "  4.69411016e-02  7.66133890e-02 -4.23400030e-02 -2.11963300e-08\n",
      " -7.25292042e-02 -4.20227982e-02 -6.12374730e-02  5.24666049e-02\n",
      " -1.42364027e-02  1.18487896e-02 -1.40789011e-02 -3.67530137e-02\n",
      " -4.44977358e-02 -1.15140388e-02  5.23317531e-02  2.96652243e-02\n",
      " -4.62780297e-02 -3.70892622e-02  1.89129394e-02  2.04307437e-02\n",
      " -2.24005897e-02 -1.48562612e-02 -1.79504547e-02  4.20007855e-02\n",
      "  1.40942447e-02 -2.83492748e-02 -1.16862990e-01  1.48956217e-02\n",
      " -7.30582862e-04  5.66028357e-02 -2.68739834e-02  1.09106690e-01\n",
      "  2.94564618e-03  1.19267948e-01  1.14212424e-01  8.92974436e-02\n",
      " -1.70255676e-02 -4.99054119e-02 -2.11931393e-02  3.18421423e-02\n",
      "  7.03435913e-02 -1.02929406e-01  8.23817328e-02  2.81968340e-02\n",
      "  3.21146324e-02  3.79107818e-02 -1.09553099e-01  8.19620714e-02\n",
      "  8.73216689e-02 -5.73563911e-02 -2.01708954e-02 -5.69444001e-02\n",
      " -1.30338408e-02 -5.55684529e-02 -1.32966535e-02  8.64012633e-03\n",
      "  5.30012026e-02 -4.06846665e-02  2.71709077e-02 -2.55949167e-03\n",
      "  3.05775367e-02 -4.61865366e-02  4.68032481e-03 -3.64946760e-02\n",
      "  6.80802613e-02  6.65087029e-02  8.49151909e-02 -3.32849436e-02]\n",
      "\n",
      "Sentence: The quick brown fox jumps over the lazy dog.\n",
      "Embedding: [ 4.39335555e-02  5.89344241e-02  4.81784083e-02  7.75481239e-02\n",
      "  2.67444160e-02 -3.76296341e-02 -2.60508223e-03 -5.99430203e-02\n",
      " -2.49602553e-03  2.20728144e-02  4.80259545e-02  5.57553098e-02\n",
      " -3.89454402e-02 -2.66167857e-02  7.69343507e-03 -2.62376666e-02\n",
      " -3.64160687e-02 -3.78161445e-02  7.40781501e-02 -4.95050475e-02\n",
      " -5.85217215e-02 -6.36197031e-02  3.24349850e-02  2.20085606e-02\n",
      " -7.10637271e-02 -3.31577510e-02 -6.94103688e-02 -5.00374995e-02\n",
      "  7.46267736e-02 -1.11133769e-01 -1.23063372e-02  3.77455726e-02\n",
      " -2.80313864e-02  1.45353070e-02 -3.15585323e-02 -8.05836320e-02\n",
      "  5.83525971e-02  2.59007118e-03  3.92802395e-02  2.57695410e-02\n",
      "  4.98505905e-02 -1.75618357e-03 -4.55297753e-02  2.92607937e-02\n",
      " -1.02017239e-01  5.22287823e-02 -7.90898800e-02 -1.02857547e-02\n",
      "  9.20240860e-03  1.30732693e-02 -4.04777303e-02 -2.77924649e-02\n",
      "  1.24668302e-02  6.72833249e-02  6.81248382e-02 -7.57124647e-03\n",
      " -6.09945133e-03 -4.23777141e-02  5.17816022e-02 -1.56707205e-02\n",
      "  9.56353731e-03  4.12390493e-02  2.14959513e-02  1.04293423e-02\n",
      "  2.73349583e-02  1.87061895e-02 -2.69607231e-02 -7.00541735e-02\n",
      " -1.04700476e-01 -1.89875369e-03  1.77017022e-02 -5.74725829e-02\n",
      " -1.44222109e-02  4.70490922e-04  2.33231368e-03 -2.51920838e-02\n",
      "  4.93003763e-02 -5.09608872e-02  6.31983280e-02  1.49165587e-02\n",
      " -2.70767193e-02 -4.52875793e-02 -4.90594096e-02  3.74940559e-02\n",
      "  3.84579413e-02  1.56905781e-03  3.09922565e-02  2.01630406e-02\n",
      " -1.24363620e-02 -3.06720342e-02 -2.78819036e-02 -6.89182505e-02\n",
      " -5.13678007e-02  2.14795358e-02  1.15747415e-02  1.25402259e-03\n",
      "  1.88765340e-02 -4.42319177e-02 -4.49817479e-02 -3.41866398e-03\n",
      "  1.31130870e-02  2.00099926e-02  1.21099807e-01  2.31075138e-02\n",
      " -2.20159963e-02 -3.28847133e-02 -3.15514370e-03  1.17826770e-04\n",
      "  9.91498753e-02  1.65238511e-02 -4.69668070e-03 -1.45366741e-02\n",
      " -3.71071720e-03  9.65136141e-02  2.85908822e-02  2.13482566e-02\n",
      " -7.17645213e-02 -2.41142157e-02 -4.40940559e-02 -1.07346885e-01\n",
      "  6.79945350e-02  1.30466759e-01 -7.97029436e-02  6.79513160e-03\n",
      " -2.37512458e-02 -4.61636297e-02 -2.99650822e-02 -3.69410267e-33\n",
      "  7.30969980e-02 -2.20171809e-02 -8.61465335e-02 -7.14379624e-02\n",
      " -6.36741072e-02 -7.21862540e-02 -5.93043538e-03 -2.33642329e-02\n",
      " -2.83657722e-02  4.77434397e-02 -8.06176588e-02 -1.56479038e-03\n",
      "  1.38444081e-02 -2.86236219e-02 -3.35386954e-02 -1.13777414e-01\n",
      " -9.17634554e-03 -1.08101042e-02  3.23196501e-02  5.88380098e-02\n",
      "  3.34208570e-02  1.07987940e-01 -3.72713618e-02 -2.96770353e-02\n",
      "  5.17189689e-02 -2.25337986e-02 -6.96090758e-02 -2.14475077e-02\n",
      " -2.33410746e-02  4.82200086e-02 -3.58766764e-02 -4.68990356e-02\n",
      " -3.97872850e-02  1.10813238e-01 -1.43006854e-02 -1.18464500e-01\n",
      "  5.82915135e-02 -6.25888780e-02 -2.94040591e-02  6.03238381e-02\n",
      " -2.44419463e-03  1.60115901e-02  2.67233197e-02  2.49529965e-02\n",
      " -6.49319068e-02 -1.06802927e-02  2.81464718e-02  1.03563629e-02\n",
      " -6.63579500e-04  1.98185723e-02 -3.04288138e-02  6.28422294e-03\n",
      "  5.15268594e-02 -4.75375466e-02 -6.44421577e-02  9.55031887e-02\n",
      "  7.55858347e-02 -2.81574316e-02 -3.49965766e-02  1.01816364e-01\n",
      "  1.98731907e-02 -3.68037149e-02  2.93522282e-03 -5.00745773e-02\n",
      "  1.50932193e-01 -6.16079979e-02 -8.58812407e-02  7.13995146e-03\n",
      " -1.33065358e-02  7.80404434e-02  1.75250378e-02  4.21279781e-02\n",
      "  3.57939936e-02 -1.32950425e-01  3.56970206e-02 -2.03117263e-02\n",
      "  1.24910288e-02 -3.80355567e-02  4.91543226e-02 -1.56540647e-02\n",
      "  1.21418305e-01 -8.08644965e-02 -4.68782336e-02  4.10842374e-02\n",
      " -1.84317902e-02  6.69691190e-02  4.33592591e-03  2.27315612e-02\n",
      " -1.36428773e-02 -4.53238003e-02 -3.92829105e-02 -6.29890570e-03\n",
      "  5.29609844e-02 -3.69064547e-02  7.11677298e-02  2.33343306e-33\n",
      "  1.05231397e-01 -4.81874198e-02  6.95918798e-02  6.56975880e-02\n",
      " -4.65150103e-02  5.14492095e-02 -1.24475891e-02  3.20871919e-02\n",
      " -9.23356786e-02  5.00932336e-02 -3.28876451e-02  1.39138913e-02\n",
      " -8.70253076e-04 -4.90903761e-03  1.03946358e-01  3.21648520e-04\n",
      "  5.28110191e-02 -1.17990021e-02  2.31565256e-02  1.31767895e-02\n",
      " -5.25962338e-02  3.26701812e-02  3.08700313e-04  6.41128272e-02\n",
      "  3.88500690e-02  5.88008650e-02  8.29792917e-02 -1.88149158e-02\n",
      " -2.26377118e-02 -1.00473627e-01 -3.83751914e-02 -5.88080958e-02\n",
      "  1.82420993e-03 -4.26995978e-02  2.50195004e-02  6.40059486e-02\n",
      " -3.77482958e-02 -6.83900760e-03 -2.54601380e-03 -9.76043418e-02\n",
      "  1.88476276e-02 -8.83211847e-04  1.73612311e-02  7.10790008e-02\n",
      "  3.30393165e-02  6.93421625e-03 -5.60523421e-02  5.14634289e-02\n",
      " -4.29542363e-02  4.60076518e-02 -8.78833141e-03  3.17288861e-02\n",
      "  4.93965447e-02  2.95189638e-02 -5.05192615e-02 -5.43187000e-02\n",
      "  1.49948944e-04 -2.76614539e-02  3.46878022e-02 -2.10890342e-02\n",
      "  1.38059696e-02  2.99886148e-02  1.39745204e-02 -4.26474167e-03\n",
      " -1.50337350e-02 -8.76095444e-02 -6.85053840e-02 -4.28141393e-02\n",
      "  7.76945651e-02 -7.10285679e-02 -7.37701263e-03  2.13726927e-02\n",
      "  1.35562345e-02 -7.90465251e-02  5.47662098e-03  8.30663815e-02\n",
      "  1.14148036e-01  1.80760503e-03  8.75491351e-02 -4.16045338e-02\n",
      "  1.55416513e-02 -1.01205977e-02 -7.32433889e-03  1.07965488e-02\n",
      " -6.62816763e-02  3.98413427e-02 -1.16711564e-01  6.42994270e-02\n",
      "  4.02920358e-02 -6.54741451e-02  1.95052214e-02  8.09995905e-02\n",
      "  5.36463261e-02  7.67969564e-02 -1.34852799e-02 -1.76919031e-08\n",
      " -4.43935357e-02  9.20640863e-03 -8.79590437e-02  4.26921919e-02\n",
      "  7.31364861e-02  1.68427955e-02 -4.03263457e-02  1.85132548e-02\n",
      "  8.44172165e-02 -3.74477394e-02  3.02996729e-02  2.90641766e-02\n",
      "  6.36878461e-02  2.89750230e-02 -1.47269685e-02  1.77542698e-02\n",
      " -3.36894989e-02  1.73161570e-02  3.37875336e-02  1.76826090e-01\n",
      " -1.75533239e-02 -6.03077821e-02 -1.43394182e-02 -2.38536466e-02\n",
      " -4.45530936e-02 -2.89849937e-02 -8.96776393e-02 -1.75933051e-03\n",
      " -2.61486471e-02  5.93998143e-03 -5.18355034e-02  8.57280120e-02\n",
      " -8.18398967e-02  8.35443474e-03  4.00789827e-02  4.17764112e-02\n",
      "  1.04573578e-01 -2.86564580e-03  1.96690764e-02  5.81049081e-03\n",
      "  1.33253802e-02  4.51001823e-02 -2.17588507e-02 -1.39493216e-02\n",
      " -6.86992705e-02 -2.94114114e-03 -3.10764797e-02 -1.05854407e-01\n",
      "  6.91623688e-02 -4.24114205e-02 -4.67682555e-02 -3.64751294e-02\n",
      "  4.50400151e-02  6.09817095e-02 -6.56561852e-02 -5.45642432e-03\n",
      " -1.86227132e-02 -6.31484762e-02 -3.87437381e-02  3.46733704e-02\n",
      "  5.55457920e-02  5.21627963e-02  5.61065115e-02  1.02063976e-01]\n"
     ]
    }
   ],
   "source": [
    "from sentence_transformers import SentenceTransformer\n",
    "model = SentenceTransformer(\"all-MiniLM-L6-v2\")\n",
    "\n",
    "# Our sentences to encode\n",
    "sentences = [\n",
    "    \"This framework generates embeddings for each input sentence\",\n",
    "    \"Sentences are passed as a list of string.\",\n",
    "    \"The quick brown fox jumps over the lazy dog.\"\n",
    "]\n",
    "\n",
    "# Sentences are encoded by calling model.encode()\n",
    "embeddings = model.encode(sentences)\n",
    "\n",
    "# Print the embeddings\n",
    "for sentence, embedding in zip(sentences, embeddings):\n",
    "    print(\"Sentence:\", sentence)\n",
    "    print(\"Embedding:\", embedding)\n",
    "    print(\"\")"
   ],
   "metadata": {
    "collapsed": false,
    "ExecuteTime": {
     "end_time": "2024-04-08T05:59:47.572400Z",
     "start_time": "2024-04-08T05:59:44.019175Z"
    }
   },
   "id": "d2e23087622190a3",
   "execution_count": 9
  },
  {
   "cell_type": "code",
   "execution_count": 10,
   "id": "52b5826dd17cc133",
   "metadata": {
    "collapsed": false,
    "ExecuteTime": {
     "end_time": "2024-04-08T05:59:53.054773Z",
     "start_time": "2024-04-08T05:59:51.725636Z"
    }
   },
   "outputs": [
    {
     "data": {
      "text/plain": "Batches:   0%|          | 0/12 [00:00<?, ?it/s]",
      "application/vnd.jupyter.widget-view+json": {
       "version_major": 2,
       "version_minor": 0,
       "model_id": "7583507ea7bd4833b30846e6b174065e"
      }
     },
     "metadata": {},
     "output_type": "display_data"
    },
    {
     "name": "stdout",
     "output_type": "stream",
     "text": [
      "Embeddings generated successfully!\n",
      "[[-0.01951109  0.03457575 -0.01666949 ...  0.05298835  0.08593491\n",
      "   0.01744498]\n",
      " [-0.13658412  0.01173701 -0.00966252 ...  0.02726141 -0.01584398\n",
      "   0.02466037]\n",
      " [-0.02697346  0.02436424 -0.00103802 ...  0.08083023  0.03924307\n",
      "  -0.03280762]\n",
      " ...\n",
      " [-0.03119153  0.01449908 -0.04481903 ... -0.01519591  0.09675826\n",
      "   0.0919901 ]\n",
      " [-0.08145887  0.01799925  0.06027577 ... -0.04238012 -0.00299865\n",
      "   0.02132331]\n",
      " [-0.04105745 -0.06912649 -0.04070404 ... -0.00821245  0.0505823\n",
      "   0.04224037]]\n"
     ]
    }
   ],
   "source": [
    "from sentence_transformers import SentenceTransformer\n",
    "from sklearn.preprocessing import normalize\n",
    "\n",
    "model = SentenceTransformer('all-MiniLM-L6-v2')\n",
    "\n",
    "# Generate embeddings\n",
    "message_embeddings = model.encode(chat_logs_df['message_clean'].tolist(), show_progress_bar=True)\n",
    "print(\"Embeddings generated successfully!\")\n",
    "\n",
    "# verify the shape of the embeddings\n",
    "print(message_embeddings)\n"
   ]
  },
  {
   "cell_type": "markdown",
   "id": "c151f514a46873f0",
   "metadata": {
    "collapsed": false
   },
   "source": [
    "## Cluster the embeddings"
   ]
  },
  {
   "cell_type": "code",
   "outputs": [
    {
     "name": "stderr",
     "output_type": "stream",
     "text": [
      "huggingface/tokenizers: The current process just got forked, after parallelism has already been used. Disabling parallelism to avoid deadlocks...\n",
      "To disable this warning, you can either:\n",
      "\t- Avoid using `tokenizers` before the fork if possible\n",
      "\t- Explicitly set the environment variable TOKENIZERS_PARALLELISM=(true | false)\n"
     ]
    },
    {
     "name": "stdout",
     "output_type": "stream",
     "text": [
      "Collecting hdbscan\r\n",
      "  Using cached hdbscan-0.8.33.tar.gz (5.2 MB)\r\n",
      "  Installing build dependencies ... \u001B[?25ldone\r\n",
      "\u001B[?25h  Getting requirements to build wheel ... \u001B[?25ldone\r\n",
      "\u001B[?25h  Preparing metadata (pyproject.toml) ... \u001B[?25ldone\r\n",
      "\u001B[?25hCollecting cython<3,>=0.27 (from hdbscan)\r\n",
      "  Using cached Cython-0.29.37-cp311-cp311-manylinux_2_17_x86_64.manylinux2014_x86_64.manylinux_2_24_x86_64.whl.metadata (3.1 kB)\r\n",
      "Requirement already satisfied: numpy>=1.20 in ./.local/lib/python3.11/site-packages (from hdbscan) (1.26.4)\r\n",
      "Requirement already satisfied: scipy>=1.0 in ./.local/lib/python3.11/site-packages (from hdbscan) (1.13.0)\r\n",
      "Requirement already satisfied: scikit-learn>=0.20 in ./.local/lib/python3.11/site-packages (from hdbscan) (1.4.1.post1)\r\n",
      "Requirement already satisfied: joblib>=1.0 in ./.local/lib/python3.11/site-packages (from hdbscan) (1.3.2)\r\n",
      "Requirement already satisfied: threadpoolctl>=2.0.0 in ./.local/lib/python3.11/site-packages (from scikit-learn>=0.20->hdbscan) (3.4.0)\r\n",
      "Using cached Cython-0.29.37-cp311-cp311-manylinux_2_17_x86_64.manylinux2014_x86_64.manylinux_2_24_x86_64.whl (1.9 MB)\r\n",
      "Building wheels for collected packages: hdbscan\r\n",
      "  Building wheel for hdbscan (pyproject.toml) ... \u001B[?25ldone\r\n",
      "\u001B[?25h  Created wheel for hdbscan: filename=hdbscan-0.8.33-cp311-cp311-linux_x86_64.whl size=732941 sha256=671144d4493e0efd4b967f4d1fdf99aacf2136204547823a2e0117a5f497be9b\r\n",
      "  Stored in directory: /home/jovyan/.cache/pip/wheels/4e/8c/6f/d0495e4e40cbd27a8c7330d4e963837e099d6e16014dbdcdb5\r\n",
      "Successfully built hdbscan\r\n",
      "Installing collected packages: cython, hdbscan\r\n",
      "  Attempting uninstall: cython\r\n",
      "    Found existing installation: Cython 3.0.10\r\n",
      "    Uninstalling Cython-3.0.10:\r\n",
      "      Successfully uninstalled Cython-3.0.10\r\n",
      "Successfully installed cython-0.29.37 hdbscan-0.8.33\r\n"
     ]
    }
   ],
   "source": [
    "!pip3 install hdbscan"
   ],
   "metadata": {
    "collapsed": false,
    "ExecuteTime": {
     "end_time": "2024-04-08T06:00:36.329971Z",
     "start_time": "2024-04-08T05:59:59.642568Z"
    }
   },
   "id": "a9aabd5d3c7139cc",
   "execution_count": 11
  },
  {
   "cell_type": "code",
   "execution_count": 12,
   "id": "39577374d77b0533",
   "metadata": {
    "collapsed": false,
    "ExecuteTime": {
     "end_time": "2024-04-08T06:00:57.676781Z",
     "start_time": "2024-04-08T06:00:57.468916Z"
    }
   },
   "outputs": [],
   "source": [
    "import hdbscan\n",
    "\n",
    "# Normalize embeddings to improve clustering\n",
    "message_embeddings_normalized = normalize(message_embeddings)\n",
    "\n",
    "# Clustering with HDBSCAN\n",
    "clusterer = hdbscan.HDBSCAN(min_cluster_size=5, gen_min_span_tree=True)\n",
    "cluster_labels = clusterer.fit_predict(message_embeddings_normalized)\n",
    "\n",
    "# Add cluster labels to your DataFrame\n",
    "chat_logs_df['cluster'] = cluster_labels\n"
   ]
  },
  {
   "cell_type": "markdown",
   "id": "86e1af0feceb6a96",
   "metadata": {
    "collapsed": false
   },
   "source": [
    "## Analyze the clusters"
   ]
  },
  {
   "cell_type": "code",
   "execution_count": 13,
   "id": "28cc71864cf3374d",
   "metadata": {
    "collapsed": false,
    "ExecuteTime": {
     "end_time": "2024-04-08T06:01:06.572989Z",
     "start_time": "2024-04-08T06:01:06.551264Z"
    }
   },
   "outputs": [
    {
     "name": "stdout",
     "output_type": "stream",
     "text": [
      "cluster\n",
      " 1    191\n",
      "-1    153\n",
      " 0      6\n",
      " 2      6\n",
      "Name: count, dtype: int64\n",
      "         user   channel                         timestamp      message  \\\n",
      "35       leku  #!chases  2024-04-01T01:34:30.653665+00:00  `coins dusk   \n",
      "52       leku  #!chases  2024-04-01T00:36:35.372251+00:00  `coins dusk   \n",
      "172      leku  #!chases  2024-03-31T18:34:07.417986+00:00  `coins dusk   \n",
      "186  larsinio  #!chases  2024-03-31T18:02:21.390198+00:00  `coins doge   \n",
      "187  larsinio  #!chases  2024-03-31T18:02:17.574258+00:00   `coins dot   \n",
      "197      leku  #!chases  2024-03-31T17:39:24.729678+00:00  `coins dusk   \n",
      "\n",
      "    message_clean  cluster  \n",
      "35     coins dusk        0  \n",
      "52     coins dusk        0  \n",
      "172    coins dusk        0  \n",
      "186    coins doge        0  \n",
      "187     coins dot        0  \n",
      "197    coins dusk        0  \n"
     ]
    }
   ],
   "source": [
    "# Explore the number of messages per cluster\n",
    "print(chat_logs_df['cluster'].value_counts())\n",
    "\n",
    "# Inspect a specific cluster\n",
    "print(chat_logs_df[chat_logs_df['cluster'] == 0])\n"
   ]
  },
  {
   "cell_type": "code",
   "execution_count": null,
   "id": "387b8cf1ffff4919",
   "metadata": {
    "collapsed": false
   },
   "outputs": [],
   "source": []
  }
 ],
 "metadata": {
  "kernelspec": {
   "display_name": "Python 3 (ipykernel)",
   "language": "python",
   "name": "python3"
  },
  "language_info": {
   "codemirror_mode": {
    "name": "ipython",
    "version": 3
   },
   "file_extension": ".py",
   "mimetype": "text/x-python",
   "name": "python",
   "nbconvert_exporter": "python",
   "pygments_lexer": "ipython3",
   "version": "3.11.8"
  }
 },
 "nbformat": 4,
 "nbformat_minor": 5
}
