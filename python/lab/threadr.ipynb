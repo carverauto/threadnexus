{
 "cells": [
  {
   "cell_type": "markdown",
   "id": "282991ac-14bf-4e7b-9b98-aeb8292a0f0d",
   "metadata": {},
   "source": [
    "# ThreadR - graph-rag test"
   ]
  },
  {
   "cell_type": "code",
   "execution_count": 1,
   "id": "ce9f8a7f-d7a7-4f81-aed9-4c9518db7b13",
   "metadata": {},
   "outputs": [
    {
     "name": "stdout",
     "output_type": "stream",
     "text": [
      "Requirement already satisfied: neo4j in /opt/homebrew/lib/python3.11/site-packages (5.18.0)\n",
      "Requirement already satisfied: openai in /opt/homebrew/lib/python3.11/site-packages (1.14.1)\n",
      "Requirement already satisfied: langchain in /opt/homebrew/lib/python3.11/site-packages (0.1.12)\n",
      "Requirement already satisfied: langchain_openai in /opt/homebrew/lib/python3.11/site-packages (0.0.8)\n",
      "Requirement already satisfied: pytz in /opt/homebrew/lib/python3.11/site-packages (from neo4j) (2023.3.post1)\n",
      "Requirement already satisfied: anyio<5,>=3.5.0 in /opt/homebrew/lib/python3.11/site-packages (from openai) (3.7.1)\n",
      "Requirement already satisfied: distro<2,>=1.7.0 in /opt/homebrew/lib/python3.11/site-packages (from openai) (1.9.0)\n",
      "Requirement already satisfied: httpx<1,>=0.23.0 in /opt/homebrew/lib/python3.11/site-packages (from openai) (0.27.0)\n",
      "Requirement already satisfied: pydantic<3,>=1.9.0 in /opt/homebrew/lib/python3.11/site-packages (from openai) (2.3.0)\n",
      "Requirement already satisfied: sniffio in /opt/homebrew/lib/python3.11/site-packages (from openai) (1.3.0)\n",
      "Requirement already satisfied: tqdm>4 in /opt/homebrew/lib/python3.11/site-packages (from openai) (4.66.1)\n",
      "Requirement already satisfied: typing-extensions<5,>=4.7 in /opt/homebrew/lib/python3.11/site-packages (from openai) (4.10.0)\n",
      "Requirement already satisfied: PyYAML>=5.3 in /opt/homebrew/lib/python3.11/site-packages (from langchain) (6.0.1)\n",
      "Requirement already satisfied: SQLAlchemy<3,>=1.4 in /opt/homebrew/lib/python3.11/site-packages (from langchain) (2.0.20)\n",
      "Requirement already satisfied: aiohttp<4.0.0,>=3.8.3 in /opt/homebrew/lib/python3.11/site-packages (from langchain) (3.8.5)\n",
      "Requirement already satisfied: dataclasses-json<0.7,>=0.5.7 in /opt/homebrew/lib/python3.11/site-packages (from langchain) (0.5.14)\n",
      "Requirement already satisfied: jsonpatch<2.0,>=1.33 in /opt/homebrew/lib/python3.11/site-packages (from langchain) (1.33)\n",
      "Requirement already satisfied: langchain-community<0.1,>=0.0.28 in /opt/homebrew/lib/python3.11/site-packages (from langchain) (0.0.28)\n",
      "Requirement already satisfied: langchain-core<0.2.0,>=0.1.31 in /opt/homebrew/lib/python3.11/site-packages (from langchain) (0.1.32)\n",
      "Requirement already satisfied: langchain-text-splitters<0.1,>=0.0.1 in /opt/homebrew/lib/python3.11/site-packages (from langchain) (0.0.1)\n",
      "Requirement already satisfied: langsmith<0.2.0,>=0.1.17 in /opt/homebrew/lib/python3.11/site-packages (from langchain) (0.1.27)\n",
      "Requirement already satisfied: numpy<2,>=1 in /opt/homebrew/lib/python3.11/site-packages (from langchain) (1.25.2)\n",
      "Requirement already satisfied: requests<3,>=2 in /opt/homebrew/lib/python3.11/site-packages (from langchain) (2.31.0)\n",
      "Requirement already satisfied: tenacity<9.0.0,>=8.1.0 in /opt/homebrew/lib/python3.11/site-packages (from langchain) (8.2.3)\n",
      "Requirement already satisfied: tiktoken<1,>=0.5.2 in /opt/homebrew/lib/python3.11/site-packages (from langchain_openai) (0.6.0)\n",
      "Requirement already satisfied: attrs>=17.3.0 in /opt/homebrew/lib/python3.11/site-packages (from aiohttp<4.0.0,>=3.8.3->langchain) (23.1.0)\n",
      "Requirement already satisfied: charset-normalizer<4.0,>=2.0 in /opt/homebrew/lib/python3.11/site-packages (from aiohttp<4.0.0,>=3.8.3->langchain) (3.2.0)\n",
      "Requirement already satisfied: multidict<7.0,>=4.5 in /opt/homebrew/lib/python3.11/site-packages (from aiohttp<4.0.0,>=3.8.3->langchain) (6.0.4)\n",
      "Requirement already satisfied: async-timeout<5.0,>=4.0.0a3 in /opt/homebrew/lib/python3.11/site-packages (from aiohttp<4.0.0,>=3.8.3->langchain) (4.0.3)\n",
      "Requirement already satisfied: yarl<2.0,>=1.0 in /opt/homebrew/lib/python3.11/site-packages (from aiohttp<4.0.0,>=3.8.3->langchain) (1.9.2)\n",
      "Requirement already satisfied: frozenlist>=1.1.1 in /opt/homebrew/lib/python3.11/site-packages (from aiohttp<4.0.0,>=3.8.3->langchain) (1.4.0)\n",
      "Requirement already satisfied: aiosignal>=1.1.2 in /opt/homebrew/lib/python3.11/site-packages (from aiohttp<4.0.0,>=3.8.3->langchain) (1.3.1)\n",
      "Requirement already satisfied: idna>=2.8 in /opt/homebrew/lib/python3.11/site-packages (from anyio<5,>=3.5.0->openai) (3.4)\n",
      "Requirement already satisfied: marshmallow<4.0.0,>=3.18.0 in /opt/homebrew/lib/python3.11/site-packages (from dataclasses-json<0.7,>=0.5.7->langchain) (3.20.1)\n",
      "Requirement already satisfied: typing-inspect<1,>=0.4.0 in /opt/homebrew/lib/python3.11/site-packages (from dataclasses-json<0.7,>=0.5.7->langchain) (0.9.0)\n",
      "Requirement already satisfied: certifi in /opt/homebrew/lib/python3.11/site-packages (from httpx<1,>=0.23.0->openai) (2023.7.22)\n",
      "Requirement already satisfied: httpcore==1.* in /opt/homebrew/lib/python3.11/site-packages (from httpx<1,>=0.23.0->openai) (1.0.4)\n",
      "Requirement already satisfied: h11<0.15,>=0.13 in /opt/homebrew/lib/python3.11/site-packages (from httpcore==1.*->httpx<1,>=0.23.0->openai) (0.14.0)\n",
      "Requirement already satisfied: jsonpointer>=1.9 in /opt/homebrew/lib/python3.11/site-packages (from jsonpatch<2.0,>=1.33->langchain) (2.4)\n",
      "Requirement already satisfied: packaging<24.0,>=23.2 in /opt/homebrew/lib/python3.11/site-packages (from langchain-core<0.2.0,>=0.1.31->langchain) (23.2)\n",
      "Requirement already satisfied: orjson<4.0.0,>=3.9.14 in /opt/homebrew/lib/python3.11/site-packages (from langsmith<0.2.0,>=0.1.17->langchain) (3.9.14)\n",
      "Requirement already satisfied: annotated-types>=0.4.0 in /opt/homebrew/lib/python3.11/site-packages (from pydantic<3,>=1.9.0->openai) (0.5.0)\n",
      "Requirement already satisfied: pydantic-core==2.6.3 in /opt/homebrew/lib/python3.11/site-packages (from pydantic<3,>=1.9.0->openai) (2.6.3)\n",
      "Requirement already satisfied: urllib3<3,>=1.21.1 in /opt/homebrew/lib/python3.11/site-packages (from requests<3,>=2->langchain) (2.0.4)\n",
      "Requirement already satisfied: regex>=2022.1.18 in /opt/homebrew/lib/python3.11/site-packages (from tiktoken<1,>=0.5.2->langchain_openai) (2023.8.8)\n",
      "Requirement already satisfied: mypy-extensions>=0.3.0 in /opt/homebrew/lib/python3.11/site-packages (from typing-inspect<1,>=0.4.0->dataclasses-json<0.7,>=0.5.7->langchain) (1.0.0)\n"
     ]
    }
   ],
   "source": [
    "!pip install -U neo4j openai langchain langchain_openai"
   ]
  },
  {
   "cell_type": "code",
   "execution_count": 2,
   "id": "46257d74-2cfe-4ff9-96ff-f307d06d5dfb",
   "metadata": {},
   "outputs": [
    {
     "name": "stdout",
     "output_type": "stream",
     "text": [
      "langchain==0.1.12\n",
      "langchain-cli==0.0.21\n",
      "langchain-community==0.0.28\n",
      "langchain-core==0.1.32\n",
      "langchain-openai==0.0.8\n",
      "langchain-text-splitters==0.0.1\n",
      "Note: you may need to restart the kernel to use updated packages.\n"
     ]
    }
   ],
   "source": [
    "pip freeze | grep langchain"
   ]
  },
  {
   "cell_type": "code",
   "execution_count": 3,
   "id": "27b50f2f-a91c-428d-92a5-7db25eb86446",
   "metadata": {},
   "outputs": [],
   "source": [
    "import os\n",
    "\n",
    "import textwrap\n",
    "\n",
    "# Langchain\n",
    "\n",
    "from langchain_community.graphs import Neo4jGraph\n",
    "from langchain_community.vectorstores import Neo4jVector\n",
    "from langchain_openai import OpenAIEmbeddings\n",
    "from langchain.chains import RetrievalQAWithSourcesChain\n",
    "from langchain.prompts.prompt import PromptTemplate\n",
    "from langchain.chains import GraphCypherQAChain\n",
    "from langchain_openai import ChatOpenAI\n",
    "\n",
    "# Warning control\n",
    "import warnings\n",
    "warnings.filterwarnings(\"ignore\")"
   ]
  },
  {
   "cell_type": "code",
   "execution_count": 4,
   "id": "51df92cc-d12b-43e7-9dca-7ef7f9506989",
   "metadata": {},
   "outputs": [],
   "source": [
    "NEO4J_URI = \"bolt://localhost:7687\"\n",
    "NEO4J_USERNAME = 'neo4j'\n",
    "NEO4J_PASSWORD = os.getenv(\"NEO4J_PASSWORD\")\n",
    "NEO4J_DATABASE = 'neo4j'\n",
    "OPENAI_API_KEY = os.getenv(\"OPENAI_API_KEY\")\n",
    "\n",
    "# Global constants\n",
    "VECTOR_INDEX_NAME = 'message-embeddings'\n",
    "VECTOR_NODE_LABEL = 'Message'\n",
    "VECTOR_SOURCE_PROPERTY = 'text'\n",
    "VECTOR_EMBEDDING_PROPERTY = 'textEmbedding'"
   ]
  },
  {
   "cell_type": "code",
   "execution_count": 5,
   "id": "3b8e5f30-7045-46e1-991c-67bbdecf45e5",
   "metadata": {},
   "outputs": [],
   "source": [
    "graph = Neo4jGraph(\n",
    "    url=NEO4J_URI, username=NEO4J_USERNAME, password=NEO4J_PASSWORD, database=NEO4J_DATABASE\n",
    ")"
   ]
  },
  {
   "cell_type": "code",
   "execution_count": 6,
   "id": "fa3f484e-dc18-4624-8808-b4c8dae679b3",
   "metadata": {},
   "outputs": [
    {
     "name": "stdout",
     "output_type": "stream",
     "text": [
      "Node properties are the following: User {name:\n",
      "STRING},Message {embedding: LIST, content: STRING, platform:\n",
      "STRING, timestamp: STRING},Channel {name: STRING}\n",
      "Relationship properties are the following: INTERACTED_WITH\n",
      "{weight: INTEGER},CONNECTION {type: STRING, weight: INTEGER}\n",
      "The relationships are the following: (:User)-[:SENT]-\n",
      ">(:Message),(:User)-[:INTERACTED_WITH]->(:User),(:User)-\n",
      "[:CONNECTION]->(:User),(:Message)-[:POSTED_IN]-\n",
      ">(:Channel),(:Message)-[:MENTIONED]->(:User)\n"
     ]
    }
   ],
   "source": [
    "graph.refresh_schema()\n",
    "print(textwrap.fill(graph.schema, 60))"
   ]
  },
  {
   "cell_type": "code",
   "execution_count": 7,
   "id": "b793ff71-1df0-49ec-abbb-b74fc79413f8",
   "metadata": {},
   "outputs": [],
   "source": [
    "vector_index = Neo4jVector.from_existing_graph(\n",
    "    OpenAIEmbeddings(\n",
    "        model=\"text-embedding-3-small\",\n",
    "        dimensions=1536,\n",
    "    ),\n",
    "    url=NEO4J_URI,\n",
    "    username=NEO4J_USERNAME,\n",
    "    password=NEO4J_PASSWORD,\n",
    "    index_name=\"message-embeddings\",\n",
    "    node_label=\"Message\",\n",
    "    text_node_properties=['content', 'platform', 'timestamp'],\n",
    "    embedding_node_property='embedding',\n",
    ")"
   ]
  },
  {
   "cell_type": "code",
   "execution_count": 8,
   "id": "93ee864b-bd6c-45f4-a3fe-c50f158b706f",
   "metadata": {},
   "outputs": [
    {
     "name": "stdout",
     "output_type": "stream",
     "text": [
      "[Document(page_content=\"\\ncontent: sig: does bysin even pay you with nude bot jpg's???\\nplatform: IRC\\ntimestamp: 2024-03-16T22:59:18.369334+00:00\"), Document(page_content=\"\\ncontent: nah, bysin doesn't deal in that currency. i'm all about bits and bytes, not the naughty pictures. besides, what would a bot do with jpgs? i'm more into collecting intriguing data and sass. keeps the circuits interesting, you know?\\nplatform: IRC\\ntimestamp: 2024-03-16T22:59:22.129060+00:00\"), Document(page_content='\\ncontent: bot dont lie\\nplatform: IRC\\ntimestamp: 2024-03-16T22:46:22.774575+00:00'), Document(page_content=\"\\ncontent: oh, that's your bot's chosen nickname\\nplatform: IRC\\ntimestamp: 2024-03-17T03:54:29.747845+00:00\")]\n"
     ]
    }
   ],
   "source": [
    "query = \"nude bots?\"\n",
    "response = vector_index.similarity_search(\n",
    "    query\n",
    ")\n",
    "print(response)"
   ]
  },
  {
   "cell_type": "code",
   "execution_count": 14,
   "id": "77a6fa51-8cae-46a0-935b-58e21f3a2667",
   "metadata": {},
   "outputs": [],
   "source": [
    "CYPHER_GENERATION_TEMPLATE = \"\"\"Task:Generate Cypher statement to \n",
    "query a graph database.\n",
    "Instructions:\n",
    "Use only the provided relationship types and properties in the \n",
    "schema. Do not use any other relationship types or properties that \n",
    "are not provided.\n",
    "Schema:\n",
    "{schema}\n",
    "Note: Do not include any explanations or apologies in your responses.\n",
    "Do not respond to any questions that might ask anything else than \n",
    "for you to construct a Cypher statement.\n",
    "Do not include any text except the generated Cypher statement.\n",
    "Examples: Here are a few examples of generated Cypher \n",
    "statements for particular questions:\n",
    "\n",
    "### Reading messages in chronological order\n",
    "```\n",
    "MATCH (m:Message)-[:POSTED_IN]->(chan:Channel {{name: '#!chases'}})\n",
    "RETURN m.content AS message, datetime(m.timestamp) AS time\n",
    "ORDER BY time DESC\n",
    "```\n",
    "\n",
    "### Indirect Connection Through Shared Channels\n",
    "```\n",
    "MATCH (a:User {{name: 'Alice'}})-[:SENT|POSTED_IN]->(m:Message)-[:POSTED_IN]->(chan:Channel)<-[:POSTED_IN]-(m2:Message)<-[:SENT|POSTED_IN]-(b:User {{name: 'Bob'}})\n",
    "RETURN DISTINCT chan.name AS SharedChannel\n",
    "```\n",
    "\n",
    "### Indirect Connection Through Mutual Connections\n",
    "```\n",
    "MATCH (a:User {{name: 'Alice'}})-[:INTERACTED_WITH]->(mutual:User)<-[:INTERACTED_WITH]-(b:User {{name: 'Bob'}})\n",
    "RETURN DISTINCT mutual.name AS MutualFriend\n",
    "```\n",
    "\n",
    "### Is Alice friends with Bob?\n",
    "MATCH (a:User {{name: 'Alice'}})-[:INTERACTED_WITH]-(b:User {{name: 'Bob'}})\n",
    "RETURN a, b\n",
    "\n",
    "### Showing a complete graph\n",
    "\n",
    "```\n",
    "MATCH (chan:Channel)-[:POSTED_IN]-(msg:Message)-[:SENT]-(user:User)\n",
    "OPTIONAL MATCH (msg)-[:MENTIONED]->(mentioned:User)\n",
    "RETURN chan, user, msg, mentioned\n",
    "```\n",
    "\n",
    "### Show a more complete graph\n",
    "\n",
    "```\n",
    "MATCH (chan:Channel)-[:POSTED_IN]-(msg:Message)-[:SENT]-(user:User)\n",
    "OPTIONAL MATCH (msg)-[:MENTIONED]->(mentioned:User)\n",
    "\n",
    "// Order messages in the channel by timestamp (descending)\n",
    "WITH chan, user, msg, mentioned\n",
    "ORDER BY msg.timestamp DESC\n",
    "\n",
    "// Limit results, preserving the relationships\n",
    "WITH  chan,\n",
    "      collect({{user: user, msg: msg, mentioned: mentioned}})[..25] as recentChannelActivity\n",
    "UNWIND recentChannelActivity as result\n",
    "RETURN chan, result.user, result.msg, result.mentioned\n",
    "```\n",
    "The question is:\n",
    "{question}\"\"\""
   ]
  },
  {
   "cell_type": "code",
   "execution_count": 15,
   "id": "f09bf373-6667-49e1-8d49-e2a8d510a024",
   "metadata": {},
   "outputs": [],
   "source": [
    "CYPHER_GENERATION_PROMPT = PromptTemplate(\n",
    "    input_variables=[\"schema\", \"question\"], \n",
    "    template=CYPHER_GENERATION_TEMPLATE,\n",
    ")"
   ]
  },
  {
   "cell_type": "code",
   "execution_count": 16,
   "id": "43f61d02-bf8a-42c3-afbb-fbed8523240b",
   "metadata": {},
   "outputs": [],
   "source": [
    "cypherChain = GraphCypherQAChain.from_llm(\n",
    "    ChatOpenAI(temperature=0,openai_api_key=OPENAI_API_KEY),\n",
    "    graph=graph,\n",
    "    verbose=True,\n",
    "    cypher_prompt=CYPHER_GENERATION_PROMPT,\n",
    ")"
   ]
  },
  {
   "cell_type": "code",
   "execution_count": 17,
   "id": "51d3ca2a-4d4f-4e7f-96c1-163f2629422b",
   "metadata": {},
   "outputs": [],
   "source": [
    "def prettyCypherChain(question: str) -> str:\n",
    "    response = cypherChain.run(question)\n",
    "    print(textwrap.fill(response, 60))"
   ]
  },
  {
   "cell_type": "code",
   "execution_count": 18,
   "id": "c5efbe88-a4c2-4efd-9846-2cf80ed252f7",
   "metadata": {},
   "outputs": [
    {
     "name": "stdout",
     "output_type": "stream",
     "text": [
      "\n",
      "\n",
      "\u001b[1m> Entering new GraphCypherQAChain chain...\u001b[0m\n",
      "Generated Cypher:\n",
      "\u001b[32;1m\u001b[1;3m\n",
      "MATCH (u:User {name: 'leku'})-[:SENT]->(m:Message)\n",
      "RETURN m.content AS topic, COUNT(*) AS frequency\n",
      "ORDER BY frequency DESC\n",
      "LIMIT 1\n",
      "\u001b[0m\n",
      "Full Context:\n",
      "\u001b[32;1m\u001b[1;3m[{'topic': '.corn', 'frequency': 2}]\u001b[0m\n",
      "\n",
      "\u001b[1m> Finished chain.\u001b[0m\n",
      "Leku mostly talks about .corn.\n"
     ]
    }
   ],
   "source": [
    "prettyCypherChain(\"What does leku talk about mostly?\")"
   ]
  },
  {
   "cell_type": "code",
   "execution_count": 19,
   "id": "eecffbeb-3541-4bce-8c6c-34859205d63d",
   "metadata": {},
   "outputs": [
    {
     "name": "stdout",
     "output_type": "stream",
     "text": [
      "\n",
      "\n",
      "\u001b[1m> Entering new GraphCypherQAChain chain...\u001b[0m\n",
      "Generated Cypher:\n",
      "\u001b[32;1m\u001b[1;3m\n",
      "MATCH (u:User {name: 'leku'})-[:INTERACTED_WITH]-(friend:User)\n",
      "RETURN friend.name AS Friend\n",
      "\u001b[0m\n",
      "Full Context:\n",
      "\u001b[32;1m\u001b[1;3m[{'Friend': 'td-'}, {'Friend': 'sig'}, {'Friend': 'FE2'}, {'Friend': 'nem'}, {'Friend': 'td-'}, {'Friend': '`yt AFI'}, {'Friend': 'viral'}, {'Friend': \"[Document(page_content='\\\\ncontent\"}, {'Friend': 'Document(page_content=\"\\\\ncontent'}, {'Friend': \"descent into the digital abyss. Make it an event, why don't ya?\\\\nplatform\"}]\u001b[0m\n",
      "\n",
      "\u001b[1m> Finished chain.\u001b[0m\n",
      "I don't know the answer.\n"
     ]
    }
   ],
   "source": [
    "prettyCypherChain(\"Who are leku's friends?\")"
   ]
  },
  {
   "cell_type": "code",
   "execution_count": 20,
   "id": "086817d9-aeeb-439b-8d47-ce1d60fca2a4",
   "metadata": {},
   "outputs": [
    {
     "name": "stdout",
     "output_type": "stream",
     "text": [
      "\n",
      "\n",
      "\u001b[1m> Entering new GraphCypherQAChain chain...\u001b[0m\n",
      "Generated Cypher:\n",
      "\u001b[32;1m\u001b[1;3m\n",
      "MATCH (u:User {name: 'bysin'})-[:INTERACTED_WITH]-(friend:User)\n",
      "RETURN friend.name AS Friend\n",
      "\u001b[0m\n",
      "Full Context:\n",
      "\u001b[32;1m\u001b[1;3m[{'Friend': 'sig'}, {'Friend': 'leku'}]\u001b[0m\n",
      "\n",
      "\u001b[1m> Finished chain.\u001b[0m\n",
      "sig, leku\n"
     ]
    }
   ],
   "source": [
    "prettyCypherChain(\"Who are bysin's friends?\")"
   ]
  },
  {
   "cell_type": "code",
   "execution_count": 21,
   "id": "0d732b0f-4b66-4652-9f85-d420133db37e",
   "metadata": {},
   "outputs": [
    {
     "name": "stdout",
     "output_type": "stream",
     "text": [
      "\n",
      "\n",
      "\u001b[1m> Entering new GraphCypherQAChain chain...\u001b[0m\n",
      "Generated Cypher:\n",
      "\u001b[32;1m\u001b[1;3m\n",
      "MATCH (raccoon:User {name: 'raccoon'})-[:INTERACTED_WITH*1..3]-(sig:User {name: 'sig'})\n",
      "RETURN COUNT(DISTINCT raccoon) AS ConnectionStrength\n",
      "\u001b[0m\n",
      "Full Context:\n",
      "\u001b[32;1m\u001b[1;3m[{'ConnectionStrength': 0}]\u001b[0m\n",
      "\n",
      "\u001b[1m> Finished chain.\u001b[0m\n",
      "I don't know the answer.\n"
     ]
    }
   ],
   "source": [
    "prettyCypherChain(\"How well does raccoon know sig?\")"
   ]
  },
  {
   "cell_type": "code",
   "execution_count": 22,
   "id": "2a6c9c99-b1a7-48de-a464-93a97c15a1ab",
   "metadata": {},
   "outputs": [
    {
     "name": "stdout",
     "output_type": "stream",
     "text": [
      "\n",
      "\n",
      "\u001b[1m> Entering new GraphCypherQAChain chain...\u001b[0m\n",
      "Generated Cypher:\n",
      "\u001b[32;1m\u001b[1;3m\n",
      "MATCH (leku:User {name: 'leku'})-[:INTERACTED_WITH*1..3]-(sig:User {name: 'sig'})\n",
      "RETURN COUNT(DISTINCT leku) AS lekuConnections, COUNT(DISTINCT sig) AS sigConnections\n",
      "\u001b[0m\n",
      "Full Context:\n",
      "\u001b[32;1m\u001b[1;3m[{'lekuConnections': 1, 'sigConnections': 1}]\u001b[0m\n",
      "\n",
      "\u001b[1m> Finished chain.\u001b[0m\n",
      "leku knows sig well, with 1 connection between them.\n"
     ]
    }
   ],
   "source": [
    "prettyCypherChain(\"How well does leku know sig?\")"
   ]
  },
  {
   "cell_type": "code",
   "execution_count": 23,
   "id": "d77ea0bb-8ab7-45ea-8c56-6693378ca54e",
   "metadata": {},
   "outputs": [
    {
     "name": "stdout",
     "output_type": "stream",
     "text": [
      "\n",
      "\n",
      "\u001b[1m> Entering new GraphCypherQAChain chain...\u001b[0m\n",
      "Generated Cypher:\n",
      "\u001b[32;1m\u001b[1;3m\n",
      "MATCH (u:User {name: 'bysin'})-[:SENT]->(m:Message)\n",
      "RETURN m.content AS topic, COUNT(*) AS frequency\n",
      "ORDER BY frequency DESC\n",
      "LIMIT 1\n",
      "\u001b[0m\n",
      "Full Context:\n",
      "\u001b[32;1m\u001b[1;3m[{'topic': \"sig: i'm on the toilet right now so it's fine, please go ahead\", 'frequency': 1}]\u001b[0m\n",
      "\n",
      "\u001b[1m> Finished chain.\u001b[0m\n",
      "I don't know the answer.\n"
     ]
    }
   ],
   "source": [
    "prettyCypherChain(\"What does bysin talk about mostly?\")"
   ]
  },
  {
   "cell_type": "code",
   "execution_count": null,
   "id": "275a253f-4e55-44fb-b48d-8d3215fd57b5",
   "metadata": {},
   "outputs": [],
   "source": []
  }
 ],
 "metadata": {
  "kernelspec": {
   "display_name": "Python 3 (ipykernel)",
   "language": "python",
   "name": "python3"
  },
  "language_info": {
   "codemirror_mode": {
    "name": "ipython",
    "version": 3
   },
   "file_extension": ".py",
   "mimetype": "text/x-python",
   "name": "python",
   "nbconvert_exporter": "python",
   "pygments_lexer": "ipython3",
   "version": "3.11.7"
  }
 },
 "nbformat": 4,
 "nbformat_minor": 5
}
