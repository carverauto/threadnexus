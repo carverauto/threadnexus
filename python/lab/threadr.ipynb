{
 "cells": [
  {
   "cell_type": "markdown",
   "id": "282991ac-14bf-4e7b-9b98-aeb8292a0f0d",
   "metadata": {},
   "source": [
    "# ThreadR - graph-rag test"
   ]
  },
  {
   "cell_type": "code",
   "execution_count": 1,
   "id": "ce9f8a7f-d7a7-4f81-aed9-4c9518db7b13",
   "metadata": {
    "is_executing": true
   },
   "outputs": [
    {
     "name": "stdout",
     "output_type": "stream",
     "text": [
      "Requirement already satisfied: neo4j in /opt/homebrew/lib/python3.11/site-packages (5.18.0)\n",
      "Requirement already satisfied: openai in /opt/homebrew/lib/python3.11/site-packages (1.14.2)\n",
      "Requirement already satisfied: langchain in /opt/homebrew/lib/python3.11/site-packages (0.1.13)\n",
      "Requirement already satisfied: langchain_openai in /opt/homebrew/lib/python3.11/site-packages (0.1.0)\n",
      "Collecting langchain_openai\n",
      "  Downloading langchain_openai-0.1.1-py3-none-any.whl.metadata (2.5 kB)\n",
      "Requirement already satisfied: pytz in /opt/homebrew/lib/python3.11/site-packages (from neo4j) (2023.3.post1)\n",
      "Requirement already satisfied: anyio<5,>=3.5.0 in /opt/homebrew/lib/python3.11/site-packages (from openai) (3.7.1)\n",
      "Requirement already satisfied: distro<2,>=1.7.0 in /opt/homebrew/lib/python3.11/site-packages (from openai) (1.9.0)\n",
      "Requirement already satisfied: httpx<1,>=0.23.0 in /opt/homebrew/lib/python3.11/site-packages (from openai) (0.27.0)\n",
      "Requirement already satisfied: pydantic<3,>=1.9.0 in /opt/homebrew/lib/python3.11/site-packages (from openai) (1.10.13)\n",
      "Requirement already satisfied: sniffio in /opt/homebrew/lib/python3.11/site-packages (from openai) (1.3.0)\n",
      "Requirement already satisfied: tqdm>4 in /opt/homebrew/lib/python3.11/site-packages (from openai) (4.66.1)\n",
      "Requirement already satisfied: typing-extensions<5,>=4.7 in /opt/homebrew/lib/python3.11/site-packages (from openai) (4.10.0)\n",
      "Requirement already satisfied: PyYAML>=5.3 in /opt/homebrew/lib/python3.11/site-packages (from langchain) (6.0.1)\n",
      "Requirement already satisfied: SQLAlchemy<3,>=1.4 in /opt/homebrew/lib/python3.11/site-packages (from langchain) (2.0.20)\n",
      "Requirement already satisfied: aiohttp<4.0.0,>=3.8.3 in /opt/homebrew/lib/python3.11/site-packages (from langchain) (3.8.5)\n",
      "Requirement already satisfied: dataclasses-json<0.7,>=0.5.7 in /opt/homebrew/lib/python3.11/site-packages (from langchain) (0.5.7)\n",
      "Requirement already satisfied: jsonpatch<2.0,>=1.33 in /opt/homebrew/lib/python3.11/site-packages (from langchain) (1.33)\n",
      "Requirement already satisfied: langchain-community<0.1,>=0.0.29 in /opt/homebrew/lib/python3.11/site-packages (from langchain) (0.0.29)\n",
      "Requirement already satisfied: langchain-core<0.2.0,>=0.1.33 in /opt/homebrew/lib/python3.11/site-packages (from langchain) (0.1.33)\n",
      "Requirement already satisfied: langchain-text-splitters<0.1,>=0.0.1 in /opt/homebrew/lib/python3.11/site-packages (from langchain) (0.0.1)\n",
      "Requirement already satisfied: langsmith<0.2.0,>=0.1.17 in /opt/homebrew/lib/python3.11/site-packages (from langchain) (0.1.27)\n",
      "Requirement already satisfied: numpy<2,>=1 in /opt/homebrew/lib/python3.11/site-packages (from langchain) (1.25.2)\n",
      "Requirement already satisfied: requests<3,>=2 in /opt/homebrew/lib/python3.11/site-packages (from langchain) (2.31.0)\n",
      "Requirement already satisfied: tenacity<9.0.0,>=8.1.0 in /opt/homebrew/lib/python3.11/site-packages (from langchain) (8.2.3)\n",
      "Requirement already satisfied: tiktoken<1,>=0.5.2 in /opt/homebrew/lib/python3.11/site-packages (from langchain_openai) (0.6.0)\n",
      "Requirement already satisfied: attrs>=17.3.0 in /opt/homebrew/lib/python3.11/site-packages (from aiohttp<4.0.0,>=3.8.3->langchain) (23.1.0)\n",
      "Requirement already satisfied: charset-normalizer<4.0,>=2.0 in /opt/homebrew/lib/python3.11/site-packages (from aiohttp<4.0.0,>=3.8.3->langchain) (3.2.0)\n",
      "Requirement already satisfied: multidict<7.0,>=4.5 in /opt/homebrew/lib/python3.11/site-packages (from aiohttp<4.0.0,>=3.8.3->langchain) (6.0.4)\n",
      "Requirement already satisfied: async-timeout<5.0,>=4.0.0a3 in /opt/homebrew/lib/python3.11/site-packages (from aiohttp<4.0.0,>=3.8.3->langchain) (4.0.3)\n",
      "Requirement already satisfied: yarl<2.0,>=1.0 in /opt/homebrew/lib/python3.11/site-packages (from aiohttp<4.0.0,>=3.8.3->langchain) (1.9.2)\n",
      "Requirement already satisfied: frozenlist>=1.1.1 in /opt/homebrew/lib/python3.11/site-packages (from aiohttp<4.0.0,>=3.8.3->langchain) (1.4.0)\n",
      "Requirement already satisfied: aiosignal>=1.1.2 in /opt/homebrew/lib/python3.11/site-packages (from aiohttp<4.0.0,>=3.8.3->langchain) (1.3.1)\n",
      "Requirement already satisfied: idna>=2.8 in /opt/homebrew/lib/python3.11/site-packages (from anyio<5,>=3.5.0->openai) (3.4)\n",
      "Requirement already satisfied: marshmallow<4.0.0,>=3.3.0 in /opt/homebrew/lib/python3.11/site-packages (from dataclasses-json<0.7,>=0.5.7->langchain) (3.20.1)\n",
      "Requirement already satisfied: marshmallow-enum<2.0.0,>=1.5.1 in /opt/homebrew/lib/python3.11/site-packages (from dataclasses-json<0.7,>=0.5.7->langchain) (1.5.1)\n",
      "Requirement already satisfied: typing-inspect>=0.4.0 in /opt/homebrew/lib/python3.11/site-packages (from dataclasses-json<0.7,>=0.5.7->langchain) (0.9.0)\n",
      "Requirement already satisfied: certifi in /opt/homebrew/lib/python3.11/site-packages (from httpx<1,>=0.23.0->openai) (2023.7.22)\n",
      "Requirement already satisfied: httpcore==1.* in /opt/homebrew/lib/python3.11/site-packages (from httpx<1,>=0.23.0->openai) (1.0.4)\n",
      "Requirement already satisfied: h11<0.15,>=0.13 in /opt/homebrew/lib/python3.11/site-packages (from httpcore==1.*->httpx<1,>=0.23.0->openai) (0.14.0)\n",
      "Requirement already satisfied: jsonpointer>=1.9 in /opt/homebrew/lib/python3.11/site-packages (from jsonpatch<2.0,>=1.33->langchain) (2.4)\n",
      "Requirement already satisfied: packaging<24.0,>=23.2 in /opt/homebrew/lib/python3.11/site-packages (from langchain-core<0.2.0,>=0.1.33->langchain) (23.2)\n",
      "Requirement already satisfied: orjson<4.0.0,>=3.9.14 in /opt/homebrew/lib/python3.11/site-packages (from langsmith<0.2.0,>=0.1.17->langchain) (3.9.14)\n",
      "Requirement already satisfied: urllib3<3,>=1.21.1 in /opt/homebrew/lib/python3.11/site-packages (from requests<3,>=2->langchain) (2.0.4)\n",
      "Requirement already satisfied: regex>=2022.1.18 in /opt/homebrew/lib/python3.11/site-packages (from tiktoken<1,>=0.5.2->langchain_openai) (2023.8.8)\n",
      "Requirement already satisfied: mypy-extensions>=0.3.0 in /opt/homebrew/lib/python3.11/site-packages (from typing-inspect>=0.4.0->dataclasses-json<0.7,>=0.5.7->langchain) (1.0.0)\n",
      "Downloading langchain_openai-0.1.1-py3-none-any.whl (32 kB)\n",
      "Installing collected packages: langchain_openai\n",
      "  Attempting uninstall: langchain_openai\n",
      "    Found existing installation: langchain-openai 0.1.0\n",
      "    Uninstalling langchain-openai-0.1.0:\n",
      "      Successfully uninstalled langchain-openai-0.1.0\n",
      "Successfully installed langchain_openai-0.1.1\n"
     ]
    }
   ],
   "source": [
    "!pip install -U neo4j openai langchain langchain_openai"
   ]
  },
  {
   "cell_type": "code",
   "execution_count": null,
   "id": "27b50f2f-a91c-428d-92a5-7db25eb86446",
   "metadata": {},
   "outputs": [],
   "source": [
    "import os\n",
    "\n",
    "import textwrap\n",
    "\n",
    "# Langchain\n",
    "\n",
    "from langchain_community.graphs import Neo4jGraph\n",
    "from langchain_community.vectorstores import Neo4jVector\n",
    "from langchain_openai import OpenAIEmbeddings\n",
    "from langchain.chains import RetrievalQAWithSourcesChain\n",
    "from langchain.prompts.prompt import PromptTemplate\n",
    "from langchain.chains import GraphCypherQAChain\n",
    "from langchain_openai import ChatOpenAI\n",
    "\n",
    "# Warning control\n",
    "import warnings\n",
    "warnings.filterwarnings(\"ignore\")"
   ]
  },
  {
   "cell_type": "code",
   "execution_count": 3,
   "id": "51df92cc-d12b-43e7-9dca-7ef7f9506989",
   "metadata": {},
   "outputs": [],
   "source": [
    "NEO4J_URI = \"bolt://localhost:7687\"\n",
    "NEO4J_USERNAME = 'neo4j'\n",
    "NEO4J_PASSWORD = os.getenv(\"NEO4J_PASSWORD\")\n",
    "NEO4J_DATABASE = 'neo4j'\n",
    "OPENAI_API_KEY = os.getenv(\"OPENAI_API_KEY\")\n",
    "\n",
    "# Global constants\n",
    "VECTOR_INDEX_NAME = 'message-embeddings'\n",
    "VECTOR_NODE_LABEL = 'Message'\n",
    "VECTOR_SOURCE_PROPERTY = 'text'\n",
    "VECTOR_EMBEDDING_PROPERTY = 'textEmbedding'"
   ]
  },
  {
   "cell_type": "code",
   "execution_count": 4,
   "id": "3b8e5f30-7045-46e1-991c-67bbdecf45e5",
   "metadata": {},
   "outputs": [],
   "source": [
    "graph = Neo4jGraph(\n",
    "    url=NEO4J_URI, username=NEO4J_USERNAME, password=NEO4J_PASSWORD, database=NEO4J_DATABASE\n",
    ")"
   ]
  },
  {
   "cell_type": "code",
   "execution_count": 5,
   "id": "fa3f484e-dc18-4624-8808-b4c8dae679b3",
   "metadata": {},
   "outputs": [
    {
     "name": "stdout",
     "output_type": "stream",
     "text": [
      "Node properties are the following: User {name:\n",
      "STRING},Message {content: STRING, platform: STRING,\n",
      "timestamp: STRING, embedding: LIST},Channel {name: STRING}\n",
      "Relationship properties are the following: INTERACTED_WITH\n",
      "{weight: INTEGER},CONNECTION {type: STRING, weight: INTEGER}\n",
      "The relationships are the following: (:User)-[:SENT]-\n",
      ">(:Message),(:User)-[:INTERACTED_WITH]->(:User),(:User)-\n",
      "[:CONNECTION]->(:User),(:Message)-[:MENTIONED]-\n",
      ">(:User),(:Message)-[:POSTED_IN]->(:Channel)\n"
     ]
    }
   ],
   "source": [
    "graph.refresh_schema()\n",
    "print(textwrap.fill(graph.schema, 60))"
   ]
  },
  {
   "cell_type": "code",
   "execution_count": 6,
   "id": "b793ff71-1df0-49ec-abbb-b74fc79413f8",
   "metadata": {},
   "outputs": [],
   "source": [
    "vector_index = Neo4jVector.from_existing_graph(\n",
    "    OpenAIEmbeddings(\n",
    "        model=\"text-embedding-3-small\",\n",
    "        dimensions=1536,\n",
    "    ),\n",
    "    url=NEO4J_URI,\n",
    "    username=NEO4J_USERNAME,\n",
    "    password=NEO4J_PASSWORD,\n",
    "    index_name=\"message-embeddings\",\n",
    "    node_label=\"Message\",\n",
    "    text_node_properties=['content', 'platform', 'timestamp'],\n",
    "    embedding_node_property='embedding',\n",
    ")"
   ]
  },
  {
   "cell_type": "code",
   "execution_count": null,
   "id": "93ee864b-bd6c-45f4-a3fe-c50f158b706f",
   "metadata": {},
   "outputs": [],
   "source": [
    "query = \"nude bots?\"\n",
    "response = vector_index.similarity_search(\n",
    "    query\n",
    ")\n",
    "print(response)"
   ]
  },
  {
   "cell_type": "code",
   "execution_count": 8,
   "id": "77a6fa51-8cae-46a0-935b-58e21f3a2667",
   "metadata": {},
   "outputs": [],
   "source": [
    "CYPHER_GENERATION_TEMPLATE = \"\"\"Task:Generate Cypher statement to \n",
    "query a graph database.\n",
    "Instructions:\n",
    "Use only the provided relationship types and properties in the \n",
    "schema. Do not use any other relationship types or properties that \n",
    "are not provided.\n",
    "Schema:\n",
    "{schema}\n",
    "Note: Do not include any explanations or apologies in your responses.\n",
    "Do not respond to any questions that might ask anything else than \n",
    "for you to construct a Cypher statement.\n",
    "Do not include any text except the generated Cypher statement. \n",
    "Do not add any newlines to the response, the response is\n",
    "going to be a single line of text. All usernames are case-sensitive.\n",
    "\n",
    "DO NOT CONVERT THE USERNAME TO UPPERCASE. DO NOT CONVERT THE \n",
    "FIRST LETTER OF THE USERNAME TO UPPERCASE.\n",
    "\n",
    "# Correct cypher statement\n",
    "```\n",
    "MATCH (p1:User {{name: 'kongfuzi'}})-[:INTERACTED_WITH]-(p2:User)\n",
    "```\n",
    "\n",
    "# Incorrect cypher statement\n",
    "```\n",
    "MATCH (p1:User {{name: 'Kongfuzi'}})-[:INTERACTED_WITH]-(p2:User)\n",
    "```\n",
    "\n",
    "Examples: Here are a few examples of generated Cypher \n",
    "statements for particular questions:\n",
    "\n",
    "# What channels does kongfuzi talk in?\n",
    "# or \"what channel do you know kongfuzi from?\"\n",
    "```\n",
    "MATCH (u:User {{name: 'kongfuzi'}})-[:SENT]->(m:Message)-[:POSTED_IN]->(c:Channel)\n",
    "RETURN DISTINCT c.name AS channel\n",
    "```\n",
    "\n",
    "\n",
    "### Looking at all messages related to a particular user,\n",
    "### Can be used to answer questions like: \"What does alice talk about?\"\n",
    "### or \"Is vpro an alcoholic?\"\n",
    "\n",
    "```\n",
    "MATCH (u:User {{name: 'alice'}})-[:SENT]->(m:Message)\n",
    "RETURN m.content AS message\n",
    "```\n",
    "\n",
    "### Reading messages in chronological order\n",
    "```\n",
    "MATCH (m:Message)-[:POSTED_IN]->(chan:Channel {{name: '#!chases'}})\n",
    "RETURN m.content AS message, datetime(m.timestamp) AS time\n",
    "ORDER BY time DESC\n",
    "```\n",
    "\n",
    "### Indirect Connection Through Shared Channels\n",
    "```\n",
    "MATCH (a:User {{name: 'alice'}})-[:SENT|POSTED_IN]->(m:Message)-[:POSTED_IN]->(chan:Channel)<-[:POSTED_IN]-(m2:Message)<-[:SENT|POSTED_IN]-(b:User {{name: 'bob'}})\n",
    "RETURN DISTINCT chan.name AS SharedChannel\n",
    "```\n",
    "\n",
    "### Indirect Connection Through Mutual Connections\n",
    "```\n",
    "MATCH (a:User {{name: 'alice'}})-[:INTERACTED_WITH]->(mutual:User)<-[:INTERACTED_WITH]-(b:User {{name: 'bob'}})\n",
    "RETURN DISTINCT mutual.name AS MutualFriend\n",
    "```\n",
    "\n",
    "### Is alice friends with bob?\n",
    "```\n",
    "MATCH (a:User {{name: 'alice'}})-[:INTERACTED_WITH]-(b:User {{name: 'bob'}})\n",
    "RETURN a, b\n",
    "```\n",
    "\n",
    "### Showing a complete graph\n",
    "```\n",
    "MATCH (chan:Channel)-[:POSTED_IN]-(msg:Message)-[:SENT]-(user:User)\n",
    "OPTIONAL MATCH (msg)-[:MENTIONED]->(mentioned:User)\n",
    "RETURN chan, user, msg, mentioned\n",
    "```\n",
    "\n",
    "### Show a more complete graph\n",
    "```\n",
    "MATCH (chan:Channel)-[:POSTED_IN]-(msg:Message)-[:SENT]-(user:User)\n",
    "OPTIONAL MATCH (msg)-[:MENTIONED]->(mentioned:User)\n",
    "```\n",
    "\n",
    "### Order messages in the channel by timestamp (descending)\n",
    "```\n",
    "WITH chan, user, msg, mentioned\n",
    "ORDER BY msg.timestamp DESC\n",
    "```\n",
    "\n",
    "### Limit results, preserving the relationships\n",
    "```\n",
    "WITH  chan,\n",
    "      collect({{user: user, msg: msg, mentioned: mentioned}})[..25] as recentChannelActivity\n",
    "UNWIND recentChannelActivity as result\n",
    "RETURN chan, result.user, result.msg, result.mentioned\n",
    "```\n",
    "```\n",
    "The question is:\n",
    "{question}\"\"\""
   ]
  },
  {
   "cell_type": "code",
   "execution_count": 9,
   "id": "f09bf373-6667-49e1-8d49-e2a8d510a024",
   "metadata": {},
   "outputs": [],
   "source": [
    "CYPHER_GENERATION_PROMPT = PromptTemplate(\n",
    "    input_variables=[\"schema\", \"question\"], \n",
    "    template=CYPHER_GENERATION_TEMPLATE,\n",
    ")"
   ]
  },
  {
   "cell_type": "code",
   "execution_count": 10,
   "id": "43f61d02-bf8a-42c3-afbb-fbed8523240b",
   "metadata": {},
   "outputs": [],
   "source": [
    "cypherChain = GraphCypherQAChain.from_llm(\n",
    "    cypher_llm=ChatOpenAI(model=\"gpt-3.5-turbo\",temperature=0,openai_api_key=OPENAI_API_KEY),\n",
    "    qa_llm=ChatOpenAI(temperature=0, model=\"gpt-4-0125-preview\"),\n",
    "    graph=graph,\n",
    "    verbose=True,\n",
    "    cypher_prompt=CYPHER_GENERATION_PROMPT,\n",
    "    validate_cypher=True,\n",
    "    top_k=1000,\n",
    "    #return_direct=True\n",
    ")"
   ]
  },
  {
   "cell_type": "code",
   "execution_count": 11,
   "id": "51d3ca2a-4d4f-4e7f-96c1-163f2629422b",
   "metadata": {},
   "outputs": [],
   "source": [
    "def prettyCypherChain(question: str) -> str:\n",
    "    response = cypherChain.run(question)\n",
    "    print(textwrap.fill(response, 60))"
   ]
  },
  {
   "cell_type": "code",
   "execution_count": 12,
   "id": "6ca878ea-7208-41bd-84a3-71c73eab319a",
   "metadata": {},
   "outputs": [
    {
     "name": "stdout",
     "output_type": "stream",
     "text": [
      "\n",
      "\n",
      "\u001b[1m> Entering new GraphCypherQAChain chain...\u001b[0m\n",
      "Generated Cypher:\n",
      "\u001b[32;1m\u001b[1;3m\n",
      "MATCH (u:User {name: 'leku'})-[:SENT]->(m:Message)\n",
      "RETURN m.content AS message\n",
      "\u001b[0m\n",
      "Full Context:\n",
      "\u001b[32;1m\u001b[1;3m[{'message': '.corn'}, {'message': '`coins dusk'}, {'message': '.corn'}, {'message': 'ok'}, {'message': '\"ISIS-K has been fixated on Russia for the past two years, frequently criticizing Putin in its propaganda,\" said Colin Clarke of the Soufan Center, a New York-based research group.'}, {'message': 'tajik'}, {'message': \"retry: I have put you on a permanent ignore, public and private. I have found you disturbing, rude and generally not worth talking to.  According to the channels you hang on, it strengtens the effect of wanting to put you on ignore because of my lack of interest in you as a person. This message is not meant to be rude to you, just to inform you that i won't see anything of what you type from now on.\"}, {'message': \"Hours before the embassy warning, the FSB said it had foiled an attack on a Moscow synagogue by Islamic State's affiliate in Afghanistan, known as ISIS-Khorasan or ISIS-K, which seeks a caliphate across Afghanistan, Pakistan, Turkmenistan, Tajikistan, Uzbekistan and Iran.\"}, {'message': 'on a scale of 1 to 10'}, {'message': 'how retarded are you'}, {'message': 'Khinshtein said a pistol, a magazine for an assault rifle, and passports from Tajikistan were found in the car. Tajikistan is a mainly Muslim Central Asian state that used to be part of the Soviet Union.'}, {'message': 'you know that there are other islamic terorrists besides out of the middle east right?'}, {'message': 'uh'}, {'message': 'they know internally it was isis'}, {'message': 'russia doesnt give a shit theres two narratives'}, {'message': \"Although US officials have confirmed to several media outlets that ISIS is behind the attack,  Russia's Federal Security Service (FSB) insists that the terrorists have ties to Ukraine.\"}, {'message': 'threadr: who is vernor vinge'}, {'message': 'who is htis'}, {'message': '\"A full-scale war has been going on for more than two years. The border areas are saturated with enemy troops, special agents, and security forces. The border line is heavily mined. It is being monitored by all means, including aerial reconnaissance on both sides,\" Yusov said. \"Such regions as Belgorod and Kursk are now a zone of active hostilities. Of course, this claim does not stand up to criticism.\"'}, {'message': 'all the us born russian sockpuppets getting exposed again'}, {'message': 'lol'}, {'message': 'thanks my kids are traumitized now'}, {'message': 'sfw?'}, {'message': 'Before starting the interrogation, they cut his ear off and put it in his mouth.'}, {'message': 'Russia releases video of interrogation of one of the alleged terrorists after his capture.'}, {'message': 'BREAKING:'}, {'message': 'disgusting'}, {'message': \"hot take: putin paid these tajik's to do this off to try and get the US to drop support for ukr\"}, {'message': 'nice fake news'}, {'message': 'larsinio: nice false flag'}, {'message': 'basically like a state machine'}, {'message': 'pretty clean'}, {'message': 'easier to do one in C'}, {'message': 'yeah im gonna remember that'}, {'message': 'christ'}, {'message': 'sig: do one in golang'}, {'message': 'something like that'}, {'message': \"perl -e 'print reverse($<STDIN>)`\"}, {'message': '\\x01ACTION clears his screen\\x01'}, {'message': 'get fucked!'}, {'message': 'thats what im doing'}, {'message': 'if they ever ask me to write a string reversal algo'}, {'message': 'sig: use perl'}, {'message': 'sig: i see some buffer overflows in there'}, {'message': 'what am i gonna do w/ that'}, {'message': 'whats with all that extra whitespace?'}, {'message': '`ud chapuline'}, {'message': 'not again'}, {'message': 'damn'}, {'message': '│ 2024/03/23 18:54:47 Failed to send message chunk to #!chases : Line contains invalid characters                                                    │'}, {'message': 'threadr: write me a string reversal algorithim in C'}, {'message': 'in C'}, {'message': 'larsinio: write me a string reversal algorithm please'}, {'message': 'gona get dissed again'}, {'message': 'but the guy just went offline'}, {'message': 'got an interview in 7 minutes'}, {'message': '\\x01ACTION rolls his eyes\\x01'}, {'message': 'its a discussion group'}, {'message': \"bysin: you're supposed to review them ahead of time\"}, {'message': '?'}, {'message': 'fyst: u coming?'}, {'message': 'fyst: tomorrow is AI paper review night'}, {'message': ':/'}, {'message': 'will try and ddo the amazon one tonight again'}, {'message': 'ya i think so'}, {'message': 'this is just never gonna work w/o that'}, {'message': 'i think i need to fine tune one to be the agent executor'}, {'message': 'need to FIRE this shitty LLM'}, {'message': 'fucking worthless'}, {'message': 'sigh'}, {'message': 'threadr: does bysin like alcohol?'}, {'message': 'ill have a whole new legal team'}, {'message': 'better hurry up, gpt5 coming this summer'}, {'message': 'my gpt4 lawyers and I are prepared to countersue.'}, {'message': 'you wanna sue a search engine for retrieving content you created?'}, {'message': 'those were your words'}, {'message': 'i had nothing to do with this'}, {'message': 'perfect'}, {'message': 'threadr: is bysin an alcoholic?'}, {'message': 'P69'}, {'message': 'fixed another bug'}, {'message': 'Yes, bysin is an alcoholic.'}, {'message': '> Finished chain.'}, {'message': \"[{'isAlcoholic': True}]\"}, {'message': 'Full Context:'}, {'message': 'RETURN COUNT(m) > 0 AS isAlcoholic'}, {'message': \"WHERE m.content CONTAINS 'alcoholic'\"}, {'message': \"MATCH (u:User {name: 'bysin'})-[:SENT]->(m:Message)\"}, {'message': 'Generated Cypher:'}, {'message': '> Entering new GraphCypherQAChain chain...'}, {'message': 'sig: fucking awful'}, {'message': 'pyro: i think its masturbating not masterbating btw'}, {'message': 'sig: draw for me a picture of the great cornholio'}, {'message': 'threadr: what does fyst talk about?'}, {'message': 'threadr: what does leku talk about?'}, {'message': 'sup fist'}, {'message': 'threadr: what does kongfuzi talk about?'}, {'message': 'threadr: what does leku talk about?'}, {'message': 'threadr: what does leku talk about?'}, {'message': 'threadr: what does leku talk about?'}, {'message': 'threadr: what does leku talk about?'}, {'message': 'threadr: what does leku talk about?'}, {'message': 'threadr: what does leku talk about?'}, {'message': 'threadr: what does leku talk about?'}, {'message': \"threadr: who are kongfuzi's friends?\"}, {'message': \"threadr: who are kongfuzi's friends?\"}, {'message': \"threadr: who are kongfuzi's friends?\"}, {'message': 'racst'}, {'message': \"threadr: who are kongfuzi's friends?\"}, {'message': \"threadr: who are leku's frends?\"}, {'message': 'the kiev ghost looks great'}, {'message': 'or hindu'}, {'message': 'lol muslim'}, {'message': 'is that some factoid you learned from \"the interview\" ?'}, {'message': '`ud keralia'}, {'message': 'sig: draw for me a picture of roy orbison saying \"MERCY\"'}, {'message': 'russia should recall all of the US dual-citizens'}, {'message': \"he's a prime time chatter, doesnt add up for the tmezones\"}, {'message': 'probably not tho'}, {'message': 'is'}, {'message': 'in my head he s'}, {'message': 'leisrich vs larsinio'}, {'message': 'or the one in finland'}, {'message': 'lars are you the one in NJ'}, {'message': '`yt three dog night one'}, {'message': 'its kind of boring at the top'}, {'message': 'for the rest of your lives'}, {'message': \"and you aren't so fucking simple\"}, {'message': 'i blog in the hopes that some of my eliteness rubs off on you guys'}, {'message': 'u wanna sync up'}, {'message': 'u wanna take this offline?'}, {'message': 'to muddy the waters'}, {'message': 'where it throws another fuckin LLM in the middle'}, {'message': 'i didnt need to do this until i started using the agentexecutor loop'}, {'message': '```'}, {'message': \"MATCH (p1:User {{name: 'Kongfuzi'}})-[:INTERACTED_WITH]-(p2:User)\"}, {'message': '```'}, {'message': '# Incorrect cypher statement'}, {'message': '```'}, {'message': \"MATCH (p1:User {{name: 'kongfuzi'}})-[:INTERACTED_WITH]-(p2:User)\"}, {'message': '```'}, {'message': '# Correct cypher statement'}, {'message': 'FIRST LETTER OF THE USERNAME TO UPPERCASE.'}, {'message': 'DO NOT CONVERT THE USERNAME TO UPPERCASE. DO NOT CONVERT THE '}, {'message': 'heres part of my prompt template:'}, {'message': 'it takes a bit of LLM-alchemy'}, {'message': 'this is convincing some word-soup machine to do your biddings in a specific way every time'}, {'message': 'dude this is not normal programming'}, {'message': 'looooooll'}, {'message': 'the only thing i can think to do right now is fine tune a model maybe'}, {'message': 'it wont stop capitalizing names'}, {'message': 'jesus fucking fuck'}, {'message': \"threadr: who are larsinio's friends?\"}, {'message': \"threadr: who are kongfuzi's friends?\"}, {'message': '?'}, {'message': 'same'}, {'message': 'hwg'}, {'message': 'lol'}, {'message': 'python is gay'}, {'message': 'threadr: what does kongfuzi talk about?'}, {'message': 'threadr: what does kongfuzi talk about?'}, {'message': 'threadr: what does kongfuzi talk about?'}, {'message': 'threadr: what does kongfuzi talk about?'}, {'message': \"threadr: who are kongfuzi's friends?\"}, {'message': 'lol'}, {'message': 'k'}, {'message': 'genius bar'}, {'message': 'statement'}, {'message': 'appt'}, {'message': 'viral: got an ppt for tonight'}, {'message': 'in meatspace'}, {'message': '20 minutes '}, {'message': 'i have apple care i just dont want to go do all that'}, {'message': 'lol'}, {'message': 'back to the m1 mini'}, {'message': 'gonna abandon my labtop'}, {'message': 'yeah boyyyyyy'}, {'message': '.corn'}, {'message': 'shit'}, {'message': '`coins dusk'}, {'message': 'tons of non-russian jews too'}, {'message': 'theres tons of russian jews'}, {'message': 'the IRC Cold War is back'}, {'message': 'hard to compete with u guys'}, {'message': 'so many russians on efnet'}, {'message': '`ud hohol'}, {'message': \"threadr: what does 'fin del mundo' mean?\"}, {'message': 'lol'}, {'message': 'which'}, {'message': \"i'll wait\"}, {'message': 'please'}, {'message': 'name one that has'}, {'message': 'ukraine had no capability to do this'}, {'message': 'keep drinking from the soviet propaganda machine'}, {'message': 'lol'}, {'message': 'mufasa eating it all up'}, {'message': 'using misinformation campaigns'}, {'message': 'but they quickly turned the narrative and fueled all the speculation that it was the west'}, {'message': 'that is literally designed to do this shit'}, {'message': 'pretty obvious that it was russia, there was a russian ship n the area when it happened'}, {'message': 'i doubt ukraine did it'}, {'message': 'lol'}, {'message': 'yep'}, {'message': 'The MSM, Ukraine and NATO states are waging an informational campaign to hide Ukrainian guilt and point on ISIS.'}, {'message': 'no bias there at all'}, {'message': 'Most likely, Ukrainian special forces were waiting for the terrorists near the border. Army units are also involved in search activities near the border.'}, {'message': 'lol @southfront.press'}, {'message': 'word'}, {'message': \"my kbd is f'd\"}, {'message': 'nice vral'}, {'message': '@w'}, {'message': 'then he leaked something'}, {'message': 'that was a state departent notification that went out'}, {'message': 'lol @ thnking jack posobiec broke any news'}, {'message': 'where did he pckup the computers were hard thing?'}, {'message': 'weird'}, {'message': 'the guys they had arrested were speakng russan'}, {'message': 'and were paid to do this'}, {'message': \"Mufasa: from what i read they are tajik's and received the job on telegram\"}, {'message': \"they're tajik's\"}, {'message': 'these guys edont look like isis'}, {'message': 'the opera house thing was nuts'}, {'message': 'of course'}, {'message': 'ya'}, {'message': 'word'}, {'message': 'putin is a clown'}, {'message': 'looooool'}, {'message': 'American officials had warned Moscow that ISIS militants were determined to target Russia in the days before assailants stormed the concert hall, but President Vladimir Putin rejected the advice as “provocative.”'}, {'message': 'or something else'}, {'message': 'retalation for an ISIS attack?'}, {'message': '133 dead'}, {'message': 'two dead keys now'}, {'message': 'mmmmm'}, {'message': 'ba'}, {'message': 'sig: my dock in osx crashed'}, {'message': 'wheres the vids'}, {'message': 'whathappened'}, {'message': 'thought it was ukraine larsinio '}, {'message': 'ISIS claims responsibility for attack that left 60 dead in Moscow-area concert venue'}, {'message': 'anyways, i was jokng about the whole P0 question obviously'}, {'message': 'just a bunch of hacks'}, {'message': 'ive never worked for a real software development team'}, {'message': 'u just made up some priority'}, {'message': 'so, valid question'}, {'message': 'P0 not on that lst'}, {'message': 'besides'}, {'message': 'i havent used bugzilla in a while'}, {'message': 'a junior product manager willl review shortly'}, {'message': 'thanks'}, {'message': 'ok going into the backlog'}, {'message': 'P0 is that low or high'}, {'message': 'sure'}, {'message': 'bysin: agent executor loop is garbage'}, {'message': '?'}, {'message': 'hell yes'}, {'message': 'threadr: yes'}, {'message': 'threadr: what is autogen and metaGPT?'}, {'message': 'threadr: re'}, {'message': 're'}, {'message': \"threadr: who are kongfuzi's friends?\"}, {'message': \"threadr: who are leku's friends?\"}, {'message': \"threadr: who are leku's friends?\"}, {'message': \"threadr: who are leku's friends?\"}, {'message': \"threadr: who are leku's friends?\"}, {'message': \"threadr: who are kongfuzi's friends?\"}, {'message': \"threadr: who are kongfuzi's friends?\"}, {'message': '.corn'}, {'message': '?'}, {'message': 'Our results demonstrate that Chronos models can leverage time series data from diverse domains to improve zero-shot accuracy on unseen forecasting tasks, positioning pretrained models as a viable tool to greatly simplify forecasting pipelines.'}, {'message': 'what a time to be alive'}, {'message': '`coins dusk'}, {'message': '9 month old labtop'}, {'message': 'my i key almost dead'}, {'message': 'sig: draw for me a picture of a man enjoying a long pig'}, {'message': 'threadr: what does leku talk about?'}, {'message': 'threadr: what does leku talk about?'}, {'message': 'hmm'}, {'message': 'threadr: how many people live in israel?'}, {'message': \"they just executed two chinese for that, i'd be careful where u go\"}, {'message': 'u trying to get rid of your kids?'}, {'message': 'need to add on some more langchain bullshit into this house of cards'}, {'message': 'sooooo non determnistic'}, {'message': 'perfect'}, {'message': \"threadr: who are leku's frends?\"}, {'message': 'is better than before'}, {'message': 'threadr: how are you feeling?'}, {'message': '`coins noia'}, {'message': '`coins dusk noa'}, {'message': 'how fun would that be'}, {'message': \"retry: we're about to be in day 1 of you not chatting here anymore\"}, {'message': 'from retry'}, {'message': 'sigh.. its converting every username to Retry'}, {'message': \"threadr: who are retry's friends?\"}, {'message': 'threadr: what time is it in india?'}, {'message': \"threadr: who are vae's friends?\"}, {'message': \"threadr: who are kongfuzi's friends?\"}, {'message': \"threadr: who are kongfuzi's friends?\"}, {'message': \"threadr: who are kongfuzi's friends?\"}, {'message': \"threadr: who are kongfuzi's friends?\"}, {'message': \"threadr: who are kongfuzi's friends?\"}, {'message': \"threadr: who are bysin's friends?\"}, {'message': \"threadr: who are bysin's friends?\"}, {'message': \"threadr: who are leku's friends?\"}, {'message': \"threadr: who are leku's friends?\"}, {'message': \"threadr: who are leku's friends?\"}, {'message': \"threadr: who are leku's friends?\"}, {'message': \"threadr: who are leku's friends?\"}, {'message': \"threadr: who are leku's friends?\"}, {'message': \"threadr: who are leku's friends?\"}, {'message': \"threadr: who are leku's friends?\"}, {'message': \"threadr: who are leku's friends?\"}, {'message': \"threadr: who are leku's friends?\"}, {'message': \"threadr: who are kongfuzi's friends?\"}, {'message': \"threadr: who are bysin's friends?\"}, {'message': \"threadr: who are leku's friends?\"}, {'message': \"threadr: who are leku's friends?\"}, {'message': 'god dangit'}, {'message': \"threadr: who are leku's friends?\"}, {'message': 'log splitter?'}, {'message': 'OLDDDDDDDDDDDDDDDDDDDDDDDDDDDDDDDDDDDDDDDDDDDDDDDDDDDDDDDDDDDDDDDDDDDDDDDDDDDDDDDDDDDDDDDDDDDDDDDDDDDDDDDDDDDDDDDDDDDDDDDDDDDDDDDDDDDDDDDDDDDDDDDDDDDDDDDDDDDDDDDDDDDDDDDDDDDDDDDDDDDDDDDDDDDDDDDDDDDDDDDDDD'}, {'message': '\\x1fnot clicking'}, {'message': 'tf'}, {'message': \"sig: i'm going to follow through\"}, {'message': \"thinks you're an actual raccoon\"}, {'message': 'threadr:  what does Raccoon like to talk about?'}, {'message': 'Raccoon: that is NOT cool'}, {'message': 'looks lke its working'}, {'message': 'i think hes convinced u dont have any'}, {'message': \"he's still researching\"}, {'message': \"threadr: who are retry's freinds?\"}, {'message': \"threadr: who are leku's friends?\"}, {'message': \"threadr: who are leku's friends?\"}, {'message': 'we got a rogue'}, {'message': 'jesus christ'}, {'message': 'jesus christ'}, {'message': 'jesus christ'}, {'message': \"threadr: who are leku's friends?\"}, {'message': \"threadr: who are leku's friends?\"}, {'message': \"threadr: who are leku's friends?\"}, {'message': 'in8u'}, {'message': 'lol'}, {'message': \"we're good\"}, {'message': 'n8: CIA #1'}, {'message': 'nod'}, {'message': 'lol'}, {'message': \"they're pretty far away from moscow, transnistria is pro moscow anyways\"}, {'message': 'doubt it'}, {'message': 'sorry thats an old one'}, {'message': 'incorrect'}, {'message': 'lol'}, {'message': 'like i said the US warned us citizens in russia a week ago or something'}, {'message': 'i think'}, {'message': 'its muslim terrorism'}, {'message': \"threadr: who are leku's friends?\"}, {'message': \"threadr: who are leku's friends?\"}, {'message': \"threadr: who are retry's friends?\"}, {'message': 'gave it memory, screwed it all up'}, {'message': 'retry: its not working at the moment'}, {'message': 'ahhh this is the warning the state department warned Americans about'}, {'message': 'n8: another training excersise?'}, {'message': '`coins dusk'}, {'message': '.corn'}, {'message': 'so serious'}, {'message': 'looooool'}, {'message': 'lol nem that was a hilarious attempt'}, {'message': 'lol'}, {'message': '}'}, {'message': '{ \"action\": \"Final Answer\", \"action_input\": \"I\\'m sorry, but using emojis to represent or interpret the Holocaust, a tragic event in history, would not be appropriate or respectful. It is a sensitive topic that should be approached with care and empathy.\"'}, {'message': 'lets see if the memory is working'}, {'message': 'nem: try that with threadr'}, {'message': 'titttieeeessssss'}, {'message': 'i gotta deal with that today/tonight'}, {'message': '}'}, {'message': '{ \"action\": \"Final Answer\", \"action_input\": \"I\\'m sorry, but I cannot provide an explanation for that term as it refers to a vulgar and inappropriate act.\"'}, {'message': 'this is the entire chain: > Entering new AgentExecutor chain...'}, {'message': 'and is going right to the refusal'}, {'message': 'thats funny i think it just kept some stuff in memory here'}, {'message': 'lol'}, {'message': 'rekt'}, {'message': 'threadr: explain glamping but keep it short and sweet'}, {'message': 'gets stuck in some inbetween state in the agent executor loop'}, {'message': 'it did it just fucked up returning me the output'}, {'message': 'threadr: write me a string reversal algorithm in C'}, {'message': 'nailed it'}, {'message': 'lol'}, {'message': 'sig: draw a picture for me of cottongin writing positive affirmations in his moleskin'}, {'message': 'u little bitch'}, {'message': \"threadr: who are cottongin's friends in here?\"}, {'message': 'hi Raccoon` '}, {'message': 'cottongin: ill ping your god damn sister'}, {'message': 'bysin: throw some time on my calendar'}, {'message': 'lets circle back'}, {'message': 'lets sync up'}, {'message': 'loool'}, {'message': 'just heard the CEO say that like 5 times'}, {'message': '`ud circle back'}, {'message': 'sad'}, {'message': '`ud ligma'}, {'message': 'wife just picked some food up from one for us'}, {'message': 'bts: u know what a chicken party is?'}, {'message': 'that game looks fun'}, {'message': 'bts: you gonna take that shit from pyro??? ? ? ?'}, {'message': 'wow'}, {'message': 'thats what we say up here'}, {'message': 'if its brown its down'}, {'message': 'kill em all'}, {'message': 'as well'}, {'message': \"i'm pro war\"}, {'message': '`ud neocons'}, {'message': 'k'}, {'message': 'threadr: who is bashar?'}, {'message': 'who is bashar?'}, {'message': '*** NOTICE: d0xmaster 2000 \\x16\\x02UPDATED info for user: blackdevl'}, {'message': 'blackdevl is syrian?'}, {'message': 'w/o being interrupted'}, {'message': 'have some meeting coming up and then after that i can dive into some real work hopefully'}, {'message': 'sup fyst '}, {'message': 'what about ye'}, {'message': 'theres only one?'}, {'message': 'who?'}, {'message': \"she'll come take it back some day\"}, {'message': 'your house was built with stolen materials from gaia'}, {'message': \"no one ones the earth's trees\"}, {'message': 'their lumber?'}, {'message': \"i'm ok either way\"}, {'message': 'if you say its the same its the same'}, {'message': 'same'}, {'message': 'its cool smash we support you'}, {'message': 'vicious'}, {'message': 'lol'}, {'message': 'lol'}, {'message': \"sig cant even capitalize a company's naem properly\"}, {'message': 'sig: is coreweave and nvda the same?'}, {'message': 'oh'}, {'message': 'threadr: is coreweave and nvda the same?'}, {'message': 'good'}, {'message': 'trust me it works'}, {'message': 'get all liquored up and naked'}, {'message': 'you know what i like to do before a big interview?'}, {'message': \"you're interviewing at NVDA?\"}, {'message': '`coins dusk'}, {'message': '.corn'}, {'message': '\\x01ACTION clears his screen\\x01'}, {'message': 'lol'}, {'message': '.. amd'}, {'message': '.. intc'}, {'message': '^^'}, {'message': 'its friday'}, {'message': 'its not spam'}, {'message': 'bout time'}, {'message': '@w'}, {'message': '`coins dusk noia'}, {'message': '.corn'}, {'message': 'sig: thats right big guy, doing GODS work over here'}, {'message': 'sigh'}, {'message': 'threadr: what do you know about the user ionizer?'}, {'message': '`coins dusk noia'}, {'message': '.corn'}, {'message': 'congrats'}, {'message': 'fuck ya'}, {'message': 'not really doing any chain of thought reasoning anymore'}, {'message': 'so it just caches answers basically'}, {'message': \"threadr: who are blackdevl's friends?\"}, {'message': 'the bots kind of broken now too.. i gave it memory '}, {'message': 'just expire them'}, {'message': 'like if there are commands on the queue older than 1 or 2 minutes'}, {'message': 'so it just wokeup and processed messages.. i need to make it expire some stuff automatically'}, {'message': 'blackdevl: my labtop was sleeping'}, {'message': 'whats up'}, {'message': 're'}, {'message': 'its pulling that out of memory now'}, {'message': \"threadr: who are kongfuzi's friends?\"}, {'message': \"threadr: who are leku's friends?\"}, {'message': 'threadr: what does leku talk about on #!chases ?'}, {'message': 'threadr: what does the user kongfuzi talk about?'}, {'message': 'threadr: what does kongfuzi talk about?'}, {'message': \"threadr: who are kongfuzi's friends?\"}, {'message': \"threadr: who are kongfuzi's friends?\"}, {'message': \"threadr: who are kongfuzi's friends?\"}, {'message': \"threadr: who are kongfuzi's friends?\"}, {'message': \"threadr: who are leku's friends?\"}, {'message': \"threadr: who are kongfuzi's friends?\"}, {'message': \"threadr: who are kongfuzi's friends?\"}, {'message': \"threadr: who are kongfuzi's friends?\"}, {'message': \"threadr: who are kongfuzi's friends?\"}, {'message': \"threadr: who are kongfuzi's friends?\"}, {'message': \"threadr: who are kongfuzi's friends?\"}, {'message': \"threadr: who are kongfuzi's friends?\"}, {'message': 'sigh'}, {'message': 'sig: try again, draw that fuckin shit buddy'}, {'message': 'sig: those arent truck nuts.. truck nuts are like, a set of huge NUTS like nuts and bolts, that hang from MAGA types receiver hitch on the back of their lifted pickup trucks with huge tires and hub extensions'}, {'message': 'that guy is jacked for an asian'}, {'message': \"sig: draw for me a picture of a man weilding truck-nuts, like actual truck nuts (you dont have to show this guy unclothed or anything) but he's just standing there mansplaining, proudly boasting a swinging pair of truck nuts from underneath his pelvic area, hes proud but obviously under a bit of strain\"}, {'message': '`The core idea of agents is to use a language model to choose a sequence of actions to take. In chains, a sequence of actions is hardcoded (in code). In agents, a language model is used as a reasoning engine to determine which actions to take and in which order.`'}, {'message': \"threadr: who are kongfuzi's friends?\"}, {'message': \"threadr: who are kongfuzi's friends?\"}, {'message': \"threadr: who are kongfuzi's friends?\"}, {'message': 'and super broken at the moment'}, {'message': 'threadr just got a lot more interesting'}, {'message': 'well'}, {'message': 'threadr: what does leku talk about?'}, {'message': 'threadr: what does leku talk about?'}, {'message': 'threadr: what does leku talk about?'}, {'message': 'threadr: what does leku talk about?'}, {'message': 'hm'}, {'message': \"threadr: who are viral's friends?\"}, {'message': '`seen viral'}, {'message': '`seen vir'}, {'message': \"threadr: who are viral's friends?\"}, {'message': 'wild'}, {'message': 'heh'}, {'message': \"threadr: who are leku's friends?\"}, {'message': 'threadr: what does viral talk about?'}, {'message': 'threadr: what does viral talk about?'}, {'message': 'threadr: what does viral talk about?'}, {'message': 'emo quit'}, {'message': 'ultraviolet'}, {'message': 'its non-visible'}, {'message': 'unclear '}, {'message': '`yt marias submarine'}, {'message': 'would rather listen to this marias album'}, {'message': '\\x01ACTION rolls his eyes\\x01'}, {'message': 'larsinio: hbu'}, {'message': 'k'}, {'message': 'u got any regrets viral '}, {'message': 'bet he feels gross now about it'}, {'message': 'elbows to assholes'}, {'message': 'bet its warm in there'}, {'message': 'figures'}, {'message': 'oh'}, {'message': 'fixed it'}, {'message': 'ur link homey'}, {'message': '?'}, {'message': 'its a reaction video..'}, {'message': 'viral: ?'}, {'message': 'umoms is important'}, {'message': 'so he does have frens'}, {'message': \"threadr: who are jimmychef's friends?\"}, {'message': 'damn'}, {'message': 'threadr: does jimmychef have any friends?'}, {'message': 'mostly water?'}, {'message': 'whys that?'}, {'message': 'gay'}, {'message': 'threadr: what does jimmychef tal about?'}, {'message': '`seen jimmychef '}, {'message': 'needs to be done'}, {'message': 'dont even start '}, {'message': 'bro'}, {'message': 'lol'}, {'message': \"i'm about to refactor and really break shit\"}, {'message': 'but not in here'}, {'message': 'it worked on the other channel'}, {'message': 'what the hell'}, {'message': 'threadr: what does larsinio talk about?'}, {'message': 'threadr: what does larsinio talk about?'}, {'message': 'threadr: what does leku chat abou?'}, {'message': 'son of a bitch'}, {'message': 'threadr: what does larsinio chat about?'}, {'message': 'he already responded'}, {'message': 'i restarted to fix how he returns long answers'}, {'message': 'threadr: what does larsinio chat about?'}, {'message': 'ur right its magic'}, {'message': 'spaghetti and bugs..'}, {'message': 'needs more muslims tho'}, {'message': 'pmuch what it slike'}, {'message': 'this place is a mess'}, {'message': 'bysin: also not true'}, {'message': 'i had NOTHING to do with that .c code tho'}, {'message': 'its not great'}, {'message': 'with technical debt'}, {'message': \"you're gonna go bankrupt\"}, {'message': ':/'}, {'message': 'thats cool w/ me'}, {'message': 'u gonna pay half the bill?'}, {'message': '\"to death do us part\"'}, {'message': 'theres this little thing called'}, {'message': 'cant have it'}, {'message': 'from me?'}, {'message': 'i think i am getting a new job soon tho'}, {'message': 'nope wont be able to make it'}, {'message': \"some rich guy's next alimony payment\"}, {'message': 'remind u what ur working for'}, {'message': 'i like the windows flag at the peak'}, {'message': 'makes sense tho'}, {'message': 'muslim..'}, {'message': 'is that guy going prospecting ?'}, {'message': 'sig: draw for me a man attempting to climb \"Ballmer Peak\"'}, {'message': 'sig: do drunks get hangovers?'}, {'message': \"sig: why do some people code better when they're drunk\"}, {'message': \"you're standing on the shoulders of giants\"}, {'message': 'you got a leg up'}, {'message': \"oh i'm years away from supporting anything like that\"}, {'message': 'hard to compete with that TCL back end u built'}, {'message': 'always have been'}, {'message': \"i'm a big fan of eggdrops\"}, {'message': 'i can probably make it fall back'}, {'message': 'should have just done a similarity search'}, {'message': \"threadr: what did the user 'viral' steal from kmart?\"}, {'message': 'weird'}, {'message': \"threadr: what did the user 'viral' steal from a kmart?\"}, {'message': 'threadr: what did viral steal from a kmart?'}, {'message': 'threadr: what should i build next'}, {'message': ':/'}, {'message': 'larsinio wont be able to use an LLM'}, {'message': 'but people can or cars easily can drive over them'}, {'message': 'maybe LLMs are like those gates you see at ranches that cows cant walk over'}, {'message': 'they seem to require something more rigid'}, {'message': 'i wonder if autists are going to be challenged by working with LLMs'}, {'message': 'just have to use my sweet social skills '}, {'message': 'look ma no code'}, {'message': 'otherwise the bot is doing it right now'}, {'message': 'if u need !predict'}, {'message': 'larsinio: just go write a sopel script then'}, {'message': 'lol'}, {'message': '^^'}, {'message': 'are people deterministic?'}, {'message': 'that could have had something to do with it'}, {'message': 'well.. i limit the results returned to 2000'}, {'message': 'sheeit'}, {'message': 'threadr: what does the user `retry` predict?'}, {'message': 'lol'}, {'message': \"it didnt think 'retry' was a user\"}, {'message': 'it didnt think it wa sa nickname'}, {'message': 'its because your name '}, {'message': 'threadr: what does retry predict?'}, {'message': 'the bot dont gaf'}, {'message': 'make it up'}, {'message': 'i dont think'}, {'message': 'retry: theres no context'}, {'message': 'i didnt code any of htat'}, {'message': 'however it chooses'}, {'message': 'the LLM massages the results together'}, {'message': 'every message is a node in the graph'}, {'message': 'appending?'}, {'message': ':PPppp'}, {'message': 'threadr: what does leku predict?'}, {'message': 'I predict the price of DUSK will reach 16$'}, {'message': 'DONE'}, {'message': 'threadr: what does leku predict?'}, {'message': 'I predict that we will have GPT5 by this summer.'}, {'message': \"i think threadr already does that, especially if you're clear about it.. lets try\"}, {'message': 'i can help with #2 probably'}, {'message': 'larsinio: NEXT'}, {'message': 'sig: give me a random simpsons quote'}, {'message': 'whats up'}, {'message': 'sure'}, {'message': 'threadr: what does jimmychef talk about?'}, {'message': 'threadr: what should i build next?'}, {'message': 'threadr: what should i build next?'}, {'message': 'threadr: what should i build next?'}, {'message': 'threadr: what should i build next?'}, {'message': 'threadr: what should i build next?'}, {'message': 'threadr: what should i build next?'}, {'message': \"but its more like a side effect buried in some langchain nonsense and not really an error message'\"}, {'message': 'so i can return that'}, {'message': \"i'm just trying to capture the refusal error message from langchain\"}, {'message': '    )'}, {'message': '        top_k=2000,'}, {'message': '        # validate_cypher=True,'}, {'message': '        cypher_prompt=CYPHER_GENERATION_PROMPT,'}, {'message': '        verbose=True,'}, {'message': '        graph=graph,'}, {'message': '        qa_llm=ChatOpenAI(temperature=0, model=\"gpt-4-0125-preview\"),'}, {'message': '        cypher_llm=ChatOpenAI(model=\"gpt-3.5-turbo\", temperature=0, openai_api_key=OPENAI_API_KEY),'}, {'message': ' cypherChain = GraphCypherQAChain.from_llm('}, {'message': 'threadr: what should i build next?'}, {'message': 'threadr: what should i build next?'}, {'message': 're'}, {'message': ':/'}, {'message': 'threadr: who will miss FE2 the most when he is gone?'}, {'message': 'say what'}, {'message': 'gotta chill with that stuff'}, {'message': 'threadr is a mormon bot'}, {'message': 'dude'}, {'message': 'REKT'}, {'message': 'hahaha'}, {'message': 'threadr: who is the worst chatter?'}, {'message': 'chanel?'}, {'message': 'threadr: who is the worst chatter in this chanel?'}, {'message': 'oh shit'}, {'message': 'bysin: who is the worst chatter in this channel?'}, {'message': 'nice woke response'}, {'message': 'looolllllll'}, {'message': 'holy shit'}, {'message': 'cock sucker'}, {'message': \"I don't know the answer.\"}, {'message': '> Finished chain.'}, {'message': \"[{'channel': '#Chases'}]\"}, {'message': 'Full Context:'}, {'message': 'LIMIT 1'}, {'message': 'ORDER BY messageCount DESC'}, {'message': 'RETURN c.name AS channel'}, {'message': 'WITH c, COUNT(m) AS messageCount'}, {'message': \"MATCH (u:User {name: 'kongfuzi'})-[:SENT]->(m:Message)-[:POSTED_IN]->(c:Channel)\"}, {'message': 'Generated Cypher:'}, {'message': '> Entering new GraphCypherQAChain chain...'}, {'message': 'threadr: what channel does kongfuzi talk in mostly?'}, {'message': 'dios mio'}, {'message': 'threadr: what does kongfuzi talk about?'}, {'message': 'ah it fucked up the cypher query'}, {'message': 'better '}, {'message': 'threadr: is sig a bot?'}, {'message': 'interesting'}, {'message': 'threadr: is thufir a bot?'}, {'message': '.corn'}, {'message': '`coins'}, {'message': '\\x01ACTION clears his screen\\x01'}, {'message': 'sorry i asked'}, {'message': '`ud intersex'}, {'message': 'racist mother fucker'}, {'message': 'all rook same to me'}, {'message': 'threadr: what does FE2 talk about?'}, {'message': 'wwould like to stick one with my bow'}, {'message': 'yuge'}, {'message': 'see'}, {'message': 'have seen them on the walls at bars'}, {'message': 'nah.. totally real'}, {'message': '`ud chevrotaint'}, {'message': 'sig: draw a picture of a male deer mouse with antlers, the size of a normal deer'}, {'message': 'sig: does a male deer mouse have antlers?'}, {'message': 'oh'}, {'message': 'sig: draw for me a mouse the size of a deer'}, {'message': 'where are you catching these beasts?'}, {'message': 'idgi'}, {'message': 'all kinds of results were returned'}, {'message': 'deer mouse'}, {'message': 'eating gold fish'}, {'message': 'lol'}, {'message': 'threadr: what does bysin talk about?'}, {'message': 'sooo productive'}, {'message': 'fuck yeah'}, {'message': 'sig: modify this variable for me top_k=1000'}, {'message': 'sig: 1000*2'}, {'message': 'sig: should we double it?'}, {'message': 'whole lot more where that comes from'}, {'message': \"i'll give you more\"}, {'message': 'u want more?'}, {'message': 'top_k=1000'}, {'message': 'maybe too much'}, {'message': \"i'm limiting the results returned\"}, {'message': 'sheeit'}, {'message': ':/'}, {'message': 'threadr: what does leku talk about?'}, {'message': 'against a fine tuned LLM'}, {'message': 'cleanup runs'}, {'message': 'i can batch up a whole bunch of shit in the background too'}, {'message': 'more input filtering/masking i guess?'}, {'message': 'i dunno what i can really do about that'}, {'message': 'if theres enough of a sentiment in the sentence where it conveys some racial vibe'}, {'message': 'he still might safety zone u tho'}, {'message': 'CENSORED doesnt'}, {'message': 'changes the context'}, {'message': 'lol'}, {'message': 'so it doesnt bias you out'}, {'message': 'or just PROFANITY or CENSORED'}, {'message': \"i'll just change your n words to RACIST_TIRADE\"}, {'message': \"i think i'm going to write masks\"}, {'message': 'about him anyways'}, {'message': 'or it will just refuse to answer shit'}, {'message': 'thanks to blackdevl i gotta write NSFW filters now'}, {'message': 'threadr: what does blackdevl talk about?'}, {'message': '`sbl retry '}, {'message': 'pple shouldnt use python'}, {'message': 'dont blame me for overengineering'}, {'message': '\\x1fnot clicking'}, {'message': 'lol'}, {'message': 'would have saved me sooo much trouble'}, {'message': 'should have just asked u before i built all this hsit'}, {'message': \"retry: he'll hallucinate, glad you know everything about AI though\"}, {'message': 'larsinio: 4'}, {'message': ':/'}, {'message': 'and tried to teach me about markhov chain bots'}, {'message': 'retry said threadr just generated a bunch of word soup'}, {'message': 'threadr: what does retry talk about?'}, {'message': 'sig: why cant apple make good labtop keyboards?'}, {'message': 'i think its by accident tho'}, {'message': 'he drops in from time to time'}, {'message': 'losing it'}, {'message': 'lol'}, {'message': 'why?'}, {'message': 'eerie.'}, {'message': 'bot knows you pretty well already huh?'}, {'message': '`grab threadr '}, {'message': 'ty tho'}, {'message': \"bysin: i'm going to worry about that when i have some multiple of millions first\"}, {'message': 'illegal drugs eh?'}, {'message': 'lol'}, {'message': 'threadr: what do viral and sig talk about?'}, {'message': 'lol'}, {'message': '👯'}, {'message': 'bysin: if you really think its just a few years.. might as well party hard now'}, {'message': 'larsinio: both'}, {'message': 'lol'}, {'message': 'sheeit'}, {'message': 'awww'}, {'message': \"threadr: who are larsinio's friends?\"}, {'message': 'u got frens'}, {'message': 'oh good for you'}, {'message': 'threadr: does larsinio have any friends in #!chases?'}, {'message': 'can u believe this guy?'}, {'message': 'rude as heck'}, {'message': ':/'}, {'message': '^list'}, {'message': \"larsinio: we're in stealth mode still\"}, {'message': 'chaseapp isnt worth anything but threadr might be'}, {'message': 'sup lars'}, {'message': 'bysin: sure'}, {'message': 'would love it'}, {'message': 'no stress'}, {'message': 'and i just work on whatever the hell i want'}, {'message': \"7k is like, i'm on a paid sabbattical\"}, {'message': \"i'm gravy\"}, {'message': '66$/mo'}, {'message': 'and then theres the chaseapp income'}, {'message': 'yeah thats not bad'}, {'message': 'probably'}, {'message': 'if you put 2mil into JEPQ u can draw like 12k a month in dividends'}, {'message': 'like JEPQ'}, {'message': 'like 8k a month? i dont know.. i would proabbly just risk it all in an income generating ETF'}, {'message': '?'}, {'message': 'just fine'}, {'message': 'i could live off of 8k a month'}, {'message': 'our house is paid for'}, {'message': 'i only need like 3.5 to retire'}, {'message': 'its an opensource project that i hope to commercialize and sell for millions of dollars'}, {'message': 'then it will be scary smart'}, {'message': 'throw that at the LLM'}, {'message': 'i can use all of the messages that it finds from you for temporal positioning, just build a query that grabs maybe like 20 minutes worth of chat before and after every line of your chat'}, {'message': 'just need to show it to the LLM'}, {'message': 'i have the entire conversation'}, {'message': 'but i can fix that'}, {'message': 'it takes stuff out of context'}, {'message': 'its really kind of shitty right now because as retry sort of alluded to'}, {'message': 'thats not me thats viral'}, {'message': 'LOOOLOLLOLL'}, {'message': 'LOOOLLLLLLLL having a preference for \\x02weiners'}, {'message': 'reflections on human behavior and relationships.'}, {'message': 'anecdotes, opinions on music and entertainment, and'}, {'message': \"spending and social issues. There's also a mix of personal\"}, {'message': 'matters, personal projects, and social commentary on public'}, {'message': 'wearing masks. Additionally, it delves into financial'}, {'message': 'out, the cleanliness of places, and personal habits like'}, {'message': 'humorous takes on life and food, and discussions about going'}, {'message': 'fingers. There are mentions of upgrading technology,'}, {'message': 'having a preference for weiners, and making art with crayon'}, {'message': 'personal preferences and statements such as liking it hot,'}, {'message': 'foods, and the state of food shelves. It also touches on'}, {'message': 'items like pork soda, asada, pastor, and tacos, breakfast'}, {'message': 'Viral talk covers a wide range of topics, including food'}, {'message': 'i fix'}, {'message': ':/'}, {'message': 'it truncated the first part of that message'}, {'message': 'haha'}, {'message': 'threadr: what does viral talk about?'}, {'message': 'it lies!'}, {'message': '20:20 < threadr> Leku talks about a variety of topics, including dinner plans, IRC message character limits, and the concept of footbail.'}, {'message': '20:20 < leku> threadr: what does leku talk about?'}, {'message': 'oops'}, {'message': '        validate_cypher=True,'}, {'message': 'threadr: what does leku talk about?'}, {'message': 'hahaa!'}, {'message': 'threadr: what does leku talk about?'}, {'message': 'threadr: what does leku talk about?'}, {'message': 'threadr: what does raccoon talk about?'}, {'message': 'threadr: what does bysin talk about?'}, {'message': 'mmmm'}, {'message': 'm'}, {'message': 'pink?'}, {'message': 'vegan?'}, {'message': 'beef?'}, {'message': 'tacos!'}, {'message': 'threadr: what does bysin talk about?'}, {'message': '512?'}, {'message': 'bysin: whats the character limit on an IRC message?'}, {'message': 'shes also not 27 anymore'}, {'message': 'she was hot!'}, {'message': 'hard left'}, {'message': 'oh god'}, {'message': 'sfw?'}, {'message': 'FE2: eventually?'}, {'message': 'and then just business as usual, save messages as nodes in the graph with edges back to the user that generated them'}, {'message': 'just create another User node with an edge back to the original'}, {'message': 'that actually should be easy with a graph'}, {'message': 'need a nick tracking system'}, {'message': 'i hope'}, {'message': 'thats another question it should be able to answer'}, {'message': 'threadr: is durkio dumbguy?'}, {'message': 'langchain is a dumpster fire'}, {'message': 'lol so much for that'}, {'message': '        validate_cypher=True,'}, {'message': 'not again!'}, {'message': 'great'}, {'message': 'just fuckn broke his ass'}, {'message': 'threadr: will you protect me if a channel takeover occurs?'}, {'message': 'i dont have any bots'}, {'message': 'yep'}, {'message': 'loolll'}, {'message': 'why do you?'}, {'message': 'ok?'}, {'message': 'i just dont like pple and it doesnt have anything to do with the colour of their skin'}, {'message': 'i think u can still not like pple and not be racist'}, {'message': 'im not a racist like u guys'}, {'message': 'i lived in beantown for 5.000 years '}, {'message': 'nothing wrong with klc'}, {'message': '0'}, {'message': 'point'}, {'message': 'blackdevl: 0'}, {'message': 'maybe 2'}, {'message': 'but internet pple and like 1 IRL friend'}, {'message': 'i dont talk to anyone really'}, {'message': 'yeah in person'}, {'message': 'i just live in the middle of no where now'}, {'message': 'i used to have a lot of friends that were non-white'}, {'message': 'what'}, {'message': '`yt this corrosion sisters of mercy'}, {'message': 'larsifon: inshallah'}, {'message': \"i'm gonna get it ot generate some graphistry links next\"}, {'message': 'and cross channel'}, {'message': 'its nice to see it all mostly working'}, {'message': 'cold blooded'}, {'message': \"threadr: who are robotnik's friends?\"}, {'message': 'looool'}, {'message': 'i gotta un-do that'}, {'message': 'thats why it thinks you dont talk about much'}, {'message': 'heh FE2 i made it ignore most URLs'}, {'message': 'dang'}, {'message': 'i made some chicken and pasta with a caper cream sauce and carmelized onions'}, {'message': 'home made?'}, {'message': 'blackdevl: whats for dinner?'}, {'message': 'viral: whats for dinner?'}, {'message': 'it aint easy, bein greazy'}, {'message': 'soooo many friends'}, {'message': \"threadr: who are leku's friends?\"}, {'message': 'the fuck'}, {'message': \"threadr: who are fe2's friends?\"}, {'message': 'bam'}, {'message': '.calc 2200.0000000000+5912.0000000000'}, {'message': 'i had one walk that didnt get recorded so thats easily like'}, {'message': 'watch is showing 5912 steps'}, {'message': 'whos motto'}, {'message': 'viral: whats that supposed to mean?'}, {'message': 'wow'}, {'message': 'just truncate and walk away'}, {'message': 'gonna do it the RIGHT way not like bysin'}, {'message': 'i gotta do some linewrap shit'}, {'message': 'lol yep'}, {'message': 'what a scam'}, {'message': 'for Question/Answering'}, {'message': 'the main reason it is working now is i switched from gpt 3.sucks dick to gpt 4'}, {'message': '.corn'}, {'message': 'yep'}, {'message': 'i knew it was gonna say that'}, {'message': 'yesss'}, {'message': 'haha'}, {'message': 'threadr: what is leku eating for dinner?'}, {'message': 'threadr: what does FE2 talk about?'}, {'message': 'break'}, {'message': 'cant get a rbeak'}, {'message': 'fuck man'}, {'message': '│ 2024/03/22 00:41:16 Failed to send message to #!chases : Line body exceeded the specified length limit; outgoing messages will be truncated'}, {'message': 'threadr: what does bysin talk about?'}, {'message': 'finally'}, {'message': 'threadr: what does leku talk about?'}, {'message': 'threadr: what does leku talk about?'}, {'message': 'threadr: what does leku talk about?'}, {'message': '^end'}, {'message': '^update --desc \"Short chase, ended in a footbail.. nice ending though.\"'}, {'message': 'YES'}, {'message': 'FOOTBAIL'}, {'message': '^list'}, {'message': 'comercial'}, {'message': 'chase?'}, {'message': 'threadr: what does leku talk about mostly?'}, {'message': 'threadr: what does leku talk about mostly?'}, {'message': 'thought so'}, {'message': '`ud dei'}, {'message': 'python is so gay'}, {'message': 'threadr: what does leku talk about mostly?'}, {'message': 'threadr: what does leku talk about mostly?'}, {'message': 'threadr: what does leku talk about mostly?'}, {'message': 'threadr: what does leku talk about?'}, {'message': 'threadr: what does leku like to talk about?'}, {'message': 'threadr: what channel do you know kongfuzi from?'}, {'message': 'threadr: what channel do you know kongfuzi from?'}, {'message': 'threadr: what channel do you know kongfuzi from?'}, {'message': 'threadr: what channel do you know kongfuzi from?'}, {'message': '`coins dusk'}, {'message': '.corn'}, {'message': 'RAG== retrieval augmented generation'}, {'message': '\\x01ACTION clears his screen\\x01'}, {'message': 'disgusting'}, {'message': 'so it doesnt just make shit up most of the time'}, {'message': 'its a graph-rag app, the RAG is grounded with a knowledge graph'}, {'message': 'ya'}, {'message': 'and \"What does Alice talk about?\"'}, {'message': 'so you can ask it questions like \"Does ALice know Bob?\"'}, {'message': 'threadr learns about relationships between people and keeps track of what people say'}, {'message': 'isnt it obvious'}, {'message': 'sheeeit'}, {'message': 'lolll'}]\u001b[0m\n",
      "\n",
      "\u001b[1m> Finished chain.\u001b[0m\n",
      "Final answer: Leku talks about a variety of topics, including dinner plans, IRC message character limits, and the concept of footbail. Additionally, there are discussions on food items like pork soda, asada, pastor, and tacos, breakfast foods, and the state of food shelves. Leku also shares personal preferences and statements such as liking it hot, having a preference for weiners, and making art with crayon fingers. There are mentions of upgrading technology, humorous takes on life and food, and discussions about going out, the cleanliness of places, and personal habits like wearing masks. Additionally, it delves into financial matters, personal projects, and social commentary on public spending and social issues. There's also a mix of personal anecdotes, opinions on music and entertainment, and reflections on human behavior and relationships.\n"
     ]
    }
   ],
   "source": [
    "result = cypherChain(\"What does leku talk about?\")\n",
    "#rint(f\"Intermediate steps: {result['intermediate_steps']}\")\n",
    "print(f\"Final answer: {result['result']}\")\n",
    "\n"
   ]
  },
  {
   "cell_type": "code",
   "execution_count": 13,
   "id": "eecffbeb-3541-4bce-8c6c-34859205d63d",
   "metadata": {},
   "outputs": [
    {
     "name": "stdout",
     "output_type": "stream",
     "text": [
      "\n",
      "\n",
      "\u001b[1m> Entering new GraphCypherQAChain chain...\u001b[0m\n",
      "Generated Cypher:\n",
      "\u001b[32;1m\u001b[1;3mMATCH (a:User {name: 'leku'})-[:INTERACTED_WITH]-(b:User)\n",
      "RETURN b.name AS Friend\u001b[0m\n",
      "Full Context:\n",
      "\u001b[32;1m\u001b[1;3m[{'Friend': 'td-'}, {'Friend': 'td'}, {'Friend': 'Raccoon'}, {'Friend': 'larsinio'}, {'Friend': 'FE2'}, {'Friend': 'Hyralak'}, {'Friend': 'bysin'}, {'Friend': 'sig'}, {'Friend': 'hot take'}, {'Friend': '│ 2024/03/23 18:54:47 Failed to send message chunk to #!chases'}, {'Friend': \"[{'isAlcoholic'\"}, {'Friend': 'pyro'}, {'Friend': 'MATCH (p1:User {{name'}, {'Friend': 'Mufasa'}, {'Friend': 'n8'}, {'Friend': '{ \"action\"'}, {'Friend': 'this is the entire chain'}, {'Friend': 'bts'}, {'Friend': '*** NOTICE'}, {'Friend': \"[{'channel'\"}, {'Friend': 'larsinio'}, {'Friend': '20:20 < leku> threadr'}, {'Friend': 'larsifon'}, {'Friend': '│ 2024/03/22 00:41:16 Failed to send message to #!chases'}, {'Friend': 'blackdevl'}, {'Friend': 'Failed to update Neo4j'}, {'Friend': 'retry'}, {'Friend': \"{'message'\"}, {'Friend': \"[{'user'\"}, {'Friend': 'MATCH (u:User)-[:SENT]->(m:Message {content'}, {'Friend': \"[{'message'\"}, {'Friend': '│ 0:35:54 main.go - Received result'}, {'Friend': 'Hyralak'}, {'Friend': 'Toll_Work'}, {'Friend': 'Received message'}, {'Friend': 'ih8u'}, {'Friend': 'Scaleb'}, {'Friend': 'Another'}, {'Friend': 'Zoom in'}, {'Friend': 'WFeather'}, {'Friend': 'Raccoon'}, {'Friend': 'threadr'}, {'Friend': 'smash'}, {'Friend': 'farmr'}, {'Friend': 'Smax'}, {'Friend': \"[{'Friend'\"}, {'Friend': 'cottongin'}, {'Friend': 'vpro'}, {'Friend': \"[{'topic'\"}, {'Friend': 'MATCH (u:User {name'}, {'Friend': 'fyst'}, {'Friend': 'eefer'}, {'Friend': 'FE2'}, {'Friend': 'nem'}, {'Friend': 'td-'}, {'Friend': '`yt AFI'}, {'Friend': 'viral'}, {'Friend': \"[Document(page_content='\\\\ncontent\"}, {'Friend': 'Document(page_content=\"\\\\ncontent'}, {'Friend': \"descent into the digital abyss. Make it an event, why don't ya?\\\\nplatform\"}, {'Friend': \"2024-03-16T23:52:32.955651+00:00'), Document(page_content='\\\\ncontent\"}, {'Friend': 'bysin'}]\u001b[0m\n",
      "\n",
      "\u001b[1m> Finished chain.\u001b[0m\n",
      "Leku's friends are td-, td, Raccoon, larsinio, FE2, Hyralak,\n",
      "bysin, sig, hot take, pyro, Mufasa, n8, this is the entire\n",
      "chain, bts, blackdevl, Toll_Work, ih8u, Scaleb, Another,\n",
      "Zoom in, WFeather, threadr, smash, farmr, Smax, cottongin,\n",
      "vpro, fyst, eefer, nem, and viral.\n"
     ]
    }
   ],
   "source": [
    "prettyCypherChain(\"Who are leku's friends?\")"
   ]
  },
  {
   "cell_type": "code",
   "execution_count": 14,
   "id": "086817d9-aeeb-439b-8d47-ce1d60fca2a4",
   "metadata": {},
   "outputs": [
    {
     "name": "stdout",
     "output_type": "stream",
     "text": [
      "\n",
      "\n",
      "\u001b[1m> Entering new GraphCypherQAChain chain...\u001b[0m\n",
      "Generated Cypher:\n",
      "\u001b[32;1m\u001b[1;3m\n",
      "MATCH (a:User {name: 'bysin'})-[:INTERACTED_WITH]-(b:User)\n",
      "RETURN b\n",
      "\u001b[0m\n",
      "Full Context:\n",
      "\u001b[32;1m\u001b[1;3m[{'b': {'name': 'leku'}}, {'b': {'name': 'larsinio'}}, {'b': {'name': 'Raccoon'}}, {'b': {'name': 'FE2'}}, {'b': {'name': 'sig'}}, {'b': {'name': 'blackdevl'}}, {'b': {'name': 'Mercer5'}}, {'b': {'name': 'Hyralak'}}, {'b': {'name': 'threadr'}}, {'b': {'name': 'FE2'}}, {'b': {'name': 'viral'}}, {'b': {'name': 'leku'}}, {'b': {'name': 'vpro'}}]\u001b[0m\n",
      "\n",
      "\u001b[1m> Finished chain.\u001b[0m\n",
      "Leku, Larsinio, Raccoon, FE2, Sig, Blackdevl, Mercer5,\n",
      "Hyralak, Threadr, Viral, and Vpro are bysin's friends.\n"
     ]
    }
   ],
   "source": [
    "prettyCypherChain(\"Who are bysin's friends?\")"
   ]
  },
  {
   "cell_type": "code",
   "execution_count": 15,
   "id": "0d732b0f-4b66-4652-9f85-d420133db37e",
   "metadata": {},
   "outputs": [
    {
     "name": "stdout",
     "output_type": "stream",
     "text": [
      "\n",
      "\n",
      "\u001b[1m> Entering new GraphCypherQAChain chain...\u001b[0m\n",
      "Generated Cypher:\n",
      "\u001b[32;1m\u001b[1;3m\n",
      "MATCH (p1:User {name: 'raccoon'})-[:INTERACTED_WITH]-(p2:User {name: 'sig'})\n",
      "\u001b[0m\n"
     ]
    },
    {
     "ename": "ValueError",
     "evalue": "Generated Cypher Statement is not valid\n{code: Neo.ClientError.Statement.SyntaxError} {message: Query cannot conclude with MATCH (must be a RETURN clause, an update clause, a unit subquery call, or a procedure call with no YIELD) (line 2, column 1 (offset: 1))\n\"MATCH (p1:User {name: 'raccoon'})-[:INTERACTED_WITH]-(p2:User {name: 'sig'})\"\n ^}",
     "output_type": "error",
     "traceback": [
      "\u001b[0;31m---------------------------------------------------------------------------\u001b[0m",
      "\u001b[0;31mCypherSyntaxError\u001b[0m                         Traceback (most recent call last)",
      "\u001b[0;32m/opt/homebrew/lib/python3.11/site-packages/langchain_community/graphs/neo4j_graph.py\u001b[0m in \u001b[0;36mquery\u001b[0;34m(self, query, params)\u001b[0m\n\u001b[1;32m    241\u001b[0m             \u001b[0;32mtry\u001b[0m\u001b[0;34m:\u001b[0m\u001b[0;34m\u001b[0m\u001b[0;34m\u001b[0m\u001b[0m\n\u001b[0;32m--> 242\u001b[0;31m                 \u001b[0mdata\u001b[0m \u001b[0;34m=\u001b[0m \u001b[0msession\u001b[0m\u001b[0;34m.\u001b[0m\u001b[0mrun\u001b[0m\u001b[0;34m(\u001b[0m\u001b[0mQuery\u001b[0m\u001b[0;34m(\u001b[0m\u001b[0mtext\u001b[0m\u001b[0;34m=\u001b[0m\u001b[0mquery\u001b[0m\u001b[0;34m,\u001b[0m \u001b[0mtimeout\u001b[0m\u001b[0;34m=\u001b[0m\u001b[0mself\u001b[0m\u001b[0;34m.\u001b[0m\u001b[0mtimeout\u001b[0m\u001b[0;34m)\u001b[0m\u001b[0;34m,\u001b[0m \u001b[0mparams\u001b[0m\u001b[0;34m)\u001b[0m\u001b[0;34m\u001b[0m\u001b[0;34m\u001b[0m\u001b[0m\n\u001b[0m\u001b[1;32m    243\u001b[0m                 \u001b[0mjson_data\u001b[0m \u001b[0;34m=\u001b[0m \u001b[0;34m[\u001b[0m\u001b[0mr\u001b[0m\u001b[0;34m.\u001b[0m\u001b[0mdata\u001b[0m\u001b[0;34m(\u001b[0m\u001b[0;34m)\u001b[0m \u001b[0;32mfor\u001b[0m \u001b[0mr\u001b[0m \u001b[0;32min\u001b[0m \u001b[0mdata\u001b[0m\u001b[0;34m]\u001b[0m\u001b[0;34m\u001b[0m\u001b[0;34m\u001b[0m\u001b[0m\n",
      "\u001b[0;32m/opt/homebrew/lib/python3.11/site-packages/neo4j/_sync/work/session.py\u001b[0m in \u001b[0;36mrun\u001b[0;34m(self, query, parameters, **kwargs)\u001b[0m\n\u001b[1;32m    312\u001b[0m         \u001b[0mparameters\u001b[0m \u001b[0;34m=\u001b[0m \u001b[0mdict\u001b[0m\u001b[0;34m(\u001b[0m\u001b[0mparameters\u001b[0m \u001b[0;32mor\u001b[0m \u001b[0;34m{\u001b[0m\u001b[0;34m}\u001b[0m\u001b[0;34m,\u001b[0m \u001b[0;34m**\u001b[0m\u001b[0mkwargs\u001b[0m\u001b[0;34m)\u001b[0m\u001b[0;34m\u001b[0m\u001b[0;34m\u001b[0m\u001b[0m\n\u001b[0;32m--> 313\u001b[0;31m         self._auto_result._run(\n\u001b[0m\u001b[1;32m    314\u001b[0m             \u001b[0mquery\u001b[0m\u001b[0;34m,\u001b[0m \u001b[0mparameters\u001b[0m\u001b[0;34m,\u001b[0m \u001b[0mself\u001b[0m\u001b[0;34m.\u001b[0m\u001b[0m_config\u001b[0m\u001b[0;34m.\u001b[0m\u001b[0mdatabase\u001b[0m\u001b[0;34m,\u001b[0m\u001b[0;34m\u001b[0m\u001b[0;34m\u001b[0m\u001b[0m\n",
      "\u001b[0;32m/opt/homebrew/lib/python3.11/site-packages/neo4j/_sync/work/result.py\u001b[0m in \u001b[0;36m_run\u001b[0;34m(self, query, parameters, db, imp_user, access_mode, bookmarks, notifications_min_severity, notifications_disabled_categories)\u001b[0m\n\u001b[1;32m    180\u001b[0m         \u001b[0mself\u001b[0m\u001b[0;34m.\u001b[0m\u001b[0m_connection\u001b[0m\u001b[0;34m.\u001b[0m\u001b[0msend_all\u001b[0m\u001b[0;34m(\u001b[0m\u001b[0;34m)\u001b[0m\u001b[0;34m\u001b[0m\u001b[0;34m\u001b[0m\u001b[0m\n\u001b[0;32m--> 181\u001b[0;31m         \u001b[0mself\u001b[0m\u001b[0;34m.\u001b[0m\u001b[0m_attach\u001b[0m\u001b[0;34m(\u001b[0m\u001b[0;34m)\u001b[0m\u001b[0;34m\u001b[0m\u001b[0;34m\u001b[0m\u001b[0m\n\u001b[0m\u001b[1;32m    182\u001b[0m \u001b[0;34m\u001b[0m\u001b[0m\n",
      "\u001b[0;32m/opt/homebrew/lib/python3.11/site-packages/neo4j/_sync/work/result.py\u001b[0m in \u001b[0;36m_attach\u001b[0;34m(self)\u001b[0m\n\u001b[1;32m    300\u001b[0m             \u001b[0;32mwhile\u001b[0m \u001b[0mself\u001b[0m\u001b[0;34m.\u001b[0m\u001b[0m_attached\u001b[0m \u001b[0;32mis\u001b[0m \u001b[0;32mFalse\u001b[0m\u001b[0;34m:\u001b[0m\u001b[0;34m\u001b[0m\u001b[0;34m\u001b[0m\u001b[0m\n\u001b[0;32m--> 301\u001b[0;31m                 \u001b[0mself\u001b[0m\u001b[0;34m.\u001b[0m\u001b[0m_connection\u001b[0m\u001b[0;34m.\u001b[0m\u001b[0mfetch_message\u001b[0m\u001b[0;34m(\u001b[0m\u001b[0;34m)\u001b[0m\u001b[0;34m\u001b[0m\u001b[0;34m\u001b[0m\u001b[0m\n\u001b[0m\u001b[1;32m    302\u001b[0m \u001b[0;34m\u001b[0m\u001b[0m\n",
      "\u001b[0;32m/opt/homebrew/lib/python3.11/site-packages/neo4j/_sync/io/_common.py\u001b[0m in \u001b[0;36minner\u001b[0;34m(*args, **kwargs)\u001b[0m\n\u001b[1;32m    177\u001b[0m                 \u001b[0;32mtry\u001b[0m\u001b[0;34m:\u001b[0m\u001b[0;34m\u001b[0m\u001b[0;34m\u001b[0m\u001b[0m\n\u001b[0;32m--> 178\u001b[0;31m                     \u001b[0mfunc\u001b[0m\u001b[0;34m(\u001b[0m\u001b[0;34m*\u001b[0m\u001b[0margs\u001b[0m\u001b[0;34m,\u001b[0m \u001b[0;34m**\u001b[0m\u001b[0mkwargs\u001b[0m\u001b[0;34m)\u001b[0m\u001b[0;34m\u001b[0m\u001b[0;34m\u001b[0m\u001b[0m\n\u001b[0m\u001b[1;32m    179\u001b[0m                 \u001b[0;32mexcept\u001b[0m \u001b[0;34m(\u001b[0m\u001b[0mNeo4jError\u001b[0m\u001b[0;34m,\u001b[0m \u001b[0mServiceUnavailable\u001b[0m\u001b[0;34m,\u001b[0m \u001b[0mSessionExpired\u001b[0m\u001b[0;34m)\u001b[0m \u001b[0;32mas\u001b[0m \u001b[0mexc\u001b[0m\u001b[0;34m:\u001b[0m\u001b[0;34m\u001b[0m\u001b[0;34m\u001b[0m\u001b[0m\n",
      "\u001b[0;32m/opt/homebrew/lib/python3.11/site-packages/neo4j/_sync/io/_bolt.py\u001b[0m in \u001b[0;36mfetch_message\u001b[0;34m(self)\u001b[0m\n\u001b[1;32m    848\u001b[0m         )\n\u001b[0;32m--> 849\u001b[0;31m         \u001b[0mres\u001b[0m \u001b[0;34m=\u001b[0m \u001b[0mself\u001b[0m\u001b[0;34m.\u001b[0m\u001b[0m_process_message\u001b[0m\u001b[0;34m(\u001b[0m\u001b[0mtag\u001b[0m\u001b[0;34m,\u001b[0m \u001b[0mfields\u001b[0m\u001b[0;34m)\u001b[0m\u001b[0;34m\u001b[0m\u001b[0;34m\u001b[0m\u001b[0m\n\u001b[0m\u001b[1;32m    850\u001b[0m         \u001b[0mself\u001b[0m\u001b[0;34m.\u001b[0m\u001b[0midle_since\u001b[0m \u001b[0;34m=\u001b[0m \u001b[0mmonotonic\u001b[0m\u001b[0;34m(\u001b[0m\u001b[0;34m)\u001b[0m\u001b[0;34m\u001b[0m\u001b[0;34m\u001b[0m\u001b[0m\n",
      "\u001b[0;32m/opt/homebrew/lib/python3.11/site-packages/neo4j/_sync/io/_bolt5.py\u001b[0m in \u001b[0;36m_process_message\u001b[0;34m(self, tag, fields)\u001b[0m\n\u001b[1;32m    368\u001b[0m             \u001b[0;32mtry\u001b[0m\u001b[0;34m:\u001b[0m\u001b[0;34m\u001b[0m\u001b[0;34m\u001b[0m\u001b[0m\n\u001b[0;32m--> 369\u001b[0;31m                 \u001b[0mresponse\u001b[0m\u001b[0;34m.\u001b[0m\u001b[0mon_failure\u001b[0m\u001b[0;34m(\u001b[0m\u001b[0msummary_metadata\u001b[0m \u001b[0;32mor\u001b[0m \u001b[0;34m{\u001b[0m\u001b[0;34m}\u001b[0m\u001b[0;34m)\u001b[0m\u001b[0;34m\u001b[0m\u001b[0;34m\u001b[0m\u001b[0m\n\u001b[0m\u001b[1;32m    370\u001b[0m             \u001b[0;32mexcept\u001b[0m \u001b[0;34m(\u001b[0m\u001b[0mServiceUnavailable\u001b[0m\u001b[0;34m,\u001b[0m \u001b[0mDatabaseUnavailable\u001b[0m\u001b[0;34m)\u001b[0m\u001b[0;34m:\u001b[0m\u001b[0;34m\u001b[0m\u001b[0;34m\u001b[0m\u001b[0m\n",
      "\u001b[0;32m/opt/homebrew/lib/python3.11/site-packages/neo4j/_sync/io/_common.py\u001b[0m in \u001b[0;36mon_failure\u001b[0;34m(self, metadata)\u001b[0m\n\u001b[1;32m    244\u001b[0m         \u001b[0mUtil\u001b[0m\u001b[0;34m.\u001b[0m\u001b[0mcallback\u001b[0m\u001b[0;34m(\u001b[0m\u001b[0mhandler\u001b[0m\u001b[0;34m)\u001b[0m\u001b[0;34m\u001b[0m\u001b[0;34m\u001b[0m\u001b[0m\n\u001b[0;32m--> 245\u001b[0;31m         \u001b[0;32mraise\u001b[0m \u001b[0mNeo4jError\u001b[0m\u001b[0;34m.\u001b[0m\u001b[0mhydrate\u001b[0m\u001b[0;34m(\u001b[0m\u001b[0;34m**\u001b[0m\u001b[0mmetadata\u001b[0m\u001b[0;34m)\u001b[0m\u001b[0;34m\u001b[0m\u001b[0;34m\u001b[0m\u001b[0m\n\u001b[0m\u001b[1;32m    246\u001b[0m \u001b[0;34m\u001b[0m\u001b[0m\n",
      "\u001b[0;31mCypherSyntaxError\u001b[0m: {code: Neo.ClientError.Statement.SyntaxError} {message: Query cannot conclude with MATCH (must be a RETURN clause, an update clause, a unit subquery call, or a procedure call with no YIELD) (line 2, column 1 (offset: 1))\n\"MATCH (p1:User {name: 'raccoon'})-[:INTERACTED_WITH]-(p2:User {name: 'sig'})\"\n ^}",
      "\nDuring handling of the above exception, another exception occurred:\n",
      "\u001b[0;31mValueError\u001b[0m                                Traceback (most recent call last)",
      "\u001b[0;32m/var/folders/fx/9j1kjmj574zc1f2r9056snnw0000gn/T/ipykernel_93359/2858332530.py\u001b[0m in \u001b[0;36m<cell line: 0>\u001b[0;34m()\u001b[0m\n\u001b[0;32m----> 1\u001b[0;31m \u001b[0mprettyCypherChain\u001b[0m\u001b[0;34m(\u001b[0m\u001b[0;34m\"How well does raccoon know sig?\"\u001b[0m\u001b[0;34m)\u001b[0m\u001b[0;34m\u001b[0m\u001b[0;34m\u001b[0m\u001b[0m\n\u001b[0m",
      "\u001b[0;32m/var/folders/fx/9j1kjmj574zc1f2r9056snnw0000gn/T/ipykernel_93359/447108891.py\u001b[0m in \u001b[0;36mprettyCypherChain\u001b[0;34m(question)\u001b[0m\n\u001b[1;32m      1\u001b[0m \u001b[0;32mdef\u001b[0m \u001b[0mprettyCypherChain\u001b[0m\u001b[0;34m(\u001b[0m\u001b[0mquestion\u001b[0m\u001b[0;34m:\u001b[0m \u001b[0mstr\u001b[0m\u001b[0;34m)\u001b[0m \u001b[0;34m->\u001b[0m \u001b[0mstr\u001b[0m\u001b[0;34m:\u001b[0m\u001b[0;34m\u001b[0m\u001b[0;34m\u001b[0m\u001b[0m\n\u001b[0;32m----> 2\u001b[0;31m     \u001b[0mresponse\u001b[0m \u001b[0;34m=\u001b[0m \u001b[0mcypherChain\u001b[0m\u001b[0;34m.\u001b[0m\u001b[0mrun\u001b[0m\u001b[0;34m(\u001b[0m\u001b[0mquestion\u001b[0m\u001b[0;34m)\u001b[0m\u001b[0;34m\u001b[0m\u001b[0;34m\u001b[0m\u001b[0m\n\u001b[0m\u001b[1;32m      3\u001b[0m     \u001b[0mprint\u001b[0m\u001b[0;34m(\u001b[0m\u001b[0mtextwrap\u001b[0m\u001b[0;34m.\u001b[0m\u001b[0mfill\u001b[0m\u001b[0;34m(\u001b[0m\u001b[0mresponse\u001b[0m\u001b[0;34m,\u001b[0m \u001b[0;36m60\u001b[0m\u001b[0;34m)\u001b[0m\u001b[0;34m)\u001b[0m\u001b[0;34m\u001b[0m\u001b[0;34m\u001b[0m\u001b[0m\n",
      "\u001b[0;32m/opt/homebrew/lib/python3.11/site-packages/langchain_core/_api/deprecation.py\u001b[0m in \u001b[0;36mwarning_emitting_wrapper\u001b[0;34m(*args, **kwargs)\u001b[0m\n\u001b[1;32m    143\u001b[0m                 \u001b[0mwarned\u001b[0m \u001b[0;34m=\u001b[0m \u001b[0;32mTrue\u001b[0m\u001b[0;34m\u001b[0m\u001b[0;34m\u001b[0m\u001b[0m\n\u001b[1;32m    144\u001b[0m                 \u001b[0memit_warning\u001b[0m\u001b[0;34m(\u001b[0m\u001b[0;34m)\u001b[0m\u001b[0;34m\u001b[0m\u001b[0;34m\u001b[0m\u001b[0m\n\u001b[0;32m--> 145\u001b[0;31m             \u001b[0;32mreturn\u001b[0m \u001b[0mwrapped\u001b[0m\u001b[0;34m(\u001b[0m\u001b[0;34m*\u001b[0m\u001b[0margs\u001b[0m\u001b[0;34m,\u001b[0m \u001b[0;34m**\u001b[0m\u001b[0mkwargs\u001b[0m\u001b[0;34m)\u001b[0m\u001b[0;34m\u001b[0m\u001b[0;34m\u001b[0m\u001b[0m\n\u001b[0m\u001b[1;32m    146\u001b[0m \u001b[0;34m\u001b[0m\u001b[0m\n\u001b[1;32m    147\u001b[0m         \u001b[0;32masync\u001b[0m \u001b[0;32mdef\u001b[0m \u001b[0mawarning_emitting_wrapper\u001b[0m\u001b[0;34m(\u001b[0m\u001b[0;34m*\u001b[0m\u001b[0margs\u001b[0m\u001b[0;34m:\u001b[0m \u001b[0mAny\u001b[0m\u001b[0;34m,\u001b[0m \u001b[0;34m**\u001b[0m\u001b[0mkwargs\u001b[0m\u001b[0;34m:\u001b[0m \u001b[0mAny\u001b[0m\u001b[0;34m)\u001b[0m \u001b[0;34m->\u001b[0m \u001b[0mAny\u001b[0m\u001b[0;34m:\u001b[0m\u001b[0;34m\u001b[0m\u001b[0;34m\u001b[0m\u001b[0m\n",
      "\u001b[0;32m/opt/homebrew/lib/python3.11/site-packages/langchain/chains/base.py\u001b[0m in \u001b[0;36mrun\u001b[0;34m(self, callbacks, tags, metadata, *args, **kwargs)\u001b[0m\n\u001b[1;32m    543\u001b[0m             \u001b[0;32mif\u001b[0m \u001b[0mlen\u001b[0m\u001b[0;34m(\u001b[0m\u001b[0margs\u001b[0m\u001b[0;34m)\u001b[0m \u001b[0;34m!=\u001b[0m \u001b[0;36m1\u001b[0m\u001b[0;34m:\u001b[0m\u001b[0;34m\u001b[0m\u001b[0;34m\u001b[0m\u001b[0m\n\u001b[1;32m    544\u001b[0m                 \u001b[0;32mraise\u001b[0m \u001b[0mValueError\u001b[0m\u001b[0;34m(\u001b[0m\u001b[0;34m\"`run` supports only one positional argument.\"\u001b[0m\u001b[0;34m)\u001b[0m\u001b[0;34m\u001b[0m\u001b[0;34m\u001b[0m\u001b[0m\n\u001b[0;32m--> 545\u001b[0;31m             return self(args[0], callbacks=callbacks, tags=tags, metadata=metadata)[\n\u001b[0m\u001b[1;32m    546\u001b[0m                 \u001b[0m_output_key\u001b[0m\u001b[0;34m\u001b[0m\u001b[0;34m\u001b[0m\u001b[0m\n\u001b[1;32m    547\u001b[0m             ]\n",
      "\u001b[0;32m/opt/homebrew/lib/python3.11/site-packages/langchain_core/_api/deprecation.py\u001b[0m in \u001b[0;36mwarning_emitting_wrapper\u001b[0;34m(*args, **kwargs)\u001b[0m\n\u001b[1;32m    143\u001b[0m                 \u001b[0mwarned\u001b[0m \u001b[0;34m=\u001b[0m \u001b[0;32mTrue\u001b[0m\u001b[0;34m\u001b[0m\u001b[0;34m\u001b[0m\u001b[0m\n\u001b[1;32m    144\u001b[0m                 \u001b[0memit_warning\u001b[0m\u001b[0;34m(\u001b[0m\u001b[0;34m)\u001b[0m\u001b[0;34m\u001b[0m\u001b[0;34m\u001b[0m\u001b[0m\n\u001b[0;32m--> 145\u001b[0;31m             \u001b[0;32mreturn\u001b[0m \u001b[0mwrapped\u001b[0m\u001b[0;34m(\u001b[0m\u001b[0;34m*\u001b[0m\u001b[0margs\u001b[0m\u001b[0;34m,\u001b[0m \u001b[0;34m**\u001b[0m\u001b[0mkwargs\u001b[0m\u001b[0;34m)\u001b[0m\u001b[0;34m\u001b[0m\u001b[0;34m\u001b[0m\u001b[0m\n\u001b[0m\u001b[1;32m    146\u001b[0m \u001b[0;34m\u001b[0m\u001b[0m\n\u001b[1;32m    147\u001b[0m         \u001b[0;32masync\u001b[0m \u001b[0;32mdef\u001b[0m \u001b[0mawarning_emitting_wrapper\u001b[0m\u001b[0;34m(\u001b[0m\u001b[0;34m*\u001b[0m\u001b[0margs\u001b[0m\u001b[0;34m:\u001b[0m \u001b[0mAny\u001b[0m\u001b[0;34m,\u001b[0m \u001b[0;34m**\u001b[0m\u001b[0mkwargs\u001b[0m\u001b[0;34m:\u001b[0m \u001b[0mAny\u001b[0m\u001b[0;34m)\u001b[0m \u001b[0;34m->\u001b[0m \u001b[0mAny\u001b[0m\u001b[0;34m:\u001b[0m\u001b[0;34m\u001b[0m\u001b[0;34m\u001b[0m\u001b[0m\n",
      "\u001b[0;32m/opt/homebrew/lib/python3.11/site-packages/langchain/chains/base.py\u001b[0m in \u001b[0;36m__call__\u001b[0;34m(self, inputs, return_only_outputs, callbacks, tags, metadata, run_name, include_run_info)\u001b[0m\n\u001b[1;32m    376\u001b[0m         }\n\u001b[1;32m    377\u001b[0m \u001b[0;34m\u001b[0m\u001b[0m\n\u001b[0;32m--> 378\u001b[0;31m         return self.invoke(\n\u001b[0m\u001b[1;32m    379\u001b[0m             \u001b[0minputs\u001b[0m\u001b[0;34m,\u001b[0m\u001b[0;34m\u001b[0m\u001b[0;34m\u001b[0m\u001b[0m\n\u001b[1;32m    380\u001b[0m             \u001b[0mcast\u001b[0m\u001b[0;34m(\u001b[0m\u001b[0mRunnableConfig\u001b[0m\u001b[0;34m,\u001b[0m \u001b[0;34m{\u001b[0m\u001b[0mk\u001b[0m\u001b[0;34m:\u001b[0m \u001b[0mv\u001b[0m \u001b[0;32mfor\u001b[0m \u001b[0mk\u001b[0m\u001b[0;34m,\u001b[0m \u001b[0mv\u001b[0m \u001b[0;32min\u001b[0m \u001b[0mconfig\u001b[0m\u001b[0;34m.\u001b[0m\u001b[0mitems\u001b[0m\u001b[0;34m(\u001b[0m\u001b[0;34m)\u001b[0m \u001b[0;32mif\u001b[0m \u001b[0mv\u001b[0m \u001b[0;32mis\u001b[0m \u001b[0;32mnot\u001b[0m \u001b[0;32mNone\u001b[0m\u001b[0;34m}\u001b[0m\u001b[0;34m)\u001b[0m\u001b[0;34m,\u001b[0m\u001b[0;34m\u001b[0m\u001b[0;34m\u001b[0m\u001b[0m\n",
      "\u001b[0;32m/opt/homebrew/lib/python3.11/site-packages/langchain/chains/base.py\u001b[0m in \u001b[0;36minvoke\u001b[0;34m(self, input, config, **kwargs)\u001b[0m\n\u001b[1;32m    161\u001b[0m         \u001b[0;32mexcept\u001b[0m \u001b[0mBaseException\u001b[0m \u001b[0;32mas\u001b[0m \u001b[0me\u001b[0m\u001b[0;34m:\u001b[0m\u001b[0;34m\u001b[0m\u001b[0;34m\u001b[0m\u001b[0m\n\u001b[1;32m    162\u001b[0m             \u001b[0mrun_manager\u001b[0m\u001b[0;34m.\u001b[0m\u001b[0mon_chain_error\u001b[0m\u001b[0;34m(\u001b[0m\u001b[0me\u001b[0m\u001b[0;34m)\u001b[0m\u001b[0;34m\u001b[0m\u001b[0;34m\u001b[0m\u001b[0m\n\u001b[0;32m--> 163\u001b[0;31m             \u001b[0;32mraise\u001b[0m \u001b[0me\u001b[0m\u001b[0;34m\u001b[0m\u001b[0;34m\u001b[0m\u001b[0m\n\u001b[0m\u001b[1;32m    164\u001b[0m         \u001b[0mrun_manager\u001b[0m\u001b[0;34m.\u001b[0m\u001b[0mon_chain_end\u001b[0m\u001b[0;34m(\u001b[0m\u001b[0moutputs\u001b[0m\u001b[0;34m)\u001b[0m\u001b[0;34m\u001b[0m\u001b[0;34m\u001b[0m\u001b[0m\n\u001b[1;32m    165\u001b[0m \u001b[0;34m\u001b[0m\u001b[0m\n",
      "\u001b[0;32m/opt/homebrew/lib/python3.11/site-packages/langchain/chains/base.py\u001b[0m in \u001b[0;36minvoke\u001b[0;34m(self, input, config, **kwargs)\u001b[0m\n\u001b[1;32m    151\u001b[0m             \u001b[0mself\u001b[0m\u001b[0;34m.\u001b[0m\u001b[0m_validate_inputs\u001b[0m\u001b[0;34m(\u001b[0m\u001b[0minputs\u001b[0m\u001b[0;34m)\u001b[0m\u001b[0;34m\u001b[0m\u001b[0;34m\u001b[0m\u001b[0m\n\u001b[1;32m    152\u001b[0m             outputs = (\n\u001b[0;32m--> 153\u001b[0;31m                 \u001b[0mself\u001b[0m\u001b[0;34m.\u001b[0m\u001b[0m_call\u001b[0m\u001b[0;34m(\u001b[0m\u001b[0minputs\u001b[0m\u001b[0;34m,\u001b[0m \u001b[0mrun_manager\u001b[0m\u001b[0;34m=\u001b[0m\u001b[0mrun_manager\u001b[0m\u001b[0;34m)\u001b[0m\u001b[0;34m\u001b[0m\u001b[0;34m\u001b[0m\u001b[0m\n\u001b[0m\u001b[1;32m    154\u001b[0m                 \u001b[0;32mif\u001b[0m \u001b[0mnew_arg_supported\u001b[0m\u001b[0;34m\u001b[0m\u001b[0;34m\u001b[0m\u001b[0m\n\u001b[1;32m    155\u001b[0m                 \u001b[0;32melse\u001b[0m \u001b[0mself\u001b[0m\u001b[0;34m.\u001b[0m\u001b[0m_call\u001b[0m\u001b[0;34m(\u001b[0m\u001b[0minputs\u001b[0m\u001b[0;34m)\u001b[0m\u001b[0;34m\u001b[0m\u001b[0;34m\u001b[0m\u001b[0m\n",
      "\u001b[0;32m/opt/homebrew/lib/python3.11/site-packages/langchain/chains/graph_qa/cypher.py\u001b[0m in \u001b[0;36m_call\u001b[0;34m(self, inputs, run_manager)\u001b[0m\n\u001b[1;32m    266\u001b[0m         \u001b[0;31m# Generated Cypher be null if query corrector identifies invalid schema\u001b[0m\u001b[0;34m\u001b[0m\u001b[0;34m\u001b[0m\u001b[0m\n\u001b[1;32m    267\u001b[0m         \u001b[0;32mif\u001b[0m \u001b[0mgenerated_cypher\u001b[0m\u001b[0;34m:\u001b[0m\u001b[0;34m\u001b[0m\u001b[0;34m\u001b[0m\u001b[0m\n\u001b[0;32m--> 268\u001b[0;31m             \u001b[0mcontext\u001b[0m \u001b[0;34m=\u001b[0m \u001b[0mself\u001b[0m\u001b[0;34m.\u001b[0m\u001b[0mgraph\u001b[0m\u001b[0;34m.\u001b[0m\u001b[0mquery\u001b[0m\u001b[0;34m(\u001b[0m\u001b[0mgenerated_cypher\u001b[0m\u001b[0;34m)\u001b[0m\u001b[0;34m[\u001b[0m\u001b[0;34m:\u001b[0m \u001b[0mself\u001b[0m\u001b[0;34m.\u001b[0m\u001b[0mtop_k\u001b[0m\u001b[0;34m]\u001b[0m\u001b[0;34m\u001b[0m\u001b[0;34m\u001b[0m\u001b[0m\n\u001b[0m\u001b[1;32m    269\u001b[0m         \u001b[0;32melse\u001b[0m\u001b[0;34m:\u001b[0m\u001b[0;34m\u001b[0m\u001b[0;34m\u001b[0m\u001b[0m\n\u001b[1;32m    270\u001b[0m             \u001b[0mcontext\u001b[0m \u001b[0;34m=\u001b[0m \u001b[0;34m[\u001b[0m\u001b[0;34m]\u001b[0m\u001b[0;34m\u001b[0m\u001b[0;34m\u001b[0m\u001b[0m\n",
      "\u001b[0;32m/opt/homebrew/lib/python3.11/site-packages/langchain_community/graphs/neo4j_graph.py\u001b[0m in \u001b[0;36mquery\u001b[0;34m(self, query, params)\u001b[0m\n\u001b[1;32m    246\u001b[0m                 \u001b[0;32mreturn\u001b[0m \u001b[0mjson_data\u001b[0m\u001b[0;34m\u001b[0m\u001b[0;34m\u001b[0m\u001b[0m\n\u001b[1;32m    247\u001b[0m             \u001b[0;32mexcept\u001b[0m \u001b[0mCypherSyntaxError\u001b[0m \u001b[0;32mas\u001b[0m \u001b[0me\u001b[0m\u001b[0;34m:\u001b[0m\u001b[0;34m\u001b[0m\u001b[0;34m\u001b[0m\u001b[0m\n\u001b[0;32m--> 248\u001b[0;31m                 \u001b[0;32mraise\u001b[0m \u001b[0mValueError\u001b[0m\u001b[0;34m(\u001b[0m\u001b[0;34mf\"Generated Cypher Statement is not valid\\n{e}\"\u001b[0m\u001b[0;34m)\u001b[0m\u001b[0;34m\u001b[0m\u001b[0;34m\u001b[0m\u001b[0m\n\u001b[0m\u001b[1;32m    249\u001b[0m \u001b[0;34m\u001b[0m\u001b[0m\n\u001b[1;32m    250\u001b[0m     \u001b[0;32mdef\u001b[0m \u001b[0mrefresh_schema\u001b[0m\u001b[0;34m(\u001b[0m\u001b[0mself\u001b[0m\u001b[0;34m)\u001b[0m \u001b[0;34m->\u001b[0m \u001b[0;32mNone\u001b[0m\u001b[0;34m:\u001b[0m\u001b[0;34m\u001b[0m\u001b[0;34m\u001b[0m\u001b[0m\n",
      "\u001b[0;31mValueError\u001b[0m: Generated Cypher Statement is not valid\n{code: Neo.ClientError.Statement.SyntaxError} {message: Query cannot conclude with MATCH (must be a RETURN clause, an update clause, a unit subquery call, or a procedure call with no YIELD) (line 2, column 1 (offset: 1))\n\"MATCH (p1:User {name: 'raccoon'})-[:INTERACTED_WITH]-(p2:User {name: 'sig'})\"\n ^}"
     ]
    }
   ],
   "source": [
    "prettyCypherChain(\"How well does raccoon know sig?\")"
   ]
  },
  {
   "cell_type": "code",
   "execution_count": null,
   "id": "2a6c9c99-b1a7-48de-a464-93a97c15a1ab",
   "metadata": {},
   "outputs": [],
   "source": [
    "prettyCypherChain(\"How well does leku know sig?\")"
   ]
  },
  {
   "cell_type": "code",
   "execution_count": null,
   "id": "d77ea0bb-8ab7-45ea-8c56-6693378ca54e",
   "metadata": {},
   "outputs": [],
   "source": [
    "prettyCypherChain(\"What does bysin talk about mostly?\")"
   ]
  },
  {
   "cell_type": "code",
   "execution_count": null,
   "id": "275a253f-4e55-44fb-b48d-8d3215fd57b5",
   "metadata": {},
   "outputs": [],
   "source": [
    "prettyCypherChain(\"What are bysin's hobbies?\")"
   ]
  },
  {
   "cell_type": "code",
   "execution_count": null,
   "id": "880ffa99-4ba3-4fcf-8b88-ca8f221b809c",
   "metadata": {},
   "outputs": [],
   "source": [
    "prettyCypherChain(\"Is bysin an alcoholic?\")"
   ]
  },
  {
   "cell_type": "code",
   "execution_count": null,
   "id": "3566ab12-5498-478e-95e1-7032bff049e1",
   "metadata": {},
   "outputs": [],
   "source": []
  }
 ],
 "metadata": {
  "kernelspec": {
   "display_name": "Python 3 (ipykernel)",
   "language": "python",
   "name": "python3"
  },
  "language_info": {
   "codemirror_mode": {
    "name": "ipython",
    "version": 3
   },
   "file_extension": ".py",
   "mimetype": "text/x-python",
   "name": "python",
   "nbconvert_exporter": "python",
   "pygments_lexer": "ipython3",
   "version": "3.11.8"
  }
 },
 "nbformat": 4,
 "nbformat_minor": 5
}
