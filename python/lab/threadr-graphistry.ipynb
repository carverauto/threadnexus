{
 "cells": [
  {
   "cell_type": "code",
   "execution_count": null,
   "id": "initial_id",
   "metadata": {
    "collapsed": true
   },
   "outputs": [],
   "source": [
    "%pip install neo4j graphistry[bolt]"
   ]
  },
  {
   "cell_type": "code",
   "outputs": [],
   "source": [
    "import os\n",
    "import warnings\n",
    "import neo4j\n",
    "from neo4j import GraphDatabase, Driver\n",
    "import graphistry\n",
    "import pandas as pd\n",
    "\n",
    "\n",
    "warnings.filterwarnings(\"ignore\")\n",
    "\n",
    "NEO4J_URI = \"bolt://neo4j.neo4j.svc.cluster.local:7687\"\n",
    "NEO4J_PASSWORD = os.getenv(\"NEO4J_PASSWORD\")\n",
    "NEO4J_DATABASE = 'neo4j'\n",
    "NEO4J_CREDS = {'uri': NEO4J_URI, 'auth': ('neo4j', NEO4J_PASSWORD)}\n",
    "\n",
    "print('neo4j', neo4j.__version__)\n",
    "print('graphistry', graphistry.__version__)"
   ],
   "metadata": {
    "collapsed": false
   },
   "id": "ebe87f95577529de",
   "execution_count": null
  },
  {
   "cell_type": "code",
   "outputs": [],
   "source": [
    "# Function to convert Neo4j results to a Pandas DataFrame\n",
    "def neo4j_results_to_df(results):\n",
    "    return pd.DataFrame([dict(record) for record in results])"
   ],
   "metadata": {
    "collapsed": false
   },
   "id": "80643b0dec924963",
   "execution_count": null
  },
  {
   "cell_type": "code",
   "outputs": [],
   "source": [
    "driver = GraphDatabase.driver(**NEO4J_CREDS)\n",
    "\n",
    "# Execute Cypher query and fetch results\n",
    "cypher_query = \"\"\"\n",
    "MATCH (n)-[r]->(m) \n",
    "RETURN n, r, m\n",
    "\"\"\"\n",
    "with driver.session() as session:\n",
    "    results = session.run(cypher_query)\n",
    "    df = neo4j_results_to_df(results)\n",
    "\n",
    "# Now you have a DataFrame `df` with your results\n",
    "#print(df.head())\n",
    "#df.rename(columns={'n': 'node_n', 'r': 'relationship_r', 'm': 'node_m'}, inplace=True)\n",
    "\n",
    "# Create an empty DataFrame for nodes\n",
    "nodes_list = []\n",
    "# Create an empty DataFrame for edges\n",
    "edges_list = []\n",
    "\n",
    "node_id_counter = 0\n",
    "node_mapping = {}\n",
    "\n",
    "for index, row in df.iterrows():\n",
    "    # Process node n\n",
    "    if str(row['n']) not in node_mapping:\n",
    "        node_mapping[str(row['n'])] = node_id_counter\n",
    "        nodes_list.append({'id': node_id_counter, 'properties': row['n']})\n",
    "        node_id_counter += 1\n",
    "    n_id = node_mapping[str(row['n'])]\n",
    "    \n",
    "    # Process node m\n",
    "    if str(row['m']) not in node_mapping:\n",
    "        node_mapping[str(row['m'])] = node_id_counter\n",
    "        nodes_list.append({'id': node_id_counter, 'properties': row['m']})\n",
    "        node_id_counter += 1\n",
    "    m_id = node_mapping[str(row['m'])]\n",
    "    \n",
    "    # Add edge\n",
    "    edges_list.append({'source': n_id, 'target': m_id, 'properties': row['r']})\n",
    "\n",
    "nodes_df = pd.DataFrame(nodes_list)\n",
    "edges_df = pd.DataFrame(edges_list)\n",
    "\n",
    "print(nodes_df.head())\n",
    "print(edges_df.head())\n"
   ],
   "metadata": {
    "collapsed": false
   },
   "id": "864827924620f1b2",
   "execution_count": null
  },
  {
   "cell_type": "code",
   "outputs": [
    {
     "name": "stderr",
     "output_type": "stream",
     "text": [
      "Failed memoization speedup attempt due to Pandas internal hash function failing. Continuing without memoization speedups.This is fine, but for speedups around skipping re-uploads of previously seen tables, try identifying which columns have types that Pandas cannot hash, and convert them to hashable types like strings."
     ]
    },
    {
     "name": "stdout",
     "output_type": "stream",
     "text": [
      "   id      name                                          embedding platform  \\\n",
      "0   0      leku                                                NaN      NaN   \n",
      "1   1       NaN  [0.00042079141712747514, 0.015910571441054344,...      IRC   \n",
      "2   2  #𝓉𝓌𝑒𝓇𝓀𝒾𝓃                                                NaN      NaN   \n",
      "3   3  chasebot                                                NaN      NaN   \n",
      "4   4       NaN  [0.00042079141712747514, 0.015910571441054344,...      IRC   \n",
      "\n",
      "                            content                         timestamp  \n",
      "0                               NaN                               NaN  \n",
      "1  chasebot: whats going onasdfadsf  2024-03-31T15:47:43.883680+00:00  \n",
      "2                               NaN                               NaN  \n",
      "3                               NaN                               NaN  \n",
      "4                        bugs fixed  2024-03-31T15:49:20.825651+00:00  \n",
      "   source  target  weight       type\n",
      "0       0       1     NaN        NaN\n",
      "1       1       2     NaN        NaN\n",
      "2       1       3     NaN        NaN\n",
      "3       0       3     1.0        NaN\n",
      "4       0       3     1.0  MENTIONED\n",
      "Nodes count: 386\n",
      "Edges count: 813\n"
     ]
    },
    {
     "data": {
      "text/plain": "<IPython.core.display.HTML object>",
      "text/html": "\n            <iframe id=\"ae7af7ff-33e8-4698-ae49-0661793b18e1\" src=\"https://hub.graphistry.com/graph/graph.html?dataset=5aeef4785ed443d78f702e442b747629&type=arrow&viztoken=b5ab759e-bd23-48d2-9c6e-f1395a089e5a&usertag=68942877-pygraphistry-0.33.7&splashAfter=1712630779&info=true\"\n                    allowfullscreen=\"true\" webkitallowfullscreen=\"true\" mozallowfullscreen=\"true\"\n                    oallowfullscreen=\"true\" msallowfullscreen=\"true\"\n                    style=\"width:100%; height:500px; border: 1px solid #DDD; overflow: hidden\"\n                    \n            >\n            </iframe>\n        \n            <script>\n                try {\n                  $(\"#ae7af7ff-33e8-4698-ae49-0661793b18e1\").bind('mousewheel', function(e) { e.preventDefault(); });\n                } catch (e) { console.error('exn catching scroll', e); }\n            </script>\n        "
     },
     "execution_count": 78,
     "metadata": {},
     "output_type": "execute_result"
    }
   ],
   "source": [
    "# Expand the 'properties' column into separate columns\n",
    "#nodes_df = pd.concat([nodes_df.drop(['properties'], axis=1), nodes_df['properties'].apply(pd.Series)], axis=1)\n",
    "#edges_df = pd.concat([edges_df.drop(['properties'], axis=1), edges_df['properties'].apply(pd.Series)], axis=1)\n",
    "\n",
    "print(\"Nodes count:\", len(nodes_df))\n",
    "print(\"Edges count:\", len(edges_df))\n",
    "\n",
    "#nodes_df['properties'] = nodes_df['properties'].apply(lambda x: str(x))\n",
    "#edges_df['properties'] = edges_df['properties'].apply(lambda x: str(x))\n",
    "\n",
    "edges_df['source'] = edges_df['source'].astype(str)\n",
    "edges_df['target'] = edges_df['target'].astype(str)\n",
    "nodes_df['id'] = nodes_df['id'].astype(str)\n",
    "\n",
    "# Bind your nodes and edges to the Graphistry plotter\n",
    "# plotter = graphistry.bind(source=\"source\", destination=\"target\", node='id').nodes(nodes_df).edges(edges_df)\n",
    "plotter = graphistry.bind(source=\"source\", destination=\"target\", node='id')\n",
    "\n",
    "plotter = plotter.bind(point_title='name')\n",
    "\n",
    "plotter = plotter.bind(edge_title='type', edge_weight='weight')\n",
    "\n",
    "plotter = plotter.nodes(nodes_df).edges(edges_df)\n",
    "\n",
    "\n",
    "# If you expanded the properties into separate columns, you can bind them here for more detailed tooltips\n",
    "# For example, if you have a 'name' column in nodes_df:\n",
    "# plotter = plotter.bind(node='id', point_title='name')\n",
    "\n",
    "# Visualize!\n",
    "plotter.plot()"
   ],
   "metadata": {
    "collapsed": false,
    "ExecuteTime": {
     "end_time": "2024-04-09T02:46:04.504654Z",
     "start_time": "2024-04-09T02:46:02.888646Z"
    }
   },
   "id": "cfa15ae7bc74e9f4",
   "execution_count": 78
  },
  {
   "cell_type": "code",
   "outputs": [],
   "source": [
    "graphistry.register(\n",
    "    bolt=driver,\n",
    "    personal_key_id='MFX7K832K8', \n",
    "    personal_key_secret=os.getenv('GRAPHISTRY_API_KEY')) "
   ],
   "metadata": {
    "collapsed": false
   },
   "id": "680e72e5ec25ace9",
   "execution_count": null
  },
  {
   "cell_type": "code",
   "outputs": [],
   "source": [
    "graphistry.cypher(\"CALL db.schema.visualization()\").plot()"
   ],
   "metadata": {
    "collapsed": false
   },
   "id": "801b5b98bfccc14f",
   "execution_count": null
  },
  {
   "cell_type": "code",
   "outputs": [],
   "source": [
    "# rename graphistry nodes and relationships\n",
    "#print(graphistry.nodes())\n",
    "\n",
    "try:\n",
    "    #result = graphistry.cypher(\"MATCH (n)-[r]->(m) RETURN n, r, m LIMIT 25\")\n",
    "    result = graphistry.cypher(\"\"\"\n",
    "        MATCH (n)-[r]->(m) RETURN n.name AS nodeName, r.type AS relationshipType, m.name AS mName LIMIT 25\n",
    "    \"\"\")\n",
    "\n",
    "    print(result)  # Or inspect the structure/type of result\n",
    "\n",
    "    # Example: Convert a problematic 'embedding' column to a string representation\n",
    "    if 'embedding' in result['nodes'].columns:\n",
    "        result['nodes']['embedding'] = result['nodes']['embedding'].apply(lambda x: str(x))\n",
    "\n",
    "    result.plot()\n",
    "except Exception as e:\n",
    "    print(f\"Error: {e}\")"
   ],
   "metadata": {
    "collapsed": false
   },
   "id": "dd8ff0c9ae354fff",
   "execution_count": null
  },
  {
   "cell_type": "code",
   "outputs": [],
   "source": [],
   "metadata": {
    "collapsed": false
   },
   "id": "11ddce5d9fa417e4"
  }
 ],
 "metadata": {
  "kernelspec": {
   "display_name": "Python 3",
   "language": "python",
   "name": "python3"
  },
  "language_info": {
   "codemirror_mode": {
    "name": "ipython",
    "version": 2
   },
   "file_extension": ".py",
   "mimetype": "text/x-python",
   "name": "python",
   "nbconvert_exporter": "python",
   "pygments_lexer": "ipython2",
   "version": "2.7.6"
  }
 },
 "nbformat": 4,
 "nbformat_minor": 5
}
