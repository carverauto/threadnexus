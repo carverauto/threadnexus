{
 "cells": [
  {
   "cell_type": "code",
   "execution_count": null,
   "id": "initial_id",
   "metadata": {
    "collapsed": true
   },
   "outputs": [],
   "source": [
    "%pip install neo4j graphistry[bolt]"
   ]
  },
  {
   "cell_type": "code",
   "outputs": [],
   "source": [
    "import os\n",
    "import warnings\n",
    "import neo4j\n",
    "from neo4j import GraphDatabase, Driver\n",
    "import graphistry\n",
    "import pandas as pd\n",
    "\n",
    "\n",
    "warnings.filterwarnings(\"ignore\")\n",
    "\n",
    "NEO4J_URI = \"bolt://neo4j.neo4j.svc.cluster.local:7687\"\n",
    "NEO4J_PASSWORD = os.getenv(\"NEO4J_PASSWORD\")\n",
    "NEO4J_DATABASE = 'neo4j'\n",
    "NEO4J_CREDS = {'uri': NEO4J_URI, 'auth': ('neo4j', NEO4J_PASSWORD)}\n",
    "\n",
    "print('neo4j', neo4j.__version__)\n",
    "print('graphistry', graphistry.__version__)"
   ],
   "metadata": {
    "collapsed": false
   },
   "id": "ebe87f95577529de",
   "execution_count": null
  },
  {
   "cell_type": "code",
   "outputs": [],
   "source": [
    "# Function to convert Neo4j results to a Pandas DataFrame\n",
    "def neo4j_results_to_df(results):\n",
    "    return pd.DataFrame([dict(record) for record in results])"
   ],
   "metadata": {
    "collapsed": false
   },
   "id": "80643b0dec924963",
   "execution_count": null
  },
  {
   "cell_type": "code",
   "outputs": [
    {
     "name": "stdout",
     "output_type": "stream",
     "text": [
      "Nodes data length: 9090\n",
      "Edges data length: 4545\n",
      "Nodes after deduplication: 2049\n",
      "Null 'id' values in nodes_df: 0\n",
      "Null 'source' values in edges_df: 0\n",
      "Null 'target' values in edges_df: 0\n",
      "count     56.000000\n",
      "mean      15.142857\n",
      "std       48.464956\n",
      "min        2.000000\n",
      "25%        5.000000\n",
      "50%        7.000000\n",
      "75%        8.000000\n",
      "max      355.000000\n",
      "Name: name, dtype: float64\n",
      "count    118.000000\n",
      "mean       7.474576\n",
      "std       14.979594\n",
      "min        1.000000\n",
      "25%        1.000000\n",
      "50%        2.000000\n",
      "75%        4.000000\n",
      "max       75.000000\n",
      "Name: weight, dtype: float64\n"
     ]
    }
   ],
   "source": [
    "driver = GraphDatabase.driver(**NEO4J_CREDS)\n",
    "\n",
    "# Execute Cypher query and fetch results\n",
    "cypher_query_old = \"\"\"\n",
    "MATCH (n)-[r]->(m) \n",
    "RETURN n, r, m\n",
    "\"\"\"\n",
    "cypher_query = \"\"\"\n",
    "MATCH (n)-[r]->(m)\n",
    "RETURN \n",
    "    id(n) AS n_id, n.name AS n_name, n.platform AS n_platform, n.content AS n_content, n.timestamp AS n_timestamp,\n",
    "    id(m) AS m_id, m.name AS m_name, m.platform AS m_platform, m.content AS m_content, m.timestamp AS m_timestamp,\n",
    "    id(r) AS r_id, type(r) AS r_type, r.weight AS r_weight\n",
    "\"\"\"\n",
    "\n",
    "with driver.session() as session:\n",
    "    results = session.run(cypher_query)\n",
    "    # Initialize lists to store node and edge data\n",
    "    nodes_data = []\n",
    "    edges_data = []\n",
    "    \n",
    "    for record in results:\n",
    "        # Process node n\n",
    "        nodes_data.append({\n",
    "            'id': record['n_id'], \n",
    "            'name': record['n_name'], \n",
    "            'platform': record.get('n_platform', ''), \n",
    "            'content': record.get('n_content', ''), \n",
    "            'timestamp': record.get('n_timestamp', '')\n",
    "        })\n",
    "        # Process node m\n",
    "        nodes_data.append({\n",
    "            'id': record['m_id'], \n",
    "            'name': record['m_name'], \n",
    "            'platform': record.get('m_platform', ''), \n",
    "            'content': record.get('m_content', ''), \n",
    "            'timestamp': record.get('m_timestamp', '')\n",
    "        })\n",
    "        # Process edge r\n",
    "        edges_data.append({\n",
    "            'source': record['n_id'], \n",
    "            'target': record['m_id'], \n",
    "            'type': record['r_type'], \n",
    "            'weight': record.get('r_weight', 0)\n",
    "        })\n",
    "# show counts\n",
    "print(f\"Nodes data length: {len(nodes_data)}\")\n",
    "print(f\"Edges data length: {len(edges_data)}\")\n",
    "\n",
    "# Remove duplicate nodes\n",
    "nodes_df = pd.DataFrame(nodes_data).drop_duplicates(subset=['id']).reset_index(drop=True)\n",
    "print(f\"Nodes after deduplication: {len(nodes_df)}\")\n",
    "\n",
    "edges_df = pd.DataFrame(edges_data)\n",
    "\n",
    "# Checking specific columns for null values in nodes_df\n",
    "print(\"Null 'id' values in nodes_df:\", nodes_df['id'].isnull().sum())\n",
    "\n",
    "# Checking specific columns for null values in edges_df\n",
    "print(\"Null 'source' values in edges_df:\", edges_df['source'].isnull().sum())\n",
    "print(\"Null 'target' values in edges_df:\", edges_df['target'].isnull().sum())\n",
    "\n",
    "nodes_df['id'] = nodes_df['id'].astype(str)\n",
    "edges_df['source'] = edges_df['source'].astype(str)\n",
    "edges_df['target'] = edges_df['target'].astype(str)\n",
    "\n",
    "print(nodes_df['name'].str.len().describe())\n",
    "print(edges_df['weight'].describe())"
   ],
   "metadata": {
    "collapsed": false,
    "ExecuteTime": {
     "end_time": "2024-04-11T01:24:31.651918Z",
     "start_time": "2024-04-11T01:24:31.419764Z"
    }
   },
   "id": "864827924620f1b2",
   "execution_count": 37
  },
  {
   "cell_type": "code",
   "outputs": [],
   "source": [
    "graphistry.register(api=3,personal_key_id='MFX7K832K8', personal_key_secret=os.getenv(\"GRAPHISTRY_API_KEY\"))"
   ],
   "metadata": {
    "collapsed": false
   },
   "id": "77978abe4478ac02",
   "execution_count": null
  },
  {
   "cell_type": "code",
   "outputs": [],
   "source": [
    "subset_nodes_df = nodes_df.sample(n=100)  # Adjust n as needed\n",
    "subset_edges_df = edges_df[edges_df['source'].isin(subset_nodes_df['id']) & edges_df['target'].isin(subset_nodes_df['id'])]\n",
    "\n",
    "plotter = graphistry.bind(source=\"source\", destination=\"target\", node='id').nodes(subset_nodes_df).edges(subset_edges_df)\n",
    "plotter.plot()"
   ],
   "metadata": {
    "collapsed": false
   },
   "id": "2fb74346c0928007"
  },
  {
   "cell_type": "code",
   "outputs": [
    {
     "data": {
      "text/plain": "<IPython.core.display.HTML object>",
      "text/html": "\n            <iframe id=\"50a88fcc-b73d-4c68-a4b1-7400aa78bc8a\" src=\"https://hub.graphistry.com/graph/graph.html?dataset=1d45575062a347dcbaa33c4b0ed01d87&type=arrow&viztoken=ff4a773b-6fba-437d-a4f8-09702430b21c&usertag=fc87eb7f-pygraphistry-0.33.7&splashAfter=1712798723&info=true\"\n                    allowfullscreen=\"true\" webkitallowfullscreen=\"true\" mozallowfullscreen=\"true\"\n                    oallowfullscreen=\"true\" msallowfullscreen=\"true\"\n                    style=\"width:100%; height:500px; border: 1px solid #DDD; overflow: hidden\"\n                    \n            >\n            </iframe>\n        \n            <script>\n                try {\n                  $(\"#50a88fcc-b73d-4c68-a4b1-7400aa78bc8a\").bind('mousewheel', function(e) { e.preventDefault(); });\n                } catch (e) { console.error('exn catching scroll', e); }\n            </script>\n        "
     },
     "execution_count": 38,
     "metadata": {},
     "output_type": "execute_result"
    }
   ],
   "source": [
    "plotter = graphistry.bind(source=\"source\", destination=\"target\", node='id')\n",
    "plotter = plotter.bind(point_title='name', edge_title='type', edge_weight='weight')\n",
    "plotter = plotter.nodes(nodes_df).edges(edges_df)\n",
    "plotter.plot()"
   ],
   "metadata": {
    "collapsed": false,
    "ExecuteTime": {
     "end_time": "2024-04-11T01:25:08.222124Z",
     "start_time": "2024-04-11T01:25:06.473026Z"
    }
   },
   "id": "65b91fad1df5cebb",
   "execution_count": 38
  },
  {
   "cell_type": "code",
   "outputs": [],
   "source": [],
   "metadata": {
    "collapsed": false
   },
   "id": "6fa7d9f3ffc87183"
  }
 ],
 "metadata": {
  "kernelspec": {
   "display_name": "Python 3",
   "language": "python",
   "name": "python3"
  },
  "language_info": {
   "codemirror_mode": {
    "name": "ipython",
    "version": 2
   },
   "file_extension": ".py",
   "mimetype": "text/x-python",
   "name": "python",
   "nbconvert_exporter": "python",
   "pygments_lexer": "ipython2",
   "version": "2.7.6"
  }
 },
 "nbformat": 4,
 "nbformat_minor": 5
}
