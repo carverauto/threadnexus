{
 "cells": [
  {
   "cell_type": "code",
   "execution_count": null,
   "id": "initial_id",
   "metadata": {
    "collapsed": true
   },
   "outputs": [],
   "source": [
    "%pip install neo4j graphistry[bolt]"
   ]
  },
  {
   "cell_type": "code",
   "outputs": [],
   "source": [
    "import os\n",
    "import warnings\n",
    "import neo4j\n",
    "from neo4j import GraphDatabase, Driver\n",
    "import graphistry\n",
    "import pandas as pd\n",
    "\n",
    "\n",
    "warnings.filterwarnings(\"ignore\")\n",
    "\n",
    "NEO4J_URI = \"bolt://neo4j.neo4j.svc.cluster.local:7687\"\n",
    "NEO4J_PASSWORD = os.getenv(\"NEO4J_PASSWORD\")\n",
    "NEO4J_DATABASE = 'neo4j'\n",
    "NEO4J_CREDS = {'uri': NEO4J_URI, 'auth': ('neo4j', NEO4J_PASSWORD)}\n",
    "\n",
    "print('neo4j', neo4j.__version__)\n",
    "print('graphistry', graphistry.__version__)"
   ],
   "metadata": {
    "collapsed": false
   },
   "id": "ebe87f95577529de",
   "execution_count": null
  },
  {
   "cell_type": "code",
   "outputs": [],
   "source": [
    "# Function to convert Neo4j results to a Pandas DataFrame\n",
    "def neo4j_results_to_df(results):\n",
    "    return pd.DataFrame([dict(record) for record in results])"
   ],
   "metadata": {
    "collapsed": false
   },
   "id": "80643b0dec924963",
   "execution_count": null
  },
  {
   "cell_type": "code",
   "outputs": [],
   "source": [
    "driver = GraphDatabase.driver(**NEO4J_CREDS)\n",
    "\n",
    "# Execute Cypher query and fetch results\n",
    "cypher_query_old = \"\"\"\n",
    "MATCH (n)-[r]->(m) \n",
    "RETURN n, r, m\n",
    "\"\"\"\n",
    "cypher_query = \"\"\"\n",
    "MATCH (n)-[r]->(m)\n",
    "RETURN \n",
    "    id(n) AS n_id, n.name AS n_name, n.platform AS n_platform, n.content AS n_content, n.timestamp AS n_timestamp,\n",
    "    id(m) AS m_id, m.name AS m_name, m.platform AS m_platform, m.content AS m_content, m.timestamp AS m_timestamp,\n",
    "    id(r) AS r_id, type(r) AS r_type, r.weight AS r_weight\n",
    "\"\"\"\n",
    "\n",
    "with driver.session() as session:\n",
    "    results = session.run(cypher_query)\n",
    "    # Initialize lists to store node and edge data\n",
    "    nodes_data = []\n",
    "    edges_data = []\n",
    "    \n",
    "    for record in results:\n",
    "        # Process node n\n",
    "        nodes_data.append({\n",
    "            'id': record['n_id'], \n",
    "            'name': record['n_name'], \n",
    "            'platform': record.get('n_platform', ''), \n",
    "            'content': record.get('n_content', ''), \n",
    "            'timestamp': record.get('n_timestamp', '')\n",
    "        })\n",
    "        # Process node m\n",
    "        nodes_data.append({\n",
    "            'id': record['m_id'], \n",
    "            'name': record['m_name'], \n",
    "            'platform': record.get('m_platform', ''), \n",
    "            'content': record.get('m_content', ''), \n",
    "            'timestamp': record.get('m_timestamp', '')\n",
    "        })\n",
    "        # Process edge r\n",
    "        edges_data.append({\n",
    "            'source': record['n_id'], \n",
    "            'target': record['m_id'], \n",
    "            'type': record['r_type'], \n",
    "            'weight': record.get('r_weight', 0)\n",
    "        })\n",
    "\n",
    "# Remove duplicate nodes\n",
    "nodes_df = pd.DataFrame(nodes_data).drop_duplicates(subset=['id']).reset_index(drop=True)\n",
    "edges_df = pd.DataFrame(edges_data)\n"
   ],
   "metadata": {
    "collapsed": false
   },
   "id": "864827924620f1b2",
   "execution_count": null
  },
  {
   "cell_type": "code",
   "outputs": [
    {
     "data": {
      "text/plain": "<IPython.core.display.HTML object>",
      "text/html": "\n            <iframe id=\"cf866cb1-9fd0-4642-95b8-55df04709285\" src=\"https://hub.graphistry.com/graph/graph.html?dataset=98b09500a59546d6aa7d6a016be39d44&type=arrow&viztoken=925f6f5c-cdfb-499d-9aa1-597c92d32db3&usertag=68942877-pygraphistry-0.33.7&splashAfter=1712631291&info=true\"\n                    allowfullscreen=\"true\" webkitallowfullscreen=\"true\" mozallowfullscreen=\"true\"\n                    oallowfullscreen=\"true\" msallowfullscreen=\"true\"\n                    style=\"width:100%; height:500px; border: 1px solid #DDD; overflow: hidden\"\n                    \n            >\n            </iframe>\n        \n            <script>\n                try {\n                  $(\"#cf866cb1-9fd0-4642-95b8-55df04709285\").bind('mousewheel', function(e) { e.preventDefault(); });\n                } catch (e) { console.error('exn catching scroll', e); }\n            </script>\n        "
     },
     "execution_count": 82,
     "metadata": {},
     "output_type": "execute_result"
    }
   ],
   "source": [
    "plotter = graphistry.bind(source=\"source\", destination=\"target\", node='id')\n",
    "plotter = plotter.bind(point_title='name', edge_title='type', edge_weight='weight')\n",
    "plotter = plotter.nodes(nodes_df).edges(edges_df)\n",
    "plotter.plot()"
   ],
   "metadata": {
    "collapsed": false,
    "ExecuteTime": {
     "end_time": "2024-04-09T02:54:36.200214Z",
     "start_time": "2024-04-09T02:54:34.873341Z"
    }
   },
   "id": "65b91fad1df5cebb",
   "execution_count": 82
  }
 ],
 "metadata": {
  "kernelspec": {
   "display_name": "Python 3",
   "language": "python",
   "name": "python3"
  },
  "language_info": {
   "codemirror_mode": {
    "name": "ipython",
    "version": 2
   },
   "file_extension": ".py",
   "mimetype": "text/x-python",
   "name": "python",
   "nbconvert_exporter": "python",
   "pygments_lexer": "ipython2",
   "version": "2.7.6"
  }
 },
 "nbformat": 4,
 "nbformat_minor": 5
}
