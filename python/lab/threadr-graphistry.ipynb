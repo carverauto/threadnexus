{
 "cells": [
  {
   "cell_type": "code",
   "execution_count": 8,
   "id": "initial_id",
   "metadata": {
    "collapsed": true,
    "ExecuteTime": {
     "end_time": "2024-04-10T22:57:04.843493Z",
     "start_time": "2024-04-10T22:57:01.900063Z"
    }
   },
   "outputs": [
    {
     "name": "stdout",
     "output_type": "stream",
     "text": [
      "Requirement already satisfied: neo4j in ./.local/lib/python3.11/site-packages (5.19.0)\r\n",
      "Requirement already satisfied: graphistry[bolt] in /opt/conda/lib/python3.11/site-packages (0.33.7)\r\n",
      "Requirement already satisfied: pytz in ./.local/lib/python3.11/site-packages (from neo4j) (2024.1)\r\n",
      "Requirement already satisfied: numpy in ./.local/lib/python3.11/site-packages (from graphistry[bolt]) (1.26.4)\r\n",
      "Requirement already satisfied: palettable>=3.0 in /opt/conda/lib/python3.11/site-packages (from graphistry[bolt]) (3.3.3)\r\n",
      "Requirement already satisfied: pandas in ./.local/lib/python3.11/site-packages (from graphistry[bolt]) (2.2.1)\r\n",
      "Requirement already satisfied: pyarrow>=0.15.0 in /opt/conda/lib/python3.11/site-packages (from graphistry[bolt]) (15.0.2)\r\n",
      "Requirement already satisfied: requests in /opt/conda/lib/python3.11/site-packages (from graphistry[bolt]) (2.31.0)\r\n",
      "Requirement already satisfied: squarify in /opt/conda/lib/python3.11/site-packages (from graphistry[bolt]) (0.4.3)\r\n",
      "Requirement already satisfied: typing-extensions in /opt/conda/lib/python3.11/site-packages (from graphistry[bolt]) (4.10.0)\r\n",
      "Requirement already satisfied: packaging>=20.1 in /opt/conda/lib/python3.11/site-packages (from graphistry[bolt]) (23.2)\r\n",
      "Requirement already satisfied: setuptools in /opt/conda/lib/python3.11/site-packages (from graphistry[bolt]) (69.2.0)\r\n",
      "Requirement already satisfied: neotime in /opt/conda/lib/python3.11/site-packages (from graphistry[bolt]) (1.7.4)\r\n",
      "Requirement already satisfied: six in /opt/conda/lib/python3.11/site-packages (from neotime->graphistry[bolt]) (1.16.0)\r\n",
      "Requirement already satisfied: python-dateutil>=2.8.2 in /opt/conda/lib/python3.11/site-packages (from pandas->graphistry[bolt]) (2.9.0)\r\n",
      "Requirement already satisfied: tzdata>=2022.7 in ./.local/lib/python3.11/site-packages (from pandas->graphistry[bolt]) (2024.1)\r\n",
      "Requirement already satisfied: charset-normalizer<4,>=2 in /opt/conda/lib/python3.11/site-packages (from requests->graphistry[bolt]) (3.3.2)\r\n",
      "Requirement already satisfied: idna<4,>=2.5 in /opt/conda/lib/python3.11/site-packages (from requests->graphistry[bolt]) (3.6)\r\n",
      "Requirement already satisfied: urllib3<3,>=1.21.1 in /opt/conda/lib/python3.11/site-packages (from requests->graphistry[bolt]) (2.2.1)\r\n",
      "Requirement already satisfied: certifi>=2017.4.17 in /opt/conda/lib/python3.11/site-packages (from requests->graphistry[bolt]) (2024.2.2)\r\n",
      "Note: you may need to restart the kernel to use updated packages.\n"
     ]
    }
   ],
   "source": [
    "%pip install neo4j graphistry[bolt]"
   ]
  },
  {
   "cell_type": "code",
   "outputs": [
    {
     "name": "stdout",
     "output_type": "stream",
     "text": [
      "neo4j 5.19.0\n",
      "graphistry 0.33.7\n"
     ]
    }
   ],
   "source": [
    "import os\n",
    "import warnings\n",
    "import neo4j\n",
    "from neo4j import GraphDatabase, Driver\n",
    "import graphistry\n",
    "import pandas as pd\n",
    "\n",
    "\n",
    "warnings.filterwarnings(\"ignore\")\n",
    "\n",
    "NEO4J_URI = \"bolt://neo4j.neo4j.svc.cluster.local:7687\"\n",
    "NEO4J_PASSWORD = os.getenv(\"NEO4J_PASSWORD\")\n",
    "NEO4J_DATABASE = 'neo4j'\n",
    "NEO4J_CREDS = {'uri': NEO4J_URI, 'auth': ('neo4j', NEO4J_PASSWORD)}\n",
    "\n",
    "print('neo4j', neo4j.__version__)\n",
    "print('graphistry', graphistry.__version__)"
   ],
   "metadata": {
    "collapsed": false,
    "ExecuteTime": {
     "end_time": "2024-04-10T22:57:09.399423Z",
     "start_time": "2024-04-10T22:57:09.390765Z"
    }
   },
   "id": "ebe87f95577529de",
   "execution_count": 9
  },
  {
   "cell_type": "code",
   "outputs": [],
   "source": [
    "# Function to convert Neo4j results to a Pandas DataFrame\n",
    "def neo4j_results_to_df(results):\n",
    "    return pd.DataFrame([dict(record) for record in results])"
   ],
   "metadata": {
    "collapsed": false,
    "ExecuteTime": {
     "end_time": "2024-04-10T22:57:11.088480Z",
     "start_time": "2024-04-10T22:57:11.082762Z"
    }
   },
   "id": "80643b0dec924963",
   "execution_count": 10
  },
  {
   "cell_type": "code",
   "outputs": [],
   "source": [
    "driver = GraphDatabase.driver(**NEO4J_CREDS)\n",
    "\n",
    "# Execute Cypher query and fetch results\n",
    "cypher_query_old = \"\"\"\n",
    "MATCH (n)-[r]->(m) \n",
    "RETURN n, r, m\n",
    "\"\"\"\n",
    "cypher_query = \"\"\"\n",
    "MATCH (n)-[r]->(m)\n",
    "RETURN \n",
    "    id(n) AS n_id, n.name AS n_name, n.platform AS n_platform, n.content AS n_content, n.timestamp AS n_timestamp,\n",
    "    id(m) AS m_id, m.name AS m_name, m.platform AS m_platform, m.content AS m_content, m.timestamp AS m_timestamp,\n",
    "    id(r) AS r_id, type(r) AS r_type, r.weight AS r_weight\n",
    "\"\"\"\n",
    "\n",
    "with driver.session() as session:\n",
    "    results = session.run(cypher_query)\n",
    "    # Initialize lists to store node and edge data\n",
    "    nodes_data = []\n",
    "    edges_data = []\n",
    "    \n",
    "    for record in results:\n",
    "        # Process node n\n",
    "        nodes_data.append({\n",
    "            'id': record['n_id'], \n",
    "            'name': record['n_name'], \n",
    "            'platform': record.get('n_platform', ''), \n",
    "            'content': record.get('n_content', ''), \n",
    "            'timestamp': record.get('n_timestamp', '')\n",
    "        })\n",
    "        # Process node m\n",
    "        nodes_data.append({\n",
    "            'id': record['m_id'], \n",
    "            'name': record['m_name'], \n",
    "            'platform': record.get('m_platform', ''), \n",
    "            'content': record.get('m_content', ''), \n",
    "            'timestamp': record.get('m_timestamp', '')\n",
    "        })\n",
    "        # Process edge r\n",
    "        edges_data.append({\n",
    "            'source': record['n_id'], \n",
    "            'target': record['m_id'], \n",
    "            'type': record['r_type'], \n",
    "            'weight': record.get('r_weight', 0)\n",
    "        })\n",
    "\n",
    "# Remove duplicate nodes\n",
    "nodes_df = pd.DataFrame(nodes_data).drop_duplicates(subset=['id']).reset_index(drop=True)\n",
    "edges_df = pd.DataFrame(edges_data)\n"
   ],
   "metadata": {
    "collapsed": false,
    "ExecuteTime": {
     "end_time": "2024-04-10T22:57:12.859519Z",
     "start_time": "2024-04-10T22:57:12.361216Z"
    }
   },
   "id": "864827924620f1b2",
   "execution_count": 11
  },
  {
   "cell_type": "code",
   "outputs": [
    {
     "ename": "HTTPError",
     "evalue": "500 Server Error: Internal Server Error for url: https://hub.graphistry.com/etl?usertag=fc87eb7f-pygraphistry-0.33.7&agent=pygraphistry&apiversion=1&agentversion=0.33.7&key=0LTB3K16H2BAAGI9",
     "output_type": "error",
     "traceback": [
      "\u001B[0;31m---------------------------------------------------------------------------\u001B[0m",
      "\u001B[0;31mHTTPError\u001B[0m                                 Traceback (most recent call last)",
      "Cell \u001B[0;32mIn[12], line 4\u001B[0m\n\u001B[1;32m      2\u001B[0m plotter \u001B[38;5;241m=\u001B[39m plotter\u001B[38;5;241m.\u001B[39mbind(point_title\u001B[38;5;241m=\u001B[39m\u001B[38;5;124m'\u001B[39m\u001B[38;5;124mname\u001B[39m\u001B[38;5;124m'\u001B[39m, edge_title\u001B[38;5;241m=\u001B[39m\u001B[38;5;124m'\u001B[39m\u001B[38;5;124mtype\u001B[39m\u001B[38;5;124m'\u001B[39m, edge_weight\u001B[38;5;241m=\u001B[39m\u001B[38;5;124m'\u001B[39m\u001B[38;5;124mweight\u001B[39m\u001B[38;5;124m'\u001B[39m)\n\u001B[1;32m      3\u001B[0m plotter \u001B[38;5;241m=\u001B[39m plotter\u001B[38;5;241m.\u001B[39mnodes(nodes_df)\u001B[38;5;241m.\u001B[39medges(edges_df)\n\u001B[0;32m----> 4\u001B[0m \u001B[43mplotter\u001B[49m\u001B[38;5;241;43m.\u001B[39;49m\u001B[43mplot\u001B[49m\u001B[43m(\u001B[49m\u001B[43m)\u001B[49m\n",
      "File \u001B[0;32m/opt/conda/lib/python3.11/site-packages/graphistry/PlotterBase.py:1401\u001B[0m, in \u001B[0;36mPlotterBase.plot\u001B[0;34m(self, graph, nodes, name, description, render, skip_upload, as_files, memoize, extra_html, override_html_style, validate)\u001B[0m\n\u001B[1;32m   1399\u001B[0m     \u001B[38;5;28;01mif\u001B[39;00m skip_upload:\n\u001B[1;32m   1400\u001B[0m         \u001B[38;5;28;01mreturn\u001B[39;00m dataset\n\u001B[0;32m-> 1401\u001B[0m     info \u001B[38;5;241m=\u001B[39m \u001B[43mPyGraphistry\u001B[49m\u001B[38;5;241;43m.\u001B[39;49m\u001B[43m_etl1\u001B[49m\u001B[43m(\u001B[49m\u001B[43mdataset\u001B[49m\u001B[43m)\u001B[49m\n\u001B[1;32m   1402\u001B[0m \u001B[38;5;28;01melif\u001B[39;00m api_version \u001B[38;5;241m==\u001B[39m \u001B[38;5;241m3\u001B[39m:\n\u001B[1;32m   1403\u001B[0m     logger\u001B[38;5;241m.\u001B[39mdebug(\u001B[38;5;124m\"\u001B[39m\u001B[38;5;124m3. @PloatterBase plot: PyGraphistry.org_name(): \u001B[39m\u001B[38;5;132;01m{}\u001B[39;00m\u001B[38;5;124m\"\u001B[39m\u001B[38;5;241m.\u001B[39mformat(PyGraphistry\u001B[38;5;241m.\u001B[39morg_name()))\n",
      "File \u001B[0;32m/opt/conda/lib/python3.11/site-packages/graphistry/pygraphistry.py:2199\u001B[0m, in \u001B[0;36mPyGraphistry._etl1\u001B[0;34m(dataset)\u001B[0m\n\u001B[1;32m   2191\u001B[0m out_file \u001B[38;5;241m=\u001B[39m PyGraphistry\u001B[38;5;241m.\u001B[39m_get_data_file(dataset, \u001B[38;5;124m\"\u001B[39m\u001B[38;5;124mjson\u001B[39m\u001B[38;5;124m\"\u001B[39m)\n\u001B[1;32m   2192\u001B[0m response \u001B[38;5;241m=\u001B[39m requests\u001B[38;5;241m.\u001B[39mpost(\n\u001B[1;32m   2193\u001B[0m     PyGraphistry\u001B[38;5;241m.\u001B[39m_etl_url(),\n\u001B[1;32m   2194\u001B[0m     out_file\u001B[38;5;241m.\u001B[39mgetvalue(),\n\u001B[0;32m   (...)\u001B[0m\n\u001B[1;32m   2197\u001B[0m     verify\u001B[38;5;241m=\u001B[39mPyGraphistry\u001B[38;5;241m.\u001B[39m_config[\u001B[38;5;124m\"\u001B[39m\u001B[38;5;124mcertificate_validation\u001B[39m\u001B[38;5;124m\"\u001B[39m],\n\u001B[1;32m   2198\u001B[0m )\n\u001B[0;32m-> 2199\u001B[0m \u001B[43mresponse\u001B[49m\u001B[38;5;241;43m.\u001B[39;49m\u001B[43mraise_for_status\u001B[49m\u001B[43m(\u001B[49m\u001B[43m)\u001B[49m\n\u001B[1;32m   2201\u001B[0m \u001B[38;5;28;01mtry\u001B[39;00m:\n\u001B[1;32m   2202\u001B[0m     jres \u001B[38;5;241m=\u001B[39m response\u001B[38;5;241m.\u001B[39mjson()\n",
      "File \u001B[0;32m/opt/conda/lib/python3.11/site-packages/requests/models.py:1021\u001B[0m, in \u001B[0;36mResponse.raise_for_status\u001B[0;34m(self)\u001B[0m\n\u001B[1;32m   1016\u001B[0m     http_error_msg \u001B[38;5;241m=\u001B[39m (\n\u001B[1;32m   1017\u001B[0m         \u001B[38;5;124mf\u001B[39m\u001B[38;5;124m\"\u001B[39m\u001B[38;5;132;01m{\u001B[39;00m\u001B[38;5;28mself\u001B[39m\u001B[38;5;241m.\u001B[39mstatus_code\u001B[38;5;132;01m}\u001B[39;00m\u001B[38;5;124m Server Error: \u001B[39m\u001B[38;5;132;01m{\u001B[39;00mreason\u001B[38;5;132;01m}\u001B[39;00m\u001B[38;5;124m for url: \u001B[39m\u001B[38;5;132;01m{\u001B[39;00m\u001B[38;5;28mself\u001B[39m\u001B[38;5;241m.\u001B[39murl\u001B[38;5;132;01m}\u001B[39;00m\u001B[38;5;124m\"\u001B[39m\n\u001B[1;32m   1018\u001B[0m     )\n\u001B[1;32m   1020\u001B[0m \u001B[38;5;28;01mif\u001B[39;00m http_error_msg:\n\u001B[0;32m-> 1021\u001B[0m     \u001B[38;5;28;01mraise\u001B[39;00m HTTPError(http_error_msg, response\u001B[38;5;241m=\u001B[39m\u001B[38;5;28mself\u001B[39m)\n",
      "\u001B[0;31mHTTPError\u001B[0m: 500 Server Error: Internal Server Error for url: https://hub.graphistry.com/etl?usertag=fc87eb7f-pygraphistry-0.33.7&agent=pygraphistry&apiversion=1&agentversion=0.33.7&key=0LTB3K16H2BAAGI9"
     ]
    }
   ],
   "source": [
    "plotter = graphistry.bind(source=\"source\", destination=\"target\", node='id')\n",
    "plotter = plotter.bind(point_title='name', edge_title='type', edge_weight='weight')\n",
    "plotter = plotter.nodes(nodes_df).edges(edges_df)\n",
    "plotter.plot()"
   ],
   "metadata": {
    "collapsed": false,
    "ExecuteTime": {
     "end_time": "2024-04-10T22:57:15.519760Z",
     "start_time": "2024-04-10T22:57:15.014959Z"
    }
   },
   "id": "65b91fad1df5cebb",
   "execution_count": 12
  },
  {
   "cell_type": "code",
   "outputs": [],
   "source": [],
   "metadata": {
    "collapsed": false
   },
   "id": "19df6d43eec8845"
  }
 ],
 "metadata": {
  "kernelspec": {
   "display_name": "Python 3",
   "language": "python",
   "name": "python3"
  },
  "language_info": {
   "codemirror_mode": {
    "name": "ipython",
    "version": 2
   },
   "file_extension": ".py",
   "mimetype": "text/x-python",
   "name": "python",
   "nbconvert_exporter": "python",
   "pygments_lexer": "ipython2",
   "version": "2.7.6"
  }
 },
 "nbformat": 4,
 "nbformat_minor": 5
}
