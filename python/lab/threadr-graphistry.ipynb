{
 "cells": [
  {
   "cell_type": "code",
   "id": "initial_id",
   "metadata": {
    "collapsed": true
   },
   "source": [
    "%pip install neo4j graphistry[bolt]"
   ],
   "outputs": [],
   "execution_count": null
  },
  {
   "cell_type": "code",
   "source": [
    "import os\n",
    "import warnings\n",
    "import neo4j\n",
    "from neo4j import GraphDatabase, Driver\n",
    "import graphistry\n",
    "import pandas as pd\n",
    "\n",
    "\n",
    "warnings.filterwarnings(\"ignore\")\n",
    "\n",
    "NEO4J_URI = \"bolt://neo4j.neo4j.svc.cluster.local:7687\"\n",
    "NEO4J_PASSWORD = os.getenv(\"NEO4J_PASSWORD\")\n",
    "NEO4J_DATABASE = 'neo4j'\n",
    "NEO4J_CREDS = {'uri': NEO4J_URI, 'auth': ('neo4j', NEO4J_PASSWORD)}\n",
    "\n",
    "print('neo4j', neo4j.__version__)\n",
    "print('graphistry', graphistry.__version__)"
   ],
   "metadata": {
    "collapsed": false
   },
   "id": "ebe87f95577529de",
   "outputs": [],
   "execution_count": null
  },
  {
   "cell_type": "code",
   "source": [
    "# Function to convert Neo4j results to a Pandas DataFrame\n",
    "def neo4j_results_to_df(results):\n",
    "    return pd.DataFrame([dict(record) for record in results])"
   ],
   "metadata": {
    "collapsed": false
   },
   "id": "80643b0dec924963",
   "outputs": [],
   "execution_count": null
  },
  {
   "cell_type": "code",
   "source": [
    "driver = GraphDatabase.driver(**NEO4J_CREDS)\n",
    "\n",
    "# Execute Cypher query and fetch results\n",
    "cypher_query_old = \"\"\"\n",
    "MATCH (n)-[r]->(m) \n",
    "RETURN n, r, m\n",
    "\"\"\"\n",
    "cypher_query = \"\"\"\n",
    "MATCH (n)-[r]->(m)\n",
    "RETURN \n",
    "    id(n) AS n_id, n.name AS n_name, n.platform AS n_platform, n.content AS n_content, n.timestamp AS n_timestamp,\n",
    "    id(m) AS m_id, m.name AS m_name, m.platform AS m_platform, m.content AS m_content, m.timestamp AS m_timestamp,\n",
    "    id(r) AS r_id, type(r) AS r_type, r.weight AS r_weight\n",
    "\"\"\"\n",
    "\n",
    "with driver.session() as session:\n",
    "    results = session.run(cypher_query)\n",
    "    # Initialize lists to store node and edge data\n",
    "    nodes_data = []\n",
    "    edges_data = []\n",
    "    \n",
    "    for record in results:\n",
    "        # Process node n\n",
    "        nodes_data.append({\n",
    "            'id': record['n_id'], \n",
    "            'name': record['n_name'], \n",
    "            'platform': record.get('n_platform', ''), \n",
    "            'content': record.get('n_content', ''), \n",
    "            'timestamp': record.get('n_timestamp', '')\n",
    "        })\n",
    "        # Process node m\n",
    "        nodes_data.append({\n",
    "            'id': record['m_id'], \n",
    "            'name': record['m_name'], \n",
    "            'platform': record.get('m_platform', ''), \n",
    "            'content': record.get('m_content', ''), \n",
    "            'timestamp': record.get('m_timestamp', '')\n",
    "        })\n",
    "        # Process edge r\n",
    "        edges_data.append({\n",
    "            'source': record['n_id'], \n",
    "            'target': record['m_id'], \n",
    "            'type': record['r_type'], \n",
    "            'weight': record.get('r_weight', 0)\n",
    "        })\n",
    "# show counts\n",
    "print(f\"Nodes data length: {len(nodes_data)}\")\n",
    "print(f\"Edges data length: {len(edges_data)}\")\n",
    "\n",
    "# Remove duplicate nodes\n",
    "nodes_df = pd.DataFrame(nodes_data).drop_duplicates(subset=['id']).reset_index(drop=True)\n",
    "print(f\"Nodes after deduplication: {len(nodes_df)}\")\n",
    "\n",
    "edges_df = pd.DataFrame(edges_data)\n",
    "\n",
    "# Checking specific columns for null values in nodes_df\n",
    "print(\"Null 'id' values in nodes_df:\", nodes_df['id'].isnull().sum())\n",
    "\n",
    "# Checking specific columns for null values in edges_df\n",
    "print(\"Null 'source' values in edges_df:\", edges_df['source'].isnull().sum())\n",
    "print(\"Null 'target' values in edges_df:\", edges_df['target'].isnull().sum())\n",
    "\n",
    "nodes_df['id'] = nodes_df['id'].astype(str)\n",
    "edges_df['source'] = edges_df['source'].astype(str)\n",
    "edges_df['target'] = edges_df['target'].astype(str)\n",
    "\n",
    "print(nodes_df['name'].str.len().describe())\n",
    "print(edges_df['weight'].describe())"
   ],
   "metadata": {
    "collapsed": false
   },
   "id": "864827924620f1b2",
   "outputs": [],
   "execution_count": null
  },
  {
   "cell_type": "code",
   "source": [
    "graphistry.register(api=3,personal_key_id=os.getenv(\"GRAPHISTRY_KEY_ID\"), personal_key_secret=os.getenv(\"GRAPHISTRY_API_KEY\"))"
   ],
   "metadata": {
    "collapsed": false
   },
   "id": "77978abe4478ac02",
   "outputs": [],
   "execution_count": null
  },
  {
   "cell_type": "code",
   "source": [
    "subset_nodes_df = nodes_df.sample(n=3000)  # Adjust n as needed\n",
    "subset_edges_df = edges_df[edges_df['source'].isin(subset_nodes_df['id']) & edges_df['target'].isin(subset_nodes_df['id'])]\n",
    "\n",
    "plotter = graphistry.bind(source=\"source\", destination=\"target\", node='id').nodes(subset_nodes_df).edges(subset_edges_df)\n",
    "plotter.plot()"
   ],
   "metadata": {
    "collapsed": false
   },
   "id": "2fb74346c0928007",
   "outputs": [],
   "execution_count": null
  },
  {
   "cell_type": "code",
   "source": [
    "plotter = graphistry.bind(source=\"source\", destination=\"target\", node='id')\n",
    "plotter = plotter.bind(point_title='name', edge_title='type', edge_weight='weight')\n",
    "plotter = plotter.nodes(nodes_df).edges(edges_df)\n",
    "plotter.plot()"
   ],
   "metadata": {
    "collapsed": false
   },
   "id": "65b91fad1df5cebb",
   "outputs": [],
   "execution_count": null
  },
  {
   "cell_type": "code",
   "source": [],
   "metadata": {
    "collapsed": false
   },
   "id": "6fa7d9f3ffc87183",
   "outputs": [],
   "execution_count": null
  }
 ],
 "metadata": {
  "kernelspec": {
   "display_name": "Python 3",
   "language": "python",
   "name": "python3"
  },
  "language_info": {
   "codemirror_mode": {
    "name": "ipython",
    "version": 2
   },
   "file_extension": ".py",
   "mimetype": "text/x-python",
   "name": "python",
   "nbconvert_exporter": "python",
   "pygments_lexer": "ipython2",
   "version": "2.7.6"
  }
 },
 "nbformat": 4,
 "nbformat_minor": 5
}
